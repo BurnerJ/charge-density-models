{
 "cells": [
  {
   "cell_type": "code",
   "execution_count": null,
   "id": "136ab9a1",
   "metadata": {},
   "outputs": [],
   "source": [
    "#!pip install lmdb\n",
    "import chg_utils as charge_util\n",
    "from ocpmodels.datasets import LmdbDataset\n",
    "from ocpmodels.datasets import data_list_collater\n",
    "from ase.atoms import Atoms\n",
    "import numpy as np"
   ]
  },
  {
   "cell_type": "code",
   "execution_count": null,
   "id": "9a4adf97",
   "metadata": {
    "scrolled": true
   },
   "outputs": [],
   "source": [
    "charge_util.build_charge_lmdb(\n",
    "    inpath = '../shared-scratch/ethan/sample/train', \n",
    "    outpath = '../chg/100/train',\n",
    "    use_tqdm=True\n",
    ")"
   ]
  },
  {
   "cell_type": "code",
   "execution_count": null,
   "id": "106a3907",
   "metadata": {
    "scrolled": true
   },
   "outputs": [],
   "source": [
    "charge_util.build_charge_lmdb(\n",
    "    inpath = '../shared-scratch/ethan/sample/val', \n",
    "    outpath = '../chg/100/val',\n",
    "    use_tqdm=True\n",
    ")"
   ]
  },
  {
   "cell_type": "code",
   "execution_count": null,
   "id": "fa2b49f0",
   "metadata": {},
   "outputs": [],
   "source": [
    "dataset = LmdbDataset({'src':'../chg/100/val'})"
   ]
  },
  {
   "cell_type": "code",
   "execution_count": null,
   "id": "5a811fc0",
   "metadata": {
    "scrolled": true
   },
   "outputs": [],
   "source": [
    "data0 = dataset[0]\n",
    "data1 = dataset[1]\n",
    "\n",
    "\n",
    "#del(data0.charge_edges)\n",
    "#del(data1.charge_edges)\n",
    "\n",
    "#print(data0, '\\n')\n",
    "#print(data1)\n",
    "\n",
    "#print(data0.edge_index)\n",
    "#print(data0.charge_edges.T)\n",
    "#print(data0.natoms)\n",
    "print(data0)\n",
    "print(len(dataset))"
   ]
  },
  {
   "cell_type": "code",
   "execution_count": null,
   "id": "e80a1123",
   "metadata": {
    "scrolled": true
   },
   "outputs": [],
   "source": [
    "batch = data_list_collater([dataset[0], dataset[1], dataset[2]])"
   ]
  },
  {
   "cell_type": "code",
   "execution_count": null,
   "id": "f0c4f1c4",
   "metadata": {},
   "outputs": [],
   "source": [
    "batch"
   ]
  },
  {
   "cell_type": "code",
   "execution_count": null,
   "id": "e9961826",
   "metadata": {
    "scrolled": true
   },
   "outputs": [],
   "source": [
    "print(batch.natoms)\n",
    "print(batch.charge_density)"
   ]
  },
  {
   "cell_type": "code",
   "execution_count": null,
   "id": "aab47198",
   "metadata": {
    "scrolled": true
   },
   "outputs": [],
   "source": [
    "import lmdb\n",
    "import pickle\n",
    "from ocpmodels.preprocessing import AtomsToGraphs\n",
    "import os\n",
    "#import ocpmodels.charge.chg_utils as charge_util\n",
    "from ocpmodels.datasets import LmdbDataset\n",
    "#from ocpmodels.datasets import data_list_collater\n",
    "from ase.atoms import Atoms\n",
    "import numpy as np\n",
    "\n",
    "#a2g = charge_util.AtomsToChargeGraphs()\n",
    "a2g = AtomsToGraphs(max_neigh=100,\n",
    "                    radius=6,\n",
    "                    r_forces=False,\n",
    "                    r_distances=False,\n",
    "                    r_fixed=False,\n",
    "                    r_energy=False)\n",
    "\n",
    "db = lmdb.open(\n",
    "        os.path.join('../chg/base_case/', 'charge.lmdb'),\n",
    "        map_size=1099511627776 * 2,\n",
    "        subdir=False,\n",
    "        meminit=False,\n",
    "        map_async=True,\n",
    "    )\n",
    "\n",
    "molecule = Atoms('HO',\n",
    "                positions = [[0, 0, 1], [0, 0, 2]],\n",
    "                cell = [10, 10, 8],\n",
    "                pbc=True)\n",
    "\n",
    "#molecule.charge_grid = [1, 1, 2]\n",
    "\n",
    "#print(molecule)\n",
    "\n",
    "data_object = a2g.convert(molecule)\n",
    "data_object.charge_density = np.array([[[1,2]]])\n",
    "\n",
    "fid = 0\n",
    "\n",
    "print(data_object)\n",
    "\n",
    "txn = db.begin(write=True)\n",
    "txn.put(f\"{fid}\".encode(\"ascii\"), pickle.dumps(data_object,protocol=-1))\n",
    "txn.commit()\n",
    "\n",
    "txn = db.begin(write=True)\n",
    "txn.put(f'length'.encode('ascii'), pickle.dumps(1, protocol=-1))\n",
    "txn.commit()\n",
    "\n",
    "db.sync()\n",
    "db.close()\n",
    "\n",
    "dataset = LmdbDataset({'src':'../chg/base_case'})\n",
    "\n",
    "print(len(dataset))\n",
    "print(dataset[0])"
   ]
  },
  {
   "cell_type": "code",
   "execution_count": null,
   "id": "95b7f762",
   "metadata": {},
   "outputs": [],
   "source": [
    "dataset = LmdbDataset({'src':'../chg/base_case'})"
   ]
  },
  {
   "cell_type": "code",
   "execution_count": null,
   "id": "c30e5b42",
   "metadata": {},
   "outputs": [],
   "source": [
    "print(len(dataset))"
   ]
  },
  {
   "cell_type": "code",
   "execution_count": null,
   "id": "1a7162a3",
   "metadata": {},
   "outputs": [],
   "source": [
    "print(dataset[0])"
   ]
  },
  {
   "cell_type": "code",
   "execution_count": null,
   "id": "18f52f32",
   "metadata": {},
   "outputs": [],
   "source": []
  }
 ],
 "metadata": {
  "kernelspec": {
   "display_name": "Python 3 (ipykernel)",
   "language": "python",
   "name": "python3"
  },
  "language_info": {
   "codemirror_mode": {
    "name": "ipython",
    "version": 3
   },
   "file_extension": ".py",
   "mimetype": "text/x-python",
   "name": "python",
   "nbconvert_exporter": "python",
   "pygments_lexer": "ipython3",
   "version": "3.8.10"
  }
 },
 "nbformat": 4,
 "nbformat_minor": 5
}
