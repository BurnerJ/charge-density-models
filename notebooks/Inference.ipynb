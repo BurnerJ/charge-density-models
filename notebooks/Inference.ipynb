{
 "cells": [
  {
   "cell_type": "code",
   "execution_count": null,
   "id": "2d900c26",
   "metadata": {},
   "outputs": [],
   "source": [
    "import torch\n",
    "import os\n",
    "import yaml\n",
    "import matplotlib.pyplot as plt\n",
    "import numpy as np\n",
    "import time\n",
    "\n",
    "from tqdm import tqdm\n",
    "from torch_geometric.data import Batch, Data\n",
    "from pymatgen.core.sites import PeriodicSite\n",
    "from pymatgen.io.ase import AseAtomsAdaptor\n",
    "from ase import neighborlist as nbl\n",
    "from ase import Atoms\n",
    "from ase.calculators.vasp import VaspChargeDensity\n",
    "\n",
    "from ocpmodels.common import logger\n",
    "from ocpmodels.common.registry import registry\n",
    "from ocpmodels.common.utils import setup_logging\n",
    "from ocpmodels.preprocessing import AtomsToGraphs\n",
    "from ocpmodels.datasets import data_list_collater\n",
    "\n",
    "import cdm.models\n",
    "from cdm.charge_trainer import ChargeTrainer\n",
    "from cdm.utils.probe_graph import ProbeGraphAdder\n",
    "from cdm.utils.inference import inference\n",
    "\n",
    "setup_logging()"
   ]
  },
  {
   "cell_type": "code",
   "execution_count": null,
   "id": "b482da38",
   "metadata": {},
   "outputs": [],
   "source": [
    "def make_parity_plot(x, y, LOG):\n",
    "    plt.scatter(x, y, \n",
    "            color='blue', \n",
    "            alpha = 0.1,\n",
    "            s=1.5,\n",
    "            #label='Predictions',\n",
    "          )\n",
    "\n",
    "    plt.gcf().set_dpi(200)\n",
    "    plt.axis('square')\n",
    "\n",
    "    if LOG:\n",
    "        plt.gca().set_xscale('log')\n",
    "        plt.gca().set_yscale('log')\n",
    "\n",
    "    plt.plot([0, torch.max(x)+1], [0, torch.max(x)+1], label='Parity line', color='red')\n",
    "    plt.xlabel('Ground truth electron density\\nelectrons per cubic Angstrom')\n",
    "    plt.ylabel('Predicted electron density\\nelectrons per cubic Angstrom')\n",
    "    plt.xlim([1e-10, torch.max(x)+1])\n",
    "    plt.ylim([1e-10, torch.max(x)+1])\n",
    "    plt.show()"
   ]
  },
  {
   "cell_type": "code",
   "execution_count": null,
   "id": "101fac48",
   "metadata": {},
   "outputs": [],
   "source": [
    "if torch.cuda.is_available():\n",
    "    print(\"True\")\n",
    "else:\n",
    "    print(\"False\")\n",
    "    torch.set_num_threads(8)"
   ]
  },
  {
   "cell_type": "code",
   "execution_count": null,
   "id": "371724ea",
   "metadata": {},
   "outputs": [],
   "source": [
    "model_config = {\n",
    "    'name': 'charge_model',\n",
    "    'num_interactions': 4,\n",
    "    'atom_channels': 64,\n",
    "    'probe_channels': 64,\n",
    "    'enforce_zero_for_disconnected_probes': True,\n",
    "    'enforce_charge_conservation': True,\n",
    "    \n",
    "    'atom_model_config': {\n",
    "        'name': 'schnet_charge',\n",
    "        'num_filters':64,\n",
    "        'num_gaussians':64,\n",
    "        'cutoff':5,\n",
    "    },\n",
    "    \n",
    "    'probe_model_config': {\n",
    "        'name': 'schnet_charge',\n",
    "        'num_filters':32,\n",
    "        'num_gaussians':32,\n",
    "        'cutoff':4,\n",
    "    },\n",
    "}\n",
    "\n",
    "model = cdm.models.ChargeModel(**model_config)\n",
    "\n",
    "path = '../runs/checkpoints/2022-11-01-18-54-56-Approximate Charge Conservation, 100k/checkpoint.pt'\n",
    "state_dict = torch.load(path)['state_dict']\n",
    "\n",
    "sd = {}\n",
    "\n",
    "for x in state_dict.items():\n",
    "    sd[x[0][7:]] = x[1]\n",
    "\n",
    "model.load_state_dict(sd)"
   ]
  },
  {
   "cell_type": "code",
   "execution_count": null,
   "id": "2c40cbac",
   "metadata": {},
   "outputs": [],
   "source": [
    "path = '../cdm/tests/test_structure'\n",
    "\n",
    "vcd = VaspChargeDensity(path) \n",
    "atoms = vcd.atoms[-1]\n",
    "dens = vcd.chg[-1]\n",
    "grid = dens.shape\n",
    "\n",
    "target = torch.tensor(dens)\n",
    "\n",
    "print(atoms)\n",
    "print(grid)"
   ]
  },
  {
   "cell_type": "code",
   "execution_count": null,
   "id": "aaf19215",
   "metadata": {},
   "outputs": [],
   "source": [
    "pred = inference(\n",
    "    atoms, \n",
    "    model, \n",
    "    grid, \n",
    "    atom_cutoff = 5,\n",
    "    probe_cutoff = 4,\n",
    "    batch_size = 1000,\n",
    "    use_tqdm = True,\n",
    "    device = 'cuda',\n",
    "    total_density = torch.sum(target)\n",
    ")\n",
    "\n",
    "pred = pred.to('cpu')"
   ]
  },
  {
   "cell_type": "code",
   "execution_count": null,
   "id": "9d55683e",
   "metadata": {},
   "outputs": [],
   "source": [
    "make_parity_plot(target.flatten(), pred.flatten(), LOG=False)\n",
    "make_parity_plot(target.flatten(), pred.flatten(), LOG=True)"
   ]
  },
  {
   "cell_type": "code",
   "execution_count": null,
   "id": "72922033",
   "metadata": {},
   "outputs": [],
   "source": [
    "print(torch.mean(torch.abs(pred - target)).item())"
   ]
  },
  {
   "cell_type": "code",
   "execution_count": null,
   "id": "9ad62fac",
   "metadata": {},
   "outputs": [],
   "source": [
    "print(torch.mean(pred).item())\n",
    "print(torch.mean(target).item())\n",
    "\n",
    "print((torch.mean(pred).item() - torch.mean(target).item()) /  torch.mean(target).item())"
   ]
  },
  {
   "cell_type": "code",
   "execution_count": null,
   "id": "3ba06998",
   "metadata": {},
   "outputs": [],
   "source": [
    "print(torch.std(pred).item())\n",
    "print(torch.std(target).item())"
   ]
  },
  {
   "cell_type": "code",
   "execution_count": null,
   "id": "1dcd00f6",
   "metadata": {},
   "outputs": [],
   "source": []
  }
 ],
 "metadata": {
  "kernelspec": {
   "display_name": "Python 3 (ipykernel)",
   "language": "python",
   "name": "python3"
  },
  "language_info": {
   "codemirror_mode": {
    "name": "ipython",
    "version": 3
   },
   "file_extension": ".py",
   "mimetype": "text/x-python",
   "name": "python",
   "nbconvert_exporter": "python",
   "pygments_lexer": "ipython3",
   "version": "3.9.13"
  }
 },
 "nbformat": 4,
 "nbformat_minor": 5
}
