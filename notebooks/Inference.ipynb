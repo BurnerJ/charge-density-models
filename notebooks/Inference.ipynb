{
 "cells": [
  {
   "cell_type": "code",
   "execution_count": null,
   "id": "2d900c26",
   "metadata": {},
   "outputs": [],
   "source": [
    "import torch\n",
    "import os\n",
    "import yaml\n",
    "import matplotlib.pyplot as plt\n",
    "import numpy as np\n",
    "import time\n",
    "\n",
    "from tqdm import tqdm\n",
    "from torch_geometric.data import Batch, Data\n",
    "from pymatgen.core.sites import PeriodicSite\n",
    "from pymatgen.io.ase import AseAtomsAdaptor\n",
    "from ase import neighborlist as nbl\n",
    "from ase import Atoms\n",
    "from ase.calculators.vasp import VaspChargeDensity\n",
    "\n",
    "from ocpmodels.common import logger\n",
    "from ocpmodels.common.registry import registry\n",
    "from ocpmodels.common.utils import setup_logging\n",
    "from ocpmodels.preprocessing import AtomsToGraphs\n",
    "from ocpmodels.datasets import data_list_collater\n",
    "\n",
    "import cdm.models\n",
    "from cdm.charge_trainer import ChargeTrainer\n",
    "from cdm.chg_utils import ProbeGraphAdder\n",
    "\n",
    "setup_logging()"
   ]
  },
  {
   "cell_type": "code",
   "execution_count": null,
   "id": "b482da38",
   "metadata": {},
   "outputs": [],
   "source": [
    "def make_parity_plot(x, y, LOG):\n",
    "    plt.scatter(x, y, \n",
    "            color='blue', \n",
    "            alpha = 0.1,\n",
    "            s=1.5,\n",
    "            #label='Predictions',\n",
    "          )\n",
    "\n",
    "    plt.gcf().set_dpi(200)\n",
    "    plt.axis('square')\n",
    "\n",
    "    if LOG:\n",
    "        plt.gca().set_xscale('log')\n",
    "        plt.gca().set_yscale('log')\n",
    "\n",
    "    plt.plot([0, np.max(x)], [0, np.max(x)], label='Parity line', color='red')\n",
    "    plt.xlabel('Ground truth electron density\\nelectrons per cubic Angstrom')\n",
    "    plt.ylabel('Predicted electron density\\nelectrons per cubic Angstrom')\n",
    "    plt.xlim([1e-10, np.max(x)])\n",
    "    plt.ylim([1e-10, np.max(x)])\n",
    "    plt.show()"
   ]
  },
  {
   "cell_type": "code",
   "execution_count": null,
   "id": "101fac48",
   "metadata": {},
   "outputs": [],
   "source": [
    "if torch.cuda.is_available():\n",
    "    print(\"True\")\n",
    "else:\n",
    "    print(\"False\")\n",
    "    torch.set_num_threads(8)"
   ]
  },
  {
   "cell_type": "code",
   "execution_count": null,
   "id": "fc9e658e",
   "metadata": {},
   "outputs": [],
   "source": [
    "file = '../wandb/run-20220721_051246-ls0wfq3n/files/config.yaml'\n",
    "\n",
    "with open(file) as stream:\n",
    "    config = yaml.safe_load(stream)\n",
    "\n",
    "for key, value in config.items():\n",
    "    print(key, value)"
   ]
  },
  {
   "cell_type": "code",
   "execution_count": null,
   "id": "371724ea",
   "metadata": {},
   "outputs": [],
   "source": [
    "model_config = {\n",
    "    'name': 'charge_model',\n",
    "    'num_interactions': 5,\n",
    "    'atom_channels': 128,\n",
    "    'probe_channels': 128,\n",
    "    \n",
    "    'atom_model_config': {\n",
    "        'name': 'schnet_charge',\n",
    "        'num_filters':64,\n",
    "        'num_gaussians':64,\n",
    "        'cutoff':5,\n",
    "    },\n",
    "    \n",
    "    'probe_model_config': {\n",
    "        'name': 'schnet_charge',\n",
    "        'num_filters':64,\n",
    "        'num_gaussians':128,\n",
    "        'cutoff':4,\n",
    "    },\n",
    "}\n",
    "\n",
    "model = cdm.models.ChargeModel(**model_config)"
   ]
  },
  {
   "cell_type": "code",
   "execution_count": null,
   "id": "25ca5ffc",
   "metadata": {},
   "outputs": [],
   "source": [
    "path = '../runs/checkpoints/2022-08-16-13-56-16-Quals Run 2/checkpoint.pt'\n",
    "state_dict = torch.load(path)['state_dict']\n",
    "\n",
    "sd = {}\n",
    "\n",
    "for x in state_dict.items():\n",
    "    #print(x)\n",
    "    #print(x[0][7:])\n",
    "    #print(x[1])\n",
    "    sd[x[0][7:]] = x[1]\n",
    "\n",
    "model.load_state_dict(sd)"
   ]
  },
  {
   "cell_type": "code",
   "execution_count": null,
   "id": "60ec0ec7",
   "metadata": {},
   "outputs": [],
   "source": [
    "model.to('cuda')"
   ]
  },
  {
   "cell_type": "code",
   "execution_count": null,
   "id": "2c40cbac",
   "metadata": {},
   "outputs": [],
   "source": [
    "a2g = AtomsToGraphs(\n",
    "        max_neigh = 100,\n",
    "        radius = 6,\n",
    "        r_energy = False,\n",
    "        r_forces = False,\n",
    "        r_distances = False,\n",
    "        r_fixed = False,\n",
    "    )\n",
    "\n",
    "pga = ProbeGraphAdder(num_probes = 100, cutoff = 3,\n",
    "                      mode = 'slice', slice_start = 0,\n",
    "                     stride = 1, implementation = 'RGPBC')"
   ]
  },
  {
   "cell_type": "code",
   "execution_count": null,
   "id": "788f5bbf",
   "metadata": {},
   "outputs": [],
   "source": [
    "path = '../../shared-scratch/ethan/density/1k_sample/val/random1005744_130/CHGCAR'\n",
    "\n",
    "vcd = VaspChargeDensity(path) \n",
    "atoms = vcd.atoms[-1]\n",
    "dens = vcd.chg[-1]\n",
    "data_object = a2g.convert(atoms)\n",
    "data_object.charge_density = dens\n",
    "\n",
    "print(atoms)"
   ]
  },
  {
   "cell_type": "code",
   "execution_count": null,
   "id": "aaf19215",
   "metadata": {},
   "outputs": [],
   "source": [
    "data_object.probe_data = 0\n",
    "slice0 = pga(data_object.to('cpu'),\n",
    "             num_probes = 500, \n",
    "             mode='all',\n",
    "             use_tqdm = True,\n",
    "             stride = 2)\n",
    "batch = data_list_collater([slice0])\n",
    "batch.probe_data = Batch.from_data_list([slice0.probe_data])\n",
    "\n",
    "batch = [batch]"
   ]
  },
  {
   "cell_type": "code",
   "execution_count": null,
   "id": "e9b4a832",
   "metadata": {},
   "outputs": [],
   "source": [
    "print(batch[0])"
   ]
  },
  {
   "cell_type": "code",
   "execution_count": null,
   "id": "d17279a7",
   "metadata": {},
   "outputs": [],
   "source": [
    "t1 = time.time()\n",
    "pred = model(batch[0].to('cuda')).detach().cpu().numpy()\n",
    "t2 = time.time()\n",
    "\n",
    "true = batch[0].probe_data.target.detach().cpu().numpy()\n",
    "\n",
    "\n",
    "print(len(pred))\n",
    "print(len(true))\n",
    "\n",
    "print(t2 - t1)"
   ]
  },
  {
   "cell_type": "code",
   "execution_count": null,
   "id": "9d55683e",
   "metadata": {},
   "outputs": [],
   "source": [
    "make_parity_plot(true, pred, LOG=False)\n",
    "make_parity_plot(true, pred, LOG=True)"
   ]
  },
  {
   "cell_type": "code",
   "execution_count": null,
   "id": "08f3e63d",
   "metadata": {},
   "outputs": [],
   "source": [
    "print(np.mean(np.abs((true - pred))).item())"
   ]
  }
 ],
 "metadata": {
  "kernelspec": {
   "display_name": "Python 3 (ipykernel)",
   "language": "python",
   "name": "python3"
  },
  "language_info": {
   "codemirror_mode": {
    "name": "ipython",
    "version": 3
   },
   "file_extension": ".py",
   "mimetype": "text/x-python",
   "name": "python",
   "nbconvert_exporter": "python",
   "pygments_lexer": "ipython3",
   "version": "3.9.13"
  }
 },
 "nbformat": 4,
 "nbformat_minor": 5
}
