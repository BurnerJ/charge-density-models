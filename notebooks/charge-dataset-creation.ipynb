{
 "cells": [
  {
   "cell_type": "code",
   "execution_count": null,
   "id": "136ab9a1",
   "metadata": {},
   "outputs": [],
   "source": [
    "from cdm.chg_utils import build_charge_lmdb\n",
    "from ocpmodels.datasets import LmdbDataset\n",
    "from ocpmodels.datasets import data_list_collater\n",
    "from ase.atoms import Atoms\n",
    "import numpy as np"
   ]
  },
  {
   "cell_type": "code",
   "execution_count": null,
   "id": "9a4adf97",
   "metadata": {
    "scrolled": false
   },
   "outputs": [],
   "source": [
    "build_charge_lmdb(\n",
    "    inpath = '../shared-scratch/ethan/density/1k_sample/train', \n",
    "    outpath = '../charge-data/d/train',\n",
    "    use_tqdm=True,\n",
    "    stride = 1,\n",
    "    probe_graph_adder = None,\n",
    "    cutoff = 6\n",
    ")"
   ]
  },
  {
   "cell_type": "code",
   "execution_count": null,
   "id": "106a3907",
   "metadata": {
    "scrolled": true
   },
   "outputs": [],
   "source": [
    "build_charge_lmdb(\n",
    "    inpath = '../shared-scratch/ethan/density/1k_sample/val', \n",
    "    outpath = '../charge-data/d/val',\n",
    "    use_tqdm=True,\n",
    "    stride = 1,\n",
    "    probe_graph_adder = None,\n",
    "    cutoff = 6\n",
    ")"
   ]
  },
  {
   "cell_type": "code",
   "execution_count": null,
   "id": "fa2b49f0",
   "metadata": {},
   "outputs": [],
   "source": [
    "dataset = LmdbDataset({'src':'../charge-data/1k-no-probe-graphs/val'})"
   ]
  },
  {
   "cell_type": "code",
   "execution_count": null,
   "id": "5a811fc0",
   "metadata": {
    "scrolled": true
   },
   "outputs": [],
   "source": [
    "print(len(dataset))\n",
    "\n",
    "print(dataset[0])"
   ]
  },
  {
   "cell_type": "code",
   "execution_count": null,
   "id": "e80a1123",
   "metadata": {
    "scrolled": true
   },
   "outputs": [],
   "source": [
    "batch = data_list_collater([dataset[0], dataset[1], dataset[2]])"
   ]
  },
  {
   "cell_type": "code",
   "execution_count": null,
   "id": "e9961826",
   "metadata": {
    "scrolled": true
   },
   "outputs": [],
   "source": [
    "print(batch.natoms)\n",
    "print(batch.charge_density)"
   ]
  }
 ],
 "metadata": {
  "kernelspec": {
   "display_name": "Python 3 (ipykernel)",
   "language": "python",
   "name": "python3"
  },
  "language_info": {
   "codemirror_mode": {
    "name": "ipython",
    "version": 3
   },
   "file_extension": ".py",
   "mimetype": "text/x-python",
   "name": "python",
   "nbconvert_exporter": "python",
   "pygments_lexer": "ipython3",
   "version": "3.9.13"
  }
 },
 "nbformat": 4,
 "nbformat_minor": 5
}
