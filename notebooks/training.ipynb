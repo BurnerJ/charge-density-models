{
 "cells": [
  {
   "cell_type": "code",
   "execution_count": null,
   "id": "7b90f92f",
   "metadata": {},
   "outputs": [],
   "source": [
    "%env OMP_NUM_THREADS = 1"
   ]
  },
  {
   "cell_type": "code",
   "execution_count": null,
   "id": "53cded00",
   "metadata": {},
   "outputs": [],
   "source": [
    "import cdm\n",
    "\n",
    "from ocpmodels.common import logger\n",
    "from ocpmodels.common.registry import registry\n",
    "from ocpmodels.common.utils import setup_logging\n",
    "\n",
    "setup_logging()"
   ]
  },
  {
   "cell_type": "code",
   "execution_count": null,
   "id": "55fad1b2",
   "metadata": {},
   "outputs": [],
   "source": [
    "task = {\n",
    "    'description': 'Predicting electron density from atomic positions',\n",
    "    'dataset': 'lmdb',\n",
    "}"
   ]
  },
  {
   "cell_type": "code",
   "execution_count": null,
   "id": "01a2bd0d",
   "metadata": {},
   "outputs": [],
   "source": [
    "model = {\n",
    "    'name': 'charge_model',\n",
    "    'enforce_zero_for_disconnected_probes': True,\n",
    "    'enforce_charge_conservation': True,\n",
    "    'freeze_atomic': False,\n",
    "    \n",
    "    'atom_model_config': {\n",
    "        'name': 'schnet_charge',\n",
    "    },\n",
    "    \n",
    "    'probe_model_config': {\n",
    "        'name': 'schnet_charge',\n",
    "        'num_interactions': 3,\n",
    "        'cutoff': 5,\n",
    "    },\n",
    "    \n",
    "    'otf_pga_config': {\n",
    "        'num_probes': 100000,\n",
    "        'cutoff': 6,\n",
    "    }\n",
    "}"
   ]
  },
  {
   "cell_type": "code",
   "execution_count": null,
   "id": "c9e9cb4b",
   "metadata": {},
   "outputs": [],
   "source": [
    "optimizer = {\n",
    "    'optimizer': 'Adam',\n",
    "    'num_workers': 7,\n",
    "    'lr_initial': 5e-5,\n",
    "    'scheduler': \"ReduceLROnPlateau\",\n",
    "    'mode': \"min\",\n",
    "    'factor': 0.96,\n",
    "    'patience': 1,\n",
    "    'max_epochs': 1000,\n",
    "    'loss_charge': 'normed_mae'\n",
    "}"
   ]
  },
  {
   "cell_type": "code",
   "execution_count": null,
   "id": "34904aeb",
   "metadata": {},
   "outputs": [],
   "source": [
    "dataset = [\n",
    "    {'src': 'path/to/train'}, \n",
    "    {'src': 'path/to/val'},\n",
    "]"
   ]
  },
  {
   "cell_type": "code",
   "execution_count": null,
   "id": "10d82621",
   "metadata": {},
   "outputs": [],
   "source": [
    "trainer_config = {\n",
    "    'trainer': 'charge',\n",
    "    'identifier': 'Electron Density Prediction with SchNet',\n",
    "    'is_debug': True,\n",
    "    'run_dir': '../runs/',\n",
    "    'print_every': 1,\n",
    "    'seed': 2,\n",
    "    'logger': 'wandb',\n",
    "    'local_rank': 0,\n",
    "    'amp': True,\n",
    "}"
   ]
  },
  {
   "cell_type": "code",
   "execution_count": null,
   "id": "b2b0585e",
   "metadata": {
    "scrolled": false
   },
   "outputs": [],
   "source": [
    "trainer = registry.get_trainer_class(trainer_config['trainer'])(\n",
    "    task = task,\n",
    "    model = model,\n",
    "    dataset = dataset,\n",
    "    optimizer = optimizer,               \n",
    "    **trainer_config\n",
    ")"
   ]
  },
  {
   "cell_type": "code",
   "execution_count": null,
   "id": "7f659ca1",
   "metadata": {},
   "outputs": [],
   "source": [
    "trainer.model.module"
   ]
  },
  {
   "cell_type": "code",
   "execution_count": null,
   "id": "cc08a533",
   "metadata": {
    "scrolled": true
   },
   "outputs": [],
   "source": [
    "trainer.train()"
   ]
  }
 ],
 "metadata": {
  "kernelspec": {
   "display_name": "Python 3 (ipykernel)",
   "language": "python",
   "name": "python3"
  },
  "language_info": {
   "codemirror_mode": {
    "name": "ipython",
    "version": 3
   },
   "file_extension": ".py",
   "mimetype": "text/x-python",
   "name": "python",
   "nbconvert_exporter": "python",
   "pygments_lexer": "ipython3",
   "version": "3.9.13"
  }
 },
 "nbformat": 4,
 "nbformat_minor": 5
}
