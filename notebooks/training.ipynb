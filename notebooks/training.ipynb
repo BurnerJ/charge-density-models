{
 "cells": [
  {
   "cell_type": "code",
   "execution_count": null,
   "id": "7b90f92f",
   "metadata": {},
   "outputs": [],
   "source": [
    "%env OMP_NUM_THREADS = 1"
   ]
  },
  {
   "cell_type": "code",
   "execution_count": null,
   "id": "53cded00",
   "metadata": {},
   "outputs": [],
   "source": [
    "import torch\n",
    "import os\n",
    "\n",
    "from ocpmodels.common import logger\n",
    "from ocpmodels.common.registry import registry\n",
    "from ocpmodels.common.utils import setup_logging\n",
    "\n",
    "from cdm.charge_trainer import ChargeTrainer\n",
    "from cdm.chg_utils import ProbeGraphAdder\n",
    "from cdm import models\n",
    "\n",
    "setup_logging()"
   ]
  },
  {
   "cell_type": "code",
   "execution_count": null,
   "id": "914c2b25",
   "metadata": {},
   "outputs": [],
   "source": [
    "if torch.cuda.is_available():\n",
    "    print(\"True\")\n",
    "else:\n",
    "    print(\"False\")\n",
    "    torch.set_num_threads(8)"
   ]
  },
  {
   "cell_type": "code",
   "execution_count": null,
   "id": "55fad1b2",
   "metadata": {},
   "outputs": [],
   "source": [
    "task = {\n",
    "    'dataset': 'lmdb',\n",
    "    'description': 'Training on charge density',\n",
    "    'type': 'regression',\n",
    "    'metric': ['charge_mse', 'charge_mae', 'charge_fe'],\n",
    "    'primary_metric': 'charge_mae',\n",
    "    'labels': ['charge_vals'],\n",
    "}"
   ]
  },
  {
   "cell_type": "code",
   "execution_count": null,
   "id": "01a2bd0d",
   "metadata": {},
   "outputs": [],
   "source": [
    "model = {\n",
    "    'name': 'charge_model',\n",
    "    'num_interactions': 3,\n",
    "    'atom_channels': 32,\n",
    "    'probe_channels': 32,\n",
    "    'enforce_zero_for_disconnected_probes': True,\n",
    "    \n",
    "    'atom_model_config': {\n",
    "        'name': 'schnet_charge',\n",
    "        'num_filters': 16,\n",
    "        'num_gaussians': 16,\n",
    "        'cutoff': 5,\n",
    "    },\n",
    "    \n",
    "    'probe_model_config': {\n",
    "        'name': 'schnet_charge',\n",
    "        'num_filters': 16,\n",
    "        'num_gaussians': 32,\n",
    "        'cutoff': 4,\n",
    "    },\n",
    "}"
   ]
  },
  {
   "cell_type": "code",
   "execution_count": null,
   "id": "c9e9cb4b",
   "metadata": {},
   "outputs": [],
   "source": [
    "optimizer = {\n",
    "    'optimizer': 'Adam',\n",
    "    'batch_size': 4,\n",
    "    'eval_batch_size': 4,\n",
    "    'num_workers': 24,\n",
    "    'lr_initial': 5e-5,\n",
    "    'scheduler': \"ReduceLROnPlateau\",\n",
    "    'mode': \"min\",\n",
    "    'factor': 0.96,\n",
    "    'patience': 1,\n",
    "    'max_epochs': 1000,\n",
    "}"
   ]
  },
  {
   "cell_type": "code",
   "execution_count": null,
   "id": "5ec1625e",
   "metadata": {},
   "outputs": [],
   "source": [
    "dataset = [\n",
    "{'src': '../../charge-data/1k-no-probe-graphs/train', 'normalize_labels': False}, # train set \n",
    "{'src': '../../charge-data/1k-no-probe-graphs/val'}, # val set (optional)\n",
    "# {'src': train_src} # test set (optional - writes predictions to disk)\n",
    "]"
   ]
  },
  {
   "cell_type": "code",
   "execution_count": null,
   "id": "10d82621",
   "metadata": {},
   "outputs": [],
   "source": [
    "trainer_config = {\n",
    "    'trainer': 'charge',\n",
    "    'identifier': 'New package',\n",
    "    'is_debug': True,\n",
    "    'run_dir': './runs/',\n",
    "    'print_every': 5,\n",
    "    'seed': 2,\n",
    "    'logger': 'wandb',\n",
    "    'local_rank': 0,\n",
    "    'amp': True,\n",
    "    'probe_graph_config':{\n",
    "        'train_probes': 200,\n",
    "        'val_probes': 200,\n",
    "        'test_probes': 200,\n",
    "        'cutoff': 4,\n",
    "        'include_atomic_edges': False,\n",
    "        'implementation': 'SKIP'\n",
    "    }\n",
    "}"
   ]
  },
  {
   "cell_type": "code",
   "execution_count": null,
   "id": "b2b0585e",
   "metadata": {},
   "outputs": [],
   "source": [
    "trainer = registry.get_trainer_class(\n",
    "    trainer_config['trainer'])(task = task,\n",
    "                               model = model,\n",
    "                               dataset = dataset,\n",
    "                               optimizer = optimizer,\n",
    "                               **trainer_config)"
   ]
  },
  {
   "cell_type": "code",
   "execution_count": null,
   "id": "cc08a533",
   "metadata": {
    "scrolled": true
   },
   "outputs": [],
   "source": [
    "trainer.train()"
   ]
  }
 ],
 "metadata": {
  "kernelspec": {
   "display_name": "Python 3 (ipykernel)",
   "language": "python",
   "name": "python3"
  },
  "language_info": {
   "codemirror_mode": {
    "name": "ipython",
    "version": 3
   },
   "file_extension": ".py",
   "mimetype": "text/x-python",
   "name": "python",
   "nbconvert_exporter": "python",
   "pygments_lexer": "ipython3",
   "version": "3.9.13"
  }
 },
 "nbformat": 4,
 "nbformat_minor": 5
}
