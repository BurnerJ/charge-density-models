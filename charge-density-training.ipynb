{
 "cells": [
  {
   "cell_type": "code",
   "execution_count": null,
   "id": "a1288166",
   "metadata": {},
   "outputs": [],
   "source": [
    "import torch\n",
    "import os\n",
    "import models\n",
    "from charge_trainer import ChargeTrainer\n",
    "from ocpmodels.common import logger\n",
    "from ocpmodels.common.registry import registry\n",
    "from ocpmodels.common.utils import setup_logging\n",
    "from ocpmodels.common.utils import pyg2_data_transform\n",
    "from chg_utils import ProbeGraphAdder\n",
    "from chg_utils import charge_density\n",
    "setup_logging()\n",
    "\n",
    "import matplotlib.pyplot as plt\n",
    "from torch_geometric.data import Batch"
   ]
  },
  {
   "cell_type": "code",
   "execution_count": null,
   "id": "fd53f104",
   "metadata": {},
   "outputs": [],
   "source": [
    "if torch.cuda.is_available():\n",
    "    print(\"True\")\n",
    "else:\n",
    "    print(\"False\")\n",
    "    torch.set_num_threads(8)"
   ]
  },
  {
   "cell_type": "code",
   "execution_count": null,
   "id": "8c265e64",
   "metadata": {},
   "outputs": [],
   "source": [
    "task = {\n",
    "    'dataset': 'lmdb',\n",
    "    'description': 'Initial test of training on charges',\n",
    "    'type': 'regression',\n",
    "    'metric': ['charge_mse', 'charge_mae'],\n",
    "    'primary_metric': 'charge_mae',\n",
    "    'labels': ['charge_vals'],\n",
    "}"
   ]
  },
  {
   "cell_type": "code",
   "execution_count": null,
   "id": "59eaa8d7",
   "metadata": {},
   "outputs": [],
   "source": [
    "'''\n",
    "The atom_model_config and probe_model_config should inherit most keywords\n",
    "from OCP models. The exception is specifications for the number of\n",
    "interactions and the number of channels. These hyperparameters are needed\n",
    "in the wrapper model as well, so they are specified outside of the\n",
    "individual configurations.\n",
    "'''\n",
    "\n",
    "model = {\n",
    "    'name': 'charge_model',\n",
    "    'num_interactions': 3,\n",
    "    'atom_channels': 256,\n",
    "    'probe_channels': 256,\n",
    "    \n",
    "    'atom_model_config': {\n",
    "        'name': 'schnet_charge',\n",
    "        'num_filters':64,\n",
    "        'num_gaussians':64,\n",
    "        'cutoff':5,\n",
    "    },\n",
    "    \n",
    "    'probe_model_config': {\n",
    "        'name': 'schnet_charge',\n",
    "        'num_filters':128,\n",
    "        'num_gaussians':128,\n",
    "        'cutoff':3,\n",
    "    },\n",
    "}"
   ]
  },
  {
   "cell_type": "code",
   "execution_count": null,
   "id": "9178840e",
   "metadata": {},
   "outputs": [],
   "source": [
    "optimizer = {\n",
    "    'optimizer': 'Adam',\n",
    "    'batch_size': 2,\n",
    "    'eval_batch_size': 2,\n",
    "    'num_workers': 32,\n",
    "    'lr_initial': 5e-5,\n",
    "    'scheduler': \"ReduceLROnPlateau\",\n",
    "    'mode': \"min\",\n",
    "    'factor': 0.96,\n",
    "    'patience': 1,\n",
    "    'max_epochs': 1000,\n",
    "}"
   ]
  },
  {
   "cell_type": "code",
   "execution_count": null,
   "id": "a7338f5e",
   "metadata": {},
   "outputs": [],
   "source": [
    "dataset = [\n",
    "{'src': '../charge-data/1k-no-probe-graphs/train', 'normalize_labels': False}, # train set \n",
    "{'src': '../charge-data/1k-no-probe-graphs/val'}, # val set (optional)\n",
    "# {'src': train_src} # test set (optional - writes predictions to disk)\n",
    "]"
   ]
  },
  {
   "cell_type": "code",
   "execution_count": null,
   "id": "a359715c",
   "metadata": {},
   "outputs": [],
   "source": [
    "trainer_config = {\n",
    "    'trainer': 'charge',\n",
    "    'identifier': '1k Dataset',\n",
    "    'is_debug': False,\n",
    "    'run_dir': './runs/',\n",
    "    'print_every': 5,\n",
    "    'seed': 2,\n",
    "    'logger': 'wandb',\n",
    "    'local_rank': 0,\n",
    "    'amp': True,\n",
    "    'probe_graph_config':{\n",
    "        'train_probes': 300,\n",
    "        'val_probes': 300,\n",
    "        'test_probes': 300,\n",
    "        'cutoff': 3,\n",
    "        'include_atomic_edges': True,\n",
    "    }\n",
    "}"
   ]
  },
  {
   "cell_type": "code",
   "execution_count": null,
   "id": "57da75c9",
   "metadata": {
    "scrolled": false
   },
   "outputs": [],
   "source": [
    "trainer = registry.get_trainer_class(\n",
    "    trainer_config['trainer'])(task = task,\n",
    "                               model = model,\n",
    "                               dataset = dataset,\n",
    "                               optimizer = optimizer,\n",
    "                               **trainer_config)"
   ]
  },
  {
   "cell_type": "code",
   "execution_count": null,
   "id": "35d3ec0f",
   "metadata": {
    "scrolled": true
   },
   "outputs": [
    {
     "name": "stdout",
     "output_type": "stream",
     "text": [
      "charge_mse: 9.93e-03, charge_mae: 2.14e-02, loss: 2.14e-02, lr: 5.00e-05, epoch: 5.36e+00, step: 2.41e+03\n"
     ]
    }
   ],
   "source": [
    "trainer.train()"
   ]
  },
  {
   "cell_type": "code",
   "execution_count": null,
   "id": "35dbedea",
   "metadata": {},
   "outputs": [],
   "source": [
    "model = trainer.model.module\n",
    "loader = iter(trainer.train_loader)"
   ]
  },
  {
   "cell_type": "code",
   "execution_count": null,
   "id": "b69e0df1",
   "metadata": {},
   "outputs": [],
   "source": [
    "#torch.cuda.empty_cache()\n",
    "batch = next(loader)\n",
    "for subbatch in batch:\n",
    "    subbatch.probe_data = [pyg2_data_transform(x) for x in subbatch.probe_data]\n",
    "    subbatch.probe_data = Batch.from_data_list(subbatch.probe_data)"
   ]
  },
  {
   "cell_type": "code",
   "execution_count": null,
   "id": "1298f28c",
   "metadata": {},
   "outputs": [],
   "source": [
    "print(batch)\n",
    "\n",
    "pred = model(batch[0].to('cuda'))\n",
    "true = batch[0].probe_data.target"
   ]
  },
  {
   "cell_type": "code",
   "execution_count": null,
   "id": "4170986d",
   "metadata": {},
   "outputs": [],
   "source": [
    "true = true.detach().cpu()\n",
    "pred = pred.detach().cpu()\n",
    "\n",
    "plt.scatter(true, pred, \n",
    "            color='blue', \n",
    "            alpha = 0.1,\n",
    "            s=2,\n",
    "            label='Predictions',\n",
    "          )\n",
    "\n",
    "lb = torch.min(true)\n",
    "ub = torch.max(true)\n",
    "plt.plot([lb, ub], [lb,ub], label='Parity line', color='red')\n",
    "#plt.gca().set_xscale('log')\n",
    "#plt.gca().set_yscale('log')\n",
    "plt.xlabel('True label')\n",
    "plt.ylabel('Predicted label')\n",
    "plt.legend()\n",
    "plt.gcf().set_dpi(200)\n",
    "plt.show()"
   ]
  },
  {
   "cell_type": "code",
   "execution_count": null,
   "id": "9f7b8732",
   "metadata": {},
   "outputs": [],
   "source": [
    "true = true.detach().cpu()\n",
    "pred = pred.detach().cpu()\n",
    "\n",
    "plt.scatter(true, pred, \n",
    "            color='blue', \n",
    "            alpha = 0.05,\n",
    "            s=2,\n",
    "            label='Predictions',\n",
    "          )\n",
    "\n",
    "lb = torch.min(true)\n",
    "ub = torch.max(true)\n",
    "plt.plot([lb, ub], [lb,ub], label='Parity line', color='red')\n",
    "plt.gca().set_xscale('log')\n",
    "plt.gca().set_yscale('log')\n",
    "plt.xlabel('True label')\n",
    "plt.ylabel('Predicted label')\n",
    "plt.legend()\n",
    "plt.gcf().set_dpi(200)\n",
    "plt.show()"
   ]
  },
  {
   "cell_type": "code",
   "execution_count": null,
   "id": "51791d91",
   "metadata": {},
   "outputs": [],
   "source": [
    "err = torch.mean(torch.abs(pred - true))\n",
    "print(err.item())"
   ]
  },
  {
   "cell_type": "code",
   "execution_count": null,
   "id": "216b0e01",
   "metadata": {
    "scrolled": true
   },
   "outputs": [],
   "source": [
    "print(torch.min(pred).item())\n",
    "print(torch.max(pred).item())\n",
    "print(torch.mean(pred).item())\n",
    "print(torch.std(pred).item())"
   ]
  },
  {
   "cell_type": "code",
   "execution_count": null,
   "id": "c3dba663",
   "metadata": {},
   "outputs": [],
   "source": [
    "print(torch.min(true).item())\n",
    "print(torch.max(true).item())\n",
    "print(torch.mean(true).item())\n",
    "print(torch.std(true).item())"
   ]
  },
  {
   "cell_type": "code",
   "execution_count": null,
   "id": "f5061631",
   "metadata": {},
   "outputs": [],
   "source": [
    "print(pred)"
   ]
  },
  {
   "cell_type": "code",
   "execution_count": null,
   "id": "a464aea4",
   "metadata": {},
   "outputs": [],
   "source": [
    "import torch\n",
    "import os\n",
    "import models\n",
    "from charge_trainer import ChargeTrainer\n",
    "from ocpmodels.common import logger\n",
    "from ocpmodels.common.registry import registry\n",
    "from ocpmodels.common.utils import setup_logging\n",
    "from chg_utils import ProbeGraphAdder\n",
    "setup_logging()\n",
    "import yaml\n",
    "from ocpmodels.preprocessing import AtomsToGraphs\n",
    "from ocpmodels.datasets import data_list_collater\n",
    "\n",
    "import matplotlib.pyplot as plt\n",
    "from torch_geometric.data import Batch\n",
    "\n",
    "from pymatgen.core.sites import PeriodicSite\n",
    "from pymatgen.io.ase import AseAtomsAdaptor\n",
    "from torch_geometric.data import Data\n",
    "from ase import Atoms\n",
    "from ase.calculators.vasp import VaspChargeDensity\n",
    "import ase.neighborlist as nbl\n",
    "from tqdm import tqdm\n",
    "import numpy as np\n",
    "import time"
   ]
  },
  {
   "cell_type": "code",
   "execution_count": null,
   "id": "acffe524",
   "metadata": {},
   "outputs": [],
   "source": [
    "a2g = AtomsToGraphs(\n",
    "        max_neigh = 100,\n",
    "        radius = 6,\n",
    "        r_energy = False,\n",
    "        r_forces = False,\n",
    "        r_distances = False,\n",
    "        r_fixed = False,\n",
    "    )\n",
    "\n",
    "pga = ProbeGraphAdder(num_probes = 100, cutoff = 4,\n",
    "                      mode = 'slice', slice_start = 0,\n",
    "                     stride = 4)"
   ]
  },
  {
   "cell_type": "code",
   "execution_count": null,
   "id": "eff47e9a",
   "metadata": {},
   "outputs": [],
   "source": [
    "path = '../shared-scratch/ethan/sample/val/random1036401_190/CHGCAR'\n",
    "\n",
    "vcd = VaspChargeDensity(path)\n",
    "atoms = vcd.atoms[-1]\n",
    "dens = vcd.chg[-1]\n",
    "data_object = a2g.convert(atoms)\n",
    "data_object.charge_density = dens\n",
    "\n",
    "print(atoms)"
   ]
  },
  {
   "cell_type": "code",
   "execution_count": null,
   "id": "4a08dffa",
   "metadata": {},
   "outputs": [],
   "source": [
    "slice0 = pga(data_object, \n",
    "             slice_start = 0, \n",
    "             num_probes = 300, \n",
    "             mode='all',\n",
    "            stride = 4)\n",
    "batch = data_list_collater([slice0])\n",
    "batch.probe_data = Batch.from_data_list([slice0.probe_data])\n",
    "\n",
    "batch = [batch]\n",
    "TEST_BATCH = batch"
   ]
  },
  {
   "cell_type": "code",
   "execution_count": null,
   "id": "319e5df9",
   "metadata": {},
   "outputs": [],
   "source": [
    "batch = TEST_BATCH\n",
    "t1 = time.time()\n",
    "\n",
    "pred = model(batch[0].to('cuda'))\n",
    "\n",
    "t2 = time.time()\n",
    "\n",
    "true = batch[0].probe_data.target\n",
    "\n",
    "print(len(pred))\n",
    "print(len(true))\n",
    "\n",
    "print(t2 - t1)"
   ]
  },
  {
   "cell_type": "code",
   "execution_count": null,
   "id": "ebd91102",
   "metadata": {},
   "outputs": [],
   "source": [
    "true = true.detach().cpu()\n",
    "pred = pred.detach().cpu()\n",
    "\n",
    "plt.scatter(true, pred, \n",
    "            color='blue', \n",
    "            alpha = 0.1,\n",
    "            s=2,\n",
    "            label='Predictions',\n",
    "          )\n",
    "\n",
    "lb = torch.min(true)\n",
    "ub = torch.max(true)\n",
    "plt.plot([lb, ub], [lb,ub], label='Parity line', color='red')\n",
    "#plt.gca().set_xscale('log')\n",
    "#plt.gca().set_yscale('log')\n",
    "plt.xlabel('DFT Charge Density ($e/Å^3$)')\n",
    "plt.ylabel('Model Predicted Charge Density ($e/Å^3$)')\n",
    "plt.legend()\n",
    "plt.gcf().set_dpi(200)\n",
    "plt.show()"
   ]
  },
  {
   "cell_type": "code",
   "execution_count": null,
   "id": "2089c121",
   "metadata": {},
   "outputs": [],
   "source": [
    "true = true.detach().cpu()\n",
    "pred = pred.detach().cpu()\n",
    "\n",
    "plt.scatter(true, pred, \n",
    "            color='blue', \n",
    "            alpha = 0.01,\n",
    "            s=2,\n",
    "            label='Predictions',\n",
    "          )\n",
    "\n",
    "lb = torch.min(true)\n",
    "ub = torch.max(true)\n",
    "plt.plot([lb, ub], [lb,ub], label='Parity line', color='red')\n",
    "plt.gca().set_xscale('log')\n",
    "plt.gca().set_yscale('log')\n",
    "plt.xlabel('DFT Charge Density ($e/Å^3$)')\n",
    "plt.ylabel('Model Predicted Charge Density ($e/Å^3$)')\n",
    "plt.legend()\n",
    "plt.gcf().set_dpi(200)\n",
    "plt.show()"
   ]
  },
  {
   "cell_type": "code",
   "execution_count": null,
   "id": "3ee4b5bf",
   "metadata": {},
   "outputs": [],
   "source": [
    "print(torch.mean(torch.abs((true - pred))))\n",
    "print(torch.mean(true))\n",
    "\n",
    "print(torch.mean(torch.abs((true - pred))) / torch.mean(true))"
   ]
  },
  {
   "cell_type": "code",
   "execution_count": null,
   "id": "35e2ea0c",
   "metadata": {},
   "outputs": [],
   "source": [
    "shape = batch[0].charge_density[0][::4, ::4, ::4].shape\n",
    "print(shape)"
   ]
  },
  {
   "cell_type": "code",
   "execution_count": null,
   "id": "80464e13",
   "metadata": {},
   "outputs": [],
   "source": [
    "true_shaped = np.reshape(true, shape)\n",
    "pred_shaped = np.reshape(pred, shape)"
   ]
  },
  {
   "cell_type": "code",
   "execution_count": null,
   "id": "a0bb0b50",
   "metadata": {},
   "outputs": [],
   "source": [
    "cd = charge_density('../shared-scratch/ethan/sample/val/random1036401_190/CHGCAR')\n",
    "print(cd)"
   ]
  },
  {
   "cell_type": "code",
   "execution_count": null,
   "id": "68d8171e",
   "metadata": {},
   "outputs": [],
   "source": [
    "cd.charge = true_shaped\n",
    "cd.grid = shape"
   ]
  },
  {
   "cell_type": "code",
   "execution_count": null,
   "id": "b5cd8c14",
   "metadata": {},
   "outputs": [],
   "source": [
    "print(cd)"
   ]
  },
  {
   "cell_type": "code",
   "execution_count": null,
   "id": "09a25fb6",
   "metadata": {},
   "outputs": [],
   "source": [
    "cd.write_CHGCAR('true_downsampled')"
   ]
  },
  {
   "cell_type": "code",
   "execution_count": null,
   "id": "d83f59b9",
   "metadata": {},
   "outputs": [],
   "source": [
    "print(torch.max(true))"
   ]
  },
  {
   "cell_type": "code",
   "execution_count": null,
   "id": "8e4dcaa4",
   "metadata": {},
   "outputs": [],
   "source": [
    "print(batch[0])"
   ]
  },
  {
   "cell_type": "code",
   "execution_count": null,
   "id": "9782566d",
   "metadata": {},
   "outputs": [],
   "source": [
    "probe_coords = batch[0].probe_data.pos[54:].to('cpu').numpy()\n",
    "print(probe_coords.shape)"
   ]
  },
  {
   "cell_type": "code",
   "execution_count": null,
   "id": "ac8a701e",
   "metadata": {},
   "outputs": [],
   "source": [
    "import pandas as pd\n",
    "dd = {'x':probe_coords[:, 0],\n",
    "      'y':probe_coords[:, 1],\n",
    "      'z':probe_coords[:, 2],\n",
    "      'true': true,\n",
    "      'pred': pred,\n",
    "      'diff': np.abs(true - pred)}"
   ]
  },
  {
   "cell_type": "code",
   "execution_count": null,
   "id": "43f5a1e9",
   "metadata": {},
   "outputs": [],
   "source": [
    "df = pd.DataFrame(dd)"
   ]
  },
  {
   "cell_type": "code",
   "execution_count": null,
   "id": "1d0c2633",
   "metadata": {
    "scrolled": true
   },
   "outputs": [],
   "source": [
    "df.head()"
   ]
  },
  {
   "cell_type": "code",
   "execution_count": null,
   "id": "7031318a",
   "metadata": {},
   "outputs": [],
   "source": [
    "df.to_csv('data.csv')"
   ]
  },
  {
   "cell_type": "code",
   "execution_count": null,
   "id": "0493ae15",
   "metadata": {},
   "outputs": [],
   "source": [
    "print(batch[0].cell)"
   ]
  },
  {
   "cell_type": "code",
   "execution_count": null,
   "id": "26e3c469",
   "metadata": {},
   "outputs": [],
   "source": [
    "coords = batch[0].pos.to('cpu').numpy()\n",
    "dd = {'x':coords[:, 0],\n",
    "      'y':coords[:, 1],\n",
    "      'z':coords[:, 2],\n",
    "      'an':batch[0].atomic_numbers.to('cpu').numpy()}"
   ]
  },
  {
   "cell_type": "code",
   "execution_count": null,
   "id": "d399e3a3",
   "metadata": {},
   "outputs": [],
   "source": [
    "df = pd.DataFrame(dd)\n",
    "df.loc[df[\"an\"] == 22, \"atom\"] = 'Ti'\n",
    "df.loc[df[\"an\"] == 78, \"atom\"] = 'Pt'\n",
    "df.loc[df[\"an\"] == 6, \"atom\"] = 'C'\n",
    "df.loc[df[\"an\"] == 1, \"atom\"] = 'H'\n",
    "df.loc[df[\"an\"] == 8, \"atom\"] = 'O'\n",
    "df.loc[df[\"an\"] == 39, \"atom\"] = 'Y'\n",
    "df.loc[df[\"an\"] == 49, \"atom\"] = 'In'\n",
    "df.to_csv('atoms.csv')"
   ]
  },
  {
   "cell_type": "code",
   "execution_count": null,
   "id": "3df5bf10",
   "metadata": {},
   "outputs": [],
   "source": [
    "print(batch[0].cell)"
   ]
  },
  {
   "cell_type": "code",
   "execution_count": null,
   "id": "53a43cf7",
   "metadata": {},
   "outputs": [],
   "source": [
    "from ase import Atoms\n",
    "from ase.calculators.vasp import VaspChargeDensity"
   ]
  },
  {
   "cell_type": "code",
   "execution_count": null,
   "id": "962c59c1",
   "metadata": {},
   "outputs": [],
   "source": [
    "vcd = VaspChargeDensity('../shared-scratch/ethan/density/1k_sample/val/random1005744_130/CHGCAR')\n",
    "atoms = vcd.atoms[-1]\n",
    "dens = vcd.chg[-1]"
   ]
  },
  {
   "cell_type": "code",
   "execution_count": null,
   "id": "78543268",
   "metadata": {},
   "outputs": [],
   "source": [
    "print(atoms)"
   ]
  }
 ],
 "metadata": {
  "kernelspec": {
   "display_name": "Python 3 (ipykernel)",
   "language": "python",
   "name": "python3"
  },
  "language_info": {
   "codemirror_mode": {
    "name": "ipython",
    "version": 3
   },
   "file_extension": ".py",
   "mimetype": "text/x-python",
   "name": "python",
   "nbconvert_exporter": "python",
   "pygments_lexer": "ipython3",
   "version": "3.9.13"
  }
 },
 "nbformat": 4,
 "nbformat_minor": 5
}
