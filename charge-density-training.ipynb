{
 "cells": [
  {
   "cell_type": "code",
   "execution_count": 1,
   "id": "a1288166",
   "metadata": {},
   "outputs": [],
   "source": [
    "import torch\n",
    "import os\n",
    "import models\n",
    "from charge_trainer import ChargeTrainer\n",
    "from ocpmodels.common import logger\n",
    "from ocpmodels.common.registry import registry\n",
    "from ocpmodels.common.utils import setup_logging\n",
    "from DeepDFT import densitymodel\n",
    "from chg_utils import ProbeGraphAdder\n",
    "setup_logging()\n",
    "\n",
    "import matplotlib.pyplot as plt\n",
    "from torch_geometric.data import Batch"
   ]
  },
  {
   "cell_type": "code",
   "execution_count": 2,
   "id": "fd53f104",
   "metadata": {},
   "outputs": [
    {
     "name": "stdout",
     "output_type": "stream",
     "text": [
      "True\n"
     ]
    }
   ],
   "source": [
    "if torch.cuda.is_available():\n",
    "    print(\"True\")\n",
    "else:\n",
    "    print(\"False\")\n",
    "    torch.set_num_threads(8)"
   ]
  },
  {
   "cell_type": "code",
   "execution_count": 3,
   "id": "8c265e64",
   "metadata": {},
   "outputs": [],
   "source": [
    "task = {\n",
    "    'dataset': 'lmdb',\n",
    "    'description': 'Initial test of training on charges',\n",
    "    'type': 'regression',\n",
    "    'metric': ['charge_mse', 'charge_mae'],\n",
    "    'primary_metric': 'charge_mae',\n",
    "    'labels': ['charge_vals'],\n",
    "}"
   ]
  },
  {
   "cell_type": "code",
   "execution_count": 4,
   "id": "59eaa8d7",
   "metadata": {},
   "outputs": [],
   "source": [
    "'''\n",
    "The atom_model_config and probe_model_config should inherit most keywords\n",
    "from OCP models. The exception is specifications for the number of\n",
    "interactions and the number of channels. These hyperparameters are needed\n",
    "in the wrapper model as well, so they are specified outside of the\n",
    "individual configurations.\n",
    "'''\n",
    "\n",
    "model = {\n",
    "    'name': 'charge_model',\n",
    "    'num_interactions': 5,\n",
    "    'atom_channels': 256,\n",
    "    'probe_channels': 256,\n",
    "    \n",
    "    'atom_model_config': {\n",
    "        'name': 'schnet_charge',\n",
    "        'num_filters':64,\n",
    "        'num_gaussians':32,\n",
    "        'cutoff':5,\n",
    "    },\n",
    "    \n",
    "    'probe_model_config': {\n",
    "        'name': 'schnet_charge',\n",
    "        'num_filters':64,\n",
    "        'num_gaussians':32,\n",
    "        'cutoff':5,\n",
    "    },\n",
    "}"
   ]
  },
  {
   "cell_type": "code",
   "execution_count": 5,
   "id": "9178840e",
   "metadata": {},
   "outputs": [],
   "source": [
    "optimizer = {\n",
    "    'optimizer': 'Adam',\n",
    "    'batch_size': 10,\n",
    "    'eval_batch_size': 10,\n",
    "    'num_workers': 1,\n",
    "    'lr_initial': 5e-4,\n",
    "    'scheduler': \"ReduceLROnPlateau\",\n",
    "    'mode': \"min\",\n",
    "    'factor': 0.96,\n",
    "    'patience': 1,\n",
    "    'max_epochs': 1000,\n",
    "}"
   ]
  },
  {
   "cell_type": "code",
   "execution_count": 6,
   "id": "a7338f5e",
   "metadata": {},
   "outputs": [],
   "source": [
    "dataset = [\n",
    "{'src': '../chg/100/train', 'normalize_labels': False}, # train set \n",
    "{'src': '../chg/100/val'}, # val set (optional)\n",
    "# {'src': train_src} # test set (optional - writes predictions to disk)\n",
    "]"
   ]
  },
  {
   "cell_type": "code",
   "execution_count": 7,
   "id": "a359715c",
   "metadata": {},
   "outputs": [],
   "source": [
    "trainer_config = {\n",
    "    'trainer': 'charge',\n",
    "    'identifier': 'A Good Run',\n",
    "    'is_debug': False,\n",
    "    'run_dir': './runs/',\n",
    "    'print_every': 1,\n",
    "    'seed': 2,\n",
    "    'logger': 'wandb',\n",
    "    'local_rank': 0,\n",
    "    'amp': True,\n",
    "    \n",
    "    'cutoff': 5,\n",
    "    'train_probes': 500,\n",
    "    'val_probes': 1000,\n",
    "    'test_probes': 1000,\n",
    "}"
   ]
  },
  {
   "cell_type": "code",
   "execution_count": 8,
   "id": "57da75c9",
   "metadata": {},
   "outputs": [
    {
     "name": "stdout",
     "output_type": "stream",
     "text": [
      "amp: true\n",
      "cmd:\n",
      "  checkpoint_dir: ./runs/checkpoints/2022-07-06-15-02-24-A Good Run\n",
      "  commit: 7d5240c\n",
      "  identifier: A Good Run\n",
      "  logs_dir: ./runs/logs/wandb/2022-07-06-15-02-24-A Good Run\n",
      "  print_every: 1\n",
      "  results_dir: ./runs/results/2022-07-06-15-02-24-A Good Run\n",
      "  seed: 2\n",
      "  timestamp_id: 2022-07-06-15-02-24-A Good Run\n",
      "dataset:\n",
      "  normalize_labels: false\n",
      "  src: ../chg/100/train\n",
      "gpus: 1\n",
      "logger: wandb\n",
      "model: charge_model\n",
      "model_attributes:\n",
      "  atom_channels: 256\n",
      "  atom_model_config:\n",
      "    cutoff: 5\n",
      "    name: schnet_charge\n",
      "    num_filters: 64\n",
      "    num_gaussians: 32\n",
      "  num_interactions: 5\n",
      "  probe_channels: 256\n",
      "  probe_model_config:\n",
      "    cutoff: 5\n",
      "    name: schnet_charge\n",
      "    num_filters: 64\n",
      "    num_gaussians: 32\n",
      "noddp: false\n",
      "optim:\n",
      "  batch_size: 10\n",
      "  eval_batch_size: 10\n",
      "  factor: 0.96\n",
      "  lr_initial: 0.0005\n",
      "  max_epochs: 1000\n",
      "  mode: min\n",
      "  num_workers: 1\n",
      "  optimizer: Adam\n",
      "  patience: 1\n",
      "  scheduler: ReduceLROnPlateau\n",
      "slurm: {}\n",
      "task:\n",
      "  dataset: lmdb\n",
      "  description: Initial test of training on charges\n",
      "  labels:\n",
      "  - charge_vals\n",
      "  metric:\n",
      "  - charge_mse\n",
      "  - charge_mae\n",
      "  primary_metric: charge_mae\n",
      "  type: regression\n",
      "val_dataset:\n",
      "  src: ../chg/100/val\n",
      "\n"
     ]
    },
    {
     "name": "stderr",
     "output_type": "stream",
     "text": [
      "2022-07-06 15:01:52 (ERROR): Failed to detect the name of this notebook, you can set it manually with the WANDB_NOTEBOOK_NAME environment variable to enable code saving.\n",
      "\u001b[34m\u001b[1mwandb\u001b[0m: Currently logged in as: \u001b[33memsunshine\u001b[0m. Use \u001b[1m`wandb login --relogin`\u001b[0m to force relogin\n"
     ]
    },
    {
     "data": {
      "text/html": [
       "wandb version 0.12.21 is available!  To upgrade, please run:\n",
       " $ pip install wandb --upgrade"
      ],
      "text/plain": [
       "<IPython.core.display.HTML object>"
      ]
     },
     "metadata": {},
     "output_type": "display_data"
    },
    {
     "data": {
      "text/html": [
       "Tracking run with wandb version 0.12.20"
      ],
      "text/plain": [
       "<IPython.core.display.HTML object>"
      ]
     },
     "metadata": {},
     "output_type": "display_data"
    },
    {
     "data": {
      "text/html": [
       "Run data is saved locally in <code>./runs/logs/wandb/2022-07-06-15-02-24-A Good Run/wandb/run-20220706_150152-2022-07-06-15-02-24-A Good Run</code>"
      ],
      "text/plain": [
       "<IPython.core.display.HTML object>"
      ]
     },
     "metadata": {},
     "output_type": "display_data"
    },
    {
     "data": {
      "text/html": [
       "Syncing run <strong><a href=\"https://wandb.ai/emsunshine/charge-density-models/runs/2022-07-06-15-02-24-A%20Good%20Run\" target=\"_blank\">A Good Run</a></strong> to <a href=\"https://wandb.ai/emsunshine/charge-density-models\" target=\"_blank\">Weights & Biases</a> (<a href=\"https://wandb.me/run\" target=\"_blank\">docs</a>)<br/>"
      ],
      "text/plain": [
       "<IPython.core.display.HTML object>"
      ]
     },
     "metadata": {},
     "output_type": "display_data"
    },
    {
     "name": "stdout",
     "output_type": "stream",
     "text": [
      "2022-07-06 15:01:55 (INFO): Loading dataset: lmdb\n",
      "2022-07-06 15:01:55 (INFO): Loading model: charge_model\n",
      "2022-07-06 15:01:55 (INFO): Loaded ChargeModel with 1234179 parameters.\n"
     ]
    }
   ],
   "source": [
    "trainer = registry.get_trainer_class(\n",
    "    trainer_config['trainer'])(task = task,\n",
    "                               model = model,\n",
    "                               dataset = dataset,\n",
    "                               optimizer = optimizer,\n",
    "                               **trainer_config)"
   ]
  },
  {
   "cell_type": "code",
   "execution_count": 9,
   "id": "35d3ec0f",
   "metadata": {
    "scrolled": true
   },
   "outputs": [
    {
     "name": "stdout",
     "output_type": "stream",
     "text": [
      "charge_mse: 4.24e-01, charge_mae: 5.58e-01, loss: 1.12e+00, lr: 5.00e-04, epoch: 1.11e-01, step: 1.00e+00\n",
      "charge_mse: 4.73e-01, charge_mae: 5.60e-01, loss: 5.60e-01, lr: 5.00e-04, epoch: 2.22e-01, step: 2.00e+00\n",
      "charge_mse: 2.24e-01, charge_mae: 3.60e-01, loss: 3.60e-01, lr: 5.00e-04, epoch: 3.33e-01, step: 3.00e+00\n",
      "charge_mse: 1.70e-01, charge_mae: 3.17e-01, loss: 3.17e-01, lr: 5.00e-04, epoch: 4.44e-01, step: 4.00e+00\n",
      "charge_mse: 1.34e-01, charge_mae: 1.34e-01, loss: 1.34e-01, lr: 5.00e-04, epoch: 5.56e-01, step: 5.00e+00\n",
      "charge_mse: 4.25e-01, charge_mae: 4.27e-01, loss: 4.27e-01, lr: 5.00e-04, epoch: 6.67e-01, step: 6.00e+00\n",
      "charge_mse: 3.01e-01, charge_mae: 4.40e-01, loss: 4.40e-01, lr: 5.00e-04, epoch: 7.78e-01, step: 7.00e+00\n",
      "charge_mse: 2.42e-01, charge_mae: 2.64e-01, loss: 2.64e-01, lr: 5.00e-04, epoch: 8.89e-01, step: 8.00e+00\n",
      "charge_mse: 3.33e-02, charge_mae: 1.19e-01, loss: 1.19e-01, lr: 5.00e-04, epoch: 1.00e+00, step: 9.00e+00\n",
      "2022-07-06 15:07:58 (INFO): Evaluating on val.\n"
     ]
    },
    {
     "name": "stderr",
     "output_type": "stream",
     "text": [
      "device 0: 100%|██████████| 1/1 [00:37<00:00, 37.12s/it]"
     ]
    },
    {
     "name": "stdout",
     "output_type": "stream",
     "text": [
      "2022-07-06 15:08:35 (INFO): charge_mse: 0.2351, charge_mae: 0.2450, loss: 0.2450, epoch: 1.0000\n"
     ]
    },
    {
     "name": "stderr",
     "output_type": "stream",
     "text": [
      "\n"
     ]
    },
    {
     "name": "stdout",
     "output_type": "stream",
     "text": [
      "charge_mse: 2.40e-01, charge_mae: 2.52e-01, loss: 2.52e-01, lr: 5.00e-04, epoch: 1.11e+00, step: 1.00e+01\n",
      "charge_mse: 1.12e-01, charge_mae: 2.38e-01, loss: 2.38e-01, lr: 5.00e-04, epoch: 1.22e+00, step: 1.10e+01\n",
      "charge_mse: 1.61e-01, charge_mae: 1.35e-01, loss: 1.35e-01, lr: 5.00e-04, epoch: 1.33e+00, step: 1.20e+01\n",
      "charge_mse: 1.41e-01, charge_mae: 1.73e-01, loss: 1.73e-01, lr: 5.00e-04, epoch: 1.44e+00, step: 1.30e+01\n",
      "charge_mse: 1.60e-01, charge_mae: 2.23e-01, loss: 2.23e-01, lr: 5.00e-04, epoch: 1.56e+00, step: 1.40e+01\n",
      "charge_mse: 8.46e-02, charge_mae: 1.49e-01, loss: 1.49e-01, lr: 5.00e-04, epoch: 1.67e+00, step: 1.50e+01\n",
      "charge_mse: 8.72e-02, charge_mae: 1.05e-01, loss: 1.05e-01, lr: 5.00e-04, epoch: 1.78e+00, step: 1.60e+01\n",
      "charge_mse: 1.20e-01, charge_mae: 1.77e-01, loss: 1.77e-01, lr: 5.00e-04, epoch: 1.89e+00, step: 1.70e+01\n",
      "charge_mse: 6.93e-02, charge_mae: 1.45e-01, loss: 1.45e-01, lr: 5.00e-04, epoch: 2.00e+00, step: 1.80e+01\n",
      "2022-07-06 15:09:56 (INFO): Evaluating on val.\n"
     ]
    },
    {
     "name": "stderr",
     "output_type": "stream",
     "text": [
      "device 0: 100%|██████████| 1/1 [00:11<00:00, 11.73s/it]"
     ]
    },
    {
     "name": "stdout",
     "output_type": "stream",
     "text": [
      "2022-07-06 15:10:08 (INFO): charge_mse: 0.2443, charge_mae: 0.1111, loss: 0.1111, epoch: 2.0000\n"
     ]
    },
    {
     "name": "stderr",
     "output_type": "stream",
     "text": [
      "\n"
     ]
    },
    {
     "name": "stdout",
     "output_type": "stream",
     "text": [
      "charge_mse: 7.46e-02, charge_mae: 8.05e-02, loss: 8.05e-02, lr: 5.00e-04, epoch: 2.11e+00, step: 1.90e+01\n",
      "charge_mse: 5.52e-02, charge_mae: 1.04e-01, loss: 1.04e-01, lr: 5.00e-04, epoch: 2.22e+00, step: 2.00e+01\n",
      "charge_mse: 1.46e-01, charge_mae: 8.41e-02, loss: 8.41e-02, lr: 5.00e-04, epoch: 2.33e+00, step: 2.10e+01\n",
      "charge_mse: 1.34e-01, charge_mae: 1.41e-01, loss: 1.41e-01, lr: 5.00e-04, epoch: 2.44e+00, step: 2.20e+01\n",
      "charge_mse: 2.27e-01, charge_mae: 1.67e-01, loss: 1.67e-01, lr: 5.00e-04, epoch: 2.56e+00, step: 2.30e+01\n",
      "charge_mse: 5.42e-02, charge_mae: 1.03e-01, loss: 1.03e-01, lr: 5.00e-04, epoch: 2.67e+00, step: 2.40e+01\n",
      "charge_mse: 6.84e-02, charge_mae: 1.03e-01, loss: 1.03e-01, lr: 5.00e-04, epoch: 2.78e+00, step: 2.50e+01\n",
      "charge_mse: 1.90e-01, charge_mae: 1.72e-01, loss: 1.72e-01, lr: 5.00e-04, epoch: 2.89e+00, step: 2.60e+01\n",
      "charge_mse: 1.18e-01, charge_mae: 9.42e-02, loss: 9.42e-02, lr: 5.00e-04, epoch: 3.00e+00, step: 2.70e+01\n",
      "2022-07-06 15:11:30 (INFO): Evaluating on val.\n"
     ]
    },
    {
     "name": "stderr",
     "output_type": "stream",
     "text": [
      "device 0: 100%|██████████| 1/1 [00:11<00:00, 11.76s/it]"
     ]
    },
    {
     "name": "stdout",
     "output_type": "stream",
     "text": [
      "2022-07-06 15:11:42 (INFO): charge_mse: 0.3140, charge_mae: 0.1608, loss: 0.1608, epoch: 3.0000\n"
     ]
    },
    {
     "name": "stderr",
     "output_type": "stream",
     "text": [
      "\n"
     ]
    },
    {
     "name": "stdout",
     "output_type": "stream",
     "text": [
      "charge_mse: 1.59e-01, charge_mae: 1.46e-01, loss: 1.46e-01, lr: 5.00e-04, epoch: 3.11e+00, step: 2.80e+01\n",
      "charge_mse: 7.66e-02, charge_mae: 1.35e-01, loss: 1.35e-01, lr: 5.00e-04, epoch: 3.22e+00, step: 2.90e+01\n",
      "charge_mse: 3.96e-02, charge_mae: 1.04e-01, loss: 1.04e-01, lr: 5.00e-04, epoch: 3.33e+00, step: 3.00e+01\n",
      "charge_mse: 8.19e-02, charge_mae: 9.05e-02, loss: 9.05e-02, lr: 5.00e-04, epoch: 3.44e+00, step: 3.10e+01\n",
      "charge_mse: 7.38e-02, charge_mae: 8.72e-02, loss: 8.72e-02, lr: 5.00e-04, epoch: 3.56e+00, step: 3.20e+01\n",
      "charge_mse: 1.49e-01, charge_mae: 8.09e-02, loss: 8.09e-02, lr: 5.00e-04, epoch: 3.67e+00, step: 3.30e+01\n",
      "charge_mse: 1.05e-01, charge_mae: 7.44e-02, loss: 7.44e-02, lr: 5.00e-04, epoch: 3.78e+00, step: 3.40e+01\n",
      "charge_mse: 8.04e-02, charge_mae: 8.39e-02, loss: 8.39e-02, lr: 5.00e-04, epoch: 3.89e+00, step: 3.50e+01\n",
      "charge_mse: 2.19e-01, charge_mae: 9.12e-02, loss: 9.12e-02, lr: 5.00e-04, epoch: 4.00e+00, step: 3.60e+01\n",
      "2022-07-06 15:13:10 (INFO): Evaluating on val.\n"
     ]
    },
    {
     "name": "stderr",
     "output_type": "stream",
     "text": [
      "device 0: 100%|██████████| 1/1 [00:11<00:00, 11.59s/it]"
     ]
    },
    {
     "name": "stdout",
     "output_type": "stream",
     "text": [
      "2022-07-06 15:13:21 (INFO): charge_mse: 0.2314, charge_mae: 0.1220, loss: 0.1220, epoch: 4.0000\n"
     ]
    },
    {
     "name": "stderr",
     "output_type": "stream",
     "text": [
      "\n"
     ]
    },
    {
     "name": "stdout",
     "output_type": "stream",
     "text": [
      "charge_mse: 1.79e-01, charge_mae: 1.10e-01, loss: 1.10e-01, lr: 4.80e-04, epoch: 4.11e+00, step: 3.70e+01\n",
      "charge_mse: 1.03e-01, charge_mae: 8.76e-02, loss: 8.76e-02, lr: 4.80e-04, epoch: 4.22e+00, step: 3.80e+01\n",
      "charge_mse: 8.83e-02, charge_mae: 8.21e-02, loss: 8.21e-02, lr: 4.80e-04, epoch: 4.33e+00, step: 3.90e+01\n",
      "charge_mse: 2.04e-01, charge_mae: 9.94e-02, loss: 9.94e-02, lr: 4.80e-04, epoch: 4.44e+00, step: 4.00e+01\n",
      "charge_mse: 5.83e-02, charge_mae: 7.73e-02, loss: 7.73e-02, lr: 4.80e-04, epoch: 4.56e+00, step: 4.10e+01\n",
      "charge_mse: 1.30e-01, charge_mae: 9.09e-02, loss: 9.09e-02, lr: 4.80e-04, epoch: 4.67e+00, step: 4.20e+01\n",
      "charge_mse: 4.11e-02, charge_mae: 7.77e-02, loss: 7.77e-02, lr: 4.80e-04, epoch: 4.78e+00, step: 4.30e+01\n",
      "charge_mse: 6.44e-02, charge_mae: 6.34e-02, loss: 6.34e-02, lr: 4.80e-04, epoch: 4.89e+00, step: 4.40e+01\n",
      "charge_mse: 1.21e-01, charge_mae: 9.26e-02, loss: 9.26e-02, lr: 4.80e-04, epoch: 5.00e+00, step: 4.50e+01\n",
      "2022-07-06 15:14:51 (INFO): Evaluating on val.\n"
     ]
    },
    {
     "name": "stderr",
     "output_type": "stream",
     "text": [
      "device 0: 100%|██████████| 1/1 [00:11<00:00, 11.83s/it]"
     ]
    },
    {
     "name": "stdout",
     "output_type": "stream",
     "text": [
      "2022-07-06 15:15:03 (INFO): charge_mse: 0.3000, charge_mae: 0.1164, loss: 0.1164, epoch: 5.0000\n"
     ]
    },
    {
     "name": "stderr",
     "output_type": "stream",
     "text": [
      "\n"
     ]
    },
    {
     "name": "stdout",
     "output_type": "stream",
     "text": [
      "charge_mse: 6.51e-02, charge_mae: 7.19e-02, loss: 7.19e-02, lr: 4.80e-04, epoch: 5.11e+00, step: 4.60e+01\n",
      "charge_mse: 9.84e-02, charge_mae: 8.86e-02, loss: 8.86e-02, lr: 4.80e-04, epoch: 5.22e+00, step: 4.70e+01\n",
      "charge_mse: 1.30e-01, charge_mae: 7.74e-02, loss: 7.74e-02, lr: 4.80e-04, epoch: 5.33e+00, step: 4.80e+01\n",
      "charge_mse: 1.11e-01, charge_mae: 9.03e-02, loss: 9.03e-02, lr: 4.80e-04, epoch: 5.44e+00, step: 4.90e+01\n",
      "charge_mse: 5.13e-02, charge_mae: 7.86e-02, loss: 7.86e-02, lr: 4.80e-04, epoch: 5.56e+00, step: 5.00e+01\n",
      "charge_mse: 7.55e-02, charge_mae: 8.34e-02, loss: 8.34e-02, lr: 4.80e-04, epoch: 5.67e+00, step: 5.10e+01\n",
      "charge_mse: 4.48e-02, charge_mae: 7.79e-02, loss: 7.79e-02, lr: 4.80e-04, epoch: 5.78e+00, step: 5.20e+01\n",
      "charge_mse: 5.30e-02, charge_mae: 5.99e-02, loss: 5.99e-02, lr: 4.80e-04, epoch: 5.89e+00, step: 5.30e+01\n",
      "charge_mse: 1.00e-01, charge_mae: 7.53e-02, loss: 7.53e-02, lr: 4.80e-04, epoch: 6.00e+00, step: 5.40e+01\n",
      "2022-07-06 15:16:24 (INFO): Evaluating on val.\n"
     ]
    },
    {
     "name": "stderr",
     "output_type": "stream",
     "text": [
      "device 0: 100%|██████████| 1/1 [00:11<00:00, 11.63s/it]"
     ]
    },
    {
     "name": "stdout",
     "output_type": "stream",
     "text": [
      "2022-07-06 15:16:36 (INFO): charge_mse: 0.1804, charge_mae: 0.0937, loss: 0.0936, epoch: 6.0000\n"
     ]
    },
    {
     "name": "stderr",
     "output_type": "stream",
     "text": [
      "\n"
     ]
    },
    {
     "name": "stdout",
     "output_type": "stream",
     "text": [
      "charge_mse: 1.79e-01, charge_mae: 8.71e-02, loss: 8.71e-02, lr: 4.80e-04, epoch: 6.11e+00, step: 5.50e+01\n",
      "charge_mse: 1.51e-01, charge_mae: 6.73e-02, loss: 6.73e-02, lr: 4.80e-04, epoch: 6.22e+00, step: 5.60e+01\n",
      "charge_mse: 3.46e-02, charge_mae: 8.40e-02, loss: 8.40e-02, lr: 4.80e-04, epoch: 6.33e+00, step: 5.70e+01\n",
      "charge_mse: 7.37e-02, charge_mae: 8.84e-02, loss: 8.84e-02, lr: 4.80e-04, epoch: 6.44e+00, step: 5.80e+01\n",
      "charge_mse: 1.13e-01, charge_mae: 5.56e-02, loss: 5.56e-02, lr: 4.80e-04, epoch: 6.56e+00, step: 5.90e+01\n",
      "charge_mse: 7.42e-02, charge_mae: 6.25e-02, loss: 6.25e-02, lr: 4.80e-04, epoch: 6.67e+00, step: 6.00e+01\n",
      "charge_mse: 7.07e-02, charge_mae: 7.38e-02, loss: 7.38e-02, lr: 4.80e-04, epoch: 6.78e+00, step: 6.10e+01\n",
      "charge_mse: 6.21e-02, charge_mae: 5.63e-02, loss: 5.63e-02, lr: 4.80e-04, epoch: 6.89e+00, step: 6.20e+01\n",
      "charge_mse: 1.57e-01, charge_mae: 1.05e-01, loss: 1.05e-01, lr: 4.80e-04, epoch: 7.00e+00, step: 6.30e+01\n",
      "2022-07-06 15:17:57 (INFO): Evaluating on val.\n"
     ]
    },
    {
     "name": "stderr",
     "output_type": "stream",
     "text": [
      "device 0: 100%|██████████| 1/1 [00:11<00:00, 11.63s/it]"
     ]
    },
    {
     "name": "stdout",
     "output_type": "stream",
     "text": [
      "2022-07-06 15:18:09 (INFO): charge_mse: 0.2867, charge_mae: 0.1221, loss: 0.1221, epoch: 7.0000\n"
     ]
    },
    {
     "name": "stderr",
     "output_type": "stream",
     "text": [
      "\n"
     ]
    },
    {
     "name": "stdout",
     "output_type": "stream",
     "text": [
      "charge_mse: 5.64e-02, charge_mae: 7.54e-02, loss: 7.54e-02, lr: 4.80e-04, epoch: 7.11e+00, step: 6.40e+01\n",
      "charge_mse: 4.34e-02, charge_mae: 6.62e-02, loss: 6.62e-02, lr: 4.80e-04, epoch: 7.22e+00, step: 6.50e+01\n",
      "charge_mse: 6.78e-02, charge_mae: 7.90e-02, loss: 7.90e-02, lr: 4.80e-04, epoch: 7.33e+00, step: 6.60e+01\n",
      "charge_mse: 6.09e-02, charge_mae: 6.31e-02, loss: 6.31e-02, lr: 4.80e-04, epoch: 7.44e+00, step: 6.70e+01\n",
      "charge_mse: 7.02e-02, charge_mae: 4.92e-02, loss: 4.92e-02, lr: 4.80e-04, epoch: 7.56e+00, step: 6.80e+01\n",
      "charge_mse: 2.28e-01, charge_mae: 9.62e-02, loss: 9.62e-02, lr: 4.80e-04, epoch: 7.67e+00, step: 6.90e+01\n",
      "charge_mse: 6.01e-02, charge_mae: 5.31e-02, loss: 5.31e-02, lr: 4.80e-04, epoch: 7.78e+00, step: 7.00e+01\n",
      "charge_mse: 1.39e-01, charge_mae: 1.10e-01, loss: 1.10e-01, lr: 4.80e-04, epoch: 7.89e+00, step: 7.10e+01\n",
      "charge_mse: 2.16e-01, charge_mae: 1.21e-01, loss: 1.21e-01, lr: 4.80e-04, epoch: 8.00e+00, step: 7.20e+01\n",
      "2022-07-06 15:19:30 (INFO): Evaluating on val.\n"
     ]
    },
    {
     "name": "stderr",
     "output_type": "stream",
     "text": [
      "device 0: 100%|██████████| 1/1 [00:11<00:00, 11.78s/it]"
     ]
    },
    {
     "name": "stdout",
     "output_type": "stream",
     "text": [
      "2022-07-06 15:19:42 (INFO): charge_mse: 0.2347, charge_mae: 0.0946, loss: 0.0947, epoch: 8.0000\n"
     ]
    },
    {
     "name": "stderr",
     "output_type": "stream",
     "text": [
      "\n"
     ]
    },
    {
     "name": "stdout",
     "output_type": "stream",
     "text": [
      "charge_mse: 7.98e-02, charge_mae: 5.65e-02, loss: 5.65e-02, lr: 4.61e-04, epoch: 8.11e+00, step: 7.30e+01\n",
      "charge_mse: 1.08e-01, charge_mae: 6.93e-02, loss: 6.93e-02, lr: 4.61e-04, epoch: 8.22e+00, step: 7.40e+01\n",
      "charge_mse: 1.62e-01, charge_mae: 7.42e-02, loss: 7.42e-02, lr: 4.61e-04, epoch: 8.33e+00, step: 7.50e+01\n",
      "charge_mse: 1.50e-01, charge_mae: 5.88e-02, loss: 5.88e-02, lr: 4.61e-04, epoch: 8.44e+00, step: 7.60e+01\n",
      "charge_mse: 1.46e-01, charge_mae: 9.15e-02, loss: 9.15e-02, lr: 4.61e-04, epoch: 8.56e+00, step: 7.70e+01\n",
      "charge_mse: 6.81e-02, charge_mae: 6.09e-02, loss: 6.09e-02, lr: 4.61e-04, epoch: 8.67e+00, step: 7.80e+01\n",
      "charge_mse: 4.73e-02, charge_mae: 7.23e-02, loss: 7.23e-02, lr: 4.61e-04, epoch: 8.78e+00, step: 7.90e+01\n",
      "charge_mse: 1.01e-01, charge_mae: 9.59e-02, loss: 9.59e-02, lr: 4.61e-04, epoch: 8.89e+00, step: 8.00e+01\n",
      "charge_mse: 9.77e-02, charge_mae: 6.52e-02, loss: 6.52e-02, lr: 4.61e-04, epoch: 9.00e+00, step: 8.10e+01\n",
      "2022-07-06 15:21:01 (INFO): Evaluating on val.\n"
     ]
    },
    {
     "name": "stderr",
     "output_type": "stream",
     "text": [
      "device 0: 100%|██████████| 1/1 [00:11<00:00, 11.73s/it]"
     ]
    },
    {
     "name": "stdout",
     "output_type": "stream",
     "text": [
      "2022-07-06 15:21:13 (INFO): charge_mse: 0.2134, charge_mae: 0.0959, loss: 0.0958, epoch: 9.0000\n"
     ]
    },
    {
     "name": "stderr",
     "output_type": "stream",
     "text": [
      "\n"
     ]
    },
    {
     "name": "stdout",
     "output_type": "stream",
     "text": [
      "charge_mse: 1.05e-01, charge_mae: 6.72e-02, loss: 6.72e-02, lr: 4.61e-04, epoch: 9.11e+00, step: 8.20e+01\n",
      "charge_mse: 7.01e-02, charge_mae: 6.11e-02, loss: 6.11e-02, lr: 4.61e-04, epoch: 9.22e+00, step: 8.30e+01\n",
      "charge_mse: 2.64e-02, charge_mae: 5.11e-02, loss: 5.11e-02, lr: 4.61e-04, epoch: 9.33e+00, step: 8.40e+01\n",
      "charge_mse: 1.02e-01, charge_mae: 7.51e-02, loss: 7.51e-02, lr: 4.61e-04, epoch: 9.44e+00, step: 8.50e+01\n",
      "charge_mse: 4.51e-02, charge_mae: 5.76e-02, loss: 5.76e-02, lr: 4.61e-04, epoch: 9.56e+00, step: 8.60e+01\n",
      "charge_mse: 5.55e-02, charge_mae: 7.70e-02, loss: 7.70e-02, lr: 4.61e-04, epoch: 9.67e+00, step: 8.70e+01\n",
      "charge_mse: 9.46e-02, charge_mae: 8.43e-02, loss: 8.43e-02, lr: 4.61e-04, epoch: 9.78e+00, step: 8.80e+01\n",
      "charge_mse: 9.34e-02, charge_mae: 6.25e-02, loss: 6.25e-02, lr: 4.61e-04, epoch: 9.89e+00, step: 8.90e+01\n",
      "charge_mse: 4.73e-02, charge_mae: 5.69e-02, loss: 5.69e-02, lr: 4.61e-04, epoch: 1.00e+01, step: 9.00e+01\n",
      "2022-07-06 15:22:36 (INFO): Evaluating on val.\n"
     ]
    },
    {
     "name": "stderr",
     "output_type": "stream",
     "text": [
      "device 0: 100%|██████████| 1/1 [00:11<00:00, 11.75s/it]"
     ]
    },
    {
     "name": "stdout",
     "output_type": "stream",
     "text": [
      "2022-07-06 15:22:48 (INFO): charge_mse: 0.2165, charge_mae: 0.0849, loss: 0.0849, epoch: 10.0000\n"
     ]
    },
    {
     "name": "stderr",
     "output_type": "stream",
     "text": [
      "\n"
     ]
    },
    {
     "name": "stdout",
     "output_type": "stream",
     "text": [
      "charge_mse: 6.51e-02, charge_mae: 6.13e-02, loss: 6.13e-02, lr: 4.61e-04, epoch: 1.01e+01, step: 9.10e+01\n",
      "charge_mse: 2.30e-01, charge_mae: 4.91e-02, loss: 4.91e-02, lr: 4.61e-04, epoch: 1.02e+01, step: 9.20e+01\n",
      "charge_mse: 1.72e-01, charge_mae: 1.08e-01, loss: 1.08e-01, lr: 4.61e-04, epoch: 1.03e+01, step: 9.30e+01\n",
      "charge_mse: 1.39e-01, charge_mae: 9.69e-02, loss: 9.69e-02, lr: 4.61e-04, epoch: 1.04e+01, step: 9.40e+01\n",
      "charge_mse: 4.26e-02, charge_mae: 4.55e-02, loss: 4.55e-02, lr: 4.61e-04, epoch: 1.06e+01, step: 9.50e+01\n",
      "charge_mse: 5.87e-02, charge_mae: 4.85e-02, loss: 4.85e-02, lr: 4.61e-04, epoch: 1.07e+01, step: 9.60e+01\n",
      "charge_mse: 6.66e-02, charge_mae: 7.04e-02, loss: 7.04e-02, lr: 4.61e-04, epoch: 1.08e+01, step: 9.70e+01\n",
      "charge_mse: 2.53e-02, charge_mae: 6.09e-02, loss: 6.09e-02, lr: 4.61e-04, epoch: 1.09e+01, step: 9.80e+01\n",
      "charge_mse: 7.96e-02, charge_mae: 5.86e-02, loss: 5.86e-02, lr: 4.61e-04, epoch: 1.10e+01, step: 9.90e+01\n",
      "2022-07-06 15:24:09 (INFO): Evaluating on val.\n"
     ]
    },
    {
     "name": "stderr",
     "output_type": "stream",
     "text": [
      "device 0: 100%|██████████| 1/1 [00:11<00:00, 11.47s/it]"
     ]
    },
    {
     "name": "stdout",
     "output_type": "stream",
     "text": [
      "2022-07-06 15:24:20 (INFO): charge_mse: 0.1923, charge_mae: 0.0845, loss: 0.0845, epoch: 11.0000\n"
     ]
    },
    {
     "name": "stderr",
     "output_type": "stream",
     "text": [
      "\n"
     ]
    },
    {
     "name": "stdout",
     "output_type": "stream",
     "text": [
      "charge_mse: 5.53e-02, charge_mae: 5.33e-02, loss: 5.33e-02, lr: 4.61e-04, epoch: 1.11e+01, step: 1.00e+02\n",
      "charge_mse: 1.03e-01, charge_mae: 8.55e-02, loss: 8.55e-02, lr: 4.61e-04, epoch: 1.12e+01, step: 1.01e+02\n",
      "charge_mse: 2.99e-02, charge_mae: 7.54e-02, loss: 7.54e-02, lr: 4.61e-04, epoch: 1.13e+01, step: 1.02e+02\n",
      "charge_mse: 8.91e-02, charge_mae: 5.65e-02, loss: 5.65e-02, lr: 4.61e-04, epoch: 1.14e+01, step: 1.03e+02\n",
      "charge_mse: 6.57e-02, charge_mae: 5.27e-02, loss: 5.27e-02, lr: 4.61e-04, epoch: 1.16e+01, step: 1.04e+02\n",
      "charge_mse: 9.86e-02, charge_mae: 8.87e-02, loss: 8.87e-02, lr: 4.61e-04, epoch: 1.17e+01, step: 1.05e+02\n",
      "charge_mse: 3.62e-02, charge_mae: 6.18e-02, loss: 6.18e-02, lr: 4.61e-04, epoch: 1.18e+01, step: 1.06e+02\n",
      "charge_mse: 2.52e-01, charge_mae: 7.78e-02, loss: 7.78e-02, lr: 4.61e-04, epoch: 1.19e+01, step: 1.07e+02\n",
      "charge_mse: 2.86e-02, charge_mae: 5.04e-02, loss: 5.04e-02, lr: 4.61e-04, epoch: 1.20e+01, step: 1.08e+02\n",
      "2022-07-06 15:25:43 (INFO): Evaluating on val.\n"
     ]
    },
    {
     "name": "stderr",
     "output_type": "stream",
     "text": [
      "device 0: 100%|██████████| 1/1 [00:11<00:00, 11.76s/it]"
     ]
    },
    {
     "name": "stdout",
     "output_type": "stream",
     "text": [
      "2022-07-06 15:25:55 (INFO): charge_mse: 0.1826, charge_mae: 0.0959, loss: 0.0959, epoch: 12.0000\n"
     ]
    },
    {
     "name": "stderr",
     "output_type": "stream",
     "text": [
      "\n"
     ]
    },
    {
     "name": "stdout",
     "output_type": "stream",
     "text": [
      "charge_mse: 6.07e-02, charge_mae: 6.70e-02, loss: 6.70e-02, lr: 4.61e-04, epoch: 1.21e+01, step: 1.09e+02\n",
      "charge_mse: 2.55e-02, charge_mae: 5.94e-02, loss: 5.94e-02, lr: 4.61e-04, epoch: 1.22e+01, step: 1.10e+02\n",
      "charge_mse: 4.49e-02, charge_mae: 4.35e-02, loss: 4.35e-02, lr: 4.61e-04, epoch: 1.23e+01, step: 1.11e+02\n",
      "charge_mse: 6.84e-02, charge_mae: 4.11e-02, loss: 4.11e-02, lr: 4.61e-04, epoch: 1.24e+01, step: 1.12e+02\n",
      "charge_mse: 1.30e-02, charge_mae: 3.74e-02, loss: 3.74e-02, lr: 4.61e-04, epoch: 1.26e+01, step: 1.13e+02\n",
      "charge_mse: 1.45e-01, charge_mae: 6.21e-02, loss: 6.21e-02, lr: 4.61e-04, epoch: 1.27e+01, step: 1.14e+02\n",
      "charge_mse: 5.02e-02, charge_mae: 4.30e-02, loss: 4.30e-02, lr: 4.61e-04, epoch: 1.28e+01, step: 1.15e+02\n",
      "charge_mse: 7.78e-02, charge_mae: 7.56e-02, loss: 7.56e-02, lr: 4.61e-04, epoch: 1.29e+01, step: 1.16e+02\n",
      "charge_mse: 2.51e-02, charge_mae: 4.84e-02, loss: 4.84e-02, lr: 4.61e-04, epoch: 1.30e+01, step: 1.17e+02\n",
      "2022-07-06 15:27:17 (INFO): Evaluating on val.\n"
     ]
    },
    {
     "name": "stderr",
     "output_type": "stream",
     "text": [
      "device 0: 100%|██████████| 1/1 [00:11<00:00, 11.79s/it]"
     ]
    },
    {
     "name": "stdout",
     "output_type": "stream",
     "text": [
      "2022-07-06 15:27:29 (INFO): charge_mse: 0.1928, charge_mae: 0.1180, loss: 0.1180, epoch: 13.0000\n"
     ]
    },
    {
     "name": "stderr",
     "output_type": "stream",
     "text": [
      "\n"
     ]
    },
    {
     "name": "stdout",
     "output_type": "stream",
     "text": [
      "charge_mse: 6.11e-02, charge_mae: 9.05e-02, loss: 9.05e-02, lr: 4.42e-04, epoch: 1.31e+01, step: 1.18e+02\n",
      "charge_mse: 4.98e-02, charge_mae: 8.12e-02, loss: 8.12e-02, lr: 4.42e-04, epoch: 1.32e+01, step: 1.19e+02\n",
      "charge_mse: 2.41e-02, charge_mae: 2.56e-02, loss: 2.56e-02, lr: 4.42e-04, epoch: 1.33e+01, step: 1.20e+02\n",
      "charge_mse: 7.56e-02, charge_mae: 6.07e-02, loss: 6.07e-02, lr: 4.42e-04, epoch: 1.34e+01, step: 1.21e+02\n",
      "charge_mse: 9.89e-02, charge_mae: 4.14e-02, loss: 4.14e-02, lr: 4.42e-04, epoch: 1.36e+01, step: 1.22e+02\n",
      "charge_mse: 8.09e-02, charge_mae: 4.03e-02, loss: 4.03e-02, lr: 4.42e-04, epoch: 1.37e+01, step: 1.23e+02\n",
      "charge_mse: 3.18e-02, charge_mae: 6.15e-02, loss: 6.15e-02, lr: 4.42e-04, epoch: 1.38e+01, step: 1.24e+02\n",
      "charge_mse: 4.58e-02, charge_mae: 4.32e-02, loss: 4.32e-02, lr: 4.42e-04, epoch: 1.39e+01, step: 1.25e+02\n",
      "charge_mse: 6.25e-02, charge_mae: 3.05e-02, loss: 3.05e-02, lr: 4.42e-04, epoch: 1.40e+01, step: 1.26e+02\n",
      "2022-07-06 15:28:50 (INFO): Evaluating on val.\n"
     ]
    },
    {
     "name": "stderr",
     "output_type": "stream",
     "text": [
      "device 0: 100%|██████████| 1/1 [00:11<00:00, 11.87s/it]"
     ]
    },
    {
     "name": "stdout",
     "output_type": "stream",
     "text": [
      "2022-07-06 15:29:02 (INFO): charge_mse: 0.1757, charge_mae: 0.0935, loss: 0.0934, epoch: 14.0000\n"
     ]
    },
    {
     "name": "stderr",
     "output_type": "stream",
     "text": [
      "\n"
     ]
    },
    {
     "name": "stdout",
     "output_type": "stream",
     "text": [
      "charge_mse: 5.02e-02, charge_mae: 6.64e-02, loss: 6.64e-02, lr: 4.42e-04, epoch: 1.41e+01, step: 1.27e+02\n",
      "charge_mse: 1.96e-02, charge_mae: 3.28e-02, loss: 3.28e-02, lr: 4.42e-04, epoch: 1.42e+01, step: 1.28e+02\n",
      "charge_mse: 1.05e-02, charge_mae: 7.47e-02, loss: 7.47e-02, lr: 4.42e-04, epoch: 1.43e+01, step: 1.29e+02\n",
      "charge_mse: 3.09e-02, charge_mae: 8.84e-02, loss: 8.84e-02, lr: 4.42e-04, epoch: 1.44e+01, step: 1.30e+02\n",
      "charge_mse: 6.86e-02, charge_mae: 5.14e-02, loss: 5.14e-02, lr: 4.42e-04, epoch: 1.46e+01, step: 1.31e+02\n",
      "charge_mse: 8.71e-02, charge_mae: 9.78e-02, loss: 9.78e-02, lr: 4.42e-04, epoch: 1.47e+01, step: 1.32e+02\n",
      "charge_mse: 6.97e-02, charge_mae: 9.90e-02, loss: 9.90e-02, lr: 4.42e-04, epoch: 1.48e+01, step: 1.33e+02\n",
      "charge_mse: 8.06e-02, charge_mae: 4.48e-02, loss: 4.48e-02, lr: 4.42e-04, epoch: 1.49e+01, step: 1.34e+02\n",
      "charge_mse: 7.09e-02, charge_mae: 1.29e-01, loss: 1.29e-01, lr: 4.42e-04, epoch: 1.50e+01, step: 1.35e+02\n",
      "2022-07-06 15:30:25 (INFO): Evaluating on val.\n"
     ]
    },
    {
     "name": "stderr",
     "output_type": "stream",
     "text": [
      "device 0: 100%|██████████| 1/1 [00:11<00:00, 11.34s/it]"
     ]
    },
    {
     "name": "stdout",
     "output_type": "stream",
     "text": [
      "2022-07-06 15:30:36 (INFO): charge_mse: 0.2193, charge_mae: 0.1946, loss: 0.1946, epoch: 15.0000\n"
     ]
    },
    {
     "name": "stderr",
     "output_type": "stream",
     "text": [
      "\n"
     ]
    },
    {
     "name": "stdout",
     "output_type": "stream",
     "text": [
      "charge_mse: 1.61e-01, charge_mae: 1.69e-01, loss: 1.69e-01, lr: 4.25e-04, epoch: 1.51e+01, step: 1.36e+02\n",
      "charge_mse: 6.39e-02, charge_mae: 1.13e-01, loss: 1.13e-01, lr: 4.25e-04, epoch: 1.52e+01, step: 1.37e+02\n",
      "charge_mse: 8.50e-02, charge_mae: 4.95e-02, loss: 4.95e-02, lr: 4.25e-04, epoch: 1.53e+01, step: 1.38e+02\n",
      "charge_mse: 3.09e-02, charge_mae: 8.89e-02, loss: 8.89e-02, lr: 4.25e-04, epoch: 1.54e+01, step: 1.39e+02\n",
      "charge_mse: 4.49e-02, charge_mae: 7.79e-02, loss: 7.79e-02, lr: 4.25e-04, epoch: 1.56e+01, step: 1.40e+02\n",
      "charge_mse: 5.12e-02, charge_mae: 6.13e-02, loss: 6.13e-02, lr: 4.25e-04, epoch: 1.57e+01, step: 1.41e+02\n",
      "charge_mse: 8.22e-02, charge_mae: 7.70e-02, loss: 7.70e-02, lr: 4.25e-04, epoch: 1.58e+01, step: 1.42e+02\n",
      "charge_mse: 3.57e-02, charge_mae: 4.91e-02, loss: 4.91e-02, lr: 4.25e-04, epoch: 1.59e+01, step: 1.43e+02\n",
      "charge_mse: 1.87e-02, charge_mae: 3.23e-02, loss: 3.23e-02, lr: 4.25e-04, epoch: 1.60e+01, step: 1.44e+02\n",
      "2022-07-06 15:32:00 (INFO): Evaluating on val.\n"
     ]
    },
    {
     "name": "stderr",
     "output_type": "stream",
     "text": [
      "device 0: 100%|██████████| 1/1 [00:11<00:00, 12.00s/it]"
     ]
    },
    {
     "name": "stdout",
     "output_type": "stream",
     "text": [
      "2022-07-06 15:32:12 (INFO): charge_mse: 0.2026, charge_mae: 0.0897, loss: 0.0897, epoch: 16.0000\n"
     ]
    },
    {
     "name": "stderr",
     "output_type": "stream",
     "text": [
      "\n"
     ]
    },
    {
     "name": "stdout",
     "output_type": "stream",
     "text": [
      "charge_mse: 6.50e-02, charge_mae: 5.24e-02, loss: 5.24e-02, lr: 4.25e-04, epoch: 1.61e+01, step: 1.45e+02\n",
      "charge_mse: 3.21e-02, charge_mae: 3.24e-02, loss: 3.24e-02, lr: 4.25e-04, epoch: 1.62e+01, step: 1.46e+02\n",
      "charge_mse: 1.97e-02, charge_mae: 7.02e-02, loss: 7.02e-02, lr: 4.25e-04, epoch: 1.63e+01, step: 1.47e+02\n",
      "charge_mse: 7.21e-02, charge_mae: 5.56e-02, loss: 5.56e-02, lr: 4.25e-04, epoch: 1.64e+01, step: 1.48e+02\n",
      "charge_mse: 4.29e-02, charge_mae: 6.08e-02, loss: 6.08e-02, lr: 4.25e-04, epoch: 1.66e+01, step: 1.49e+02\n",
      "charge_mse: 2.49e-02, charge_mae: 6.85e-02, loss: 6.85e-02, lr: 4.25e-04, epoch: 1.67e+01, step: 1.50e+02\n",
      "charge_mse: 4.13e-02, charge_mae: 4.04e-02, loss: 4.04e-02, lr: 4.25e-04, epoch: 1.68e+01, step: 1.51e+02\n",
      "charge_mse: 2.17e-01, charge_mae: 6.06e-02, loss: 6.06e-02, lr: 4.25e-04, epoch: 1.69e+01, step: 1.52e+02\n",
      "charge_mse: 4.69e-02, charge_mae: 5.03e-02, loss: 5.03e-02, lr: 4.25e-04, epoch: 1.70e+01, step: 1.53e+02\n",
      "2022-07-06 15:33:32 (INFO): Evaluating on val.\n"
     ]
    },
    {
     "name": "stderr",
     "output_type": "stream",
     "text": [
      "device 0: 100%|██████████| 1/1 [00:11<00:00, 11.75s/it]"
     ]
    },
    {
     "name": "stdout",
     "output_type": "stream",
     "text": [
      "2022-07-06 15:33:44 (INFO): charge_mse: 0.1787, charge_mae: 0.0593, loss: 0.0594, epoch: 17.0000\n"
     ]
    },
    {
     "name": "stderr",
     "output_type": "stream",
     "text": [
      "\n"
     ]
    },
    {
     "name": "stdout",
     "output_type": "stream",
     "text": [
      "charge_mse: 1.22e-02, charge_mae: 2.45e-02, loss: 2.45e-02, lr: 4.25e-04, epoch: 1.71e+01, step: 1.54e+02\n",
      "charge_mse: 1.07e-01, charge_mae: 7.68e-02, loss: 7.68e-02, lr: 4.25e-04, epoch: 1.72e+01, step: 1.55e+02\n",
      "charge_mse: 4.21e-02, charge_mae: 6.15e-02, loss: 6.15e-02, lr: 4.25e-04, epoch: 1.73e+01, step: 1.56e+02\n",
      "charge_mse: 1.18e-01, charge_mae: 6.05e-02, loss: 6.05e-02, lr: 4.25e-04, epoch: 1.74e+01, step: 1.57e+02\n",
      "charge_mse: 2.62e-02, charge_mae: 4.99e-02, loss: 4.99e-02, lr: 4.25e-04, epoch: 1.76e+01, step: 1.58e+02\n",
      "charge_mse: 4.86e-02, charge_mae: 5.34e-02, loss: 5.34e-02, lr: 4.25e-04, epoch: 1.77e+01, step: 1.59e+02\n",
      "charge_mse: 3.15e-02, charge_mae: 5.77e-02, loss: 5.77e-02, lr: 4.25e-04, epoch: 1.78e+01, step: 1.60e+02\n",
      "charge_mse: 1.86e-02, charge_mae: 2.95e-02, loss: 2.95e-02, lr: 4.25e-04, epoch: 1.79e+01, step: 1.61e+02\n",
      "charge_mse: 5.15e-02, charge_mae: 3.35e-02, loss: 3.35e-02, lr: 4.25e-04, epoch: 1.80e+01, step: 1.62e+02\n",
      "2022-07-06 15:35:05 (INFO): Evaluating on val.\n"
     ]
    },
    {
     "name": "stderr",
     "output_type": "stream",
     "text": [
      "device 0: 100%|██████████| 1/1 [00:11<00:00, 11.82s/it]"
     ]
    },
    {
     "name": "stdout",
     "output_type": "stream",
     "text": [
      "2022-07-06 15:35:17 (INFO): charge_mse: 0.1984, charge_mae: 0.0669, loss: 0.0669, epoch: 18.0000\n"
     ]
    },
    {
     "name": "stderr",
     "output_type": "stream",
     "text": [
      "\n"
     ]
    },
    {
     "name": "stdout",
     "output_type": "stream",
     "text": [
      "charge_mse: 2.70e-02, charge_mae: 3.23e-02, loss: 3.23e-02, lr: 4.25e-04, epoch: 1.81e+01, step: 1.63e+02\n",
      "charge_mse: 5.36e-02, charge_mae: 4.88e-02, loss: 4.88e-02, lr: 4.25e-04, epoch: 1.82e+01, step: 1.64e+02\n",
      "charge_mse: 1.18e-02, charge_mae: 2.25e-02, loss: 2.25e-02, lr: 4.25e-04, epoch: 1.83e+01, step: 1.65e+02\n",
      "charge_mse: 5.44e-02, charge_mae: 3.65e-02, loss: 3.65e-02, lr: 4.25e-04, epoch: 1.84e+01, step: 1.66e+02\n",
      "charge_mse: 1.65e-02, charge_mae: 4.70e-02, loss: 4.70e-02, lr: 4.25e-04, epoch: 1.86e+01, step: 1.67e+02\n",
      "charge_mse: 3.29e-02, charge_mae: 3.07e-02, loss: 3.07e-02, lr: 4.25e-04, epoch: 1.87e+01, step: 1.68e+02\n",
      "charge_mse: 6.36e-02, charge_mae: 8.35e-02, loss: 8.35e-02, lr: 4.25e-04, epoch: 1.88e+01, step: 1.69e+02\n",
      "charge_mse: 9.29e-02, charge_mae: 9.74e-02, loss: 9.74e-02, lr: 4.25e-04, epoch: 1.89e+01, step: 1.70e+02\n",
      "charge_mse: 9.39e-03, charge_mae: 2.95e-02, loss: 2.95e-02, lr: 4.25e-04, epoch: 1.90e+01, step: 1.71e+02\n",
      "2022-07-06 15:36:40 (INFO): Evaluating on val.\n"
     ]
    },
    {
     "name": "stderr",
     "output_type": "stream",
     "text": [
      "device 0: 100%|██████████| 1/1 [00:11<00:00, 11.96s/it]"
     ]
    },
    {
     "name": "stdout",
     "output_type": "stream",
     "text": [
      "2022-07-06 15:36:52 (INFO): charge_mse: 0.1274, charge_mae: 0.1326, loss: 0.1326, epoch: 19.0000\n"
     ]
    },
    {
     "name": "stderr",
     "output_type": "stream",
     "text": [
      "\n"
     ]
    },
    {
     "name": "stdout",
     "output_type": "stream",
     "text": [
      "charge_mse: 2.46e-02, charge_mae: 1.02e-01, loss: 1.02e-01, lr: 4.08e-04, epoch: 1.91e+01, step: 1.72e+02\n",
      "charge_mse: 6.06e-02, charge_mae: 1.21e-01, loss: 1.21e-01, lr: 4.08e-04, epoch: 1.92e+01, step: 1.73e+02\n",
      "charge_mse: 9.97e-02, charge_mae: 8.36e-02, loss: 8.36e-02, lr: 4.08e-04, epoch: 1.93e+01, step: 1.74e+02\n",
      "charge_mse: 8.28e-02, charge_mae: 6.75e-02, loss: 6.75e-02, lr: 4.08e-04, epoch: 1.94e+01, step: 1.75e+02\n",
      "charge_mse: 3.45e-02, charge_mae: 1.02e-01, loss: 1.02e-01, lr: 4.08e-04, epoch: 1.96e+01, step: 1.76e+02\n",
      "charge_mse: 6.47e-02, charge_mae: 7.93e-02, loss: 7.93e-02, lr: 4.08e-04, epoch: 1.97e+01, step: 1.77e+02\n",
      "charge_mse: 2.58e-02, charge_mae: 4.88e-02, loss: 4.88e-02, lr: 4.08e-04, epoch: 1.98e+01, step: 1.78e+02\n",
      "charge_mse: 1.82e-02, charge_mae: 5.63e-02, loss: 5.63e-02, lr: 4.08e-04, epoch: 1.99e+01, step: 1.79e+02\n",
      "charge_mse: 1.25e-02, charge_mae: 3.00e-02, loss: 3.00e-02, lr: 4.08e-04, epoch: 2.00e+01, step: 1.80e+02\n",
      "2022-07-06 15:38:13 (INFO): Evaluating on val.\n"
     ]
    },
    {
     "name": "stderr",
     "output_type": "stream",
     "text": [
      "device 0: 100%|██████████| 1/1 [00:11<00:00, 11.69s/it]"
     ]
    },
    {
     "name": "stdout",
     "output_type": "stream",
     "text": [
      "2022-07-06 15:38:25 (INFO): charge_mse: 0.1164, charge_mae: 0.0567, loss: 0.0567, epoch: 20.0000\n"
     ]
    },
    {
     "name": "stderr",
     "output_type": "stream",
     "text": [
      "\n"
     ]
    },
    {
     "name": "stdout",
     "output_type": "stream",
     "text": [
      "charge_mse: 1.32e-02, charge_mae: 2.95e-02, loss: 2.95e-02, lr: 4.08e-04, epoch: 2.01e+01, step: 1.81e+02\n",
      "charge_mse: 8.68e-02, charge_mae: 4.25e-02, loss: 4.25e-02, lr: 4.08e-04, epoch: 2.02e+01, step: 1.82e+02\n",
      "charge_mse: 1.08e-01, charge_mae: 3.15e-02, loss: 3.15e-02, lr: 4.08e-04, epoch: 2.03e+01, step: 1.83e+02\n",
      "charge_mse: 1.07e-01, charge_mae: 6.40e-02, loss: 6.40e-02, lr: 4.08e-04, epoch: 2.04e+01, step: 1.84e+02\n",
      "charge_mse: 6.70e-02, charge_mae: 4.79e-02, loss: 4.79e-02, lr: 4.08e-04, epoch: 2.06e+01, step: 1.85e+02\n",
      "charge_mse: 4.90e-02, charge_mae: 6.39e-02, loss: 6.39e-02, lr: 4.08e-04, epoch: 2.07e+01, step: 1.86e+02\n",
      "charge_mse: 6.36e-02, charge_mae: 6.76e-02, loss: 6.76e-02, lr: 4.08e-04, epoch: 2.08e+01, step: 1.87e+02\n",
      "charge_mse: 2.18e-02, charge_mae: 3.20e-02, loss: 3.20e-02, lr: 4.08e-04, epoch: 2.09e+01, step: 1.88e+02\n",
      "charge_mse: 6.75e-03, charge_mae: 2.89e-02, loss: 2.89e-02, lr: 4.08e-04, epoch: 2.10e+01, step: 1.89e+02\n",
      "2022-07-06 15:39:50 (INFO): Evaluating on val.\n"
     ]
    },
    {
     "name": "stderr",
     "output_type": "stream",
     "text": [
      "device 0: 100%|██████████| 1/1 [00:11<00:00, 11.73s/it]"
     ]
    },
    {
     "name": "stdout",
     "output_type": "stream",
     "text": [
      "2022-07-06 15:40:02 (INFO): charge_mse: 0.1146, charge_mae: 0.0769, loss: 0.0770, epoch: 21.0000\n"
     ]
    },
    {
     "name": "stderr",
     "output_type": "stream",
     "text": [
      "\n"
     ]
    },
    {
     "name": "stdout",
     "output_type": "stream",
     "text": [
      "charge_mse: 1.38e-02, charge_mae: 5.12e-02, loss: 5.12e-02, lr: 4.08e-04, epoch: 2.11e+01, step: 1.90e+02\n",
      "charge_mse: 5.84e-02, charge_mae: 4.35e-02, loss: 4.35e-02, lr: 4.08e-04, epoch: 2.12e+01, step: 1.91e+02\n",
      "charge_mse: 3.50e-02, charge_mae: 6.11e-02, loss: 6.11e-02, lr: 4.08e-04, epoch: 2.13e+01, step: 1.92e+02\n",
      "charge_mse: 1.09e-02, charge_mae: 5.10e-02, loss: 5.10e-02, lr: 4.08e-04, epoch: 2.14e+01, step: 1.93e+02\n",
      "charge_mse: 1.13e-02, charge_mae: 2.85e-02, loss: 2.85e-02, lr: 4.08e-04, epoch: 2.16e+01, step: 1.94e+02\n",
      "charge_mse: 2.09e-02, charge_mae: 3.18e-02, loss: 3.18e-02, lr: 4.08e-04, epoch: 2.17e+01, step: 1.95e+02\n",
      "charge_mse: 1.19e-02, charge_mae: 4.67e-02, loss: 4.67e-02, lr: 4.08e-04, epoch: 2.18e+01, step: 1.96e+02\n",
      "charge_mse: 2.14e-02, charge_mae: 3.92e-02, loss: 3.92e-02, lr: 4.08e-04, epoch: 2.19e+01, step: 1.97e+02\n",
      "charge_mse: 3.11e-02, charge_mae: 5.49e-02, loss: 5.49e-02, lr: 4.08e-04, epoch: 2.20e+01, step: 1.98e+02\n",
      "2022-07-06 15:41:24 (INFO): Evaluating on val.\n"
     ]
    },
    {
     "name": "stderr",
     "output_type": "stream",
     "text": [
      "device 0: 100%|██████████| 1/1 [00:11<00:00, 11.58s/it]"
     ]
    },
    {
     "name": "stdout",
     "output_type": "stream",
     "text": [
      "2022-07-06 15:41:36 (INFO): charge_mse: 0.1115, charge_mae: 0.0615, loss: 0.0615, epoch: 22.0000\n"
     ]
    },
    {
     "name": "stderr",
     "output_type": "stream",
     "text": [
      "\n"
     ]
    },
    {
     "name": "stdout",
     "output_type": "stream",
     "text": [
      "charge_mse: 1.07e-02, charge_mae: 3.23e-02, loss: 3.23e-02, lr: 3.91e-04, epoch: 2.21e+01, step: 1.99e+02\n",
      "charge_mse: 3.09e-02, charge_mae: 5.19e-02, loss: 5.19e-02, lr: 3.91e-04, epoch: 2.22e+01, step: 2.00e+02\n",
      "charge_mse: 9.23e-02, charge_mae: 5.71e-02, loss: 5.71e-02, lr: 3.91e-04, epoch: 2.23e+01, step: 2.01e+02\n",
      "charge_mse: 6.93e-02, charge_mae: 2.67e-02, loss: 2.67e-02, lr: 3.91e-04, epoch: 2.24e+01, step: 2.02e+02\n",
      "charge_mse: 3.25e-02, charge_mae: 2.60e-02, loss: 2.60e-02, lr: 3.91e-04, epoch: 2.26e+01, step: 2.03e+02\n",
      "charge_mse: 1.89e-02, charge_mae: 5.97e-02, loss: 5.97e-02, lr: 3.91e-04, epoch: 2.27e+01, step: 2.04e+02\n",
      "charge_mse: 3.43e-02, charge_mae: 5.07e-02, loss: 5.07e-02, lr: 3.91e-04, epoch: 2.28e+01, step: 2.05e+02\n",
      "charge_mse: 6.31e-02, charge_mae: 5.26e-02, loss: 5.26e-02, lr: 3.91e-04, epoch: 2.29e+01, step: 2.06e+02\n",
      "charge_mse: 3.53e-02, charge_mae: 5.02e-02, loss: 5.02e-02, lr: 3.91e-04, epoch: 2.30e+01, step: 2.07e+02\n",
      "2022-07-06 15:42:59 (INFO): Evaluating on val.\n"
     ]
    },
    {
     "name": "stderr",
     "output_type": "stream",
     "text": [
      "device 0: 100%|██████████| 1/1 [00:11<00:00, 11.83s/it]"
     ]
    },
    {
     "name": "stdout",
     "output_type": "stream",
     "text": [
      "2022-07-06 15:43:11 (INFO): charge_mse: 0.0849, charge_mae: 0.0559, loss: 0.0559, epoch: 23.0000\n"
     ]
    },
    {
     "name": "stderr",
     "output_type": "stream",
     "text": [
      "\n"
     ]
    },
    {
     "name": "stdout",
     "output_type": "stream",
     "text": [
      "charge_mse: 7.26e-03, charge_mae: 3.14e-02, loss: 3.14e-02, lr: 3.91e-04, epoch: 2.31e+01, step: 2.08e+02\n",
      "charge_mse: 8.46e-03, charge_mae: 3.76e-02, loss: 3.76e-02, lr: 3.91e-04, epoch: 2.32e+01, step: 2.09e+02\n",
      "charge_mse: 1.89e-02, charge_mae: 3.12e-02, loss: 3.12e-02, lr: 3.91e-04, epoch: 2.33e+01, step: 2.10e+02\n",
      "charge_mse: 4.58e-02, charge_mae: 2.79e-02, loss: 2.79e-02, lr: 3.91e-04, epoch: 2.34e+01, step: 2.11e+02\n",
      "charge_mse: 1.81e-02, charge_mae: 4.68e-02, loss: 4.68e-02, lr: 3.91e-04, epoch: 2.36e+01, step: 2.12e+02\n",
      "charge_mse: 5.28e-02, charge_mae: 3.63e-02, loss: 3.63e-02, lr: 3.91e-04, epoch: 2.37e+01, step: 2.13e+02\n",
      "charge_mse: 2.88e-02, charge_mae: 5.66e-02, loss: 5.66e-02, lr: 3.91e-04, epoch: 2.38e+01, step: 2.14e+02\n",
      "charge_mse: 7.40e-02, charge_mae: 4.88e-02, loss: 4.88e-02, lr: 3.91e-04, epoch: 2.39e+01, step: 2.15e+02\n",
      "charge_mse: 7.64e-03, charge_mae: 3.23e-02, loss: 3.23e-02, lr: 3.91e-04, epoch: 2.40e+01, step: 2.16e+02\n",
      "2022-07-06 15:44:31 (INFO): Evaluating on val.\n"
     ]
    },
    {
     "name": "stderr",
     "output_type": "stream",
     "text": [
      "device 0: 100%|██████████| 1/1 [00:11<00:00, 11.97s/it]"
     ]
    },
    {
     "name": "stdout",
     "output_type": "stream",
     "text": [
      "2022-07-06 15:44:43 (INFO): charge_mse: 0.0828, charge_mae: 0.0533, loss: 0.0533, epoch: 24.0000\n"
     ]
    },
    {
     "name": "stderr",
     "output_type": "stream",
     "text": [
      "\n"
     ]
    },
    {
     "name": "stdout",
     "output_type": "stream",
     "text": [
      "charge_mse: 4.62e-03, charge_mae: 2.88e-02, loss: 2.88e-02, lr: 3.91e-04, epoch: 2.41e+01, step: 2.17e+02\n",
      "charge_mse: 2.16e-02, charge_mae: 4.58e-02, loss: 4.58e-02, lr: 3.91e-04, epoch: 2.42e+01, step: 2.18e+02\n",
      "charge_mse: 1.16e-02, charge_mae: 3.55e-02, loss: 3.55e-02, lr: 3.91e-04, epoch: 2.43e+01, step: 2.19e+02\n",
      "charge_mse: 8.01e-02, charge_mae: 5.20e-02, loss: 5.20e-02, lr: 3.91e-04, epoch: 2.44e+01, step: 2.20e+02\n",
      "charge_mse: 5.92e-02, charge_mae: 4.58e-02, loss: 4.58e-02, lr: 3.91e-04, epoch: 2.46e+01, step: 2.21e+02\n",
      "charge_mse: 1.57e-02, charge_mae: 4.64e-02, loss: 4.64e-02, lr: 3.91e-04, epoch: 2.47e+01, step: 2.22e+02\n",
      "charge_mse: 3.04e-02, charge_mae: 5.10e-02, loss: 5.10e-02, lr: 3.91e-04, epoch: 2.48e+01, step: 2.23e+02\n",
      "charge_mse: 3.32e-02, charge_mae: 3.25e-02, loss: 3.25e-02, lr: 3.91e-04, epoch: 2.49e+01, step: 2.24e+02\n",
      "charge_mse: 1.71e-02, charge_mae: 2.77e-02, loss: 2.77e-02, lr: 3.91e-04, epoch: 2.50e+01, step: 2.25e+02\n",
      "2022-07-06 15:46:14 (INFO): Evaluating on val.\n"
     ]
    },
    {
     "name": "stderr",
     "output_type": "stream",
     "text": [
      "device 0: 100%|██████████| 1/1 [00:11<00:00, 11.70s/it]"
     ]
    },
    {
     "name": "stdout",
     "output_type": "stream",
     "text": [
      "2022-07-06 15:46:26 (INFO): charge_mse: 0.1191, charge_mae: 0.0709, loss: 0.0709, epoch: 25.0000\n"
     ]
    },
    {
     "name": "stderr",
     "output_type": "stream",
     "text": [
      "\n"
     ]
    },
    {
     "name": "stdout",
     "output_type": "stream",
     "text": [
      "charge_mse: 1.62e-02, charge_mae: 4.38e-02, loss: 4.38e-02, lr: 3.91e-04, epoch: 2.51e+01, step: 2.26e+02\n",
      "charge_mse: 3.16e-02, charge_mae: 3.88e-02, loss: 3.88e-02, lr: 3.91e-04, epoch: 2.52e+01, step: 2.27e+02\n",
      "charge_mse: 9.16e-03, charge_mae: 5.67e-02, loss: 5.67e-02, lr: 3.91e-04, epoch: 2.53e+01, step: 2.28e+02\n",
      "charge_mse: 1.50e-02, charge_mae: 5.08e-02, loss: 5.08e-02, lr: 3.91e-04, epoch: 2.54e+01, step: 2.29e+02\n",
      "charge_mse: 1.42e-02, charge_mae: 2.36e-02, loss: 2.36e-02, lr: 3.91e-04, epoch: 2.56e+01, step: 2.30e+02\n",
      "charge_mse: 9.20e-02, charge_mae: 3.52e-02, loss: 3.52e-02, lr: 3.91e-04, epoch: 2.57e+01, step: 2.31e+02\n",
      "charge_mse: 3.82e-03, charge_mae: 4.34e-02, loss: 4.34e-02, lr: 3.91e-04, epoch: 2.58e+01, step: 2.32e+02\n",
      "charge_mse: 2.37e-02, charge_mae: 3.83e-02, loss: 3.83e-02, lr: 3.91e-04, epoch: 2.59e+01, step: 2.33e+02\n",
      "charge_mse: 1.64e-02, charge_mae: 4.10e-02, loss: 4.10e-02, lr: 3.91e-04, epoch: 2.60e+01, step: 2.34e+02\n",
      "2022-07-06 15:47:48 (INFO): Evaluating on val.\n"
     ]
    },
    {
     "name": "stderr",
     "output_type": "stream",
     "text": [
      "device 0: 100%|██████████| 1/1 [00:11<00:00, 11.73s/it]"
     ]
    },
    {
     "name": "stdout",
     "output_type": "stream",
     "text": [
      "2022-07-06 15:48:00 (INFO): charge_mse: 0.1591, charge_mae: 0.0619, loss: 0.0620, epoch: 26.0000\n"
     ]
    },
    {
     "name": "stderr",
     "output_type": "stream",
     "text": [
      "\n"
     ]
    },
    {
     "name": "stdout",
     "output_type": "stream",
     "text": [
      "charge_mse: 3.82e-03, charge_mae: 2.67e-02, loss: 2.67e-02, lr: 3.76e-04, epoch: 2.61e+01, step: 2.35e+02\n",
      "charge_mse: 3.89e-02, charge_mae: 4.99e-02, loss: 4.99e-02, lr: 3.76e-04, epoch: 2.62e+01, step: 2.36e+02\n",
      "charge_mse: 3.42e-02, charge_mae: 5.74e-02, loss: 5.74e-02, lr: 3.76e-04, epoch: 2.63e+01, step: 2.37e+02\n",
      "charge_mse: 8.00e-02, charge_mae: 3.08e-02, loss: 3.08e-02, lr: 3.76e-04, epoch: 2.64e+01, step: 2.38e+02\n",
      "charge_mse: 5.62e-03, charge_mae: 1.53e-02, loss: 1.53e-02, lr: 3.76e-04, epoch: 2.66e+01, step: 2.39e+02\n",
      "charge_mse: 3.13e-02, charge_mae: 4.16e-02, loss: 4.16e-02, lr: 3.76e-04, epoch: 2.67e+01, step: 2.40e+02\n",
      "charge_mse: 6.11e-02, charge_mae: 3.59e-02, loss: 3.59e-02, lr: 3.76e-04, epoch: 2.68e+01, step: 2.41e+02\n",
      "charge_mse: 6.87e-03, charge_mae: 4.59e-02, loss: 4.59e-02, lr: 3.76e-04, epoch: 2.69e+01, step: 2.42e+02\n",
      "charge_mse: 8.63e-03, charge_mae: 3.48e-02, loss: 3.48e-02, lr: 3.76e-04, epoch: 2.70e+01, step: 2.43e+02\n",
      "2022-07-06 15:49:20 (INFO): Evaluating on val.\n"
     ]
    },
    {
     "name": "stderr",
     "output_type": "stream",
     "text": [
      "device 0: 100%|██████████| 1/1 [00:11<00:00, 11.64s/it]"
     ]
    },
    {
     "name": "stdout",
     "output_type": "stream",
     "text": [
      "2022-07-06 15:49:32 (INFO): charge_mse: 0.0692, charge_mae: 0.0622, loss: 0.0622, epoch: 27.0000\n"
     ]
    },
    {
     "name": "stderr",
     "output_type": "stream",
     "text": [
      "\n"
     ]
    },
    {
     "name": "stdout",
     "output_type": "stream",
     "text": [
      "charge_mse: 5.23e-02, charge_mae: 5.46e-02, loss: 5.46e-02, lr: 3.76e-04, epoch: 2.71e+01, step: 2.44e+02\n",
      "charge_mse: 2.44e-02, charge_mae: 5.08e-02, loss: 5.08e-02, lr: 3.76e-04, epoch: 2.72e+01, step: 2.45e+02\n",
      "charge_mse: 2.06e-03, charge_mae: 1.77e-02, loss: 1.77e-02, lr: 3.76e-04, epoch: 2.73e+01, step: 2.46e+02\n",
      "charge_mse: 2.84e-02, charge_mae: 3.17e-02, loss: 3.17e-02, lr: 3.76e-04, epoch: 2.74e+01, step: 2.47e+02\n",
      "charge_mse: 8.12e-03, charge_mae: 4.50e-02, loss: 4.50e-02, lr: 3.76e-04, epoch: 2.76e+01, step: 2.48e+02\n",
      "charge_mse: 3.07e-02, charge_mae: 4.04e-02, loss: 4.04e-02, lr: 3.76e-04, epoch: 2.77e+01, step: 2.49e+02\n",
      "charge_mse: 5.00e-02, charge_mae: 3.77e-02, loss: 3.77e-02, lr: 3.76e-04, epoch: 2.78e+01, step: 2.50e+02\n",
      "charge_mse: 5.17e-03, charge_mae: 2.85e-02, loss: 2.85e-02, lr: 3.76e-04, epoch: 2.79e+01, step: 2.51e+02\n",
      "charge_mse: 4.41e-02, charge_mae: 4.19e-02, loss: 4.19e-02, lr: 3.76e-04, epoch: 2.80e+01, step: 2.52e+02\n",
      "2022-07-06 15:50:58 (INFO): Evaluating on val.\n"
     ]
    },
    {
     "name": "stderr",
     "output_type": "stream",
     "text": [
      "device 0: 100%|██████████| 1/1 [00:11<00:00, 11.48s/it]"
     ]
    },
    {
     "name": "stdout",
     "output_type": "stream",
     "text": [
      "2022-07-06 15:51:09 (INFO): charge_mse: 0.0694, charge_mae: 0.0492, loss: 0.0492, epoch: 28.0000\n"
     ]
    },
    {
     "name": "stderr",
     "output_type": "stream",
     "text": [
      "\n"
     ]
    },
    {
     "name": "stdout",
     "output_type": "stream",
     "text": [
      "charge_mse: 1.31e-02, charge_mae: 3.38e-02, loss: 3.38e-02, lr: 3.76e-04, epoch: 2.81e+01, step: 2.53e+02\n",
      "charge_mse: 5.65e-02, charge_mae: 4.54e-02, loss: 4.54e-02, lr: 3.76e-04, epoch: 2.82e+01, step: 2.54e+02\n",
      "charge_mse: 2.05e-02, charge_mae: 2.46e-02, loss: 2.46e-02, lr: 3.76e-04, epoch: 2.83e+01, step: 2.55e+02\n",
      "charge_mse: 4.30e-02, charge_mae: 4.66e-02, loss: 4.66e-02, lr: 3.76e-04, epoch: 2.84e+01, step: 2.56e+02\n",
      "charge_mse: 3.51e-03, charge_mae: 3.72e-02, loss: 3.72e-02, lr: 3.76e-04, epoch: 2.86e+01, step: 2.57e+02\n",
      "charge_mse: 6.75e-02, charge_mae: 3.43e-02, loss: 3.43e-02, lr: 3.76e-04, epoch: 2.87e+01, step: 2.58e+02\n",
      "charge_mse: 3.67e-02, charge_mae: 3.09e-02, loss: 3.09e-02, lr: 3.76e-04, epoch: 2.88e+01, step: 2.59e+02\n",
      "charge_mse: 2.16e-02, charge_mae: 4.40e-02, loss: 4.40e-02, lr: 3.76e-04, epoch: 2.89e+01, step: 2.60e+02\n",
      "charge_mse: 7.41e-03, charge_mae: 3.99e-02, loss: 3.99e-02, lr: 3.76e-04, epoch: 2.90e+01, step: 2.61e+02\n",
      "2022-07-06 15:52:35 (INFO): Evaluating on val.\n"
     ]
    },
    {
     "name": "stderr",
     "output_type": "stream",
     "text": [
      "device 0: 100%|██████████| 1/1 [00:11<00:00, 11.74s/it]"
     ]
    },
    {
     "name": "stdout",
     "output_type": "stream",
     "text": [
      "2022-07-06 15:52:47 (INFO): charge_mse: 0.1041, charge_mae: 0.0458, loss: 0.0458, epoch: 29.0000\n"
     ]
    },
    {
     "name": "stderr",
     "output_type": "stream",
     "text": [
      "\n"
     ]
    },
    {
     "name": "stdout",
     "output_type": "stream",
     "text": [
      "charge_mse: 3.35e-03, charge_mae: 2.37e-02, loss: 2.37e-02, lr: 3.76e-04, epoch: 2.91e+01, step: 2.62e+02\n",
      "charge_mse: 1.38e-02, charge_mae: 2.15e-02, loss: 2.15e-02, lr: 3.76e-04, epoch: 2.92e+01, step: 2.63e+02\n",
      "charge_mse: 4.58e-02, charge_mae: 6.20e-02, loss: 6.20e-02, lr: 3.76e-04, epoch: 2.93e+01, step: 2.64e+02\n",
      "charge_mse: 2.10e-02, charge_mae: 5.61e-02, loss: 5.61e-02, lr: 3.76e-04, epoch: 2.94e+01, step: 2.65e+02\n",
      "charge_mse: 5.63e-03, charge_mae: 2.13e-02, loss: 2.13e-02, lr: 3.76e-04, epoch: 2.96e+01, step: 2.66e+02\n",
      "charge_mse: 3.12e-03, charge_mae: 2.56e-02, loss: 2.56e-02, lr: 3.76e-04, epoch: 2.97e+01, step: 2.67e+02\n",
      "charge_mse: 1.00e-02, charge_mae: 2.80e-02, loss: 2.80e-02, lr: 3.76e-04, epoch: 2.98e+01, step: 2.68e+02\n",
      "charge_mse: 6.64e-03, charge_mae: 2.44e-02, loss: 2.44e-02, lr: 3.76e-04, epoch: 2.99e+01, step: 2.69e+02\n",
      "charge_mse: 8.11e-02, charge_mae: 4.27e-02, loss: 4.27e-02, lr: 3.76e-04, epoch: 3.00e+01, step: 2.70e+02\n",
      "2022-07-06 15:54:10 (INFO): Evaluating on val.\n"
     ]
    },
    {
     "name": "stderr",
     "output_type": "stream",
     "text": [
      "device 0: 100%|██████████| 1/1 [00:11<00:00, 11.73s/it]"
     ]
    },
    {
     "name": "stdout",
     "output_type": "stream",
     "text": [
      "2022-07-06 15:54:22 (INFO): charge_mse: 0.1003, charge_mae: 0.0408, loss: 0.0408, epoch: 30.0000\n"
     ]
    },
    {
     "name": "stderr",
     "output_type": "stream",
     "text": [
      "\n"
     ]
    },
    {
     "name": "stdout",
     "output_type": "stream",
     "text": [
      "charge_mse: 6.27e-03, charge_mae: 2.04e-02, loss: 2.04e-02, lr: 3.76e-04, epoch: 3.01e+01, step: 2.71e+02\n",
      "charge_mse: 1.21e-01, charge_mae: 7.54e-02, loss: 7.54e-02, lr: 3.76e-04, epoch: 3.02e+01, step: 2.72e+02\n",
      "charge_mse: 4.39e-02, charge_mae: 7.43e-02, loss: 7.43e-02, lr: 3.76e-04, epoch: 3.03e+01, step: 2.73e+02\n",
      "charge_mse: 4.87e-03, charge_mae: 2.20e-02, loss: 2.20e-02, lr: 3.76e-04, epoch: 3.04e+01, step: 2.74e+02\n",
      "charge_mse: 8.06e-03, charge_mae: 7.76e-02, loss: 7.76e-02, lr: 3.76e-04, epoch: 3.06e+01, step: 2.75e+02\n",
      "charge_mse: 3.13e-02, charge_mae: 1.04e-01, loss: 1.04e-01, lr: 3.76e-04, epoch: 3.07e+01, step: 2.76e+02\n",
      "charge_mse: 7.37e-03, charge_mae: 6.00e-02, loss: 6.00e-02, lr: 3.76e-04, epoch: 3.08e+01, step: 2.77e+02\n",
      "charge_mse: 1.09e-02, charge_mae: 4.33e-02, loss: 4.33e-02, lr: 3.76e-04, epoch: 3.09e+01, step: 2.78e+02\n",
      "charge_mse: 7.63e-03, charge_mae: 7.16e-02, loss: 7.16e-02, lr: 3.76e-04, epoch: 3.10e+01, step: 2.79e+02\n",
      "2022-07-06 15:55:51 (INFO): Evaluating on val.\n"
     ]
    },
    {
     "name": "stderr",
     "output_type": "stream",
     "text": [
      "device 0: 100%|██████████| 1/1 [00:11<00:00, 11.74s/it]"
     ]
    },
    {
     "name": "stdout",
     "output_type": "stream",
     "text": [
      "2022-07-06 15:56:03 (INFO): charge_mse: 0.0775, charge_mae: 0.0692, loss: 0.0692, epoch: 31.0000\n"
     ]
    },
    {
     "name": "stderr",
     "output_type": "stream",
     "text": [
      "\n"
     ]
    },
    {
     "name": "stdout",
     "output_type": "stream",
     "text": [
      "charge_mse: 5.67e-03, charge_mae: 5.38e-02, loss: 5.38e-02, lr: 3.76e-04, epoch: 3.11e+01, step: 2.80e+02\n",
      "charge_mse: 2.12e-02, charge_mae: 4.56e-02, loss: 4.56e-02, lr: 3.76e-04, epoch: 3.12e+01, step: 2.81e+02\n",
      "charge_mse: 3.92e-03, charge_mae: 4.77e-02, loss: 4.77e-02, lr: 3.76e-04, epoch: 3.13e+01, step: 2.82e+02\n",
      "charge_mse: 3.54e-03, charge_mae: 1.92e-02, loss: 1.92e-02, lr: 3.76e-04, epoch: 3.14e+01, step: 2.83e+02\n",
      "charge_mse: 6.34e-03, charge_mae: 7.11e-02, loss: 7.11e-02, lr: 3.76e-04, epoch: 3.16e+01, step: 2.84e+02\n",
      "charge_mse: 1.52e-02, charge_mae: 7.94e-02, loss: 7.94e-02, lr: 3.76e-04, epoch: 3.17e+01, step: 2.85e+02\n",
      "charge_mse: 3.47e-03, charge_mae: 3.32e-02, loss: 3.32e-02, lr: 3.76e-04, epoch: 3.18e+01, step: 2.86e+02\n",
      "charge_mse: 5.12e-02, charge_mae: 6.72e-02, loss: 6.72e-02, lr: 3.76e-04, epoch: 3.19e+01, step: 2.87e+02\n",
      "charge_mse: 2.37e-02, charge_mae: 8.96e-02, loss: 8.96e-02, lr: 3.76e-04, epoch: 3.20e+01, step: 2.88e+02\n",
      "2022-07-06 15:57:27 (INFO): Evaluating on val.\n"
     ]
    },
    {
     "name": "stderr",
     "output_type": "stream",
     "text": [
      "device 0: 100%|██████████| 1/1 [00:11<00:00, 11.82s/it]"
     ]
    },
    {
     "name": "stdout",
     "output_type": "stream",
     "text": [
      "2022-07-06 15:57:39 (INFO): charge_mse: 0.0602, charge_mae: 0.0568, loss: 0.0568, epoch: 32.0000\n"
     ]
    },
    {
     "name": "stderr",
     "output_type": "stream",
     "text": [
      "\n"
     ]
    },
    {
     "name": "stdout",
     "output_type": "stream",
     "text": [
      "charge_mse: 8.10e-03, charge_mae: 3.98e-02, loss: 3.98e-02, lr: 3.61e-04, epoch: 3.21e+01, step: 2.89e+02\n",
      "charge_mse: 3.30e-03, charge_mae: 4.40e-02, loss: 4.40e-02, lr: 3.61e-04, epoch: 3.22e+01, step: 2.90e+02\n",
      "charge_mse: 1.77e-02, charge_mae: 6.26e-02, loss: 6.26e-02, lr: 3.61e-04, epoch: 3.23e+01, step: 2.91e+02\n",
      "charge_mse: 2.45e-02, charge_mae: 2.64e-02, loss: 2.64e-02, lr: 3.61e-04, epoch: 3.24e+01, step: 2.92e+02\n",
      "charge_mse: 2.65e-02, charge_mae: 7.79e-02, loss: 7.79e-02, lr: 3.61e-04, epoch: 3.26e+01, step: 2.93e+02\n",
      "charge_mse: 1.13e-02, charge_mae: 9.24e-02, loss: 9.24e-02, lr: 3.61e-04, epoch: 3.27e+01, step: 2.94e+02\n",
      "charge_mse: 4.54e-03, charge_mae: 5.54e-02, loss: 5.54e-02, lr: 3.61e-04, epoch: 3.28e+01, step: 2.95e+02\n",
      "charge_mse: 9.67e-03, charge_mae: 4.27e-02, loss: 4.27e-02, lr: 3.61e-04, epoch: 3.29e+01, step: 2.96e+02\n",
      "charge_mse: 8.45e-03, charge_mae: 6.20e-02, loss: 6.20e-02, lr: 3.61e-04, epoch: 3.30e+01, step: 2.97e+02\n",
      "2022-07-06 15:59:04 (INFO): Evaluating on val.\n"
     ]
    },
    {
     "name": "stderr",
     "output_type": "stream",
     "text": [
      "device 0: 100%|██████████| 1/1 [00:11<00:00, 11.71s/it]"
     ]
    },
    {
     "name": "stdout",
     "output_type": "stream",
     "text": [
      "2022-07-06 15:59:16 (INFO): charge_mse: 0.0938, charge_mae: 0.0565, loss: 0.0565, epoch: 33.0000\n"
     ]
    },
    {
     "name": "stderr",
     "output_type": "stream",
     "text": [
      "\n"
     ]
    },
    {
     "name": "stdout",
     "output_type": "stream",
     "text": [
      "charge_mse: 2.75e-02, charge_mae: 4.66e-02, loss: 4.66e-02, lr: 3.61e-04, epoch: 3.31e+01, step: 2.98e+02\n",
      "charge_mse: 4.20e-02, charge_mae: 6.19e-02, loss: 6.19e-02, lr: 3.61e-04, epoch: 3.32e+01, step: 2.99e+02\n",
      "charge_mse: 2.17e-02, charge_mae: 8.78e-02, loss: 8.78e-02, lr: 3.61e-04, epoch: 3.33e+01, step: 3.00e+02\n",
      "charge_mse: 5.60e-03, charge_mae: 5.52e-02, loss: 5.52e-02, lr: 3.61e-04, epoch: 3.34e+01, step: 3.01e+02\n",
      "charge_mse: 1.73e-02, charge_mae: 3.63e-02, loss: 3.63e-02, lr: 3.61e-04, epoch: 3.36e+01, step: 3.02e+02\n",
      "charge_mse: 9.22e-03, charge_mae: 5.34e-02, loss: 5.34e-02, lr: 3.61e-04, epoch: 3.37e+01, step: 3.03e+02\n",
      "charge_mse: 3.69e-03, charge_mae: 2.16e-02, loss: 2.16e-02, lr: 3.61e-04, epoch: 3.38e+01, step: 3.04e+02\n",
      "charge_mse: 2.47e-02, charge_mae: 7.40e-02, loss: 7.40e-02, lr: 3.61e-04, epoch: 3.39e+01, step: 3.05e+02\n",
      "charge_mse: 4.62e-02, charge_mae: 9.38e-02, loss: 9.38e-02, lr: 3.61e-04, epoch: 3.40e+01, step: 3.06e+02\n",
      "2022-07-06 16:00:44 (INFO): Evaluating on val.\n"
     ]
    },
    {
     "name": "stderr",
     "output_type": "stream",
     "text": [
      "device 0: 100%|██████████| 1/1 [00:11<00:00, 11.89s/it]"
     ]
    },
    {
     "name": "stdout",
     "output_type": "stream",
     "text": [
      "2022-07-06 16:00:57 (INFO): charge_mse: 0.0883, charge_mae: 0.0741, loss: 0.0741, epoch: 34.0000\n"
     ]
    },
    {
     "name": "stderr",
     "output_type": "stream",
     "text": [
      "\n"
     ]
    },
    {
     "name": "stdout",
     "output_type": "stream",
     "text": [
      "charge_mse: 2.65e-02, charge_mae: 5.99e-02, loss: 5.99e-02, lr: 3.46e-04, epoch: 3.41e+01, step: 3.07e+02\n",
      "charge_mse: 5.30e-03, charge_mae: 3.63e-02, loss: 3.63e-02, lr: 3.46e-04, epoch: 3.42e+01, step: 3.08e+02\n",
      "charge_mse: 6.93e-03, charge_mae: 5.73e-02, loss: 5.73e-02, lr: 3.46e-04, epoch: 3.43e+01, step: 3.09e+02\n",
      "charge_mse: 3.11e-03, charge_mae: 2.19e-02, loss: 2.19e-02, lr: 3.46e-04, epoch: 3.44e+01, step: 3.10e+02\n",
      "charge_mse: 6.85e-03, charge_mae: 5.67e-02, loss: 5.67e-02, lr: 3.46e-04, epoch: 3.46e+01, step: 3.11e+02\n",
      "charge_mse: 1.02e-02, charge_mae: 7.34e-02, loss: 7.34e-02, lr: 3.46e-04, epoch: 3.47e+01, step: 3.12e+02\n",
      "charge_mse: 1.32e-02, charge_mae: 4.10e-02, loss: 4.10e-02, lr: 3.46e-04, epoch: 3.48e+01, step: 3.13e+02\n",
      "charge_mse: 3.37e-02, charge_mae: 5.01e-02, loss: 5.01e-02, lr: 3.46e-04, epoch: 3.49e+01, step: 3.14e+02\n",
      "charge_mse: 8.19e-03, charge_mae: 7.24e-02, loss: 7.24e-02, lr: 3.46e-04, epoch: 3.50e+01, step: 3.15e+02\n",
      "2022-07-06 16:02:27 (INFO): Evaluating on val.\n"
     ]
    },
    {
     "name": "stderr",
     "output_type": "stream",
     "text": [
      "device 0: 100%|██████████| 1/1 [00:11<00:00, 11.85s/it]"
     ]
    },
    {
     "name": "stdout",
     "output_type": "stream",
     "text": [
      "2022-07-06 16:02:39 (INFO): charge_mse: 0.0842, charge_mae: 0.0593, loss: 0.0593, epoch: 35.0000\n"
     ]
    },
    {
     "name": "stderr",
     "output_type": "stream",
     "text": [
      "\n"
     ]
    },
    {
     "name": "stdout",
     "output_type": "stream",
     "text": [
      "charge_mse: 5.89e-02, charge_mae: 4.66e-02, loss: 4.66e-02, lr: 3.46e-04, epoch: 3.51e+01, step: 3.16e+02\n",
      "charge_mse: 6.47e-03, charge_mae: 3.97e-02, loss: 3.97e-02, lr: 3.46e-04, epoch: 3.52e+01, step: 3.17e+02\n",
      "charge_mse: 1.03e-02, charge_mae: 5.91e-02, loss: 5.91e-02, lr: 3.46e-04, epoch: 3.53e+01, step: 3.18e+02\n",
      "charge_mse: 8.10e-03, charge_mae: 1.93e-02, loss: 1.93e-02, lr: 3.46e-04, epoch: 3.54e+01, step: 3.19e+02\n",
      "charge_mse: 8.71e-03, charge_mae: 6.73e-02, loss: 6.73e-02, lr: 3.46e-04, epoch: 3.56e+01, step: 3.20e+02\n",
      "charge_mse: 7.50e-03, charge_mae: 8.40e-02, loss: 8.40e-02, lr: 3.46e-04, epoch: 3.57e+01, step: 3.21e+02\n",
      "charge_mse: 1.13e-02, charge_mae: 5.82e-02, loss: 5.82e-02, lr: 3.46e-04, epoch: 3.58e+01, step: 3.22e+02\n",
      "charge_mse: 2.78e-03, charge_mae: 2.81e-02, loss: 2.81e-02, lr: 3.46e-04, epoch: 3.59e+01, step: 3.23e+02\n",
      "charge_mse: 1.01e-02, charge_mae: 4.91e-02, loss: 4.91e-02, lr: 3.46e-04, epoch: 3.60e+01, step: 3.24e+02\n",
      "2022-07-06 16:04:16 (INFO): Evaluating on val.\n"
     ]
    },
    {
     "name": "stderr",
     "output_type": "stream",
     "text": [
      "device 0: 100%|██████████| 1/1 [00:11<00:00, 11.53s/it]"
     ]
    },
    {
     "name": "stdout",
     "output_type": "stream",
     "text": [
      "2022-07-06 16:04:27 (INFO): charge_mse: 0.0933, charge_mae: 0.0437, loss: 0.0437, epoch: 36.0000\n"
     ]
    },
    {
     "name": "stderr",
     "output_type": "stream",
     "text": [
      "\n"
     ]
    },
    {
     "name": "stdout",
     "output_type": "stream",
     "text": [
      "charge_mse: 9.66e-03, charge_mae: 2.56e-02, loss: 2.56e-02, lr: 3.32e-04, epoch: 3.61e+01, step: 3.25e+02\n",
      "charge_mse: 5.86e-03, charge_mae: 5.38e-02, loss: 5.38e-02, lr: 3.32e-04, epoch: 3.62e+01, step: 3.26e+02\n",
      "charge_mse: 1.43e-02, charge_mae: 6.92e-02, loss: 6.92e-02, lr: 3.32e-04, epoch: 3.63e+01, step: 3.27e+02\n",
      "charge_mse: 1.94e-02, charge_mae: 3.75e-02, loss: 3.75e-02, lr: 3.32e-04, epoch: 3.64e+01, step: 3.28e+02\n",
      "charge_mse: 4.32e-03, charge_mae: 4.68e-02, loss: 4.68e-02, lr: 3.32e-04, epoch: 3.66e+01, step: 3.29e+02\n",
      "charge_mse: 5.34e-03, charge_mae: 6.11e-02, loss: 6.11e-02, lr: 3.32e-04, epoch: 3.67e+01, step: 3.30e+02\n",
      "charge_mse: 3.88e-03, charge_mae: 2.86e-02, loss: 2.86e-02, lr: 3.32e-04, epoch: 3.68e+01, step: 3.31e+02\n",
      "charge_mse: 5.61e-03, charge_mae: 5.96e-02, loss: 5.96e-02, lr: 3.32e-04, epoch: 3.69e+01, step: 3.32e+02\n",
      "charge_mse: 1.49e-02, charge_mae: 8.17e-02, loss: 8.17e-02, lr: 3.32e-04, epoch: 3.70e+01, step: 3.33e+02\n",
      "2022-07-06 16:05:49 (INFO): Evaluating on val.\n"
     ]
    },
    {
     "name": "stderr",
     "output_type": "stream",
     "text": [
      "device 0: 100%|██████████| 1/1 [00:11<00:00, 11.71s/it]"
     ]
    },
    {
     "name": "stdout",
     "output_type": "stream",
     "text": [
      "2022-07-06 16:06:01 (INFO): charge_mse: 0.0585, charge_mae: 0.0669, loss: 0.0668, epoch: 37.0000\n"
     ]
    },
    {
     "name": "stderr",
     "output_type": "stream",
     "text": [
      "\n"
     ]
    },
    {
     "name": "stdout",
     "output_type": "stream",
     "text": [
      "charge_mse: 2.76e-02, charge_mae: 5.31e-02, loss: 5.31e-02, lr: 3.32e-04, epoch: 3.71e+01, step: 3.34e+02\n",
      "charge_mse: 1.14e-02, charge_mae: 2.93e-02, loss: 2.93e-02, lr: 3.32e-04, epoch: 3.72e+01, step: 3.35e+02\n",
      "charge_mse: 1.28e-02, charge_mae: 3.13e-02, loss: 3.13e-02, lr: 3.32e-04, epoch: 3.73e+01, step: 3.36e+02\n",
      "charge_mse: 1.13e-02, charge_mae: 2.02e-02, loss: 2.02e-02, lr: 3.32e-04, epoch: 3.74e+01, step: 3.37e+02\n",
      "charge_mse: 6.83e-03, charge_mae: 2.16e-02, loss: 2.16e-02, lr: 3.32e-04, epoch: 3.76e+01, step: 3.38e+02\n",
      "charge_mse: 1.03e-02, charge_mae: 2.21e-02, loss: 2.21e-02, lr: 3.32e-04, epoch: 3.77e+01, step: 3.39e+02\n",
      "charge_mse: 2.99e-03, charge_mae: 1.89e-02, loss: 1.89e-02, lr: 3.32e-04, epoch: 3.78e+01, step: 3.40e+02\n",
      "charge_mse: 6.88e-03, charge_mae: 1.37e-02, loss: 1.37e-02, lr: 3.32e-04, epoch: 3.79e+01, step: 3.41e+02\n",
      "charge_mse: 6.97e-03, charge_mae: 3.05e-02, loss: 3.05e-02, lr: 3.32e-04, epoch: 3.80e+01, step: 3.42e+02\n",
      "2022-07-06 16:07:25 (INFO): Evaluating on val.\n"
     ]
    },
    {
     "name": "stderr",
     "output_type": "stream",
     "text": [
      "device 0: 100%|██████████| 1/1 [00:11<00:00, 11.80s/it]"
     ]
    },
    {
     "name": "stdout",
     "output_type": "stream",
     "text": [
      "2022-07-06 16:07:37 (INFO): charge_mse: 0.0643, charge_mae: 0.0360, loss: 0.0360, epoch: 38.0000\n"
     ]
    },
    {
     "name": "stderr",
     "output_type": "stream",
     "text": [
      "\n"
     ]
    },
    {
     "name": "stdout",
     "output_type": "stream",
     "text": [
      "charge_mse: 1.07e-02, charge_mae: 2.61e-02, loss: 2.61e-02, lr: 3.32e-04, epoch: 3.81e+01, step: 3.43e+02\n",
      "charge_mse: 1.98e-02, charge_mae: 3.76e-02, loss: 3.76e-02, lr: 3.32e-04, epoch: 3.82e+01, step: 3.44e+02\n",
      "charge_mse: 1.04e-02, charge_mae: 3.17e-02, loss: 3.17e-02, lr: 3.32e-04, epoch: 3.83e+01, step: 3.45e+02\n",
      "charge_mse: 1.73e-03, charge_mae: 3.26e-02, loss: 3.26e-02, lr: 3.32e-04, epoch: 3.84e+01, step: 3.46e+02\n",
      "charge_mse: 1.54e-02, charge_mae: 4.71e-02, loss: 4.71e-02, lr: 3.32e-04, epoch: 3.86e+01, step: 3.47e+02\n",
      "charge_mse: 1.78e-02, charge_mae: 1.67e-02, loss: 1.67e-02, lr: 3.32e-04, epoch: 3.87e+01, step: 3.48e+02\n",
      "charge_mse: 1.05e-02, charge_mae: 6.48e-02, loss: 6.48e-02, lr: 3.32e-04, epoch: 3.88e+01, step: 3.49e+02\n",
      "charge_mse: 1.01e-02, charge_mae: 7.31e-02, loss: 7.31e-02, lr: 3.32e-04, epoch: 3.89e+01, step: 3.50e+02\n",
      "charge_mse: 3.39e-03, charge_mae: 3.95e-02, loss: 3.95e-02, lr: 3.32e-04, epoch: 3.90e+01, step: 3.51e+02\n",
      "2022-07-06 16:09:00 (INFO): Evaluating on val.\n"
     ]
    },
    {
     "name": "stderr",
     "output_type": "stream",
     "text": [
      "device 0: 100%|██████████| 1/1 [00:11<00:00, 11.84s/it]"
     ]
    },
    {
     "name": "stdout",
     "output_type": "stream",
     "text": [
      "2022-07-06 16:09:12 (INFO): charge_mse: 0.0576, charge_mae: 0.0583, loss: 0.0583, epoch: 39.0000\n"
     ]
    },
    {
     "name": "stderr",
     "output_type": "stream",
     "text": [
      "\n"
     ]
    },
    {
     "name": "stdout",
     "output_type": "stream",
     "text": [
      "charge_mse: 1.18e-02, charge_mae: 4.91e-02, loss: 4.91e-02, lr: 3.32e-04, epoch: 3.91e+01, step: 3.52e+02\n",
      "charge_mse: 2.15e-02, charge_mae: 7.40e-02, loss: 7.40e-02, lr: 3.32e-04, epoch: 3.92e+01, step: 3.53e+02\n",
      "charge_mse: 3.62e-02, charge_mae: 4.84e-02, loss: 4.84e-02, lr: 3.32e-04, epoch: 3.93e+01, step: 3.54e+02\n",
      "charge_mse: 3.68e-03, charge_mae: 3.78e-02, loss: 3.78e-02, lr: 3.32e-04, epoch: 3.94e+01, step: 3.55e+02\n",
      "charge_mse: 3.57e-03, charge_mae: 5.63e-02, loss: 5.63e-02, lr: 3.32e-04, epoch: 3.96e+01, step: 3.56e+02\n",
      "charge_mse: 6.03e-03, charge_mae: 3.83e-02, loss: 3.83e-02, lr: 3.32e-04, epoch: 3.97e+01, step: 3.57e+02\n",
      "charge_mse: 1.69e-02, charge_mae: 4.93e-02, loss: 4.93e-02, lr: 3.32e-04, epoch: 3.98e+01, step: 3.58e+02\n",
      "charge_mse: 1.14e-02, charge_mae: 6.04e-02, loss: 6.04e-02, lr: 3.32e-04, epoch: 3.99e+01, step: 3.59e+02\n",
      "charge_mse: 2.15e-03, charge_mae: 2.64e-02, loss: 2.64e-02, lr: 3.32e-04, epoch: 4.00e+01, step: 3.60e+02\n",
      "2022-07-06 16:10:32 (INFO): Evaluating on val.\n"
     ]
    },
    {
     "name": "stderr",
     "output_type": "stream",
     "text": [
      "device 0: 100%|██████████| 1/1 [00:12<00:00, 12.18s/it]"
     ]
    },
    {
     "name": "stdout",
     "output_type": "stream",
     "text": [
      "2022-07-06 16:10:44 (INFO): charge_mse: 0.0392, charge_mae: 0.0690, loss: 0.0690, epoch: 40.0000\n"
     ]
    },
    {
     "name": "stderr",
     "output_type": "stream",
     "text": [
      "\n"
     ]
    },
    {
     "name": "stdout",
     "output_type": "stream",
     "text": [
      "charge_mse: 6.50e-03, charge_mae: 5.28e-02, loss: 5.28e-02, lr: 3.19e-04, epoch: 4.01e+01, step: 3.61e+02\n",
      "charge_mse: 6.47e-03, charge_mae: 6.98e-02, loss: 6.98e-02, lr: 3.19e-04, epoch: 4.02e+01, step: 3.62e+02\n",
      "charge_mse: 8.37e-03, charge_mae: 5.25e-02, loss: 5.25e-02, lr: 3.19e-04, epoch: 4.03e+01, step: 3.63e+02\n",
      "charge_mse: 2.14e-03, charge_mae: 2.69e-02, loss: 2.69e-02, lr: 3.19e-04, epoch: 4.04e+01, step: 3.64e+02\n",
      "charge_mse: 4.47e-02, charge_mae: 4.88e-02, loss: 4.88e-02, lr: 3.19e-04, epoch: 4.06e+01, step: 3.65e+02\n",
      "charge_mse: 3.55e-02, charge_mae: 2.24e-02, loss: 2.24e-02, lr: 3.19e-04, epoch: 4.07e+01, step: 3.66e+02\n",
      "charge_mse: 5.79e-03, charge_mae: 5.49e-02, loss: 5.49e-02, lr: 3.19e-04, epoch: 4.08e+01, step: 3.67e+02\n",
      "charge_mse: 4.85e-03, charge_mae: 6.23e-02, loss: 6.23e-02, lr: 3.19e-04, epoch: 4.09e+01, step: 3.68e+02\n",
      "charge_mse: 5.78e-03, charge_mae: 3.37e-02, loss: 3.37e-02, lr: 3.19e-04, epoch: 4.10e+01, step: 3.69e+02\n",
      "2022-07-06 16:12:12 (INFO): Evaluating on val.\n"
     ]
    },
    {
     "name": "stderr",
     "output_type": "stream",
     "text": [
      "device 0: 100%|██████████| 1/1 [00:11<00:00, 11.93s/it]"
     ]
    },
    {
     "name": "stdout",
     "output_type": "stream",
     "text": [
      "2022-07-06 16:12:24 (INFO): charge_mse: 0.0703, charge_mae: 0.0535, loss: 0.0536, epoch: 41.0000\n"
     ]
    },
    {
     "name": "stderr",
     "output_type": "stream",
     "text": [
      "\n"
     ]
    },
    {
     "name": "stdout",
     "output_type": "stream",
     "text": [
      "charge_mse: 3.25e-03, charge_mae: 4.01e-02, loss: 4.01e-02, lr: 3.19e-04, epoch: 4.11e+01, step: 3.70e+02\n",
      "charge_mse: 3.61e-03, charge_mae: 5.25e-02, loss: 5.25e-02, lr: 3.19e-04, epoch: 4.12e+01, step: 3.71e+02\n",
      "charge_mse: 1.26e-02, charge_mae: 2.86e-02, loss: 2.86e-02, lr: 3.19e-04, epoch: 4.13e+01, step: 3.72e+02\n",
      "charge_mse: 2.19e-02, charge_mae: 5.33e-02, loss: 5.33e-02, lr: 3.19e-04, epoch: 4.14e+01, step: 3.73e+02\n",
      "charge_mse: 6.15e-03, charge_mae: 6.16e-02, loss: 6.16e-02, lr: 3.19e-04, epoch: 4.16e+01, step: 3.74e+02\n",
      "charge_mse: 2.92e-03, charge_mae: 3.92e-02, loss: 3.92e-02, lr: 3.19e-04, epoch: 4.17e+01, step: 3.75e+02\n",
      "charge_mse: 3.34e-03, charge_mae: 3.56e-02, loss: 3.56e-02, lr: 3.19e-04, epoch: 4.18e+01, step: 3.76e+02\n",
      "charge_mse: 3.62e-03, charge_mae: 5.09e-02, loss: 5.09e-02, lr: 3.19e-04, epoch: 4.19e+01, step: 3.77e+02\n",
      "charge_mse: 1.17e-02, charge_mae: 2.57e-02, loss: 2.57e-02, lr: 3.19e-04, epoch: 4.20e+01, step: 3.78e+02\n",
      "2022-07-06 16:13:48 (INFO): Evaluating on val.\n"
     ]
    },
    {
     "name": "stderr",
     "output_type": "stream",
     "text": [
      "device 0: 100%|██████████| 1/1 [00:11<00:00, 11.83s/it]"
     ]
    },
    {
     "name": "stdout",
     "output_type": "stream",
     "text": [
      "2022-07-06 16:14:00 (INFO): charge_mse: 0.0577, charge_mae: 0.0652, loss: 0.0652, epoch: 42.0000\n"
     ]
    },
    {
     "name": "stderr",
     "output_type": "stream",
     "text": [
      "\n"
     ]
    },
    {
     "name": "stdout",
     "output_type": "stream",
     "text": [
      "charge_mse: 4.94e-03, charge_mae: 5.52e-02, loss: 5.52e-02, lr: 3.06e-04, epoch: 4.21e+01, step: 3.79e+02\n",
      "charge_mse: 5.39e-03, charge_mae: 6.73e-02, loss: 6.73e-02, lr: 3.06e-04, epoch: 4.22e+01, step: 3.80e+02\n",
      "charge_mse: 9.40e-03, charge_mae: 4.35e-02, loss: 4.35e-02, lr: 3.06e-04, epoch: 4.23e+01, step: 3.81e+02\n",
      "charge_mse: 6.75e-03, charge_mae: 3.23e-02, loss: 3.23e-02, lr: 3.06e-04, epoch: 4.24e+01, step: 3.82e+02\n",
      "charge_mse: 1.80e-03, charge_mae: 3.35e-02, loss: 3.35e-02, lr: 3.06e-04, epoch: 4.26e+01, step: 3.83e+02\n",
      "charge_mse: 1.69e-02, charge_mae: 1.84e-02, loss: 1.84e-02, lr: 3.06e-04, epoch: 4.27e+01, step: 3.84e+02\n",
      "charge_mse: 7.20e-03, charge_mae: 1.77e-02, loss: 1.77e-02, lr: 3.06e-04, epoch: 4.28e+01, step: 3.85e+02\n",
      "charge_mse: 6.52e-03, charge_mae: 1.49e-02, loss: 1.49e-02, lr: 3.06e-04, epoch: 4.29e+01, step: 3.86e+02\n",
      "charge_mse: 7.79e-03, charge_mae: 1.92e-02, loss: 1.92e-02, lr: 3.06e-04, epoch: 4.30e+01, step: 3.87e+02\n",
      "2022-07-06 16:15:21 (INFO): Evaluating on val.\n"
     ]
    },
    {
     "name": "stderr",
     "output_type": "stream",
     "text": [
      "device 0: 100%|██████████| 1/1 [00:11<00:00, 11.64s/it]"
     ]
    },
    {
     "name": "stdout",
     "output_type": "stream",
     "text": [
      "2022-07-06 16:15:33 (INFO): charge_mse: 0.0564, charge_mae: 0.0351, loss: 0.0351, epoch: 43.0000\n"
     ]
    },
    {
     "name": "stderr",
     "output_type": "stream",
     "text": [
      "\n"
     ]
    },
    {
     "name": "stdout",
     "output_type": "stream",
     "text": [
      "charge_mse: 1.42e-02, charge_mae: 2.51e-02, loss: 2.51e-02, lr: 3.06e-04, epoch: 4.31e+01, step: 3.88e+02\n",
      "charge_mse: 1.29e-02, charge_mae: 1.47e-02, loss: 1.47e-02, lr: 3.06e-04, epoch: 4.32e+01, step: 3.89e+02\n",
      "charge_mse: 4.19e-03, charge_mae: 4.02e-02, loss: 4.02e-02, lr: 3.06e-04, epoch: 4.33e+01, step: 3.90e+02\n",
      "charge_mse: 4.77e-03, charge_mae: 3.15e-02, loss: 3.15e-02, lr: 3.06e-04, epoch: 4.34e+01, step: 3.91e+02\n",
      "charge_mse: 5.98e-03, charge_mae: 2.48e-02, loss: 2.48e-02, lr: 3.06e-04, epoch: 4.36e+01, step: 3.92e+02\n",
      "charge_mse: 1.25e-03, charge_mae: 2.33e-02, loss: 2.33e-02, lr: 3.06e-04, epoch: 4.37e+01, step: 3.93e+02\n",
      "charge_mse: 1.26e-03, charge_mae: 2.30e-02, loss: 2.30e-02, lr: 3.06e-04, epoch: 4.38e+01, step: 3.94e+02\n",
      "charge_mse: 6.09e-03, charge_mae: 2.48e-02, loss: 2.48e-02, lr: 3.06e-04, epoch: 4.39e+01, step: 3.95e+02\n",
      "charge_mse: 3.00e-03, charge_mae: 1.84e-02, loss: 1.84e-02, lr: 3.06e-04, epoch: 4.40e+01, step: 3.96e+02\n",
      "2022-07-06 16:16:53 (INFO): Evaluating on val.\n"
     ]
    },
    {
     "name": "stderr",
     "output_type": "stream",
     "text": [
      "device 0: 100%|██████████| 1/1 [00:11<00:00, 11.75s/it]"
     ]
    },
    {
     "name": "stdout",
     "output_type": "stream",
     "text": [
      "2022-07-06 16:17:05 (INFO): charge_mse: 0.0497, charge_mae: 0.0293, loss: 0.0293, epoch: 44.0000\n"
     ]
    },
    {
     "name": "stderr",
     "output_type": "stream",
     "text": [
      "\n"
     ]
    },
    {
     "name": "stdout",
     "output_type": "stream",
     "text": [
      "charge_mse: 3.08e-03, charge_mae: 1.23e-02, loss: 1.23e-02, lr: 3.06e-04, epoch: 4.41e+01, step: 3.97e+02\n",
      "charge_mse: 1.77e-03, charge_mae: 3.42e-02, loss: 3.42e-02, lr: 3.06e-04, epoch: 4.42e+01, step: 3.98e+02\n",
      "charge_mse: 4.31e-03, charge_mae: 3.03e-02, loss: 3.03e-02, lr: 3.06e-04, epoch: 4.43e+01, step: 3.99e+02\n",
      "charge_mse: 1.56e-03, charge_mae: 2.49e-02, loss: 2.49e-02, lr: 3.06e-04, epoch: 4.44e+01, step: 4.00e+02\n",
      "charge_mse: 2.86e-02, charge_mae: 3.08e-02, loss: 3.08e-02, lr: 3.06e-04, epoch: 4.46e+01, step: 4.01e+02\n",
      "charge_mse: 9.24e-03, charge_mae: 2.11e-02, loss: 2.11e-02, lr: 3.06e-04, epoch: 4.47e+01, step: 4.02e+02\n",
      "charge_mse: 2.79e-03, charge_mae: 2.18e-02, loss: 2.18e-02, lr: 3.06e-04, epoch: 4.48e+01, step: 4.03e+02\n",
      "charge_mse: 3.09e-03, charge_mae: 2.26e-02, loss: 2.26e-02, lr: 3.06e-04, epoch: 4.49e+01, step: 4.04e+02\n",
      "charge_mse: 1.90e-03, charge_mae: 1.81e-02, loss: 1.81e-02, lr: 3.06e-04, epoch: 4.50e+01, step: 4.05e+02\n",
      "2022-07-06 16:18:27 (INFO): Evaluating on val.\n"
     ]
    },
    {
     "name": "stderr",
     "output_type": "stream",
     "text": [
      "device 0: 100%|██████████| 1/1 [00:11<00:00, 11.66s/it]"
     ]
    },
    {
     "name": "stdout",
     "output_type": "stream",
     "text": [
      "2022-07-06 16:18:39 (INFO): charge_mse: 0.0724, charge_mae: 0.0461, loss: 0.0461, epoch: 45.0000\n"
     ]
    },
    {
     "name": "stderr",
     "output_type": "stream",
     "text": [
      "\n"
     ]
    },
    {
     "name": "stdout",
     "output_type": "stream",
     "text": [
      "charge_mse: 2.27e-03, charge_mae: 3.19e-02, loss: 3.19e-02, lr: 3.06e-04, epoch: 4.51e+01, step: 4.06e+02\n",
      "charge_mse: 1.59e-02, charge_mae: 2.56e-02, loss: 2.56e-02, lr: 3.06e-04, epoch: 4.52e+01, step: 4.07e+02\n",
      "charge_mse: 2.92e-03, charge_mae: 2.92e-02, loss: 2.92e-02, lr: 3.06e-04, epoch: 4.53e+01, step: 4.08e+02\n",
      "charge_mse: 7.03e-03, charge_mae: 3.52e-02, loss: 3.52e-02, lr: 3.06e-04, epoch: 4.54e+01, step: 4.09e+02\n",
      "charge_mse: 4.76e-04, charge_mae: 1.11e-02, loss: 1.11e-02, lr: 3.06e-04, epoch: 4.56e+01, step: 4.10e+02\n",
      "charge_mse: 1.64e-03, charge_mae: 1.75e-02, loss: 1.75e-02, lr: 3.06e-04, epoch: 4.57e+01, step: 4.11e+02\n",
      "charge_mse: 3.48e-03, charge_mae: 2.80e-02, loss: 2.80e-02, lr: 3.06e-04, epoch: 4.58e+01, step: 4.12e+02\n",
      "charge_mse: 7.40e-04, charge_mae: 2.00e-02, loss: 2.00e-02, lr: 3.06e-04, epoch: 4.59e+01, step: 4.13e+02\n",
      "charge_mse: 3.09e-03, charge_mae: 2.73e-02, loss: 2.73e-02, lr: 3.06e-04, epoch: 4.60e+01, step: 4.14e+02\n",
      "2022-07-06 16:20:06 (INFO): Evaluating on val.\n"
     ]
    },
    {
     "name": "stderr",
     "output_type": "stream",
     "text": [
      "device 0: 100%|██████████| 1/1 [00:11<00:00, 12.00s/it]"
     ]
    },
    {
     "name": "stdout",
     "output_type": "stream",
     "text": [
      "2022-07-06 16:20:18 (INFO): charge_mse: 0.0552, charge_mae: 0.0421, loss: 0.0421, epoch: 46.0000\n"
     ]
    },
    {
     "name": "stderr",
     "output_type": "stream",
     "text": [
      "\n"
     ]
    },
    {
     "name": "stdout",
     "output_type": "stream",
     "text": [
      "charge_mse: 1.32e-02, charge_mae: 2.68e-02, loss: 2.68e-02, lr: 2.94e-04, epoch: 4.61e+01, step: 4.15e+02\n",
      "charge_mse: 1.03e-03, charge_mae: 2.13e-02, loss: 2.13e-02, lr: 2.94e-04, epoch: 4.62e+01, step: 4.16e+02\n",
      "charge_mse: 5.12e-03, charge_mae: 2.00e-02, loss: 2.00e-02, lr: 2.94e-04, epoch: 4.63e+01, step: 4.17e+02\n",
      "charge_mse: 4.34e-03, charge_mae: 2.99e-02, loss: 2.99e-02, lr: 2.94e-04, epoch: 4.64e+01, step: 4.18e+02\n",
      "charge_mse: 2.87e-03, charge_mae: 2.79e-02, loss: 2.79e-02, lr: 2.94e-04, epoch: 4.66e+01, step: 4.19e+02\n",
      "charge_mse: 1.20e-02, charge_mae: 2.20e-02, loss: 2.20e-02, lr: 2.94e-04, epoch: 4.67e+01, step: 4.20e+02\n",
      "charge_mse: 3.63e-03, charge_mae: 1.41e-02, loss: 1.41e-02, lr: 2.94e-04, epoch: 4.68e+01, step: 4.21e+02\n",
      "charge_mse: 3.31e-03, charge_mae: 3.65e-02, loss: 3.65e-02, lr: 2.94e-04, epoch: 4.69e+01, step: 4.22e+02\n",
      "charge_mse: 9.23e-03, charge_mae: 3.78e-02, loss: 3.78e-02, lr: 2.94e-04, epoch: 4.70e+01, step: 4.23e+02\n",
      "2022-07-06 16:21:43 (INFO): Evaluating on val.\n"
     ]
    },
    {
     "name": "stderr",
     "output_type": "stream",
     "text": [
      "device 0: 100%|██████████| 1/1 [00:11<00:00, 11.91s/it]"
     ]
    },
    {
     "name": "stdout",
     "output_type": "stream",
     "text": [
      "2022-07-06 16:21:55 (INFO): charge_mse: 0.0349, charge_mae: 0.0209, loss: 0.0209, epoch: 47.0000\n"
     ]
    },
    {
     "name": "stderr",
     "output_type": "stream",
     "text": [
      "\n"
     ]
    },
    {
     "name": "stdout",
     "output_type": "stream",
     "text": [
      "charge_mse: 5.55e-03, charge_mae: 1.27e-02, loss: 1.27e-02, lr: 2.94e-04, epoch: 4.71e+01, step: 4.24e+02\n",
      "charge_mse: 2.92e-03, charge_mae: 4.61e-02, loss: 4.61e-02, lr: 2.94e-04, epoch: 4.72e+01, step: 4.25e+02\n",
      "charge_mse: 2.01e-03, charge_mae: 3.86e-02, loss: 3.86e-02, lr: 2.94e-04, epoch: 4.73e+01, step: 4.26e+02\n",
      "charge_mse: 3.26e-02, charge_mae: 1.84e-02, loss: 1.84e-02, lr: 2.94e-04, epoch: 4.74e+01, step: 4.27e+02\n",
      "charge_mse: 6.85e-03, charge_mae: 2.32e-02, loss: 2.32e-02, lr: 2.94e-04, epoch: 4.76e+01, step: 4.28e+02\n",
      "charge_mse: 2.35e-03, charge_mae: 2.25e-02, loss: 2.25e-02, lr: 2.94e-04, epoch: 4.77e+01, step: 4.29e+02\n",
      "charge_mse: 1.80e-03, charge_mae: 1.94e-02, loss: 1.94e-02, lr: 2.94e-04, epoch: 4.78e+01, step: 4.30e+02\n",
      "charge_mse: 1.74e-03, charge_mae: 2.18e-02, loss: 2.18e-02, lr: 2.94e-04, epoch: 4.79e+01, step: 4.31e+02\n",
      "charge_mse: 1.04e-03, charge_mae: 1.29e-02, loss: 1.29e-02, lr: 2.94e-04, epoch: 4.80e+01, step: 4.32e+02\n",
      "2022-07-06 16:23:21 (INFO): Evaluating on val.\n"
     ]
    },
    {
     "name": "stderr",
     "output_type": "stream",
     "text": [
      "device 0: 100%|██████████| 1/1 [00:11<00:00, 11.50s/it]"
     ]
    },
    {
     "name": "stdout",
     "output_type": "stream",
     "text": [
      "2022-07-06 16:23:32 (INFO): charge_mse: 0.0637, charge_mae: 0.0478, loss: 0.0478, epoch: 48.0000\n"
     ]
    },
    {
     "name": "stderr",
     "output_type": "stream",
     "text": [
      "\n"
     ]
    },
    {
     "name": "stdout",
     "output_type": "stream",
     "text": [
      "charge_mse: 3.54e-03, charge_mae: 3.21e-02, loss: 3.21e-02, lr: 2.94e-04, epoch: 4.81e+01, step: 4.33e+02\n",
      "charge_mse: 1.30e-03, charge_mae: 2.79e-02, loss: 2.79e-02, lr: 2.94e-04, epoch: 4.82e+01, step: 4.34e+02\n",
      "charge_mse: 1.82e-03, charge_mae: 2.32e-02, loss: 2.32e-02, lr: 2.94e-04, epoch: 4.83e+01, step: 4.35e+02\n",
      "charge_mse: 4.04e-03, charge_mae: 2.63e-02, loss: 2.63e-02, lr: 2.94e-04, epoch: 4.84e+01, step: 4.36e+02\n",
      "charge_mse: 1.85e-03, charge_mae: 1.58e-02, loss: 1.58e-02, lr: 2.94e-04, epoch: 4.86e+01, step: 4.37e+02\n",
      "charge_mse: 2.26e-03, charge_mae: 1.30e-02, loss: 1.30e-02, lr: 2.94e-04, epoch: 4.87e+01, step: 4.38e+02\n",
      "charge_mse: 9.85e-03, charge_mae: 2.93e-02, loss: 2.93e-02, lr: 2.94e-04, epoch: 4.88e+01, step: 4.39e+02\n",
      "charge_mse: 3.06e-03, charge_mae: 2.60e-02, loss: 2.60e-02, lr: 2.94e-04, epoch: 4.89e+01, step: 4.40e+02\n",
      "charge_mse: 1.48e-03, charge_mae: 2.37e-02, loss: 2.37e-02, lr: 2.94e-04, epoch: 4.90e+01, step: 4.41e+02\n",
      "2022-07-06 16:24:59 (INFO): Evaluating on val.\n"
     ]
    },
    {
     "name": "stderr",
     "output_type": "stream",
     "text": [
      "device 0: 100%|██████████| 1/1 [00:11<00:00, 11.69s/it]"
     ]
    },
    {
     "name": "stdout",
     "output_type": "stream",
     "text": [
      "2022-07-06 16:25:11 (INFO): charge_mse: 0.0508, charge_mae: 0.0357, loss: 0.0357, epoch: 49.0000\n"
     ]
    },
    {
     "name": "stderr",
     "output_type": "stream",
     "text": [
      "\n"
     ]
    },
    {
     "name": "stdout",
     "output_type": "stream",
     "text": [
      "charge_mse: 5.10e-03, charge_mae: 2.32e-02, loss: 2.32e-02, lr: 2.82e-04, epoch: 4.91e+01, step: 4.42e+02\n",
      "charge_mse: 6.00e-03, charge_mae: 2.55e-02, loss: 2.55e-02, lr: 2.82e-04, epoch: 4.92e+01, step: 4.43e+02\n",
      "charge_mse: 1.92e-03, charge_mae: 2.03e-02, loss: 2.03e-02, lr: 2.82e-04, epoch: 4.93e+01, step: 4.44e+02\n",
      "charge_mse: 2.38e-03, charge_mae: 2.16e-02, loss: 2.16e-02, lr: 2.82e-04, epoch: 4.94e+01, step: 4.45e+02\n",
      "charge_mse: 3.71e-03, charge_mae: 2.12e-02, loss: 2.12e-02, lr: 2.82e-04, epoch: 4.96e+01, step: 4.46e+02\n",
      "charge_mse: 2.34e-03, charge_mae: 2.35e-02, loss: 2.35e-02, lr: 2.82e-04, epoch: 4.97e+01, step: 4.47e+02\n",
      "charge_mse: 1.30e-03, charge_mae: 1.61e-02, loss: 1.61e-02, lr: 2.82e-04, epoch: 4.98e+01, step: 4.48e+02\n",
      "charge_mse: 5.29e-03, charge_mae: 2.94e-02, loss: 2.94e-02, lr: 2.82e-04, epoch: 4.99e+01, step: 4.49e+02\n",
      "charge_mse: 1.59e-02, charge_mae: 2.72e-02, loss: 2.72e-02, lr: 2.82e-04, epoch: 5.00e+01, step: 4.50e+02\n",
      "2022-07-06 16:26:42 (INFO): Evaluating on val.\n"
     ]
    },
    {
     "name": "stderr",
     "output_type": "stream",
     "text": [
      "device 0: 100%|██████████| 1/1 [00:11<00:00, 11.76s/it]"
     ]
    },
    {
     "name": "stdout",
     "output_type": "stream",
     "text": [
      "2022-07-06 16:26:54 (INFO): charge_mse: 0.0379, charge_mae: 0.0340, loss: 0.0340, epoch: 50.0000\n"
     ]
    },
    {
     "name": "stderr",
     "output_type": "stream",
     "text": [
      "\n"
     ]
    },
    {
     "name": "stdout",
     "output_type": "stream",
     "text": [
      "charge_mse: 1.30e-02, charge_mae: 2.45e-02, loss: 2.45e-02, lr: 2.82e-04, epoch: 5.01e+01, step: 4.51e+02\n",
      "charge_mse: 4.37e-03, charge_mae: 2.46e-02, loss: 2.46e-02, lr: 2.82e-04, epoch: 5.02e+01, step: 4.52e+02\n",
      "charge_mse: 1.82e-03, charge_mae: 1.86e-02, loss: 1.86e-02, lr: 2.82e-04, epoch: 5.03e+01, step: 4.53e+02\n",
      "charge_mse: 2.20e-03, charge_mae: 1.83e-02, loss: 1.83e-02, lr: 2.82e-04, epoch: 5.04e+01, step: 4.54e+02\n",
      "charge_mse: 2.69e-03, charge_mae: 2.50e-02, loss: 2.50e-02, lr: 2.82e-04, epoch: 5.06e+01, step: 4.55e+02\n",
      "charge_mse: 1.87e-03, charge_mae: 2.32e-02, loss: 2.32e-02, lr: 2.82e-04, epoch: 5.07e+01, step: 4.56e+02\n",
      "charge_mse: 1.24e-02, charge_mae: 2.18e-02, loss: 2.18e-02, lr: 2.82e-04, epoch: 5.08e+01, step: 4.57e+02\n",
      "charge_mse: 6.93e-03, charge_mae: 2.36e-02, loss: 2.36e-02, lr: 2.82e-04, epoch: 5.09e+01, step: 4.58e+02\n",
      "charge_mse: 1.44e-03, charge_mae: 2.21e-02, loss: 2.21e-02, lr: 2.82e-04, epoch: 5.10e+01, step: 4.59e+02\n",
      "2022-07-06 16:28:23 (INFO): Evaluating on val.\n"
     ]
    },
    {
     "name": "stderr",
     "output_type": "stream",
     "text": [
      "device 0: 100%|██████████| 1/1 [00:11<00:00, 11.45s/it]"
     ]
    },
    {
     "name": "stdout",
     "output_type": "stream",
     "text": [
      "2022-07-06 16:28:35 (INFO): charge_mse: 0.0440, charge_mae: 0.0340, loss: 0.0339, epoch: 51.0000\n"
     ]
    },
    {
     "name": "stderr",
     "output_type": "stream",
     "text": [
      "\n"
     ]
    },
    {
     "name": "stdout",
     "output_type": "stream",
     "text": [
      "charge_mse: 1.31e-03, charge_mae: 1.92e-02, loss: 1.92e-02, lr: 2.71e-04, epoch: 5.11e+01, step: 4.60e+02\n",
      "charge_mse: 1.62e-02, charge_mae: 2.09e-02, loss: 2.09e-02, lr: 2.71e-04, epoch: 5.12e+01, step: 4.61e+02\n",
      "charge_mse: 1.55e-02, charge_mae: 2.19e-02, loss: 2.19e-02, lr: 2.71e-04, epoch: 5.13e+01, step: 4.62e+02\n",
      "charge_mse: 9.56e-03, charge_mae: 2.79e-02, loss: 2.79e-02, lr: 2.71e-04, epoch: 5.14e+01, step: 4.63e+02\n",
      "charge_mse: 1.29e-03, charge_mae: 2.49e-02, loss: 2.49e-02, lr: 2.71e-04, epoch: 5.16e+01, step: 4.64e+02\n",
      "charge_mse: 2.09e-03, charge_mae: 1.76e-02, loss: 1.76e-02, lr: 2.71e-04, epoch: 5.17e+01, step: 4.65e+02\n",
      "charge_mse: 1.67e-03, charge_mae: 1.55e-02, loss: 1.55e-02, lr: 2.71e-04, epoch: 5.18e+01, step: 4.66e+02\n",
      "charge_mse: 1.90e-03, charge_mae: 2.54e-02, loss: 2.54e-02, lr: 2.71e-04, epoch: 5.19e+01, step: 4.67e+02\n",
      "charge_mse: 1.14e-03, charge_mae: 2.20e-02, loss: 2.20e-02, lr: 2.71e-04, epoch: 5.20e+01, step: 4.68e+02\n",
      "2022-07-06 16:29:56 (INFO): Evaluating on val.\n"
     ]
    },
    {
     "name": "stderr",
     "output_type": "stream",
     "text": [
      "device 0: 100%|██████████| 1/1 [00:14<00:00, 14.05s/it]"
     ]
    },
    {
     "name": "stdout",
     "output_type": "stream",
     "text": [
      "2022-07-06 16:30:10 (INFO): charge_mse: 0.0416, charge_mae: 0.0352, loss: 0.0352, epoch: 52.0000\n"
     ]
    },
    {
     "name": "stderr",
     "output_type": "stream",
     "text": [
      "\n"
     ]
    },
    {
     "name": "stdout",
     "output_type": "stream",
     "text": [
      "charge_mse: 4.25e-03, charge_mae: 2.23e-02, loss: 2.23e-02, lr: 2.71e-04, epoch: 5.21e+01, step: 4.69e+02\n",
      "charge_mse: 4.23e-03, charge_mae: 2.49e-02, loss: 2.49e-02, lr: 2.71e-04, epoch: 5.22e+01, step: 4.70e+02\n",
      "charge_mse: 8.08e-04, charge_mae: 1.77e-02, loss: 1.77e-02, lr: 2.71e-04, epoch: 5.23e+01, step: 4.71e+02\n",
      "charge_mse: 2.48e-03, charge_mae: 1.91e-02, loss: 1.91e-02, lr: 2.71e-04, epoch: 5.24e+01, step: 4.72e+02\n",
      "charge_mse: 1.04e-03, charge_mae: 2.17e-02, loss: 2.17e-02, lr: 2.71e-04, epoch: 5.26e+01, step: 4.73e+02\n",
      "charge_mse: 6.76e-03, charge_mae: 2.18e-02, loss: 2.18e-02, lr: 2.71e-04, epoch: 5.27e+01, step: 4.74e+02\n",
      "charge_mse: 2.21e-03, charge_mae: 2.14e-02, loss: 2.14e-02, lr: 2.71e-04, epoch: 5.28e+01, step: 4.75e+02\n",
      "charge_mse: 3.04e-03, charge_mae: 1.60e-02, loss: 1.60e-02, lr: 2.71e-04, epoch: 5.29e+01, step: 4.76e+02\n",
      "charge_mse: 2.49e-03, charge_mae: 2.37e-02, loss: 2.37e-02, lr: 2.71e-04, epoch: 5.30e+01, step: 4.77e+02\n",
      "2022-07-06 16:31:30 (INFO): Evaluating on val.\n"
     ]
    },
    {
     "name": "stderr",
     "output_type": "stream",
     "text": [
      "device 0: 100%|██████████| 1/1 [00:11<00:00, 11.74s/it]"
     ]
    },
    {
     "name": "stdout",
     "output_type": "stream",
     "text": [
      "2022-07-06 16:31:41 (INFO): charge_mse: 0.0325, charge_mae: 0.0306, loss: 0.0306, epoch: 53.0000\n"
     ]
    },
    {
     "name": "stderr",
     "output_type": "stream",
     "text": [
      "\n"
     ]
    },
    {
     "name": "stdout",
     "output_type": "stream",
     "text": [
      "charge_mse: 3.15e-03, charge_mae: 2.23e-02, loss: 2.23e-02, lr: 2.60e-04, epoch: 5.31e+01, step: 4.78e+02\n",
      "charge_mse: 2.33e-02, charge_mae: 2.25e-02, loss: 2.25e-02, lr: 2.60e-04, epoch: 5.32e+01, step: 4.79e+02\n",
      "charge_mse: 9.57e-04, charge_mae: 1.92e-02, loss: 1.92e-02, lr: 2.60e-04, epoch: 5.33e+01, step: 4.80e+02\n",
      "charge_mse: 9.13e-03, charge_mae: 2.34e-02, loss: 2.34e-02, lr: 2.60e-04, epoch: 5.34e+01, step: 4.81e+02\n",
      "charge_mse: 4.48e-03, charge_mae: 2.38e-02, loss: 2.38e-02, lr: 2.60e-04, epoch: 5.36e+01, step: 4.82e+02\n",
      "charge_mse: 2.72e-02, charge_mae: 1.97e-02, loss: 1.97e-02, lr: 2.60e-04, epoch: 5.37e+01, step: 4.83e+02\n",
      "charge_mse: 4.69e-04, charge_mae: 1.51e-02, loss: 1.51e-02, lr: 2.60e-04, epoch: 5.38e+01, step: 4.84e+02\n",
      "charge_mse: 3.52e-03, charge_mae: 2.08e-02, loss: 2.08e-02, lr: 2.60e-04, epoch: 5.39e+01, step: 4.85e+02\n",
      "charge_mse: 5.70e-03, charge_mae: 1.81e-02, loss: 1.81e-02, lr: 2.60e-04, epoch: 5.40e+01, step: 4.86e+02\n",
      "2022-07-06 16:33:04 (INFO): Evaluating on val.\n"
     ]
    },
    {
     "name": "stderr",
     "output_type": "stream",
     "text": [
      "device 0: 100%|██████████| 1/1 [00:11<00:00, 11.55s/it]"
     ]
    },
    {
     "name": "stdout",
     "output_type": "stream",
     "text": [
      "2022-07-06 16:33:15 (INFO): charge_mse: 0.0418, charge_mae: 0.0335, loss: 0.0335, epoch: 54.0000\n"
     ]
    },
    {
     "name": "stderr",
     "output_type": "stream",
     "text": [
      "\n"
     ]
    },
    {
     "name": "stdout",
     "output_type": "stream",
     "text": [
      "charge_mse: 4.12e-03, charge_mae: 2.45e-02, loss: 2.45e-02, lr: 2.60e-04, epoch: 5.41e+01, step: 4.87e+02\n",
      "charge_mse: 6.96e-04, charge_mae: 1.71e-02, loss: 1.71e-02, lr: 2.60e-04, epoch: 5.42e+01, step: 4.88e+02\n",
      "charge_mse: 1.06e-02, charge_mae: 2.39e-02, loss: 2.39e-02, lr: 2.60e-04, epoch: 5.43e+01, step: 4.89e+02\n",
      "charge_mse: 1.02e-03, charge_mae: 2.19e-02, loss: 2.19e-02, lr: 2.60e-04, epoch: 5.44e+01, step: 4.90e+02\n",
      "charge_mse: 1.25e-03, charge_mae: 1.68e-02, loss: 1.68e-02, lr: 2.60e-04, epoch: 5.46e+01, step: 4.91e+02\n",
      "charge_mse: 3.70e-02, charge_mae: 2.12e-02, loss: 2.12e-02, lr: 2.60e-04, epoch: 5.47e+01, step: 4.92e+02\n",
      "charge_mse: 2.84e-03, charge_mae: 2.21e-02, loss: 2.21e-02, lr: 2.60e-04, epoch: 5.48e+01, step: 4.93e+02\n",
      "charge_mse: 6.80e-04, charge_mae: 1.61e-02, loss: 1.61e-02, lr: 2.60e-04, epoch: 5.49e+01, step: 4.94e+02\n",
      "charge_mse: 4.61e-03, charge_mae: 2.46e-02, loss: 2.46e-02, lr: 2.60e-04, epoch: 5.50e+01, step: 4.95e+02\n",
      "2022-07-06 16:34:38 (INFO): Evaluating on val.\n"
     ]
    },
    {
     "name": "stderr",
     "output_type": "stream",
     "text": [
      "device 0: 100%|██████████| 1/1 [00:11<00:00, 11.21s/it]"
     ]
    },
    {
     "name": "stdout",
     "output_type": "stream",
     "text": [
      "2022-07-06 16:34:49 (INFO): charge_mse: 0.0243, charge_mae: 0.0339, loss: 0.0339, epoch: 55.0000\n"
     ]
    },
    {
     "name": "stderr",
     "output_type": "stream",
     "text": [
      "\n"
     ]
    },
    {
     "name": "stdout",
     "output_type": "stream",
     "text": [
      "charge_mse: 4.60e-03, charge_mae: 2.49e-02, loss: 2.49e-02, lr: 2.50e-04, epoch: 5.51e+01, step: 4.96e+02\n",
      "charge_mse: 1.51e-03, charge_mae: 1.36e-02, loss: 1.36e-02, lr: 2.50e-04, epoch: 5.52e+01, step: 4.97e+02\n",
      "charge_mse: 7.95e-04, charge_mae: 1.46e-02, loss: 1.46e-02, lr: 2.50e-04, epoch: 5.53e+01, step: 4.98e+02\n",
      "charge_mse: 3.26e-03, charge_mae: 2.40e-02, loss: 2.40e-02, lr: 2.50e-04, epoch: 5.54e+01, step: 4.99e+02\n",
      "charge_mse: 1.95e-03, charge_mae: 2.05e-02, loss: 2.05e-02, lr: 2.50e-04, epoch: 5.56e+01, step: 5.00e+02\n",
      "charge_mse: 8.68e-03, charge_mae: 2.13e-02, loss: 2.13e-02, lr: 2.50e-04, epoch: 5.57e+01, step: 5.01e+02\n",
      "charge_mse: 9.24e-03, charge_mae: 2.10e-02, loss: 2.10e-02, lr: 2.50e-04, epoch: 5.58e+01, step: 5.02e+02\n",
      "charge_mse: 1.42e-03, charge_mae: 2.27e-02, loss: 2.27e-02, lr: 2.50e-04, epoch: 5.59e+01, step: 5.03e+02\n",
      "charge_mse: 1.02e-03, charge_mae: 2.40e-02, loss: 2.40e-02, lr: 2.50e-04, epoch: 5.60e+01, step: 5.04e+02\n",
      "2022-07-06 16:36:09 (INFO): Evaluating on val.\n"
     ]
    },
    {
     "name": "stderr",
     "output_type": "stream",
     "text": [
      "device 0: 100%|██████████| 1/1 [00:11<00:00, 11.36s/it]"
     ]
    },
    {
     "name": "stdout",
     "output_type": "stream",
     "text": [
      "2022-07-06 16:36:21 (INFO): charge_mse: 0.0417, charge_mae: 0.0242, loss: 0.0242, epoch: 56.0000\n"
     ]
    },
    {
     "name": "stderr",
     "output_type": "stream",
     "text": [
      "\n"
     ]
    },
    {
     "name": "stdout",
     "output_type": "stream",
     "text": [
      "charge_mse: 1.92e-03, charge_mae: 1.26e-02, loss: 1.26e-02, lr: 2.50e-04, epoch: 5.61e+01, step: 5.05e+02\n",
      "charge_mse: 1.47e-03, charge_mae: 1.27e-02, loss: 1.27e-02, lr: 2.50e-04, epoch: 5.62e+01, step: 5.06e+02\n",
      "charge_mse: 3.17e-03, charge_mae: 2.69e-02, loss: 2.69e-02, lr: 2.50e-04, epoch: 5.63e+01, step: 5.07e+02\n",
      "charge_mse: 8.14e-04, charge_mae: 1.84e-02, loss: 1.84e-02, lr: 2.50e-04, epoch: 5.64e+01, step: 5.08e+02\n",
      "charge_mse: 8.74e-03, charge_mae: 2.64e-02, loss: 2.64e-02, lr: 2.50e-04, epoch: 5.66e+01, step: 5.09e+02\n",
      "charge_mse: 4.82e-03, charge_mae: 3.10e-02, loss: 3.10e-02, lr: 2.50e-04, epoch: 5.67e+01, step: 5.10e+02\n",
      "charge_mse: 7.41e-04, charge_mae: 1.06e-02, loss: 1.06e-02, lr: 2.50e-04, epoch: 5.68e+01, step: 5.11e+02\n",
      "charge_mse: 1.27e-03, charge_mae: 1.39e-02, loss: 1.39e-02, lr: 2.50e-04, epoch: 5.69e+01, step: 5.12e+02\n",
      "charge_mse: 1.17e-03, charge_mae: 1.90e-02, loss: 1.90e-02, lr: 2.50e-04, epoch: 5.70e+01, step: 5.13e+02\n",
      "2022-07-06 16:37:42 (INFO): Evaluating on val.\n"
     ]
    },
    {
     "name": "stderr",
     "output_type": "stream",
     "text": [
      "device 0: 100%|██████████| 1/1 [00:11<00:00, 11.79s/it]"
     ]
    },
    {
     "name": "stdout",
     "output_type": "stream",
     "text": [
      "2022-07-06 16:37:54 (INFO): charge_mse: 0.0487, charge_mae: 0.0233, loss: 0.0233, epoch: 57.0000\n"
     ]
    },
    {
     "name": "stderr",
     "output_type": "stream",
     "text": [
      "\n"
     ]
    },
    {
     "name": "stdout",
     "output_type": "stream",
     "text": [
      "charge_mse: 6.44e-04, charge_mae: 1.05e-02, loss: 1.05e-02, lr: 2.40e-04, epoch: 5.71e+01, step: 5.14e+02\n",
      "charge_mse: 1.38e-03, charge_mae: 2.64e-02, loss: 2.64e-02, lr: 2.40e-04, epoch: 5.72e+01, step: 5.15e+02\n",
      "charge_mse: 1.28e-03, charge_mae: 2.15e-02, loss: 2.15e-02, lr: 2.40e-04, epoch: 5.73e+01, step: 5.16e+02\n",
      "charge_mse: 2.47e-03, charge_mae: 2.33e-02, loss: 2.33e-02, lr: 2.40e-04, epoch: 5.74e+01, step: 5.17e+02\n",
      "charge_mse: 7.36e-03, charge_mae: 2.84e-02, loss: 2.84e-02, lr: 2.40e-04, epoch: 5.76e+01, step: 5.18e+02\n",
      "charge_mse: 1.25e-02, charge_mae: 1.23e-02, loss: 1.23e-02, lr: 2.40e-04, epoch: 5.77e+01, step: 5.19e+02\n",
      "charge_mse: 2.76e-03, charge_mae: 4.68e-02, loss: 4.68e-02, lr: 2.40e-04, epoch: 5.78e+01, step: 5.20e+02\n",
      "charge_mse: 3.95e-03, charge_mae: 5.22e-02, loss: 5.22e-02, lr: 2.40e-04, epoch: 5.79e+01, step: 5.21e+02\n",
      "charge_mse: 1.10e-03, charge_mae: 2.84e-02, loss: 2.84e-02, lr: 2.40e-04, epoch: 5.80e+01, step: 5.22e+02\n",
      "2022-07-06 16:39:20 (INFO): Evaluating on val.\n"
     ]
    },
    {
     "name": "stderr",
     "output_type": "stream",
     "text": [
      "device 0: 100%|██████████| 1/1 [00:11<00:00, 11.94s/it]"
     ]
    },
    {
     "name": "stdout",
     "output_type": "stream",
     "text": [
      "2022-07-06 16:39:32 (INFO): charge_mse: 0.0411, charge_mae: 0.0386, loss: 0.0386, epoch: 58.0000\n"
     ]
    },
    {
     "name": "stderr",
     "output_type": "stream",
     "text": [
      "\n"
     ]
    },
    {
     "name": "stdout",
     "output_type": "stream",
     "text": [
      "charge_mse: 3.93e-03, charge_mae: 3.11e-02, loss: 3.11e-02, lr: 2.40e-04, epoch: 5.81e+01, step: 5.23e+02\n",
      "charge_mse: 3.17e-03, charge_mae: 4.18e-02, loss: 4.18e-02, lr: 2.40e-04, epoch: 5.82e+01, step: 5.24e+02\n",
      "charge_mse: 8.38e-03, charge_mae: 2.82e-02, loss: 2.82e-02, lr: 2.40e-04, epoch: 5.83e+01, step: 5.25e+02\n",
      "charge_mse: 1.15e-02, charge_mae: 3.36e-02, loss: 3.36e-02, lr: 2.40e-04, epoch: 5.84e+01, step: 5.26e+02\n",
      "charge_mse: 8.71e-03, charge_mae: 4.32e-02, loss: 4.32e-02, lr: 2.40e-04, epoch: 5.86e+01, step: 5.27e+02\n",
      "charge_mse: 2.94e-03, charge_mae: 2.81e-02, loss: 2.81e-02, lr: 2.40e-04, epoch: 5.87e+01, step: 5.28e+02\n",
      "charge_mse: 1.01e-03, charge_mae: 2.19e-02, loss: 2.19e-02, lr: 2.40e-04, epoch: 5.88e+01, step: 5.29e+02\n",
      "charge_mse: 3.91e-03, charge_mae: 3.34e-02, loss: 3.34e-02, lr: 2.40e-04, epoch: 5.89e+01, step: 5.30e+02\n",
      "charge_mse: 1.47e-03, charge_mae: 1.15e-02, loss: 1.15e-02, lr: 2.40e-04, epoch: 5.90e+01, step: 5.31e+02\n",
      "2022-07-06 16:41:07 (INFO): Evaluating on val.\n"
     ]
    },
    {
     "name": "stderr",
     "output_type": "stream",
     "text": [
      "device 0: 100%|██████████| 1/1 [00:12<00:00, 12.19s/it]"
     ]
    },
    {
     "name": "stdout",
     "output_type": "stream",
     "text": [
      "2022-07-06 16:41:19 (INFO): charge_mse: 0.0295, charge_mae: 0.0494, loss: 0.0494, epoch: 59.0000\n"
     ]
    },
    {
     "name": "stderr",
     "output_type": "stream",
     "text": [
      "\n"
     ]
    },
    {
     "name": "stdout",
     "output_type": "stream",
     "text": [
      "charge_mse: 4.52e-03, charge_mae: 4.32e-02, loss: 4.32e-02, lr: 2.30e-04, epoch: 5.91e+01, step: 5.32e+02\n",
      "charge_mse: 3.61e-03, charge_mae: 5.18e-02, loss: 5.18e-02, lr: 2.30e-04, epoch: 5.92e+01, step: 5.33e+02\n",
      "charge_mse: 1.70e-03, charge_mae: 3.02e-02, loss: 3.02e-02, lr: 2.30e-04, epoch: 5.93e+01, step: 5.34e+02\n",
      "charge_mse: 1.72e-03, charge_mae: 2.65e-02, loss: 2.65e-02, lr: 2.30e-04, epoch: 5.94e+01, step: 5.35e+02\n",
      "charge_mse: 4.49e-03, charge_mae: 4.57e-02, loss: 4.57e-02, lr: 2.30e-04, epoch: 5.96e+01, step: 5.36e+02\n",
      "charge_mse: 4.20e-03, charge_mae: 2.65e-02, loss: 2.65e-02, lr: 2.30e-04, epoch: 5.97e+01, step: 5.37e+02\n",
      "charge_mse: 5.13e-03, charge_mae: 2.68e-02, loss: 2.68e-02, lr: 2.30e-04, epoch: 5.98e+01, step: 5.38e+02\n",
      "charge_mse: 2.19e-03, charge_mae: 3.85e-02, loss: 3.85e-02, lr: 2.30e-04, epoch: 5.99e+01, step: 5.39e+02\n",
      "charge_mse: 1.56e-03, charge_mae: 2.14e-02, loss: 2.14e-02, lr: 2.30e-04, epoch: 6.00e+01, step: 5.40e+02\n",
      "2022-07-06 16:42:41 (INFO): Evaluating on val.\n"
     ]
    },
    {
     "name": "stderr",
     "output_type": "stream",
     "text": [
      "device 0: 100%|██████████| 1/1 [00:11<00:00, 11.64s/it]"
     ]
    },
    {
     "name": "stdout",
     "output_type": "stream",
     "text": [
      "2022-07-06 16:42:53 (INFO): charge_mse: 0.0465, charge_mae: 0.0388, loss: 0.0388, epoch: 60.0000\n"
     ]
    },
    {
     "name": "stderr",
     "output_type": "stream",
     "text": [
      "\n"
     ]
    },
    {
     "name": "stdout",
     "output_type": "stream",
     "text": [
      "charge_mse: 2.44e-03, charge_mae: 2.83e-02, loss: 2.83e-02, lr: 2.30e-04, epoch: 6.01e+01, step: 5.41e+02\n",
      "charge_mse: 1.36e-03, charge_mae: 2.88e-02, loss: 2.88e-02, lr: 2.30e-04, epoch: 6.02e+01, step: 5.42e+02\n",
      "charge_mse: 5.27e-03, charge_mae: 1.04e-02, loss: 1.04e-02, lr: 2.30e-04, epoch: 6.03e+01, step: 5.43e+02\n",
      "charge_mse: 7.66e-03, charge_mae: 4.21e-02, loss: 4.21e-02, lr: 2.30e-04, epoch: 6.04e+01, step: 5.44e+02\n",
      "charge_mse: 6.96e-03, charge_mae: 4.93e-02, loss: 4.93e-02, lr: 2.30e-04, epoch: 6.06e+01, step: 5.45e+02\n",
      "charge_mse: 1.35e-03, charge_mae: 2.87e-02, loss: 2.87e-02, lr: 2.30e-04, epoch: 6.07e+01, step: 5.46e+02\n",
      "charge_mse: 1.63e-03, charge_mae: 2.74e-02, loss: 2.74e-02, lr: 2.30e-04, epoch: 6.08e+01, step: 5.47e+02\n",
      "charge_mse: 2.16e-03, charge_mae: 4.09e-02, loss: 4.09e-02, lr: 2.30e-04, epoch: 6.09e+01, step: 5.48e+02\n",
      "charge_mse: 1.38e-03, charge_mae: 2.89e-02, loss: 2.89e-02, lr: 2.30e-04, epoch: 6.10e+01, step: 5.49e+02\n",
      "2022-07-06 16:44:15 (INFO): Evaluating on val.\n"
     ]
    },
    {
     "name": "stderr",
     "output_type": "stream",
     "text": [
      "device 0: 100%|██████████| 1/1 [00:11<00:00, 11.67s/it]"
     ]
    },
    {
     "name": "stdout",
     "output_type": "stream",
     "text": [
      "2022-07-06 16:44:27 (INFO): charge_mse: 0.0385, charge_mae: 0.0332, loss: 0.0332, epoch: 61.0000\n"
     ]
    },
    {
     "name": "stderr",
     "output_type": "stream",
     "text": [
      "\n"
     ]
    },
    {
     "name": "stdout",
     "output_type": "stream",
     "text": [
      "charge_mse: 8.32e-04, charge_mae: 2.19e-02, loss: 2.19e-02, lr: 2.21e-04, epoch: 6.11e+01, step: 5.50e+02\n",
      "charge_mse: 2.06e-03, charge_mae: 3.50e-02, loss: 3.50e-02, lr: 2.21e-04, epoch: 6.12e+01, step: 5.51e+02\n",
      "charge_mse: 1.79e-03, charge_mae: 2.49e-02, loss: 2.49e-02, lr: 2.21e-04, epoch: 6.13e+01, step: 5.52e+02\n",
      "charge_mse: 3.18e-03, charge_mae: 2.44e-02, loss: 2.44e-02, lr: 2.21e-04, epoch: 6.14e+01, step: 5.53e+02\n",
      "charge_mse: 4.42e-03, charge_mae: 3.33e-02, loss: 3.33e-02, lr: 2.21e-04, epoch: 6.16e+01, step: 5.54e+02\n",
      "charge_mse: 3.22e-03, charge_mae: 1.36e-02, loss: 1.36e-02, lr: 2.21e-04, epoch: 6.17e+01, step: 5.55e+02\n",
      "charge_mse: 6.01e-03, charge_mae: 3.34e-02, loss: 3.34e-02, lr: 2.21e-04, epoch: 6.18e+01, step: 5.56e+02\n",
      "charge_mse: 8.22e-03, charge_mae: 4.33e-02, loss: 4.33e-02, lr: 2.21e-04, epoch: 6.19e+01, step: 5.57e+02\n",
      "charge_mse: 8.40e-04, charge_mae: 2.26e-02, loss: 2.26e-02, lr: 2.21e-04, epoch: 6.20e+01, step: 5.58e+02\n",
      "2022-07-06 16:45:49 (INFO): Evaluating on val.\n"
     ]
    },
    {
     "name": "stderr",
     "output_type": "stream",
     "text": [
      "device 0: 100%|██████████| 1/1 [00:11<00:00, 11.76s/it]"
     ]
    },
    {
     "name": "stdout",
     "output_type": "stream",
     "text": [
      "2022-07-06 16:46:01 (INFO): charge_mse: 0.0241, charge_mae: 0.0342, loss: 0.0342, epoch: 62.0000\n"
     ]
    },
    {
     "name": "stderr",
     "output_type": "stream",
     "text": [
      "\n"
     ]
    },
    {
     "name": "stdout",
     "output_type": "stream",
     "text": [
      "charge_mse: 7.19e-03, charge_mae: 2.69e-02, loss: 2.69e-02, lr: 2.21e-04, epoch: 6.21e+01, step: 5.59e+02\n",
      "charge_mse: 1.98e-03, charge_mae: 3.70e-02, loss: 3.70e-02, lr: 2.21e-04, epoch: 6.22e+01, step: 5.60e+02\n",
      "charge_mse: 8.73e-04, charge_mae: 2.02e-02, loss: 2.02e-02, lr: 2.21e-04, epoch: 6.23e+01, step: 5.61e+02\n",
      "charge_mse: 3.65e-03, charge_mae: 2.62e-02, loss: 2.62e-02, lr: 2.21e-04, epoch: 6.24e+01, step: 5.62e+02\n",
      "charge_mse: 5.25e-03, charge_mae: 3.73e-02, loss: 3.73e-02, lr: 2.21e-04, epoch: 6.26e+01, step: 5.63e+02\n",
      "charge_mse: 7.58e-04, charge_mae: 1.85e-02, loss: 1.85e-02, lr: 2.21e-04, epoch: 6.27e+01, step: 5.64e+02\n",
      "charge_mse: 1.31e-03, charge_mae: 2.77e-02, loss: 2.77e-02, lr: 2.21e-04, epoch: 6.28e+01, step: 5.65e+02\n",
      "charge_mse: 5.29e-03, charge_mae: 3.85e-02, loss: 3.85e-02, lr: 2.21e-04, epoch: 6.29e+01, step: 5.66e+02\n",
      "charge_mse: 8.58e-04, charge_mae: 1.89e-02, loss: 1.89e-02, lr: 2.21e-04, epoch: 6.30e+01, step: 5.67e+02\n",
      "2022-07-06 16:47:23 (INFO): Evaluating on val.\n"
     ]
    },
    {
     "name": "stderr",
     "output_type": "stream",
     "text": [
      "device 0: 100%|██████████| 1/1 [00:14<00:00, 14.03s/it]"
     ]
    },
    {
     "name": "stdout",
     "output_type": "stream",
     "text": [
      "2022-07-06 16:47:37 (INFO): charge_mse: 0.0423, charge_mae: 0.0378, loss: 0.0378, epoch: 63.0000\n"
     ]
    },
    {
     "name": "stderr",
     "output_type": "stream",
     "text": [
      "\n"
     ]
    },
    {
     "name": "stdout",
     "output_type": "stream",
     "text": [
      "charge_mse: 1.02e-03, charge_mae: 2.73e-02, loss: 2.73e-02, lr: 2.12e-04, epoch: 6.31e+01, step: 5.68e+02\n",
      "charge_mse: 3.59e-03, charge_mae: 3.87e-02, loss: 3.87e-02, lr: 2.12e-04, epoch: 6.32e+01, step: 5.69e+02\n",
      "charge_mse: 1.15e-03, charge_mae: 2.14e-02, loss: 2.14e-02, lr: 2.12e-04, epoch: 6.33e+01, step: 5.70e+02\n",
      "charge_mse: 2.21e-03, charge_mae: 2.68e-02, loss: 2.68e-02, lr: 2.12e-04, epoch: 6.34e+01, step: 5.71e+02\n",
      "charge_mse: 1.97e-03, charge_mae: 3.77e-02, loss: 3.77e-02, lr: 2.12e-04, epoch: 6.36e+01, step: 5.72e+02\n",
      "charge_mse: 3.85e-03, charge_mae: 2.09e-02, loss: 2.09e-02, lr: 2.12e-04, epoch: 6.37e+01, step: 5.73e+02\n",
      "charge_mse: 4.27e-03, charge_mae: 3.21e-02, loss: 3.21e-02, lr: 2.12e-04, epoch: 6.38e+01, step: 5.74e+02\n",
      "charge_mse: 1.47e-03, charge_mae: 3.32e-02, loss: 3.32e-02, lr: 2.12e-04, epoch: 6.39e+01, step: 5.75e+02\n",
      "charge_mse: 1.05e-03, charge_mae: 1.78e-02, loss: 1.78e-02, lr: 2.12e-04, epoch: 6.40e+01, step: 5.76e+02\n",
      "2022-07-06 16:48:59 (INFO): Evaluating on val.\n"
     ]
    },
    {
     "name": "stderr",
     "output_type": "stream",
     "text": [
      "device 0: 100%|██████████| 1/1 [00:11<00:00, 11.73s/it]"
     ]
    },
    {
     "name": "stdout",
     "output_type": "stream",
     "text": [
      "2022-07-06 16:49:11 (INFO): charge_mse: 0.0348, charge_mae: 0.0384, loss: 0.0384, epoch: 64.0000\n"
     ]
    },
    {
     "name": "stderr",
     "output_type": "stream",
     "text": [
      "\n"
     ]
    },
    {
     "name": "stdout",
     "output_type": "stream",
     "text": [
      "charge_mse: 3.09e-03, charge_mae: 2.98e-02, loss: 2.98e-02, lr: 2.12e-04, epoch: 6.41e+01, step: 5.77e+02\n",
      "charge_mse: 4.47e-03, charge_mae: 4.27e-02, loss: 4.27e-02, lr: 2.12e-04, epoch: 6.42e+01, step: 5.78e+02\n",
      "charge_mse: 1.24e-03, charge_mae: 2.34e-02, loss: 2.34e-02, lr: 2.12e-04, epoch: 6.43e+01, step: 5.79e+02\n",
      "charge_mse: 2.54e-03, charge_mae: 2.53e-02, loss: 2.53e-02, lr: 2.12e-04, epoch: 6.44e+01, step: 5.80e+02\n",
      "charge_mse: 1.98e-03, charge_mae: 3.17e-02, loss: 3.17e-02, lr: 2.12e-04, epoch: 6.46e+01, step: 5.81e+02\n",
      "charge_mse: 8.62e-04, charge_mae: 2.02e-02, loss: 2.02e-02, lr: 2.12e-04, epoch: 6.47e+01, step: 5.82e+02\n",
      "charge_mse: 1.66e-03, charge_mae: 2.40e-02, loss: 2.40e-02, lr: 2.12e-04, epoch: 6.48e+01, step: 5.83e+02\n",
      "charge_mse: 1.22e-03, charge_mae: 2.96e-02, loss: 2.96e-02, lr: 2.12e-04, epoch: 6.49e+01, step: 5.84e+02\n",
      "charge_mse: 9.96e-04, charge_mae: 1.19e-02, loss: 1.19e-02, lr: 2.12e-04, epoch: 6.50e+01, step: 5.85e+02\n",
      "2022-07-06 16:50:31 (INFO): Evaluating on val.\n"
     ]
    },
    {
     "name": "stderr",
     "output_type": "stream",
     "text": [
      "device 0: 100%|██████████| 1/1 [00:11<00:00, 11.87s/it]"
     ]
    },
    {
     "name": "stdout",
     "output_type": "stream",
     "text": [
      "2022-07-06 16:50:43 (INFO): charge_mse: 0.0244, charge_mae: 0.0428, loss: 0.0428, epoch: 65.0000\n"
     ]
    },
    {
     "name": "stderr",
     "output_type": "stream",
     "text": [
      "\n"
     ]
    },
    {
     "name": "stdout",
     "output_type": "stream",
     "text": [
      "charge_mse: 3.53e-03, charge_mae: 3.26e-02, loss: 3.26e-02, lr: 2.04e-04, epoch: 6.51e+01, step: 5.86e+02\n",
      "charge_mse: 1.85e-03, charge_mae: 3.99e-02, loss: 3.99e-02, lr: 2.04e-04, epoch: 6.52e+01, step: 5.87e+02\n",
      "charge_mse: 1.39e-03, charge_mae: 2.62e-02, loss: 2.62e-02, lr: 2.04e-04, epoch: 6.53e+01, step: 5.88e+02\n",
      "charge_mse: 7.60e-04, charge_mae: 2.01e-02, loss: 2.01e-02, lr: 2.04e-04, epoch: 6.54e+01, step: 5.89e+02\n",
      "charge_mse: 2.80e-03, charge_mae: 3.39e-02, loss: 3.39e-02, lr: 2.04e-04, epoch: 6.56e+01, step: 5.90e+02\n",
      "charge_mse: 1.00e-03, charge_mae: 1.67e-02, loss: 1.67e-02, lr: 2.04e-04, epoch: 6.57e+01, step: 5.91e+02\n",
      "charge_mse: 1.26e-03, charge_mae: 2.97e-02, loss: 2.97e-02, lr: 2.04e-04, epoch: 6.58e+01, step: 5.92e+02\n",
      "charge_mse: 3.18e-03, charge_mae: 3.97e-02, loss: 3.97e-02, lr: 2.04e-04, epoch: 6.59e+01, step: 5.93e+02\n",
      "charge_mse: 2.68e-03, charge_mae: 2.24e-02, loss: 2.24e-02, lr: 2.04e-04, epoch: 6.60e+01, step: 5.94e+02\n",
      "2022-07-06 16:52:11 (INFO): Evaluating on val.\n"
     ]
    },
    {
     "name": "stderr",
     "output_type": "stream",
     "text": [
      "device 0: 100%|██████████| 1/1 [00:14<00:00, 14.27s/it]"
     ]
    },
    {
     "name": "stdout",
     "output_type": "stream",
     "text": [
      "2022-07-06 16:52:25 (INFO): charge_mse: 0.0350, charge_mae: 0.0362, loss: 0.0362, epoch: 66.0000\n"
     ]
    },
    {
     "name": "stderr",
     "output_type": "stream",
     "text": [
      "\n"
     ]
    },
    {
     "name": "stdout",
     "output_type": "stream",
     "text": [
      "charge_mse: 2.46e-03, charge_mae: 2.45e-02, loss: 2.45e-02, lr: 2.04e-04, epoch: 6.61e+01, step: 5.95e+02\n",
      "charge_mse: 7.26e-03, charge_mae: 3.21e-02, loss: 3.21e-02, lr: 2.04e-04, epoch: 6.62e+01, step: 5.96e+02\n",
      "charge_mse: 6.49e-03, charge_mae: 1.68e-02, loss: 1.68e-02, lr: 2.04e-04, epoch: 6.63e+01, step: 5.97e+02\n",
      "charge_mse: 2.33e-03, charge_mae: 2.97e-02, loss: 2.97e-02, lr: 2.04e-04, epoch: 6.64e+01, step: 5.98e+02\n",
      "charge_mse: 3.08e-03, charge_mae: 4.01e-02, loss: 4.01e-02, lr: 2.04e-04, epoch: 6.66e+01, step: 5.99e+02\n",
      "charge_mse: 2.45e-03, charge_mae: 3.02e-02, loss: 3.02e-02, lr: 2.04e-04, epoch: 6.67e+01, step: 6.00e+02\n",
      "charge_mse: 6.02e-04, charge_mae: 1.27e-02, loss: 1.27e-02, lr: 2.04e-04, epoch: 6.68e+01, step: 6.01e+02\n",
      "charge_mse: 4.51e-03, charge_mae: 2.83e-02, loss: 2.83e-02, lr: 2.04e-04, epoch: 6.69e+01, step: 6.02e+02\n",
      "charge_mse: 1.20e-03, charge_mae: 1.27e-02, loss: 1.27e-02, lr: 2.04e-04, epoch: 6.70e+01, step: 6.03e+02\n",
      "2022-07-06 16:53:52 (INFO): Evaluating on val.\n"
     ]
    },
    {
     "name": "stderr",
     "output_type": "stream",
     "text": [
      "device 0: 100%|██████████| 1/1 [00:11<00:00, 11.67s/it]"
     ]
    },
    {
     "name": "stdout",
     "output_type": "stream",
     "text": [
      "2022-07-06 16:54:04 (INFO): charge_mse: 0.0165, charge_mae: 0.0368, loss: 0.0369, epoch: 67.0000\n"
     ]
    },
    {
     "name": "stderr",
     "output_type": "stream",
     "text": [
      "\n"
     ]
    },
    {
     "name": "stdout",
     "output_type": "stream",
     "text": [
      "charge_mse: 1.50e-03, charge_mae: 2.89e-02, loss: 2.89e-02, lr: 1.96e-04, epoch: 6.71e+01, step: 6.04e+02\n",
      "charge_mse: 1.09e-02, charge_mae: 3.89e-02, loss: 3.89e-02, lr: 1.96e-04, epoch: 6.72e+01, step: 6.05e+02\n",
      "charge_mse: 2.01e-03, charge_mae: 2.18e-02, loss: 2.18e-02, lr: 1.96e-04, epoch: 6.73e+01, step: 6.06e+02\n",
      "charge_mse: 1.39e-03, charge_mae: 2.39e-02, loss: 2.39e-02, lr: 1.96e-04, epoch: 6.74e+01, step: 6.07e+02\n",
      "charge_mse: 2.66e-03, charge_mae: 3.32e-02, loss: 3.32e-02, lr: 1.96e-04, epoch: 6.76e+01, step: 6.08e+02\n",
      "charge_mse: 6.41e-04, charge_mae: 1.59e-02, loss: 1.59e-02, lr: 1.96e-04, epoch: 6.77e+01, step: 6.09e+02\n",
      "charge_mse: 1.77e-03, charge_mae: 2.83e-02, loss: 2.83e-02, lr: 1.96e-04, epoch: 6.78e+01, step: 6.10e+02\n",
      "charge_mse: 3.52e-03, charge_mae: 3.92e-02, loss: 3.92e-02, lr: 1.96e-04, epoch: 6.79e+01, step: 6.11e+02\n",
      "charge_mse: 1.39e-03, charge_mae: 2.19e-02, loss: 2.19e-02, lr: 1.96e-04, epoch: 6.80e+01, step: 6.12e+02\n",
      "2022-07-06 16:55:27 (INFO): Evaluating on val.\n"
     ]
    },
    {
     "name": "stderr",
     "output_type": "stream",
     "text": [
      "device 0: 100%|██████████| 1/1 [00:11<00:00, 11.70s/it]"
     ]
    },
    {
     "name": "stdout",
     "output_type": "stream",
     "text": [
      "2022-07-06 16:55:39 (INFO): charge_mse: 0.0382, charge_mae: 0.0321, loss: 0.0321, epoch: 68.0000\n"
     ]
    },
    {
     "name": "stderr",
     "output_type": "stream",
     "text": [
      "\n"
     ]
    },
    {
     "name": "stdout",
     "output_type": "stream",
     "text": [
      "charge_mse: 1.59e-03, charge_mae: 2.24e-02, loss: 2.24e-02, lr: 1.96e-04, epoch: 6.81e+01, step: 6.13e+02\n",
      "charge_mse: 2.32e-03, charge_mae: 3.13e-02, loss: 3.13e-02, lr: 1.96e-04, epoch: 6.82e+01, step: 6.14e+02\n",
      "charge_mse: 9.61e-04, charge_mae: 1.62e-02, loss: 1.62e-02, lr: 1.96e-04, epoch: 6.83e+01, step: 6.15e+02\n",
      "charge_mse: 1.14e-03, charge_mae: 2.57e-02, loss: 2.57e-02, lr: 1.96e-04, epoch: 6.84e+01, step: 6.16e+02\n",
      "charge_mse: 1.68e-03, charge_mae: 3.19e-02, loss: 3.19e-02, lr: 1.96e-04, epoch: 6.86e+01, step: 6.17e+02\n",
      "charge_mse: 2.31e-03, charge_mae: 1.81e-02, loss: 1.81e-02, lr: 1.96e-04, epoch: 6.87e+01, step: 6.18e+02\n",
      "charge_mse: 2.13e-03, charge_mae: 2.68e-02, loss: 2.68e-02, lr: 1.96e-04, epoch: 6.88e+01, step: 6.19e+02\n",
      "charge_mse: 3.50e-03, charge_mae: 3.67e-02, loss: 3.67e-02, lr: 1.96e-04, epoch: 6.89e+01, step: 6.20e+02\n",
      "charge_mse: 5.68e-04, charge_mae: 1.89e-02, loss: 1.89e-02, lr: 1.96e-04, epoch: 6.90e+01, step: 6.21e+02\n",
      "2022-07-06 16:56:59 (INFO): Evaluating on val.\n"
     ]
    },
    {
     "name": "stderr",
     "output_type": "stream",
     "text": [
      "device 0: 100%|██████████| 1/1 [00:11<00:00, 11.92s/it]"
     ]
    },
    {
     "name": "stdout",
     "output_type": "stream",
     "text": [
      "2022-07-06 16:57:11 (INFO): charge_mse: 0.0258, charge_mae: 0.0304, loss: 0.0304, epoch: 69.0000\n"
     ]
    },
    {
     "name": "stderr",
     "output_type": "stream",
     "text": [
      "\n"
     ]
    },
    {
     "name": "stdout",
     "output_type": "stream",
     "text": [
      "charge_mse: 7.05e-04, charge_mae: 2.13e-02, loss: 2.13e-02, lr: 1.88e-04, epoch: 6.91e+01, step: 6.22e+02\n",
      "charge_mse: 2.34e-03, charge_mae: 3.26e-02, loss: 3.26e-02, lr: 1.88e-04, epoch: 6.92e+01, step: 6.23e+02\n",
      "charge_mse: 1.33e-03, charge_mae: 2.12e-02, loss: 2.12e-02, lr: 1.88e-04, epoch: 6.93e+01, step: 6.24e+02\n",
      "charge_mse: 2.74e-03, charge_mae: 2.04e-02, loss: 2.04e-02, lr: 1.88e-04, epoch: 6.94e+01, step: 6.25e+02\n",
      "charge_mse: 1.35e-03, charge_mae: 2.74e-02, loss: 2.74e-02, lr: 1.88e-04, epoch: 6.96e+01, step: 6.26e+02\n",
      "charge_mse: 4.49e-04, charge_mae: 1.44e-02, loss: 1.44e-02, lr: 1.88e-04, epoch: 6.97e+01, step: 6.27e+02\n",
      "charge_mse: 1.51e-03, charge_mae: 2.48e-02, loss: 2.48e-02, lr: 1.88e-04, epoch: 6.98e+01, step: 6.28e+02\n",
      "charge_mse: 4.66e-03, charge_mae: 3.39e-02, loss: 3.39e-02, lr: 1.88e-04, epoch: 6.99e+01, step: 6.29e+02\n",
      "charge_mse: 1.74e-03, charge_mae: 1.93e-02, loss: 1.93e-02, lr: 1.88e-04, epoch: 7.00e+01, step: 6.30e+02\n",
      "2022-07-06 16:58:36 (INFO): Evaluating on val.\n"
     ]
    },
    {
     "name": "stderr",
     "output_type": "stream",
     "text": [
      "device 0: 100%|██████████| 1/1 [00:11<00:00, 11.56s/it]"
     ]
    },
    {
     "name": "stdout",
     "output_type": "stream",
     "text": [
      "2022-07-06 16:58:47 (INFO): charge_mse: 0.0152, charge_mae: 0.0323, loss: 0.0323, epoch: 70.0000\n"
     ]
    },
    {
     "name": "stderr",
     "output_type": "stream",
     "text": [
      "\n"
     ]
    },
    {
     "name": "stdout",
     "output_type": "stream",
     "text": [
      "charge_mse: 7.63e-04, charge_mae: 2.22e-02, loss: 2.22e-02, lr: 1.88e-04, epoch: 7.01e+01, step: 6.31e+02\n",
      "charge_mse: 1.55e-03, charge_mae: 2.94e-02, loss: 2.94e-02, lr: 1.88e-04, epoch: 7.02e+01, step: 6.32e+02\n",
      "charge_mse: 1.72e-03, charge_mae: 1.66e-02, loss: 1.66e-02, lr: 1.88e-04, epoch: 7.03e+01, step: 6.33e+02\n",
      "charge_mse: 1.78e-03, charge_mae: 2.23e-02, loss: 2.23e-02, lr: 1.88e-04, epoch: 7.04e+01, step: 6.34e+02\n",
      "charge_mse: 2.15e-03, charge_mae: 3.02e-02, loss: 3.02e-02, lr: 1.88e-04, epoch: 7.06e+01, step: 6.35e+02\n",
      "charge_mse: 1.33e-03, charge_mae: 1.72e-02, loss: 1.72e-02, lr: 1.88e-04, epoch: 7.07e+01, step: 6.36e+02\n",
      "charge_mse: 1.70e-03, charge_mae: 2.12e-02, loss: 2.12e-02, lr: 1.88e-04, epoch: 7.08e+01, step: 6.37e+02\n",
      "charge_mse: 1.10e-03, charge_mae: 2.46e-02, loss: 2.46e-02, lr: 1.88e-04, epoch: 7.09e+01, step: 6.38e+02\n",
      "charge_mse: 1.31e-03, charge_mae: 1.07e-02, loss: 1.07e-02, lr: 1.88e-04, epoch: 7.10e+01, step: 6.39e+02\n",
      "2022-07-06 17:00:10 (INFO): Evaluating on val.\n"
     ]
    },
    {
     "name": "stderr",
     "output_type": "stream",
     "text": [
      "device 0: 100%|██████████| 1/1 [00:13<00:00, 13.81s/it]"
     ]
    },
    {
     "name": "stdout",
     "output_type": "stream",
     "text": [
      "2022-07-06 17:00:24 (INFO): charge_mse: 0.0361, charge_mae: 0.0428, loss: 0.0428, epoch: 71.0000\n"
     ]
    },
    {
     "name": "stderr",
     "output_type": "stream",
     "text": [
      "\n"
     ]
    },
    {
     "name": "stdout",
     "output_type": "stream",
     "text": [
      "charge_mse: 2.83e-03, charge_mae: 3.50e-02, loss: 3.50e-02, lr: 1.80e-04, epoch: 7.11e+01, step: 6.40e+02\n",
      "charge_mse: 2.56e-03, charge_mae: 4.27e-02, loss: 4.27e-02, lr: 1.80e-04, epoch: 7.12e+01, step: 6.41e+02\n",
      "charge_mse: 1.38e-03, charge_mae: 3.09e-02, loss: 3.09e-02, lr: 1.80e-04, epoch: 7.13e+01, step: 6.42e+02\n",
      "charge_mse: 1.07e-03, charge_mae: 1.23e-02, loss: 1.23e-02, lr: 1.80e-04, epoch: 7.14e+01, step: 6.43e+02\n",
      "charge_mse: 2.78e-03, charge_mae: 3.87e-02, loss: 3.87e-02, lr: 1.80e-04, epoch: 7.16e+01, step: 6.44e+02\n",
      "charge_mse: 3.53e-03, charge_mae: 4.90e-02, loss: 4.90e-02, lr: 1.80e-04, epoch: 7.17e+01, step: 6.45e+02\n",
      "charge_mse: 1.21e-03, charge_mae: 2.84e-02, loss: 2.84e-02, lr: 1.80e-04, epoch: 7.18e+01, step: 6.46e+02\n",
      "charge_mse: 1.55e-03, charge_mae: 1.26e-02, loss: 1.26e-02, lr: 1.80e-04, epoch: 7.19e+01, step: 6.47e+02\n",
      "charge_mse: 1.37e-03, charge_mae: 3.00e-02, loss: 3.00e-02, lr: 1.80e-04, epoch: 7.20e+01, step: 6.48e+02\n",
      "2022-07-06 17:01:46 (INFO): Evaluating on val.\n"
     ]
    },
    {
     "name": "stderr",
     "output_type": "stream",
     "text": [
      "device 0: 100%|██████████| 1/1 [00:13<00:00, 13.18s/it]"
     ]
    },
    {
     "name": "stdout",
     "output_type": "stream",
     "text": [
      "2022-07-06 17:01:59 (INFO): charge_mse: 0.0167, charge_mae: 0.0300, loss: 0.0300, epoch: 72.0000\n"
     ]
    },
    {
     "name": "stderr",
     "output_type": "stream",
     "text": [
      "\n"
     ]
    },
    {
     "name": "stdout",
     "output_type": "stream",
     "text": [
      "charge_mse: 4.01e-03, charge_mae: 2.87e-02, loss: 2.87e-02, lr: 1.80e-04, epoch: 7.21e+01, step: 6.49e+02\n",
      "charge_mse: 5.44e-04, charge_mae: 1.44e-02, loss: 1.44e-02, lr: 1.80e-04, epoch: 7.22e+01, step: 6.50e+02\n",
      "charge_mse: 8.88e-04, charge_mae: 2.01e-02, loss: 2.01e-02, lr: 1.80e-04, epoch: 7.23e+01, step: 6.51e+02\n",
      "charge_mse: 2.60e-03, charge_mae: 1.11e-02, loss: 1.11e-02, lr: 1.80e-04, epoch: 7.24e+01, step: 6.52e+02\n",
      "charge_mse: 1.50e-03, charge_mae: 2.76e-02, loss: 2.76e-02, lr: 1.80e-04, epoch: 7.26e+01, step: 6.53e+02\n",
      "charge_mse: 1.36e-03, charge_mae: 2.80e-02, loss: 2.80e-02, lr: 1.80e-04, epoch: 7.27e+01, step: 6.54e+02\n",
      "charge_mse: 5.83e-04, charge_mae: 1.00e-02, loss: 1.00e-02, lr: 1.80e-04, epoch: 7.28e+01, step: 6.55e+02\n",
      "charge_mse: 2.62e-03, charge_mae: 3.25e-02, loss: 3.25e-02, lr: 1.80e-04, epoch: 7.29e+01, step: 6.56e+02\n",
      "charge_mse: 2.59e-03, charge_mae: 4.08e-02, loss: 4.08e-02, lr: 1.80e-04, epoch: 7.30e+01, step: 6.57e+02\n",
      "2022-07-06 17:03:19 (INFO): Evaluating on val.\n"
     ]
    },
    {
     "name": "stderr",
     "output_type": "stream",
     "text": [
      "device 0: 100%|██████████| 1/1 [00:11<00:00, 11.58s/it]"
     ]
    },
    {
     "name": "stdout",
     "output_type": "stream",
     "text": [
      "2022-07-06 17:03:31 (INFO): charge_mse: 0.0196, charge_mae: 0.0364, loss: 0.0364, epoch: 73.0000\n"
     ]
    },
    {
     "name": "stderr",
     "output_type": "stream",
     "text": [
      "\n"
     ]
    },
    {
     "name": "stdout",
     "output_type": "stream",
     "text": [
      "charge_mse: 8.22e-04, charge_mae: 2.43e-02, loss: 2.43e-02, lr: 1.73e-04, epoch: 7.31e+01, step: 6.58e+02\n",
      "charge_mse: 7.50e-04, charge_mae: 1.47e-02, loss: 1.47e-02, lr: 1.73e-04, epoch: 7.32e+01, step: 6.59e+02\n",
      "charge_mse: 1.27e-03, charge_mae: 2.58e-02, loss: 2.58e-02, lr: 1.73e-04, epoch: 7.33e+01, step: 6.60e+02\n",
      "charge_mse: 3.05e-03, charge_mae: 1.71e-02, loss: 1.71e-02, lr: 1.73e-04, epoch: 7.34e+01, step: 6.61e+02\n",
      "charge_mse: 1.33e-03, charge_mae: 2.08e-02, loss: 2.08e-02, lr: 1.73e-04, epoch: 7.36e+01, step: 6.62e+02\n",
      "charge_mse: 1.15e-03, charge_mae: 2.49e-02, loss: 2.49e-02, lr: 1.73e-04, epoch: 7.37e+01, step: 6.63e+02\n",
      "charge_mse: 1.86e-03, charge_mae: 1.49e-02, loss: 1.49e-02, lr: 1.73e-04, epoch: 7.38e+01, step: 6.64e+02\n",
      "charge_mse: 6.60e-04, charge_mae: 2.11e-02, loss: 2.11e-02, lr: 1.73e-04, epoch: 7.39e+01, step: 6.65e+02\n",
      "charge_mse: 1.42e-03, charge_mae: 2.77e-02, loss: 2.77e-02, lr: 1.73e-04, epoch: 7.40e+01, step: 6.66e+02\n",
      "2022-07-06 17:04:51 (INFO): Evaluating on val.\n"
     ]
    },
    {
     "name": "stderr",
     "output_type": "stream",
     "text": [
      "device 0: 100%|██████████| 1/1 [00:11<00:00, 11.86s/it]"
     ]
    },
    {
     "name": "stdout",
     "output_type": "stream",
     "text": [
      "2022-07-06 17:05:03 (INFO): charge_mse: 0.0244, charge_mae: 0.0235, loss: 0.0235, epoch: 74.0000\n"
     ]
    },
    {
     "name": "stderr",
     "output_type": "stream",
     "text": [
      "\n"
     ]
    },
    {
     "name": "stdout",
     "output_type": "stream",
     "text": [
      "charge_mse: 9.04e-04, charge_mae: 1.46e-02, loss: 1.46e-02, lr: 1.73e-04, epoch: 7.41e+01, step: 6.67e+02\n",
      "charge_mse: 1.20e-03, charge_mae: 2.50e-02, loss: 2.50e-02, lr: 1.73e-04, epoch: 7.42e+01, step: 6.68e+02\n",
      "charge_mse: 3.61e-03, charge_mae: 3.63e-02, loss: 3.63e-02, lr: 1.73e-04, epoch: 7.43e+01, step: 6.69e+02\n",
      "charge_mse: 1.45e-03, charge_mae: 2.06e-02, loss: 2.06e-02, lr: 1.73e-04, epoch: 7.44e+01, step: 6.70e+02\n",
      "charge_mse: 3.40e-03, charge_mae: 1.72e-02, loss: 1.72e-02, lr: 1.73e-04, epoch: 7.46e+01, step: 6.71e+02\n",
      "charge_mse: 1.18e-03, charge_mae: 2.72e-02, loss: 2.72e-02, lr: 1.73e-04, epoch: 7.47e+01, step: 6.72e+02\n",
      "charge_mse: 6.33e-04, charge_mae: 1.49e-02, loss: 1.49e-02, lr: 1.73e-04, epoch: 7.48e+01, step: 6.73e+02\n",
      "charge_mse: 1.84e-03, charge_mae: 2.32e-02, loss: 2.32e-02, lr: 1.73e-04, epoch: 7.49e+01, step: 6.74e+02\n",
      "charge_mse: 5.31e-03, charge_mae: 3.14e-02, loss: 3.14e-02, lr: 1.73e-04, epoch: 7.50e+01, step: 6.75e+02\n",
      "2022-07-06 17:06:34 (INFO): Evaluating on val.\n"
     ]
    },
    {
     "name": "stderr",
     "output_type": "stream",
     "text": [
      "device 0: 100%|██████████| 1/1 [00:11<00:00, 11.90s/it]"
     ]
    },
    {
     "name": "stdout",
     "output_type": "stream",
     "text": [
      "2022-07-06 17:06:46 (INFO): charge_mse: 0.0161, charge_mae: 0.0256, loss: 0.0256, epoch: 75.0000\n"
     ]
    },
    {
     "name": "stderr",
     "output_type": "stream",
     "text": [
      "\n"
     ]
    },
    {
     "name": "stdout",
     "output_type": "stream",
     "text": [
      "charge_mse: 6.95e-03, charge_mae: 2.13e-02, loss: 2.13e-02, lr: 1.66e-04, epoch: 7.51e+01, step: 6.76e+02\n",
      "charge_mse: 1.54e-03, charge_mae: 1.91e-02, loss: 1.91e-02, lr: 1.66e-04, epoch: 7.52e+01, step: 6.77e+02\n",
      "charge_mse: 9.27e-04, charge_mae: 2.18e-02, loss: 2.18e-02, lr: 1.66e-04, epoch: 7.53e+01, step: 6.78e+02\n",
      "charge_mse: 5.48e-04, charge_mae: 9.12e-03, loss: 9.12e-03, lr: 1.66e-04, epoch: 7.54e+01, step: 6.79e+02\n",
      "charge_mse: 3.34e-03, charge_mae: 2.85e-02, loss: 2.85e-02, lr: 1.66e-04, epoch: 7.56e+01, step: 6.80e+02\n",
      "charge_mse: 5.64e-03, charge_mae: 3.42e-02, loss: 3.42e-02, lr: 1.66e-04, epoch: 7.57e+01, step: 6.81e+02\n",
      "charge_mse: 7.37e-04, charge_mae: 1.96e-02, loss: 1.96e-02, lr: 1.66e-04, epoch: 7.58e+01, step: 6.82e+02\n",
      "charge_mse: 8.72e-04, charge_mae: 1.95e-02, loss: 1.95e-02, lr: 1.66e-04, epoch: 7.59e+01, step: 6.83e+02\n",
      "charge_mse: 3.35e-03, charge_mae: 3.31e-02, loss: 3.31e-02, lr: 1.66e-04, epoch: 7.60e+01, step: 6.84e+02\n",
      "2022-07-06 17:08:07 (INFO): Evaluating on val.\n"
     ]
    },
    {
     "name": "stderr",
     "output_type": "stream",
     "text": [
      "device 0: 100%|██████████| 1/1 [00:11<00:00, 11.65s/it]"
     ]
    },
    {
     "name": "stdout",
     "output_type": "stream",
     "text": [
      "2022-07-06 17:08:19 (INFO): charge_mse: 0.0428, charge_mae: 0.0318, loss: 0.0317, epoch: 76.0000\n"
     ]
    },
    {
     "name": "stderr",
     "output_type": "stream",
     "text": [
      "\n"
     ]
    },
    {
     "name": "stdout",
     "output_type": "stream",
     "text": [
      "charge_mse: 1.87e-03, charge_mae: 2.27e-02, loss: 2.27e-02, lr: 1.66e-04, epoch: 7.61e+01, step: 6.85e+02\n",
      "charge_mse: 6.55e-03, charge_mae: 1.45e-02, loss: 1.45e-02, lr: 1.66e-04, epoch: 7.62e+01, step: 6.86e+02\n",
      "charge_mse: 7.45e-04, charge_mae: 1.84e-02, loss: 1.84e-02, lr: 1.66e-04, epoch: 7.63e+01, step: 6.87e+02\n",
      "charge_mse: 3.07e-04, charge_mae: 7.05e-03, loss: 7.05e-03, lr: 1.66e-04, epoch: 7.64e+01, step: 6.88e+02\n",
      "charge_mse: 7.59e-04, charge_mae: 1.14e-02, loss: 1.14e-02, lr: 1.66e-04, epoch: 7.66e+01, step: 6.89e+02\n",
      "charge_mse: 3.14e-03, charge_mae: 8.86e-03, loss: 8.86e-03, lr: 1.66e-04, epoch: 7.67e+01, step: 6.90e+02\n",
      "charge_mse: 2.06e-03, charge_mae: 1.86e-02, loss: 1.86e-02, lr: 1.66e-04, epoch: 7.68e+01, step: 6.91e+02\n",
      "charge_mse: 9.22e-04, charge_mae: 1.21e-02, loss: 1.21e-02, lr: 1.66e-04, epoch: 7.69e+01, step: 6.92e+02\n",
      "charge_mse: 2.35e-03, charge_mae: 1.83e-02, loss: 1.83e-02, lr: 1.66e-04, epoch: 7.70e+01, step: 6.93e+02\n",
      "2022-07-06 17:09:39 (INFO): Evaluating on val.\n"
     ]
    },
    {
     "name": "stderr",
     "output_type": "stream",
     "text": [
      "device 0: 100%|██████████| 1/1 [00:11<00:00, 11.55s/it]"
     ]
    },
    {
     "name": "stdout",
     "output_type": "stream",
     "text": [
      "2022-07-06 17:09:51 (INFO): charge_mse: 0.0279, charge_mae: 0.0263, loss: 0.0263, epoch: 77.0000\n"
     ]
    },
    {
     "name": "stderr",
     "output_type": "stream",
     "text": [
      "\n"
     ]
    },
    {
     "name": "stdout",
     "output_type": "stream",
     "text": [
      "charge_mse: 4.43e-03, charge_mae: 2.00e-02, loss: 2.00e-02, lr: 1.59e-04, epoch: 7.71e+01, step: 6.94e+02\n",
      "charge_mse: 5.26e-04, charge_mae: 8.77e-03, loss: 8.77e-03, lr: 1.59e-04, epoch: 7.72e+01, step: 6.95e+02\n",
      "charge_mse: 7.77e-04, charge_mae: 1.15e-02, loss: 1.15e-02, lr: 1.59e-04, epoch: 7.73e+01, step: 6.96e+02\n",
      "charge_mse: 5.01e-04, charge_mae: 8.98e-03, loss: 8.98e-03, lr: 1.59e-04, epoch: 7.74e+01, step: 6.97e+02\n",
      "charge_mse: 3.29e-04, charge_mae: 5.86e-03, loss: 5.86e-03, lr: 1.59e-04, epoch: 7.76e+01, step: 6.98e+02\n",
      "charge_mse: 2.67e-03, charge_mae: 1.24e-02, loss: 1.24e-02, lr: 1.59e-04, epoch: 7.77e+01, step: 6.99e+02\n",
      "charge_mse: 1.08e-03, charge_mae: 1.11e-02, loss: 1.11e-02, lr: 1.59e-04, epoch: 7.78e+01, step: 7.00e+02\n",
      "charge_mse: 8.29e-04, charge_mae: 8.97e-03, loss: 8.97e-03, lr: 1.59e-04, epoch: 7.79e+01, step: 7.01e+02\n",
      "charge_mse: 1.81e-03, charge_mae: 1.78e-02, loss: 1.78e-02, lr: 1.59e-04, epoch: 7.80e+01, step: 7.02e+02\n",
      "2022-07-06 17:11:14 (INFO): Evaluating on val.\n"
     ]
    },
    {
     "name": "stderr",
     "output_type": "stream",
     "text": [
      "device 0: 100%|██████████| 1/1 [00:11<00:00, 11.93s/it]"
     ]
    },
    {
     "name": "stdout",
     "output_type": "stream",
     "text": [
      "2022-07-06 17:11:26 (INFO): charge_mse: 0.0135, charge_mae: 0.0213, loss: 0.0213, epoch: 78.0000\n"
     ]
    },
    {
     "name": "stderr",
     "output_type": "stream",
     "text": [
      "\n"
     ]
    },
    {
     "name": "stdout",
     "output_type": "stream",
     "text": [
      "charge_mse: 1.09e-03, charge_mae: 1.54e-02, loss: 1.54e-02, lr: 1.59e-04, epoch: 7.81e+01, step: 7.03e+02\n",
      "charge_mse: 7.17e-04, charge_mae: 1.09e-02, loss: 1.09e-02, lr: 1.59e-04, epoch: 7.82e+01, step: 7.04e+02\n",
      "charge_mse: 4.24e-03, charge_mae: 1.21e-02, loss: 1.21e-02, lr: 1.59e-04, epoch: 7.83e+01, step: 7.05e+02\n",
      "charge_mse: 3.27e-03, charge_mae: 1.33e-02, loss: 1.33e-02, lr: 1.59e-04, epoch: 7.84e+01, step: 7.06e+02\n",
      "charge_mse: 5.48e-04, charge_mae: 1.27e-02, loss: 1.27e-02, lr: 1.59e-04, epoch: 7.86e+01, step: 7.07e+02\n",
      "charge_mse: 7.88e-04, charge_mae: 1.20e-02, loss: 1.20e-02, lr: 1.59e-04, epoch: 7.87e+01, step: 7.08e+02\n",
      "charge_mse: 4.42e-04, charge_mae: 8.43e-03, loss: 8.43e-03, lr: 1.59e-04, epoch: 7.88e+01, step: 7.09e+02\n",
      "charge_mse: 7.59e-04, charge_mae: 1.66e-02, loss: 1.66e-02, lr: 1.59e-04, epoch: 7.89e+01, step: 7.10e+02\n",
      "charge_mse: 1.59e-03, charge_mae: 1.69e-02, loss: 1.69e-02, lr: 1.59e-04, epoch: 7.90e+01, step: 7.11e+02\n",
      "2022-07-06 17:12:48 (INFO): Evaluating on val.\n"
     ]
    },
    {
     "name": "stderr",
     "output_type": "stream",
     "text": [
      "device 0: 100%|██████████| 1/1 [00:11<00:00, 11.32s/it]"
     ]
    },
    {
     "name": "stdout",
     "output_type": "stream",
     "text": [
      "2022-07-06 17:13:00 (INFO): charge_mse: 0.0205, charge_mae: 0.0173, loss: 0.0173, epoch: 79.0000\n"
     ]
    },
    {
     "name": "stderr",
     "output_type": "stream",
     "text": [
      "\n"
     ]
    },
    {
     "name": "stdout",
     "output_type": "stream",
     "text": [
      "charge_mse: 9.35e-03, charge_mae: 1.02e-02, loss: 1.02e-02, lr: 1.59e-04, epoch: 7.91e+01, step: 7.12e+02\n",
      "charge_mse: 4.75e-04, charge_mae: 9.35e-03, loss: 9.35e-03, lr: 1.59e-04, epoch: 7.92e+01, step: 7.13e+02\n",
      "charge_mse: 5.46e-04, charge_mae: 1.35e-02, loss: 1.35e-02, lr: 1.59e-04, epoch: 7.93e+01, step: 7.14e+02\n",
      "charge_mse: 4.97e-04, charge_mae: 1.29e-02, loss: 1.29e-02, lr: 1.59e-04, epoch: 7.94e+01, step: 7.15e+02\n",
      "charge_mse: 4.79e-04, charge_mae: 1.28e-02, loss: 1.28e-02, lr: 1.59e-04, epoch: 7.96e+01, step: 7.16e+02\n",
      "charge_mse: 1.28e-03, charge_mae: 1.25e-02, loss: 1.25e-02, lr: 1.59e-04, epoch: 7.97e+01, step: 7.17e+02\n",
      "charge_mse: 2.62e-04, charge_mae: 1.14e-02, loss: 1.14e-02, lr: 1.59e-04, epoch: 7.98e+01, step: 7.18e+02\n",
      "charge_mse: 7.88e-04, charge_mae: 1.20e-02, loss: 1.20e-02, lr: 1.59e-04, epoch: 7.99e+01, step: 7.19e+02\n",
      "charge_mse: 5.08e-04, charge_mae: 1.12e-02, loss: 1.12e-02, lr: 1.59e-04, epoch: 8.00e+01, step: 7.20e+02\n",
      "2022-07-06 17:14:21 (INFO): Evaluating on val.\n"
     ]
    },
    {
     "name": "stderr",
     "output_type": "stream",
     "text": [
      "device 0: 100%|██████████| 1/1 [00:11<00:00, 11.72s/it]"
     ]
    },
    {
     "name": "stdout",
     "output_type": "stream",
     "text": [
      "2022-07-06 17:14:33 (INFO): charge_mse: 0.0184, charge_mae: 0.0168, loss: 0.0168, epoch: 80.0000\n"
     ]
    },
    {
     "name": "stderr",
     "output_type": "stream",
     "text": [
      "\n"
     ]
    },
    {
     "name": "stdout",
     "output_type": "stream",
     "text": [
      "charge_mse: 2.38e-04, charge_mae: 8.60e-03, loss: 8.60e-03, lr: 1.59e-04, epoch: 8.01e+01, step: 7.21e+02\n",
      "charge_mse: 2.04e-03, charge_mae: 1.65e-02, loss: 1.65e-02, lr: 1.59e-04, epoch: 8.02e+01, step: 7.22e+02\n",
      "charge_mse: 3.83e-04, charge_mae: 1.21e-02, loss: 1.21e-02, lr: 1.59e-04, epoch: 8.03e+01, step: 7.23e+02\n",
      "charge_mse: 7.10e-04, charge_mae: 1.27e-02, loss: 1.27e-02, lr: 1.59e-04, epoch: 8.04e+01, step: 7.24e+02\n",
      "charge_mse: 3.76e-04, charge_mae: 1.17e-02, loss: 1.17e-02, lr: 1.59e-04, epoch: 8.06e+01, step: 7.25e+02\n",
      "charge_mse: 7.08e-03, charge_mae: 1.40e-02, loss: 1.40e-02, lr: 1.59e-04, epoch: 8.07e+01, step: 7.26e+02\n",
      "charge_mse: 4.65e-03, charge_mae: 1.42e-02, loss: 1.42e-02, lr: 1.59e-04, epoch: 8.08e+01, step: 7.27e+02\n",
      "charge_mse: 5.70e-04, charge_mae: 8.88e-03, loss: 8.88e-03, lr: 1.59e-04, epoch: 8.09e+01, step: 7.28e+02\n",
      "charge_mse: 5.10e-04, charge_mae: 6.42e-03, loss: 6.42e-03, lr: 1.59e-04, epoch: 8.10e+01, step: 7.29e+02\n",
      "2022-07-06 17:15:58 (INFO): Evaluating on val.\n"
     ]
    },
    {
     "name": "stderr",
     "output_type": "stream",
     "text": [
      "device 0: 100%|██████████| 1/1 [00:11<00:00, 11.57s/it]"
     ]
    },
    {
     "name": "stdout",
     "output_type": "stream",
     "text": [
      "2022-07-06 17:16:09 (INFO): charge_mse: 0.0298, charge_mae: 0.0249, loss: 0.0249, epoch: 81.0000\n"
     ]
    },
    {
     "name": "stderr",
     "output_type": "stream",
     "text": [
      "\n"
     ]
    },
    {
     "name": "stdout",
     "output_type": "stream",
     "text": [
      "charge_mse: 8.98e-04, charge_mae: 1.71e-02, loss: 1.71e-02, lr: 1.59e-04, epoch: 8.11e+01, step: 7.30e+02\n",
      "charge_mse: 4.69e-04, charge_mae: 1.27e-02, loss: 1.27e-02, lr: 1.59e-04, epoch: 8.12e+01, step: 7.31e+02\n",
      "charge_mse: 1.03e-02, charge_mae: 1.74e-02, loss: 1.74e-02, lr: 1.59e-04, epoch: 8.13e+01, step: 7.32e+02\n",
      "charge_mse: 5.75e-04, charge_mae: 1.34e-02, loss: 1.34e-02, lr: 1.59e-04, epoch: 8.14e+01, step: 7.33e+02\n",
      "charge_mse: 1.39e-02, charge_mae: 1.08e-02, loss: 1.08e-02, lr: 1.59e-04, epoch: 8.16e+01, step: 7.34e+02\n",
      "charge_mse: 1.23e-03, charge_mae: 1.05e-02, loss: 1.05e-02, lr: 1.59e-04, epoch: 8.17e+01, step: 7.35e+02\n",
      "charge_mse: 3.83e-03, charge_mae: 1.32e-02, loss: 1.32e-02, lr: 1.59e-04, epoch: 8.18e+01, step: 7.36e+02\n",
      "charge_mse: 9.13e-04, charge_mae: 1.06e-02, loss: 1.06e-02, lr: 1.59e-04, epoch: 8.19e+01, step: 7.37e+02\n",
      "charge_mse: 3.88e-04, charge_mae: 1.29e-02, loss: 1.29e-02, lr: 1.59e-04, epoch: 8.20e+01, step: 7.38e+02\n",
      "2022-07-06 17:17:29 (INFO): Evaluating on val.\n"
     ]
    },
    {
     "name": "stderr",
     "output_type": "stream",
     "text": [
      "device 0: 100%|██████████| 1/1 [00:11<00:00, 11.43s/it]"
     ]
    },
    {
     "name": "stdout",
     "output_type": "stream",
     "text": [
      "2022-07-06 17:17:40 (INFO): charge_mse: 0.0282, charge_mae: 0.0188, loss: 0.0188, epoch: 82.0000\n"
     ]
    },
    {
     "name": "stderr",
     "output_type": "stream",
     "text": [
      "\n"
     ]
    },
    {
     "name": "stdout",
     "output_type": "stream",
     "text": [
      "charge_mse: 3.02e-03, charge_mae: 1.22e-02, loss: 1.22e-02, lr: 1.53e-04, epoch: 8.21e+01, step: 7.39e+02\n",
      "charge_mse: 8.31e-04, charge_mae: 1.38e-02, loss: 1.38e-02, lr: 1.53e-04, epoch: 8.22e+01, step: 7.40e+02\n",
      "charge_mse: 1.38e-02, charge_mae: 1.66e-02, loss: 1.66e-02, lr: 1.53e-04, epoch: 8.23e+01, step: 7.41e+02\n",
      "charge_mse: 4.46e-04, charge_mae: 8.59e-03, loss: 8.59e-03, lr: 1.53e-04, epoch: 8.24e+01, step: 7.42e+02\n",
      "charge_mse: 5.82e-04, charge_mae: 1.01e-02, loss: 1.01e-02, lr: 1.53e-04, epoch: 8.26e+01, step: 7.43e+02\n",
      "charge_mse: 5.12e-04, charge_mae: 1.36e-02, loss: 1.36e-02, lr: 1.53e-04, epoch: 8.27e+01, step: 7.44e+02\n",
      "charge_mse: 2.67e-04, charge_mae: 1.00e-02, loss: 1.00e-02, lr: 1.53e-04, epoch: 8.28e+01, step: 7.45e+02\n",
      "charge_mse: 2.53e-04, charge_mae: 1.12e-02, loss: 1.12e-02, lr: 1.53e-04, epoch: 8.29e+01, step: 7.46e+02\n",
      "charge_mse: 4.47e-04, charge_mae: 1.17e-02, loss: 1.17e-02, lr: 1.53e-04, epoch: 8.30e+01, step: 7.47e+02\n",
      "2022-07-06 17:19:04 (INFO): Evaluating on val.\n"
     ]
    },
    {
     "name": "stderr",
     "output_type": "stream",
     "text": [
      "device 0: 100%|██████████| 1/1 [00:11<00:00, 11.72s/it]"
     ]
    },
    {
     "name": "stdout",
     "output_type": "stream",
     "text": [
      "2022-07-06 17:19:16 (INFO): charge_mse: 0.0295, charge_mae: 0.0225, loss: 0.0225, epoch: 83.0000\n"
     ]
    },
    {
     "name": "stderr",
     "output_type": "stream",
     "text": [
      "\n"
     ]
    },
    {
     "name": "stdout",
     "output_type": "stream",
     "text": [
      "charge_mse: 1.43e-03, charge_mae: 1.21e-02, loss: 1.21e-02, lr: 1.53e-04, epoch: 8.31e+01, step: 7.48e+02\n",
      "charge_mse: 4.19e-04, charge_mae: 1.21e-02, loss: 1.21e-02, lr: 1.53e-04, epoch: 8.32e+01, step: 7.49e+02\n",
      "charge_mse: 1.41e-03, charge_mae: 1.22e-02, loss: 1.22e-02, lr: 1.53e-04, epoch: 8.33e+01, step: 7.50e+02\n",
      "charge_mse: 5.56e-04, charge_mae: 1.05e-02, loss: 1.05e-02, lr: 1.53e-04, epoch: 8.34e+01, step: 7.51e+02\n",
      "charge_mse: 2.49e-04, charge_mae: 1.18e-02, loss: 1.18e-02, lr: 1.53e-04, epoch: 8.36e+01, step: 7.52e+02\n",
      "charge_mse: 6.41e-04, charge_mae: 1.01e-02, loss: 1.01e-02, lr: 1.53e-04, epoch: 8.37e+01, step: 7.53e+02\n",
      "charge_mse: 1.44e-03, charge_mae: 1.52e-02, loss: 1.52e-02, lr: 1.53e-04, epoch: 8.38e+01, step: 7.54e+02\n",
      "charge_mse: 4.71e-04, charge_mae: 1.48e-02, loss: 1.48e-02, lr: 1.53e-04, epoch: 8.39e+01, step: 7.55e+02\n",
      "charge_mse: 7.27e-04, charge_mae: 8.57e-03, loss: 8.57e-03, lr: 1.53e-04, epoch: 8.40e+01, step: 7.56e+02\n",
      "2022-07-06 17:20:43 (INFO): Evaluating on val.\n"
     ]
    },
    {
     "name": "stderr",
     "output_type": "stream",
     "text": [
      "device 0: 100%|██████████| 1/1 [00:12<00:00, 12.68s/it]"
     ]
    },
    {
     "name": "stdout",
     "output_type": "stream",
     "text": [
      "2022-07-06 17:20:56 (INFO): charge_mse: 0.0266, charge_mae: 0.0204, loss: 0.0204, epoch: 84.0000\n"
     ]
    },
    {
     "name": "stderr",
     "output_type": "stream",
     "text": [
      "\n"
     ]
    },
    {
     "name": "stdout",
     "output_type": "stream",
     "text": [
      "charge_mse: 5.07e-04, charge_mae: 9.70e-03, loss: 9.70e-03, lr: 1.47e-04, epoch: 8.41e+01, step: 7.57e+02\n",
      "charge_mse: 1.51e-03, charge_mae: 1.23e-02, loss: 1.23e-02, lr: 1.47e-04, epoch: 8.42e+01, step: 7.58e+02\n",
      "charge_mse: 6.23e-04, charge_mae: 1.12e-02, loss: 1.12e-02, lr: 1.47e-04, epoch: 8.43e+01, step: 7.59e+02\n",
      "charge_mse: 2.29e-03, charge_mae: 1.20e-02, loss: 1.20e-02, lr: 1.47e-04, epoch: 8.44e+01, step: 7.60e+02\n",
      "charge_mse: 3.05e-04, charge_mae: 8.21e-03, loss: 8.21e-03, lr: 1.47e-04, epoch: 8.46e+01, step: 7.61e+02\n",
      "charge_mse: 1.08e-02, charge_mae: 1.56e-02, loss: 1.56e-02, lr: 1.47e-04, epoch: 8.47e+01, step: 7.62e+02\n",
      "charge_mse: 4.97e-04, charge_mae: 1.40e-02, loss: 1.40e-02, lr: 1.47e-04, epoch: 8.48e+01, step: 7.63e+02\n",
      "charge_mse: 3.86e-04, charge_mae: 8.89e-03, loss: 8.89e-03, lr: 1.47e-04, epoch: 8.49e+01, step: 7.64e+02\n",
      "charge_mse: 7.58e-04, charge_mae: 9.95e-03, loss: 9.95e-03, lr: 1.47e-04, epoch: 8.50e+01, step: 7.65e+02\n",
      "2022-07-06 17:22:19 (INFO): Evaluating on val.\n"
     ]
    },
    {
     "name": "stderr",
     "output_type": "stream",
     "text": [
      "device 0: 100%|██████████| 1/1 [00:11<00:00, 11.78s/it]"
     ]
    },
    {
     "name": "stdout",
     "output_type": "stream",
     "text": [
      "2022-07-06 17:22:31 (INFO): charge_mse: 0.0135, charge_mae: 0.0178, loss: 0.0177, epoch: 85.0000\n"
     ]
    },
    {
     "name": "stderr",
     "output_type": "stream",
     "text": [
      "\n"
     ]
    },
    {
     "name": "stdout",
     "output_type": "stream",
     "text": [
      "charge_mse: 6.47e-03, charge_mae: 1.30e-02, loss: 1.30e-02, lr: 1.47e-04, epoch: 8.51e+01, step: 7.66e+02\n",
      "charge_mse: 9.45e-04, charge_mae: 9.84e-03, loss: 9.84e-03, lr: 1.47e-04, epoch: 8.52e+01, step: 7.67e+02\n",
      "charge_mse: 8.89e-04, charge_mae: 1.30e-02, loss: 1.30e-02, lr: 1.47e-04, epoch: 8.53e+01, step: 7.68e+02\n",
      "charge_mse: 1.16e-03, charge_mae: 1.05e-02, loss: 1.05e-02, lr: 1.47e-04, epoch: 8.54e+01, step: 7.69e+02\n",
      "charge_mse: 7.20e-04, charge_mae: 1.49e-02, loss: 1.49e-02, lr: 1.47e-04, epoch: 8.56e+01, step: 7.70e+02\n",
      "charge_mse: 2.14e-03, charge_mae: 1.67e-02, loss: 1.67e-02, lr: 1.47e-04, epoch: 8.57e+01, step: 7.71e+02\n",
      "charge_mse: 9.02e-04, charge_mae: 7.75e-03, loss: 7.75e-03, lr: 1.47e-04, epoch: 8.58e+01, step: 7.72e+02\n",
      "charge_mse: 2.67e-04, charge_mae: 6.29e-03, loss: 6.29e-03, lr: 1.47e-04, epoch: 8.59e+01, step: 7.73e+02\n",
      "charge_mse: 4.46e-04, charge_mae: 1.20e-02, loss: 1.20e-02, lr: 1.47e-04, epoch: 8.60e+01, step: 7.74e+02\n",
      "2022-07-06 17:23:54 (INFO): Evaluating on val.\n"
     ]
    },
    {
     "name": "stderr",
     "output_type": "stream",
     "text": [
      "device 0: 100%|██████████| 1/1 [00:11<00:00, 11.80s/it]"
     ]
    },
    {
     "name": "stdout",
     "output_type": "stream",
     "text": [
      "2022-07-06 17:24:06 (INFO): charge_mse: 0.0146, charge_mae: 0.0164, loss: 0.0164, epoch: 86.0000\n"
     ]
    },
    {
     "name": "stderr",
     "output_type": "stream",
     "text": [
      "\n"
     ]
    },
    {
     "name": "stdout",
     "output_type": "stream",
     "text": [
      "charge_mse: 7.42e-04, charge_mae: 1.04e-02, loss: 1.04e-02, lr: 1.47e-04, epoch: 8.61e+01, step: 7.75e+02\n",
      "charge_mse: 1.15e-03, charge_mae: 1.33e-02, loss: 1.33e-02, lr: 1.47e-04, epoch: 8.62e+01, step: 7.76e+02\n",
      "charge_mse: 3.08e-04, charge_mae: 9.59e-03, loss: 9.59e-03, lr: 1.47e-04, epoch: 8.63e+01, step: 7.77e+02\n",
      "charge_mse: 1.24e-03, charge_mae: 1.44e-02, loss: 1.44e-02, lr: 1.47e-04, epoch: 8.64e+01, step: 7.78e+02\n",
      "charge_mse: 1.27e-03, charge_mae: 1.35e-02, loss: 1.35e-02, lr: 1.47e-04, epoch: 8.66e+01, step: 7.79e+02\n",
      "charge_mse: 4.91e-04, charge_mae: 8.93e-03, loss: 8.93e-03, lr: 1.47e-04, epoch: 8.67e+01, step: 7.80e+02\n",
      "charge_mse: 2.36e-03, charge_mae: 8.97e-03, loss: 8.97e-03, lr: 1.47e-04, epoch: 8.68e+01, step: 7.81e+02\n",
      "charge_mse: 8.91e-04, charge_mae: 1.40e-02, loss: 1.40e-02, lr: 1.47e-04, epoch: 8.69e+01, step: 7.82e+02\n",
      "charge_mse: 4.00e-04, charge_mae: 1.20e-02, loss: 1.20e-02, lr: 1.47e-04, epoch: 8.70e+01, step: 7.83e+02\n",
      "2022-07-06 17:25:27 (INFO): Evaluating on val.\n"
     ]
    },
    {
     "name": "stderr",
     "output_type": "stream",
     "text": [
      "device 0: 100%|██████████| 1/1 [00:11<00:00, 11.50s/it]"
     ]
    },
    {
     "name": "stdout",
     "output_type": "stream",
     "text": [
      "2022-07-06 17:25:39 (INFO): charge_mse: 0.0245, charge_mae: 0.0205, loss: 0.0205, epoch: 87.0000\n"
     ]
    },
    {
     "name": "stderr",
     "output_type": "stream",
     "text": [
      "\n"
     ]
    },
    {
     "name": "stdout",
     "output_type": "stream",
     "text": [
      "charge_mse: 1.12e-03, charge_mae: 1.14e-02, loss: 1.14e-02, lr: 1.47e-04, epoch: 8.71e+01, step: 7.84e+02\n",
      "charge_mse: 6.90e-04, charge_mae: 9.85e-03, loss: 9.85e-03, lr: 1.47e-04, epoch: 8.72e+01, step: 7.85e+02\n",
      "charge_mse: 2.09e-03, charge_mae: 1.40e-02, loss: 1.40e-02, lr: 1.47e-04, epoch: 8.73e+01, step: 7.86e+02\n",
      "charge_mse: 7.01e-04, charge_mae: 1.36e-02, loss: 1.36e-02, lr: 1.47e-04, epoch: 8.74e+01, step: 7.87e+02\n",
      "charge_mse: 4.21e-04, charge_mae: 9.71e-03, loss: 9.71e-03, lr: 1.47e-04, epoch: 8.76e+01, step: 7.88e+02\n",
      "charge_mse: 4.54e-04, charge_mae: 8.50e-03, loss: 8.50e-03, lr: 1.47e-04, epoch: 8.77e+01, step: 7.89e+02\n",
      "charge_mse: 4.34e-04, charge_mae: 1.38e-02, loss: 1.38e-02, lr: 1.47e-04, epoch: 8.78e+01, step: 7.90e+02\n",
      "charge_mse: 4.01e-04, charge_mae: 1.18e-02, loss: 1.18e-02, lr: 1.47e-04, epoch: 8.79e+01, step: 7.91e+02\n",
      "charge_mse: 2.84e-03, charge_mae: 1.08e-02, loss: 1.08e-02, lr: 1.47e-04, epoch: 8.80e+01, step: 7.92e+02\n",
      "2022-07-06 17:27:00 (INFO): Evaluating on val.\n"
     ]
    },
    {
     "name": "stderr",
     "output_type": "stream",
     "text": [
      "device 0: 100%|██████████| 1/1 [00:12<00:00, 12.25s/it]"
     ]
    },
    {
     "name": "stdout",
     "output_type": "stream",
     "text": [
      "2022-07-06 17:27:12 (INFO): charge_mse: 0.0287, charge_mae: 0.0202, loss: 0.0202, epoch: 88.0000\n"
     ]
    },
    {
     "name": "stderr",
     "output_type": "stream",
     "text": [
      "\n"
     ]
    },
    {
     "name": "stdout",
     "output_type": "stream",
     "text": [
      "charge_mse: 6.11e-04, charge_mae: 1.07e-02, loss: 1.07e-02, lr: 1.41e-04, epoch: 8.81e+01, step: 7.93e+02\n",
      "charge_mse: 5.53e-04, charge_mae: 1.17e-02, loss: 1.17e-02, lr: 1.41e-04, epoch: 8.82e+01, step: 7.94e+02\n",
      "charge_mse: 3.26e-04, charge_mae: 1.14e-02, loss: 1.14e-02, lr: 1.41e-04, epoch: 8.83e+01, step: 7.95e+02\n",
      "charge_mse: 1.19e-03, charge_mae: 1.01e-02, loss: 1.01e-02, lr: 1.41e-04, epoch: 8.84e+01, step: 7.96e+02\n",
      "charge_mse: 3.48e-04, charge_mae: 6.94e-03, loss: 6.94e-03, lr: 1.41e-04, epoch: 8.86e+01, step: 7.97e+02\n",
      "charge_mse: 4.85e-03, charge_mae: 1.55e-02, loss: 1.55e-02, lr: 1.41e-04, epoch: 8.87e+01, step: 7.98e+02\n",
      "charge_mse: 3.80e-03, charge_mae: 1.37e-02, loss: 1.37e-02, lr: 1.41e-04, epoch: 8.88e+01, step: 7.99e+02\n",
      "charge_mse: 6.24e-04, charge_mae: 1.05e-02, loss: 1.05e-02, lr: 1.41e-04, epoch: 8.89e+01, step: 8.00e+02\n",
      "charge_mse: 4.03e-04, charge_mae: 9.21e-03, loss: 9.21e-03, lr: 1.41e-04, epoch: 8.90e+01, step: 8.01e+02\n",
      "2022-07-06 17:28:41 (INFO): Evaluating on val.\n"
     ]
    },
    {
     "name": "stderr",
     "output_type": "stream",
     "text": [
      "device 0: 100%|██████████| 1/1 [00:11<00:00, 11.56s/it]"
     ]
    },
    {
     "name": "stdout",
     "output_type": "stream",
     "text": [
      "2022-07-06 17:28:52 (INFO): charge_mse: 0.0265, charge_mae: 0.0219, loss: 0.0219, epoch: 89.0000\n"
     ]
    },
    {
     "name": "stderr",
     "output_type": "stream",
     "text": [
      "\n"
     ]
    },
    {
     "name": "stdout",
     "output_type": "stream",
     "text": [
      "charge_mse: 6.52e-04, charge_mae: 1.24e-02, loss: 1.24e-02, lr: 1.41e-04, epoch: 8.91e+01, step: 8.02e+02\n",
      "charge_mse: 3.51e-04, charge_mae: 1.19e-02, loss: 1.19e-02, lr: 1.41e-04, epoch: 8.92e+01, step: 8.03e+02\n",
      "charge_mse: 5.18e-04, charge_mae: 8.59e-03, loss: 8.59e-03, lr: 1.41e-04, epoch: 8.93e+01, step: 8.04e+02\n",
      "charge_mse: 4.69e-04, charge_mae: 5.23e-03, loss: 5.23e-03, lr: 1.41e-04, epoch: 8.94e+01, step: 8.05e+02\n",
      "charge_mse: 1.85e-03, charge_mae: 1.55e-02, loss: 1.55e-02, lr: 1.41e-04, epoch: 8.96e+01, step: 8.06e+02\n",
      "charge_mse: 7.73e-04, charge_mae: 1.11e-02, loss: 1.11e-02, lr: 1.41e-04, epoch: 8.97e+01, step: 8.07e+02\n",
      "charge_mse: 2.38e-03, charge_mae: 1.29e-02, loss: 1.29e-02, lr: 1.41e-04, epoch: 8.98e+01, step: 8.08e+02\n",
      "charge_mse: 1.08e-03, charge_mae: 1.29e-02, loss: 1.29e-02, lr: 1.41e-04, epoch: 8.99e+01, step: 8.09e+02\n",
      "charge_mse: 3.38e-03, charge_mae: 1.08e-02, loss: 1.08e-02, lr: 1.41e-04, epoch: 9.00e+01, step: 8.10e+02\n",
      "2022-07-06 17:30:12 (INFO): Evaluating on val.\n"
     ]
    },
    {
     "name": "stderr",
     "output_type": "stream",
     "text": [
      "device 0: 100%|██████████| 1/1 [00:11<00:00, 11.43s/it]"
     ]
    },
    {
     "name": "stdout",
     "output_type": "stream",
     "text": [
      "2022-07-06 17:30:23 (INFO): charge_mse: 0.0245, charge_mae: 0.0189, loss: 0.0189, epoch: 90.0000\n"
     ]
    },
    {
     "name": "stderr",
     "output_type": "stream",
     "text": [
      "\n"
     ]
    },
    {
     "name": "stdout",
     "output_type": "stream",
     "text": [
      "charge_mse: 4.92e-04, charge_mae: 1.00e-02, loss: 1.00e-02, lr: 1.35e-04, epoch: 9.01e+01, step: 8.11e+02\n",
      "charge_mse: 3.81e-04, charge_mae: 9.50e-03, loss: 9.50e-03, lr: 1.35e-04, epoch: 9.02e+01, step: 8.12e+02\n",
      "charge_mse: 8.82e-04, charge_mae: 8.62e-03, loss: 8.62e-03, lr: 1.35e-04, epoch: 9.03e+01, step: 8.13e+02\n",
      "charge_mse: 4.09e-04, charge_mae: 1.16e-02, loss: 1.16e-02, lr: 1.35e-04, epoch: 9.04e+01, step: 8.14e+02\n",
      "charge_mse: 3.92e-03, charge_mae: 1.34e-02, loss: 1.34e-02, lr: 1.35e-04, epoch: 9.06e+01, step: 8.15e+02\n",
      "charge_mse: 4.44e-04, charge_mae: 1.07e-02, loss: 1.07e-02, lr: 1.35e-04, epoch: 9.07e+01, step: 8.16e+02\n",
      "charge_mse: 2.90e-04, charge_mae: 1.01e-02, loss: 1.01e-02, lr: 1.35e-04, epoch: 9.08e+01, step: 8.17e+02\n",
      "charge_mse: 2.78e-04, charge_mae: 1.07e-02, loss: 1.07e-02, lr: 1.35e-04, epoch: 9.09e+01, step: 8.18e+02\n",
      "charge_mse: 1.42e-03, charge_mae: 1.16e-02, loss: 1.16e-02, lr: 1.35e-04, epoch: 9.10e+01, step: 8.19e+02\n",
      "2022-07-06 17:31:43 (INFO): Evaluating on val.\n"
     ]
    },
    {
     "name": "stderr",
     "output_type": "stream",
     "text": [
      "device 0: 100%|██████████| 1/1 [00:11<00:00, 11.56s/it]"
     ]
    },
    {
     "name": "stdout",
     "output_type": "stream",
     "text": [
      "2022-07-06 17:31:54 (INFO): charge_mse: 0.0223, charge_mae: 0.0185, loss: 0.0185, epoch: 91.0000\n"
     ]
    },
    {
     "name": "stderr",
     "output_type": "stream",
     "text": [
      "\n"
     ]
    },
    {
     "name": "stdout",
     "output_type": "stream",
     "text": [
      "charge_mse: 4.08e-04, charge_mae: 9.73e-03, loss: 9.73e-03, lr: 1.35e-04, epoch: 9.11e+01, step: 8.20e+02\n",
      "charge_mse: 2.70e-04, charge_mae: 7.21e-03, loss: 7.21e-03, lr: 1.35e-04, epoch: 9.12e+01, step: 8.21e+02\n",
      "charge_mse: 4.65e-04, charge_mae: 1.47e-02, loss: 1.47e-02, lr: 1.35e-04, epoch: 9.13e+01, step: 8.22e+02\n",
      "charge_mse: 7.80e-04, charge_mae: 1.51e-02, loss: 1.51e-02, lr: 1.35e-04, epoch: 9.14e+01, step: 8.23e+02\n",
      "charge_mse: 3.27e-04, charge_mae: 7.78e-03, loss: 7.78e-03, lr: 1.35e-04, epoch: 9.16e+01, step: 8.24e+02\n",
      "charge_mse: 4.60e-04, charge_mae: 9.44e-03, loss: 9.44e-03, lr: 1.35e-04, epoch: 9.17e+01, step: 8.25e+02\n",
      "charge_mse: 1.07e-03, charge_mae: 1.12e-02, loss: 1.12e-02, lr: 1.35e-04, epoch: 9.18e+01, step: 8.26e+02\n",
      "charge_mse: 2.35e-04, charge_mae: 7.47e-03, loss: 7.47e-03, lr: 1.35e-04, epoch: 9.19e+01, step: 8.27e+02\n",
      "charge_mse: 1.65e-03, charge_mae: 1.47e-02, loss: 1.47e-02, lr: 1.35e-04, epoch: 9.20e+01, step: 8.28e+02\n",
      "2022-07-06 17:33:14 (INFO): Evaluating on val.\n"
     ]
    },
    {
     "name": "stderr",
     "output_type": "stream",
     "text": [
      "device 0: 100%|██████████| 1/1 [00:11<00:00, 11.78s/it]"
     ]
    },
    {
     "name": "stdout",
     "output_type": "stream",
     "text": [
      "2022-07-06 17:33:26 (INFO): charge_mse: 0.0179, charge_mae: 0.0193, loss: 0.0193, epoch: 92.0000\n"
     ]
    },
    {
     "name": "stderr",
     "output_type": "stream",
     "text": [
      "\n"
     ]
    },
    {
     "name": "stdout",
     "output_type": "stream",
     "text": [
      "charge_mse: 3.11e-04, charge_mae: 1.14e-02, loss: 1.14e-02, lr: 1.30e-04, epoch: 9.21e+01, step: 8.29e+02\n",
      "charge_mse: 1.14e-03, charge_mae: 1.03e-02, loss: 1.03e-02, lr: 1.30e-04, epoch: 9.22e+01, step: 8.30e+02\n",
      "charge_mse: 1.06e-03, charge_mae: 1.18e-02, loss: 1.18e-02, lr: 1.30e-04, epoch: 9.23e+01, step: 8.31e+02\n",
      "charge_mse: 2.84e-04, charge_mae: 8.72e-03, loss: 8.72e-03, lr: 1.30e-04, epoch: 9.24e+01, step: 8.32e+02\n",
      "charge_mse: 5.00e-04, charge_mae: 8.43e-03, loss: 8.43e-03, lr: 1.30e-04, epoch: 9.26e+01, step: 8.33e+02\n",
      "charge_mse: 1.94e-03, charge_mae: 1.23e-02, loss: 1.23e-02, lr: 1.30e-04, epoch: 9.27e+01, step: 8.34e+02\n",
      "charge_mse: 4.08e-04, charge_mae: 9.50e-03, loss: 9.50e-03, lr: 1.30e-04, epoch: 9.28e+01, step: 8.35e+02\n",
      "charge_mse: 1.24e-03, charge_mae: 1.21e-02, loss: 1.21e-02, lr: 1.30e-04, epoch: 9.29e+01, step: 8.36e+02\n",
      "charge_mse: 4.51e-04, charge_mae: 1.11e-02, loss: 1.11e-02, lr: 1.30e-04, epoch: 9.30e+01, step: 8.37e+02\n",
      "2022-07-06 17:34:59 (INFO): Evaluating on val.\n"
     ]
    },
    {
     "name": "stderr",
     "output_type": "stream",
     "text": [
      "device 0: 100%|██████████| 1/1 [00:11<00:00, 11.37s/it]"
     ]
    },
    {
     "name": "stdout",
     "output_type": "stream",
     "text": [
      "2022-07-06 17:35:11 (INFO): charge_mse: 0.0220, charge_mae: 0.0167, loss: 0.0167, epoch: 93.0000\n"
     ]
    },
    {
     "name": "stderr",
     "output_type": "stream",
     "text": [
      "\n"
     ]
    },
    {
     "name": "stdout",
     "output_type": "stream",
     "text": [
      "charge_mse: 2.04e-04, charge_mae: 7.48e-03, loss: 7.48e-03, lr: 1.30e-04, epoch: 9.31e+01, step: 8.38e+02\n",
      "charge_mse: 5.77e-04, charge_mae: 8.97e-03, loss: 8.97e-03, lr: 1.30e-04, epoch: 9.32e+01, step: 8.39e+02\n",
      "charge_mse: 1.39e-03, charge_mae: 1.13e-02, loss: 1.13e-02, lr: 1.30e-04, epoch: 9.33e+01, step: 8.40e+02\n",
      "charge_mse: 3.26e-04, charge_mae: 9.25e-03, loss: 9.25e-03, lr: 1.30e-04, epoch: 9.34e+01, step: 8.41e+02\n",
      "charge_mse: 1.68e-03, charge_mae: 1.16e-02, loss: 1.16e-02, lr: 1.30e-04, epoch: 9.36e+01, step: 8.42e+02\n",
      "charge_mse: 9.94e-03, charge_mae: 1.18e-02, loss: 1.18e-02, lr: 1.30e-04, epoch: 9.37e+01, step: 8.43e+02\n",
      "charge_mse: 3.44e-04, charge_mae: 1.14e-02, loss: 1.14e-02, lr: 1.30e-04, epoch: 9.38e+01, step: 8.44e+02\n",
      "charge_mse: 3.08e-04, charge_mae: 9.72e-03, loss: 9.72e-03, lr: 1.30e-04, epoch: 9.39e+01, step: 8.45e+02\n",
      "charge_mse: 1.96e-03, charge_mae: 1.19e-02, loss: 1.19e-02, lr: 1.30e-04, epoch: 9.40e+01, step: 8.46e+02\n",
      "2022-07-06 17:36:32 (INFO): Evaluating on val.\n"
     ]
    },
    {
     "name": "stderr",
     "output_type": "stream",
     "text": [
      "device 0: 100%|██████████| 1/1 [00:11<00:00, 11.88s/it]"
     ]
    },
    {
     "name": "stdout",
     "output_type": "stream",
     "text": [
      "2022-07-06 17:36:44 (INFO): charge_mse: 0.0186, charge_mae: 0.0179, loss: 0.0179, epoch: 94.0000\n"
     ]
    },
    {
     "name": "stderr",
     "output_type": "stream",
     "text": [
      "\n"
     ]
    },
    {
     "name": "stdout",
     "output_type": "stream",
     "text": [
      "charge_mse: 7.84e-04, charge_mae: 1.00e-02, loss: 1.00e-02, lr: 1.25e-04, epoch: 9.41e+01, step: 8.47e+02\n",
      "charge_mse: 3.37e-03, charge_mae: 9.55e-03, loss: 9.55e-03, lr: 1.25e-04, epoch: 9.42e+01, step: 8.48e+02\n",
      "charge_mse: 1.04e-03, charge_mae: 8.44e-03, loss: 8.44e-03, lr: 1.25e-04, epoch: 9.43e+01, step: 8.49e+02\n",
      "charge_mse: 8.85e-04, charge_mae: 1.22e-02, loss: 1.22e-02, lr: 1.25e-04, epoch: 9.44e+01, step: 8.50e+02\n",
      "charge_mse: 3.25e-03, charge_mae: 1.26e-02, loss: 1.26e-02, lr: 1.25e-04, epoch: 9.46e+01, step: 8.51e+02\n",
      "charge_mse: 1.14e-03, charge_mae: 7.70e-03, loss: 7.70e-03, lr: 1.25e-04, epoch: 9.47e+01, step: 8.52e+02\n",
      "charge_mse: 2.43e-04, charge_mae: 6.57e-03, loss: 6.57e-03, lr: 1.25e-04, epoch: 9.48e+01, step: 8.53e+02\n",
      "charge_mse: 7.43e-04, charge_mae: 1.36e-02, loss: 1.36e-02, lr: 1.25e-04, epoch: 9.49e+01, step: 8.54e+02\n",
      "charge_mse: 5.69e-04, charge_mae: 1.25e-02, loss: 1.25e-02, lr: 1.25e-04, epoch: 9.50e+01, step: 8.55e+02\n",
      "2022-07-06 17:38:06 (INFO): Evaluating on val.\n"
     ]
    },
    {
     "name": "stderr",
     "output_type": "stream",
     "text": [
      "device 0: 100%|██████████| 1/1 [00:12<00:00, 12.16s/it]"
     ]
    },
    {
     "name": "stdout",
     "output_type": "stream",
     "text": [
      "2022-07-06 17:38:19 (INFO): charge_mse: 0.0233, charge_mae: 0.0167, loss: 0.0167, epoch: 95.0000\n"
     ]
    },
    {
     "name": "stderr",
     "output_type": "stream",
     "text": [
      "\n"
     ]
    },
    {
     "name": "stdout",
     "output_type": "stream",
     "text": [
      "charge_mse: 4.87e-04, charge_mae: 8.42e-03, loss: 8.42e-03, lr: 1.25e-04, epoch: 9.51e+01, step: 8.56e+02\n",
      "charge_mse: 6.37e-04, charge_mae: 8.10e-03, loss: 8.10e-03, lr: 1.25e-04, epoch: 9.52e+01, step: 8.57e+02\n",
      "charge_mse: 1.93e-03, charge_mae: 1.21e-02, loss: 1.21e-02, lr: 1.25e-04, epoch: 9.53e+01, step: 8.58e+02\n",
      "charge_mse: 2.77e-04, charge_mae: 1.04e-02, loss: 1.04e-02, lr: 1.25e-04, epoch: 9.54e+01, step: 8.59e+02\n",
      "charge_mse: 5.92e-04, charge_mae: 9.58e-03, loss: 9.58e-03, lr: 1.25e-04, epoch: 9.56e+01, step: 8.60e+02\n",
      "charge_mse: 6.61e-04, charge_mae: 8.31e-03, loss: 8.31e-03, lr: 1.25e-04, epoch: 9.57e+01, step: 8.61e+02\n",
      "charge_mse: 3.84e-04, charge_mae: 1.28e-02, loss: 1.28e-02, lr: 1.25e-04, epoch: 9.58e+01, step: 8.62e+02\n",
      "charge_mse: 1.25e-03, charge_mae: 1.31e-02, loss: 1.31e-02, lr: 1.25e-04, epoch: 9.59e+01, step: 8.63e+02\n",
      "charge_mse: 5.78e-04, charge_mae: 9.44e-03, loss: 9.44e-03, lr: 1.25e-04, epoch: 9.60e+01, step: 8.64e+02\n",
      "2022-07-06 17:39:39 (INFO): Evaluating on val.\n"
     ]
    },
    {
     "name": "stderr",
     "output_type": "stream",
     "text": [
      "device 0: 100%|██████████| 1/1 [00:11<00:00, 11.69s/it]"
     ]
    },
    {
     "name": "stdout",
     "output_type": "stream",
     "text": [
      "2022-07-06 17:39:51 (INFO): charge_mse: 0.0206, charge_mae: 0.0179, loss: 0.0179, epoch: 96.0000\n"
     ]
    },
    {
     "name": "stderr",
     "output_type": "stream",
     "text": [
      "\n"
     ]
    },
    {
     "name": "stdout",
     "output_type": "stream",
     "text": [
      "charge_mse: 1.04e-03, charge_mae: 1.05e-02, loss: 1.05e-02, lr: 1.20e-04, epoch: 9.61e+01, step: 8.65e+02\n",
      "charge_mse: 3.47e-04, charge_mae: 8.65e-03, loss: 8.65e-03, lr: 1.20e-04, epoch: 9.62e+01, step: 8.66e+02\n",
      "charge_mse: 1.40e-04, charge_mae: 6.84e-03, loss: 6.84e-03, lr: 1.20e-04, epoch: 9.63e+01, step: 8.67e+02\n",
      "charge_mse: 3.01e-04, charge_mae: 1.12e-02, loss: 1.12e-02, lr: 1.20e-04, epoch: 9.64e+01, step: 8.68e+02\n",
      "charge_mse: 3.10e-03, charge_mae: 1.17e-02, loss: 1.17e-02, lr: 1.20e-04, epoch: 9.66e+01, step: 8.69e+02\n",
      "charge_mse: 2.09e-03, charge_mae: 1.10e-02, loss: 1.10e-02, lr: 1.20e-04, epoch: 9.67e+01, step: 8.70e+02\n",
      "charge_mse: 4.11e-04, charge_mae: 1.06e-02, loss: 1.06e-02, lr: 1.20e-04, epoch: 9.68e+01, step: 8.71e+02\n",
      "charge_mse: 4.08e-04, charge_mae: 8.85e-03, loss: 8.85e-03, lr: 1.20e-04, epoch: 9.69e+01, step: 8.72e+02\n",
      "charge_mse: 6.99e-04, charge_mae: 9.83e-03, loss: 9.83e-03, lr: 1.20e-04, epoch: 9.70e+01, step: 8.73e+02\n",
      "2022-07-06 17:41:13 (INFO): Evaluating on val.\n"
     ]
    },
    {
     "name": "stderr",
     "output_type": "stream",
     "text": [
      "device 0: 100%|██████████| 1/1 [00:11<00:00, 11.66s/it]"
     ]
    },
    {
     "name": "stdout",
     "output_type": "stream",
     "text": [
      "2022-07-06 17:41:25 (INFO): charge_mse: 0.0166, charge_mae: 0.0170, loss: 0.0170, epoch: 97.0000\n"
     ]
    },
    {
     "name": "stderr",
     "output_type": "stream",
     "text": [
      "\n"
     ]
    },
    {
     "name": "stdout",
     "output_type": "stream",
     "text": [
      "charge_mse: 2.97e-04, charge_mae: 9.38e-03, loss: 9.38e-03, lr: 1.20e-04, epoch: 9.71e+01, step: 8.74e+02\n",
      "charge_mse: 2.33e-03, charge_mae: 9.91e-03, loss: 9.91e-03, lr: 1.20e-04, epoch: 9.72e+01, step: 8.75e+02\n",
      "charge_mse: 3.87e-04, charge_mae: 9.77e-03, loss: 9.77e-03, lr: 1.20e-04, epoch: 9.73e+01, step: 8.76e+02\n",
      "charge_mse: 7.04e-04, charge_mae: 8.84e-03, loss: 8.84e-03, lr: 1.20e-04, epoch: 9.74e+01, step: 8.77e+02\n",
      "charge_mse: 9.58e-04, charge_mae: 1.22e-02, loss: 1.22e-02, lr: 1.20e-04, epoch: 9.76e+01, step: 8.78e+02\n",
      "charge_mse: 5.76e-04, charge_mae: 1.22e-02, loss: 1.22e-02, lr: 1.20e-04, epoch: 9.77e+01, step: 8.79e+02\n",
      "charge_mse: 1.36e-04, charge_mae: 6.79e-03, loss: 6.79e-03, lr: 1.20e-04, epoch: 9.78e+01, step: 8.80e+02\n",
      "charge_mse: 1.72e-04, charge_mae: 7.00e-03, loss: 7.00e-03, lr: 1.20e-04, epoch: 9.79e+01, step: 8.81e+02\n",
      "charge_mse: 4.90e-04, charge_mae: 1.25e-02, loss: 1.25e-02, lr: 1.20e-04, epoch: 9.80e+01, step: 8.82e+02\n",
      "2022-07-06 17:42:59 (INFO): Evaluating on val.\n"
     ]
    },
    {
     "name": "stderr",
     "output_type": "stream",
     "text": [
      "device 0: 100%|██████████| 1/1 [00:11<00:00, 11.57s/it]"
     ]
    },
    {
     "name": "stdout",
     "output_type": "stream",
     "text": [
      "2022-07-06 17:43:11 (INFO): charge_mse: 0.0207, charge_mae: 0.0189, loss: 0.0189, epoch: 98.0000\n"
     ]
    },
    {
     "name": "stderr",
     "output_type": "stream",
     "text": [
      "\n"
     ]
    },
    {
     "name": "stdout",
     "output_type": "stream",
     "text": [
      "charge_mse: 4.37e-04, charge_mae: 1.16e-02, loss: 1.16e-02, lr: 1.15e-04, epoch: 9.81e+01, step: 8.83e+02\n",
      "charge_mse: 4.53e-04, charge_mae: 6.89e-03, loss: 6.89e-03, lr: 1.15e-04, epoch: 9.82e+01, step: 8.84e+02\n",
      "charge_mse: 1.07e-03, charge_mae: 7.97e-03, loss: 7.97e-03, lr: 1.15e-04, epoch: 9.83e+01, step: 8.85e+02\n",
      "charge_mse: 1.52e-03, charge_mae: 1.24e-02, loss: 1.24e-02, lr: 1.15e-04, epoch: 9.84e+01, step: 8.86e+02\n",
      "charge_mse: 4.13e-04, charge_mae: 1.01e-02, loss: 1.01e-02, lr: 1.15e-04, epoch: 9.86e+01, step: 8.87e+02\n",
      "charge_mse: 3.62e-04, charge_mae: 7.91e-03, loss: 7.91e-03, lr: 1.15e-04, epoch: 9.87e+01, step: 8.88e+02\n",
      "charge_mse: 3.79e-03, charge_mae: 7.48e-03, loss: 7.48e-03, lr: 1.15e-04, epoch: 9.88e+01, step: 8.89e+02\n",
      "charge_mse: 3.00e-04, charge_mae: 1.11e-02, loss: 1.11e-02, lr: 1.15e-04, epoch: 9.89e+01, step: 8.90e+02\n",
      "charge_mse: 3.34e-04, charge_mae: 1.03e-02, loss: 1.03e-02, lr: 1.15e-04, epoch: 9.90e+01, step: 8.91e+02\n",
      "2022-07-06 17:44:44 (INFO): Evaluating on val.\n"
     ]
    },
    {
     "name": "stderr",
     "output_type": "stream",
     "text": [
      "device 0: 100%|██████████| 1/1 [00:11<00:00, 11.53s/it]"
     ]
    },
    {
     "name": "stdout",
     "output_type": "stream",
     "text": [
      "2022-07-06 17:44:55 (INFO): charge_mse: 0.0220, charge_mae: 0.0181, loss: 0.0181, epoch: 99.0000\n"
     ]
    },
    {
     "name": "stderr",
     "output_type": "stream",
     "text": [
      "\n"
     ]
    },
    {
     "name": "stdout",
     "output_type": "stream",
     "text": [
      "charge_mse: 3.23e-04, charge_mae: 9.39e-03, loss: 9.39e-03, lr: 1.15e-04, epoch: 9.91e+01, step: 8.92e+02\n",
      "charge_mse: 2.15e-04, charge_mae: 8.50e-03, loss: 8.50e-03, lr: 1.15e-04, epoch: 9.92e+01, step: 8.93e+02\n",
      "charge_mse: 8.66e-04, charge_mae: 9.87e-03, loss: 9.87e-03, lr: 1.15e-04, epoch: 9.93e+01, step: 8.94e+02\n",
      "charge_mse: 6.67e-04, charge_mae: 9.89e-03, loss: 9.89e-03, lr: 1.15e-04, epoch: 9.94e+01, step: 8.95e+02\n",
      "charge_mse: 3.85e-04, charge_mae: 8.65e-03, loss: 8.65e-03, lr: 1.15e-04, epoch: 9.96e+01, step: 8.96e+02\n",
      "charge_mse: 1.13e-03, charge_mae: 1.02e-02, loss: 1.02e-02, lr: 1.15e-04, epoch: 9.97e+01, step: 8.97e+02\n",
      "charge_mse: 1.51e-03, charge_mae: 1.09e-02, loss: 1.09e-02, lr: 1.15e-04, epoch: 9.98e+01, step: 8.98e+02\n",
      "charge_mse: 4.51e-04, charge_mae: 9.70e-03, loss: 9.70e-03, lr: 1.15e-04, epoch: 9.99e+01, step: 8.99e+02\n",
      "charge_mse: 2.81e-04, charge_mae: 8.47e-03, loss: 8.47e-03, lr: 1.15e-04, epoch: 1.00e+02, step: 9.00e+02\n",
      "2022-07-06 17:46:28 (INFO): Evaluating on val.\n"
     ]
    },
    {
     "name": "stderr",
     "output_type": "stream",
     "text": [
      "device 0: 100%|██████████| 1/1 [00:11<00:00, 11.24s/it]"
     ]
    },
    {
     "name": "stdout",
     "output_type": "stream",
     "text": [
      "2022-07-06 17:46:40 (INFO): charge_mse: 0.0193, charge_mae: 0.0153, loss: 0.0153, epoch: 100.0000\n"
     ]
    },
    {
     "name": "stderr",
     "output_type": "stream",
     "text": [
      "\n"
     ]
    },
    {
     "name": "stdout",
     "output_type": "stream",
     "text": [
      "charge_mse: 4.75e-04, charge_mae: 8.40e-03, loss: 8.40e-03, lr: 1.15e-04, epoch: 1.00e+02, step: 9.01e+02\n",
      "charge_mse: 3.14e-04, charge_mae: 1.08e-02, loss: 1.08e-02, lr: 1.15e-04, epoch: 1.00e+02, step: 9.02e+02\n",
      "charge_mse: 6.68e-03, charge_mae: 1.25e-02, loss: 1.25e-02, lr: 1.15e-04, epoch: 1.00e+02, step: 9.03e+02\n",
      "charge_mse: 1.33e-03, charge_mae: 1.03e-02, loss: 1.03e-02, lr: 1.15e-04, epoch: 1.00e+02, step: 9.04e+02\n",
      "charge_mse: 2.24e-04, charge_mae: 8.03e-03, loss: 8.03e-03, lr: 1.15e-04, epoch: 1.01e+02, step: 9.05e+02\n",
      "charge_mse: 1.63e-03, charge_mae: 1.08e-02, loss: 1.08e-02, lr: 1.15e-04, epoch: 1.01e+02, step: 9.06e+02\n",
      "charge_mse: 1.65e-03, charge_mae: 1.06e-02, loss: 1.06e-02, lr: 1.15e-04, epoch: 1.01e+02, step: 9.07e+02\n",
      "charge_mse: 2.53e-04, charge_mae: 7.22e-03, loss: 7.22e-03, lr: 1.15e-04, epoch: 1.01e+02, step: 9.08e+02\n",
      "charge_mse: 1.91e-04, charge_mae: 7.84e-03, loss: 7.84e-03, lr: 1.15e-04, epoch: 1.01e+02, step: 9.09e+02\n",
      "2022-07-06 17:48:01 (INFO): Evaluating on val.\n"
     ]
    },
    {
     "name": "stderr",
     "output_type": "stream",
     "text": [
      "device 0: 100%|██████████| 1/1 [00:11<00:00, 11.69s/it]"
     ]
    },
    {
     "name": "stdout",
     "output_type": "stream",
     "text": [
      "2022-07-06 17:48:13 (INFO): charge_mse: 0.0071, charge_mae: 0.0145, loss: 0.0145, epoch: 101.0000\n"
     ]
    },
    {
     "name": "stderr",
     "output_type": "stream",
     "text": [
      "\n"
     ]
    },
    {
     "name": "stdout",
     "output_type": "stream",
     "text": [
      "charge_mse: 3.87e-04, charge_mae: 1.01e-02, loss: 1.01e-02, lr: 1.15e-04, epoch: 1.01e+02, step: 9.10e+02\n",
      "charge_mse: 4.33e-04, charge_mae: 8.41e-03, loss: 8.41e-03, lr: 1.15e-04, epoch: 1.01e+02, step: 9.11e+02\n",
      "charge_mse: 3.06e-04, charge_mae: 8.74e-03, loss: 8.74e-03, lr: 1.15e-04, epoch: 1.01e+02, step: 9.12e+02\n",
      "charge_mse: 2.28e-04, charge_mae: 6.87e-03, loss: 6.87e-03, lr: 1.15e-04, epoch: 1.01e+02, step: 9.13e+02\n",
      "charge_mse: 9.68e-04, charge_mae: 1.30e-02, loss: 1.30e-02, lr: 1.15e-04, epoch: 1.02e+02, step: 9.14e+02\n",
      "charge_mse: 5.30e-04, charge_mae: 1.23e-02, loss: 1.23e-02, lr: 1.15e-04, epoch: 1.02e+02, step: 9.15e+02\n",
      "charge_mse: 5.38e-04, charge_mae: 8.01e-03, loss: 8.01e-03, lr: 1.15e-04, epoch: 1.02e+02, step: 9.16e+02\n",
      "charge_mse: 5.42e-04, charge_mae: 7.29e-03, loss: 7.29e-03, lr: 1.15e-04, epoch: 1.02e+02, step: 9.17e+02\n",
      "charge_mse: 8.47e-04, charge_mae: 1.20e-02, loss: 1.20e-02, lr: 1.15e-04, epoch: 1.02e+02, step: 9.18e+02\n",
      "2022-07-06 17:49:39 (INFO): Evaluating on val.\n"
     ]
    },
    {
     "name": "stderr",
     "output_type": "stream",
     "text": [
      "device 0: 100%|██████████| 1/1 [00:11<00:00, 11.59s/it]"
     ]
    },
    {
     "name": "stdout",
     "output_type": "stream",
     "text": [
      "2022-07-06 17:49:51 (INFO): charge_mse: 0.0256, charge_mae: 0.0190, loss: 0.0190, epoch: 102.0000\n"
     ]
    },
    {
     "name": "stderr",
     "output_type": "stream",
     "text": [
      "\n"
     ]
    },
    {
     "name": "stdout",
     "output_type": "stream",
     "text": [
      "charge_mse: 1.42e-03, charge_mae: 1.23e-02, loss: 1.23e-02, lr: 1.15e-04, epoch: 1.02e+02, step: 9.19e+02\n",
      "charge_mse: 2.61e-04, charge_mae: 7.48e-03, loss: 7.48e-03, lr: 1.15e-04, epoch: 1.02e+02, step: 9.20e+02\n",
      "charge_mse: 2.01e-03, charge_mae: 8.08e-03, loss: 8.08e-03, lr: 1.15e-04, epoch: 1.02e+02, step: 9.21e+02\n",
      "charge_mse: 1.07e-03, charge_mae: 1.29e-02, loss: 1.29e-02, lr: 1.15e-04, epoch: 1.02e+02, step: 9.22e+02\n",
      "charge_mse: 3.54e-04, charge_mae: 1.13e-02, loss: 1.13e-02, lr: 1.15e-04, epoch: 1.03e+02, step: 9.23e+02\n",
      "charge_mse: 3.95e-04, charge_mae: 9.25e-03, loss: 9.25e-03, lr: 1.15e-04, epoch: 1.03e+02, step: 9.24e+02\n",
      "charge_mse: 2.92e-04, charge_mae: 8.98e-03, loss: 8.98e-03, lr: 1.15e-04, epoch: 1.03e+02, step: 9.25e+02\n",
      "charge_mse: 1.99e-03, charge_mae: 9.31e-03, loss: 9.31e-03, lr: 1.15e-04, epoch: 1.03e+02, step: 9.26e+02\n",
      "charge_mse: 6.25e-04, charge_mae: 8.32e-03, loss: 8.32e-03, lr: 1.15e-04, epoch: 1.03e+02, step: 9.27e+02\n",
      "2022-07-06 17:51:21 (INFO): Evaluating on val.\n"
     ]
    },
    {
     "name": "stderr",
     "output_type": "stream",
     "text": [
      "device 0: 100%|██████████| 1/1 [00:11<00:00, 11.60s/it]"
     ]
    },
    {
     "name": "stdout",
     "output_type": "stream",
     "text": [
      "2022-07-06 17:51:32 (INFO): charge_mse: 0.0169, charge_mae: 0.0174, loss: 0.0174, epoch: 103.0000\n"
     ]
    },
    {
     "name": "stderr",
     "output_type": "stream",
     "text": [
      "\n"
     ]
    },
    {
     "name": "stdout",
     "output_type": "stream",
     "text": [
      "charge_mse: 3.72e-04, charge_mae: 8.85e-03, loss: 8.85e-03, lr: 1.10e-04, epoch: 1.03e+02, step: 9.28e+02\n",
      "charge_mse: 6.59e-04, charge_mae: 9.32e-03, loss: 9.32e-03, lr: 1.10e-04, epoch: 1.03e+02, step: 9.29e+02\n",
      "charge_mse: 2.63e-03, charge_mae: 1.11e-02, loss: 1.11e-02, lr: 1.10e-04, epoch: 1.03e+02, step: 9.30e+02\n",
      "charge_mse: 3.11e-04, charge_mae: 8.89e-03, loss: 8.89e-03, lr: 1.10e-04, epoch: 1.03e+02, step: 9.31e+02\n",
      "charge_mse: 1.10e-03, charge_mae: 9.26e-03, loss: 9.26e-03, lr: 1.10e-04, epoch: 1.04e+02, step: 9.32e+02\n",
      "charge_mse: 1.90e-03, charge_mae: 1.04e-02, loss: 1.04e-02, lr: 1.10e-04, epoch: 1.04e+02, step: 9.33e+02\n",
      "charge_mse: 9.50e-04, charge_mae: 9.26e-03, loss: 9.26e-03, lr: 1.10e-04, epoch: 1.04e+02, step: 9.34e+02\n",
      "charge_mse: 2.15e-04, charge_mae: 7.93e-03, loss: 7.93e-03, lr: 1.10e-04, epoch: 1.04e+02, step: 9.35e+02\n",
      "charge_mse: 9.11e-04, charge_mae: 8.69e-03, loss: 8.69e-03, lr: 1.10e-04, epoch: 1.04e+02, step: 9.36e+02\n",
      "2022-07-06 17:52:57 (INFO): Evaluating on val.\n"
     ]
    },
    {
     "name": "stderr",
     "output_type": "stream",
     "text": [
      "device 0: 100%|██████████| 1/1 [00:11<00:00, 11.42s/it]"
     ]
    },
    {
     "name": "stdout",
     "output_type": "stream",
     "text": [
      "2022-07-06 17:53:09 (INFO): charge_mse: 0.0151, charge_mae: 0.0144, loss: 0.0145, epoch: 104.0000\n"
     ]
    },
    {
     "name": "stderr",
     "output_type": "stream",
     "text": [
      "\n"
     ]
    },
    {
     "name": "stdout",
     "output_type": "stream",
     "text": [
      "charge_mse: 2.83e-04, charge_mae: 7.60e-03, loss: 7.60e-03, lr: 1.10e-04, epoch: 1.04e+02, step: 9.37e+02\n",
      "charge_mse: 4.60e-04, charge_mae: 1.01e-02, loss: 1.01e-02, lr: 1.10e-04, epoch: 1.04e+02, step: 9.38e+02\n",
      "charge_mse: 1.63e-03, charge_mae: 1.14e-02, loss: 1.14e-02, lr: 1.10e-04, epoch: 1.04e+02, step: 9.39e+02\n",
      "charge_mse: 1.39e-04, charge_mae: 6.42e-03, loss: 6.42e-03, lr: 1.10e-04, epoch: 1.04e+02, step: 9.40e+02\n",
      "charge_mse: 4.42e-04, charge_mae: 6.57e-03, loss: 6.57e-03, lr: 1.10e-04, epoch: 1.05e+02, step: 9.41e+02\n",
      "charge_mse: 4.69e-04, charge_mae: 1.20e-02, loss: 1.20e-02, lr: 1.10e-04, epoch: 1.05e+02, step: 9.42e+02\n",
      "charge_mse: 3.02e-04, charge_mae: 1.16e-02, loss: 1.16e-02, lr: 1.10e-04, epoch: 1.05e+02, step: 9.43e+02\n",
      "charge_mse: 5.71e-04, charge_mae: 8.05e-03, loss: 8.05e-03, lr: 1.10e-04, epoch: 1.05e+02, step: 9.44e+02\n",
      "charge_mse: 1.98e-03, charge_mae: 8.32e-03, loss: 8.32e-03, lr: 1.10e-04, epoch: 1.05e+02, step: 9.45e+02\n",
      "2022-07-06 17:54:30 (INFO): Evaluating on val.\n"
     ]
    },
    {
     "name": "stderr",
     "output_type": "stream",
     "text": [
      "device 0: 100%|██████████| 1/1 [00:11<00:00, 11.87s/it]"
     ]
    },
    {
     "name": "stdout",
     "output_type": "stream",
     "text": [
      "2022-07-06 17:54:42 (INFO): charge_mse: 0.0203, charge_mae: 0.0192, loss: 0.0192, epoch: 105.0000\n"
     ]
    },
    {
     "name": "stderr",
     "output_type": "stream",
     "text": [
      "\n"
     ]
    },
    {
     "name": "stdout",
     "output_type": "stream",
     "text": [
      "charge_mse: 3.74e-04, charge_mae: 1.07e-02, loss: 1.07e-02, lr: 1.10e-04, epoch: 1.05e+02, step: 9.46e+02\n",
      "charge_mse: 1.52e-03, charge_mae: 1.05e-02, loss: 1.05e-02, lr: 1.10e-04, epoch: 1.05e+02, step: 9.47e+02\n",
      "charge_mse: 3.01e-04, charge_mae: 8.54e-03, loss: 8.54e-03, lr: 1.10e-04, epoch: 1.05e+02, step: 9.48e+02\n",
      "charge_mse: 7.08e-04, charge_mae: 9.40e-03, loss: 9.40e-03, lr: 1.10e-04, epoch: 1.05e+02, step: 9.49e+02\n",
      "charge_mse: 1.51e-03, charge_mae: 1.14e-02, loss: 1.14e-02, lr: 1.10e-04, epoch: 1.06e+02, step: 9.50e+02\n",
      "charge_mse: 3.32e-03, charge_mae: 1.06e-02, loss: 1.06e-02, lr: 1.10e-04, epoch: 1.06e+02, step: 9.51e+02\n",
      "charge_mse: 1.30e-03, charge_mae: 9.83e-03, loss: 9.83e-03, lr: 1.10e-04, epoch: 1.06e+02, step: 9.52e+02\n",
      "charge_mse: 1.31e-02, charge_mae: 1.06e-02, loss: 1.06e-02, lr: 1.10e-04, epoch: 1.06e+02, step: 9.53e+02\n",
      "charge_mse: 2.55e-04, charge_mae: 9.95e-03, loss: 9.95e-03, lr: 1.10e-04, epoch: 1.06e+02, step: 9.54e+02\n",
      "2022-07-06 17:56:02 (INFO): Evaluating on val.\n"
     ]
    },
    {
     "name": "stderr",
     "output_type": "stream",
     "text": [
      "device 0: 100%|██████████| 1/1 [00:11<00:00, 11.54s/it]"
     ]
    },
    {
     "name": "stdout",
     "output_type": "stream",
     "text": [
      "2022-07-06 17:56:14 (INFO): charge_mse: 0.0383, charge_mae: 0.0221, loss: 0.0221, epoch: 106.0000\n"
     ]
    },
    {
     "name": "stderr",
     "output_type": "stream",
     "text": [
      "\n"
     ]
    },
    {
     "name": "stdout",
     "output_type": "stream",
     "text": [
      "charge_mse: 2.25e-03, charge_mae: 1.12e-02, loss: 1.12e-02, lr: 1.06e-04, epoch: 1.06e+02, step: 9.55e+02\n",
      "charge_mse: 5.11e-04, charge_mae: 6.73e-03, loss: 6.73e-03, lr: 1.06e-04, epoch: 1.06e+02, step: 9.56e+02\n",
      "charge_mse: 1.02e-03, charge_mae: 6.77e-03, loss: 6.77e-03, lr: 1.06e-04, epoch: 1.06e+02, step: 9.57e+02\n",
      "charge_mse: 1.56e-03, charge_mae: 1.30e-02, loss: 1.30e-02, lr: 1.06e-04, epoch: 1.06e+02, step: 9.58e+02\n",
      "charge_mse: 4.44e-04, charge_mae: 1.03e-02, loss: 1.03e-02, lr: 1.06e-04, epoch: 1.07e+02, step: 9.59e+02\n",
      "charge_mse: 4.06e-04, charge_mae: 8.66e-03, loss: 8.66e-03, lr: 1.06e-04, epoch: 1.07e+02, step: 9.60e+02\n",
      "charge_mse: 1.06e-03, charge_mae: 9.12e-03, loss: 9.12e-03, lr: 1.06e-04, epoch: 1.07e+02, step: 9.61e+02\n",
      "charge_mse: 2.48e-04, charge_mae: 8.54e-03, loss: 8.54e-03, lr: 1.06e-04, epoch: 1.07e+02, step: 9.62e+02\n",
      "charge_mse: 7.41e-04, charge_mae: 9.00e-03, loss: 9.00e-03, lr: 1.06e-04, epoch: 1.07e+02, step: 9.63e+02\n",
      "2022-07-06 17:57:42 (INFO): Evaluating on val.\n"
     ]
    },
    {
     "name": "stderr",
     "output_type": "stream",
     "text": [
      "device 0: 100%|██████████| 1/1 [00:11<00:00, 11.63s/it]"
     ]
    },
    {
     "name": "stdout",
     "output_type": "stream",
     "text": [
      "2022-07-06 17:57:53 (INFO): charge_mse: 0.0109, charge_mae: 0.0143, loss: 0.0143, epoch: 107.0000\n"
     ]
    },
    {
     "name": "stderr",
     "output_type": "stream",
     "text": [
      "\n"
     ]
    },
    {
     "name": "stdout",
     "output_type": "stream",
     "text": [
      "charge_mse: 2.92e-04, charge_mae: 8.57e-03, loss: 8.57e-03, lr: 1.06e-04, epoch: 1.07e+02, step: 9.64e+02\n",
      "charge_mse: 2.11e-04, charge_mae: 6.84e-03, loss: 6.84e-03, lr: 1.06e-04, epoch: 1.07e+02, step: 9.65e+02\n",
      "charge_mse: 2.11e-03, charge_mae: 1.19e-02, loss: 1.19e-02, lr: 1.06e-04, epoch: 1.07e+02, step: 9.66e+02\n",
      "charge_mse: 3.51e-04, charge_mae: 1.08e-02, loss: 1.08e-02, lr: 1.06e-04, epoch: 1.07e+02, step: 9.67e+02\n",
      "charge_mse: 6.36e-04, charge_mae: 8.30e-03, loss: 8.30e-03, lr: 1.06e-04, epoch: 1.08e+02, step: 9.68e+02\n",
      "charge_mse: 6.30e-04, charge_mae: 7.72e-03, loss: 7.72e-03, lr: 1.06e-04, epoch: 1.08e+02, step: 9.69e+02\n",
      "charge_mse: 4.21e-04, charge_mae: 1.06e-02, loss: 1.06e-02, lr: 1.06e-04, epoch: 1.08e+02, step: 9.70e+02\n",
      "charge_mse: 3.68e-04, charge_mae: 9.08e-03, loss: 9.08e-03, lr: 1.06e-04, epoch: 1.08e+02, step: 9.71e+02\n",
      "charge_mse: 9.13e-04, charge_mae: 1.07e-02, loss: 1.07e-02, lr: 1.06e-04, epoch: 1.08e+02, step: 9.72e+02\n",
      "2022-07-06 17:59:14 (INFO): Evaluating on val.\n"
     ]
    },
    {
     "name": "stderr",
     "output_type": "stream",
     "text": [
      "device 0: 100%|██████████| 1/1 [00:12<00:00, 12.02s/it]"
     ]
    },
    {
     "name": "stdout",
     "output_type": "stream",
     "text": [
      "2022-07-06 17:59:26 (INFO): charge_mse: 0.0140, charge_mae: 0.0162, loss: 0.0162, epoch: 108.0000\n"
     ]
    },
    {
     "name": "stderr",
     "output_type": "stream",
     "text": [
      "\n"
     ]
    },
    {
     "name": "stdout",
     "output_type": "stream",
     "text": [
      "charge_mse: 5.18e-04, charge_mae: 9.74e-03, loss: 9.74e-03, lr: 1.06e-04, epoch: 1.08e+02, step: 9.73e+02\n",
      "charge_mse: 4.61e-04, charge_mae: 9.53e-03, loss: 9.53e-03, lr: 1.06e-04, epoch: 1.08e+02, step: 9.74e+02\n",
      "charge_mse: 2.66e-04, charge_mae: 8.48e-03, loss: 8.48e-03, lr: 1.06e-04, epoch: 1.08e+02, step: 9.75e+02\n",
      "charge_mse: 5.37e-03, charge_mae: 9.06e-03, loss: 9.06e-03, lr: 1.06e-04, epoch: 1.08e+02, step: 9.76e+02\n",
      "charge_mse: 3.98e-04, charge_mae: 6.99e-03, loss: 6.99e-03, lr: 1.06e-04, epoch: 1.09e+02, step: 9.77e+02\n",
      "charge_mse: 1.38e-03, charge_mae: 1.25e-02, loss: 1.25e-02, lr: 1.06e-04, epoch: 1.09e+02, step: 9.78e+02\n",
      "charge_mse: 1.09e-03, charge_mae: 1.05e-02, loss: 1.05e-02, lr: 1.06e-04, epoch: 1.09e+02, step: 9.79e+02\n",
      "charge_mse: 1.09e-03, charge_mae: 1.04e-02, loss: 1.04e-02, lr: 1.06e-04, epoch: 1.09e+02, step: 9.80e+02\n",
      "charge_mse: 4.31e-04, charge_mae: 9.30e-03, loss: 9.30e-03, lr: 1.06e-04, epoch: 1.09e+02, step: 9.81e+02\n",
      "2022-07-06 18:00:47 (INFO): Evaluating on val.\n"
     ]
    },
    {
     "name": "stderr",
     "output_type": "stream",
     "text": [
      "device 0: 100%|██████████| 1/1 [00:11<00:00, 11.99s/it]"
     ]
    },
    {
     "name": "stdout",
     "output_type": "stream",
     "text": [
      "2022-07-06 18:00:59 (INFO): charge_mse: 0.0143, charge_mae: 0.0160, loss: 0.0160, epoch: 109.0000\n"
     ]
    },
    {
     "name": "stderr",
     "output_type": "stream",
     "text": [
      "\n"
     ]
    },
    {
     "name": "stdout",
     "output_type": "stream",
     "text": [
      "charge_mse: 3.26e-04, charge_mae: 8.70e-03, loss: 8.70e-03, lr: 1.02e-04, epoch: 1.09e+02, step: 9.82e+02\n",
      "charge_mse: 3.52e-04, charge_mae: 8.71e-03, loss: 8.71e-03, lr: 1.02e-04, epoch: 1.09e+02, step: 9.83e+02\n",
      "charge_mse: 5.58e-04, charge_mae: 8.77e-03, loss: 8.77e-03, lr: 1.02e-04, epoch: 1.09e+02, step: 9.84e+02\n",
      "charge_mse: 1.72e-04, charge_mae: 7.08e-03, loss: 7.08e-03, lr: 1.02e-04, epoch: 1.09e+02, step: 9.85e+02\n",
      "charge_mse: 1.32e-03, charge_mae: 1.11e-02, loss: 1.11e-02, lr: 1.02e-04, epoch: 1.10e+02, step: 9.86e+02\n",
      "charge_mse: 4.62e-04, charge_mae: 9.28e-03, loss: 9.28e-03, lr: 1.02e-04, epoch: 1.10e+02, step: 9.87e+02\n",
      "charge_mse: 2.13e-04, charge_mae: 6.96e-03, loss: 6.96e-03, lr: 1.02e-04, epoch: 1.10e+02, step: 9.88e+02\n",
      "charge_mse: 7.60e-04, charge_mae: 7.72e-03, loss: 7.72e-03, lr: 1.02e-04, epoch: 1.10e+02, step: 9.89e+02\n",
      "charge_mse: 6.42e-04, charge_mae: 1.08e-02, loss: 1.08e-02, lr: 1.02e-04, epoch: 1.10e+02, step: 9.90e+02\n",
      "2022-07-06 18:02:28 (INFO): Evaluating on val.\n"
     ]
    },
    {
     "name": "stderr",
     "output_type": "stream",
     "text": [
      "device 0: 100%|██████████| 1/1 [00:11<00:00, 11.94s/it]"
     ]
    },
    {
     "name": "stdout",
     "output_type": "stream",
     "text": [
      "2022-07-06 18:02:40 (INFO): charge_mse: 0.0297, charge_mae: 0.0202, loss: 0.0202, epoch: 110.0000\n"
     ]
    },
    {
     "name": "stderr",
     "output_type": "stream",
     "text": [
      "\n"
     ]
    },
    {
     "name": "stdout",
     "output_type": "stream",
     "text": [
      "charge_mse: 3.84e-04, charge_mae: 1.03e-02, loss: 1.03e-02, lr: 1.02e-04, epoch: 1.10e+02, step: 9.91e+02\n",
      "charge_mse: 6.03e-04, charge_mae: 8.07e-03, loss: 8.07e-03, lr: 1.02e-04, epoch: 1.10e+02, step: 9.92e+02\n",
      "charge_mse: 8.13e-04, charge_mae: 7.94e-03, loss: 7.94e-03, lr: 1.02e-04, epoch: 1.10e+02, step: 9.93e+02\n",
      "charge_mse: 4.20e-04, charge_mae: 9.20e-03, loss: 9.20e-03, lr: 1.02e-04, epoch: 1.10e+02, step: 9.94e+02\n",
      "charge_mse: 1.71e-04, charge_mae: 6.99e-03, loss: 6.99e-03, lr: 1.02e-04, epoch: 1.11e+02, step: 9.95e+02\n",
      "charge_mse: 7.57e-04, charge_mae: 1.00e-02, loss: 1.00e-02, lr: 1.02e-04, epoch: 1.11e+02, step: 9.96e+02\n",
      "charge_mse: 5.72e-04, charge_mae: 9.25e-03, loss: 9.25e-03, lr: 1.02e-04, epoch: 1.11e+02, step: 9.97e+02\n",
      "charge_mse: 4.18e-04, charge_mae: 9.70e-03, loss: 9.70e-03, lr: 1.02e-04, epoch: 1.11e+02, step: 9.98e+02\n",
      "charge_mse: 1.38e-03, charge_mae: 8.74e-03, loss: 8.74e-03, lr: 1.02e-04, epoch: 1.11e+02, step: 9.99e+02\n",
      "2022-07-06 18:04:03 (INFO): Evaluating on val.\n"
     ]
    },
    {
     "name": "stderr",
     "output_type": "stream",
     "text": [
      "device 0: 100%|██████████| 1/1 [00:11<00:00, 11.80s/it]"
     ]
    },
    {
     "name": "stdout",
     "output_type": "stream",
     "text": [
      "2022-07-06 18:04:15 (INFO): charge_mse: 0.0274, charge_mae: 0.0170, loss: 0.0170, epoch: 111.0000\n"
     ]
    },
    {
     "name": "stderr",
     "output_type": "stream",
     "text": [
      "\n"
     ]
    },
    {
     "name": "stdout",
     "output_type": "stream",
     "text": [
      "charge_mse: 7.78e-04, charge_mae: 8.90e-03, loss: 8.90e-03, lr: 9.77e-05, epoch: 1.11e+02, step: 1.00e+03\n",
      "charge_mse: 1.72e-03, charge_mae: 8.41e-03, loss: 8.41e-03, lr: 9.77e-05, epoch: 1.11e+02, step: 1.00e+03\n",
      "charge_mse: 3.06e-04, charge_mae: 9.46e-03, loss: 9.46e-03, lr: 9.77e-05, epoch: 1.11e+02, step: 1.00e+03\n",
      "charge_mse: 9.21e-04, charge_mae: 9.43e-03, loss: 9.43e-03, lr: 9.77e-05, epoch: 1.11e+02, step: 1.00e+03\n",
      "charge_mse: 3.15e-04, charge_mae: 7.85e-03, loss: 7.85e-03, lr: 9.77e-05, epoch: 1.12e+02, step: 1.00e+03\n",
      "charge_mse: 5.92e-04, charge_mae: 8.59e-03, loss: 8.59e-03, lr: 9.77e-05, epoch: 1.12e+02, step: 1.00e+03\n",
      "charge_mse: 5.46e-04, charge_mae: 8.23e-03, loss: 8.23e-03, lr: 9.77e-05, epoch: 1.12e+02, step: 1.01e+03\n",
      "charge_mse: 3.61e-04, charge_mae: 8.40e-03, loss: 8.40e-03, lr: 9.77e-05, epoch: 1.12e+02, step: 1.01e+03\n",
      "charge_mse: 2.21e-04, charge_mae: 7.70e-03, loss: 7.70e-03, lr: 9.77e-05, epoch: 1.12e+02, step: 1.01e+03\n",
      "2022-07-06 18:05:36 (INFO): Evaluating on val.\n"
     ]
    },
    {
     "name": "stderr",
     "output_type": "stream",
     "text": [
      "device 0: 100%|██████████| 1/1 [00:11<00:00, 11.80s/it]"
     ]
    },
    {
     "name": "stdout",
     "output_type": "stream",
     "text": [
      "2022-07-06 18:05:48 (INFO): charge_mse: 0.0139, charge_mae: 0.0130, loss: 0.0130, epoch: 112.0000\n"
     ]
    },
    {
     "name": "stderr",
     "output_type": "stream",
     "text": [
      "\n"
     ]
    },
    {
     "name": "stdout",
     "output_type": "stream",
     "text": [
      "charge_mse: 1.74e-03, charge_mae: 8.25e-03, loss: 8.25e-03, lr: 9.77e-05, epoch: 1.12e+02, step: 1.01e+03\n",
      "charge_mse: 8.12e-04, charge_mae: 1.12e-02, loss: 1.12e-02, lr: 9.77e-05, epoch: 1.12e+02, step: 1.01e+03\n",
      "charge_mse: 6.11e-04, charge_mae: 9.92e-03, loss: 9.92e-03, lr: 9.77e-05, epoch: 1.12e+02, step: 1.01e+03\n",
      "charge_mse: 7.68e-04, charge_mae: 8.82e-03, loss: 8.82e-03, lr: 9.77e-05, epoch: 1.12e+02, step: 1.01e+03\n",
      "charge_mse: 1.11e-04, charge_mae: 6.11e-03, loss: 6.11e-03, lr: 9.77e-05, epoch: 1.13e+02, step: 1.01e+03\n",
      "charge_mse: 3.89e-04, charge_mae: 9.60e-03, loss: 9.60e-03, lr: 9.77e-05, epoch: 1.13e+02, step: 1.01e+03\n",
      "charge_mse: 6.72e-04, charge_mae: 9.66e-03, loss: 9.66e-03, lr: 9.77e-05, epoch: 1.13e+02, step: 1.02e+03\n",
      "charge_mse: 5.99e-04, charge_mae: 7.56e-03, loss: 7.56e-03, lr: 9.77e-05, epoch: 1.13e+02, step: 1.02e+03\n",
      "charge_mse: 5.31e-04, charge_mae: 6.19e-03, loss: 6.19e-03, lr: 9.77e-05, epoch: 1.13e+02, step: 1.02e+03\n",
      "2022-07-06 18:07:18 (INFO): Evaluating on val.\n"
     ]
    },
    {
     "name": "stderr",
     "output_type": "stream",
     "text": [
      "device 0: 100%|██████████| 1/1 [00:13<00:00, 13.41s/it]"
     ]
    },
    {
     "name": "stdout",
     "output_type": "stream",
     "text": [
      "2022-07-06 18:07:31 (INFO): charge_mse: 0.0165, charge_mae: 0.0180, loss: 0.0180, epoch: 113.0000\n"
     ]
    },
    {
     "name": "stderr",
     "output_type": "stream",
     "text": [
      "\n"
     ]
    },
    {
     "name": "stdout",
     "output_type": "stream",
     "text": [
      "charge_mse: 3.45e-04, charge_mae: 1.10e-02, loss: 1.10e-02, lr: 9.77e-05, epoch: 1.13e+02, step: 1.02e+03\n",
      "charge_mse: 4.26e-04, charge_mae: 1.04e-02, loss: 1.04e-02, lr: 9.77e-05, epoch: 1.13e+02, step: 1.02e+03\n",
      "charge_mse: 2.12e-04, charge_mae: 6.42e-03, loss: 6.42e-03, lr: 9.77e-05, epoch: 1.13e+02, step: 1.02e+03\n",
      "charge_mse: 3.09e-04, charge_mae: 6.22e-03, loss: 6.22e-03, lr: 9.77e-05, epoch: 1.13e+02, step: 1.02e+03\n",
      "charge_mse: 4.03e-04, charge_mae: 9.20e-03, loss: 9.20e-03, lr: 9.77e-05, epoch: 1.14e+02, step: 1.02e+03\n",
      "charge_mse: 1.05e-03, charge_mae: 7.92e-03, loss: 7.92e-03, lr: 9.77e-05, epoch: 1.14e+02, step: 1.02e+03\n",
      "charge_mse: 2.95e-03, charge_mae: 1.07e-02, loss: 1.07e-02, lr: 9.77e-05, epoch: 1.14e+02, step: 1.02e+03\n",
      "charge_mse: 3.51e-04, charge_mae: 9.52e-03, loss: 9.52e-03, lr: 9.77e-05, epoch: 1.14e+02, step: 1.02e+03\n",
      "charge_mse: 5.96e-04, charge_mae: 9.18e-03, loss: 9.18e-03, lr: 9.77e-05, epoch: 1.14e+02, step: 1.03e+03\n",
      "2022-07-06 18:08:52 (INFO): Evaluating on val.\n"
     ]
    },
    {
     "name": "stderr",
     "output_type": "stream",
     "text": [
      "device 0: 100%|██████████| 1/1 [00:11<00:00, 11.60s/it]"
     ]
    },
    {
     "name": "stdout",
     "output_type": "stream",
     "text": [
      "2022-07-06 18:09:04 (INFO): charge_mse: 0.0101, charge_mae: 0.0142, loss: 0.0142, epoch: 114.0000\n"
     ]
    },
    {
     "name": "stderr",
     "output_type": "stream",
     "text": [
      "\n"
     ]
    },
    {
     "name": "stdout",
     "output_type": "stream",
     "text": [
      "charge_mse: 3.63e-04, charge_mae: 9.01e-03, loss: 9.01e-03, lr: 9.38e-05, epoch: 1.14e+02, step: 1.03e+03\n",
      "charge_mse: 3.99e-04, charge_mae: 6.97e-03, loss: 6.97e-03, lr: 9.38e-05, epoch: 1.14e+02, step: 1.03e+03\n",
      "charge_mse: 3.27e-04, charge_mae: 5.59e-03, loss: 5.59e-03, lr: 9.38e-05, epoch: 1.14e+02, step: 1.03e+03\n",
      "charge_mse: 3.44e-04, charge_mae: 1.04e-02, loss: 1.04e-02, lr: 9.38e-05, epoch: 1.14e+02, step: 1.03e+03\n",
      "charge_mse: 2.63e-04, charge_mae: 8.76e-03, loss: 8.76e-03, lr: 9.38e-05, epoch: 1.15e+02, step: 1.03e+03\n",
      "charge_mse: 9.10e-04, charge_mae: 9.76e-03, loss: 9.76e-03, lr: 9.38e-05, epoch: 1.15e+02, step: 1.03e+03\n",
      "charge_mse: 1.94e-04, charge_mae: 8.66e-03, loss: 8.66e-03, lr: 9.38e-05, epoch: 1.15e+02, step: 1.03e+03\n",
      "charge_mse: 3.44e-04, charge_mae: 7.86e-03, loss: 7.86e-03, lr: 9.38e-05, epoch: 1.15e+02, step: 1.03e+03\n",
      "charge_mse: 3.93e-04, charge_mae: 8.19e-03, loss: 8.19e-03, lr: 9.38e-05, epoch: 1.15e+02, step: 1.04e+03\n",
      "2022-07-06 18:10:33 (INFO): Evaluating on val.\n"
     ]
    },
    {
     "name": "stderr",
     "output_type": "stream",
     "text": [
      "device 0: 100%|██████████| 1/1 [00:11<00:00, 11.91s/it]"
     ]
    },
    {
     "name": "stdout",
     "output_type": "stream",
     "text": [
      "2022-07-06 18:10:45 (INFO): charge_mse: 0.0163, charge_mae: 0.0145, loss: 0.0145, epoch: 115.0000\n"
     ]
    },
    {
     "name": "stderr",
     "output_type": "stream",
     "text": [
      "\n"
     ]
    },
    {
     "name": "stdout",
     "output_type": "stream",
     "text": [
      "charge_mse: 2.54e-04, charge_mae: 7.31e-03, loss: 7.31e-03, lr: 9.38e-05, epoch: 1.15e+02, step: 1.04e+03\n",
      "charge_mse: 2.51e-04, charge_mae: 5.31e-03, loss: 5.31e-03, lr: 9.38e-05, epoch: 1.15e+02, step: 1.04e+03\n",
      "charge_mse: 2.29e-03, charge_mae: 1.10e-02, loss: 1.10e-02, lr: 9.38e-05, epoch: 1.15e+02, step: 1.04e+03\n",
      "charge_mse: 3.83e-04, charge_mae: 9.22e-03, loss: 9.22e-03, lr: 9.38e-05, epoch: 1.15e+02, step: 1.04e+03\n",
      "charge_mse: 4.43e-04, charge_mae: 8.05e-03, loss: 8.05e-03, lr: 9.38e-05, epoch: 1.16e+02, step: 1.04e+03\n",
      "charge_mse: 2.47e-03, charge_mae: 9.25e-03, loss: 9.25e-03, lr: 9.38e-05, epoch: 1.16e+02, step: 1.04e+03\n",
      "charge_mse: 2.96e-03, charge_mae: 9.00e-03, loss: 9.00e-03, lr: 9.38e-05, epoch: 1.16e+02, step: 1.04e+03\n",
      "charge_mse: 6.96e-04, charge_mae: 9.16e-03, loss: 9.16e-03, lr: 9.38e-05, epoch: 1.16e+02, step: 1.04e+03\n",
      "charge_mse: 1.12e-03, charge_mae: 7.21e-03, loss: 7.21e-03, lr: 9.38e-05, epoch: 1.16e+02, step: 1.04e+03\n",
      "2022-07-06 18:12:08 (INFO): Evaluating on val.\n"
     ]
    },
    {
     "name": "stderr",
     "output_type": "stream",
     "text": [
      "device 0: 100%|██████████| 1/1 [00:11<00:00, 11.47s/it]"
     ]
    },
    {
     "name": "stdout",
     "output_type": "stream",
     "text": [
      "2022-07-06 18:12:20 (INFO): charge_mse: 0.0124, charge_mae: 0.0112, loss: 0.0112, epoch: 116.0000\n"
     ]
    },
    {
     "name": "stderr",
     "output_type": "stream",
     "text": [
      "\n"
     ]
    },
    {
     "name": "stdout",
     "output_type": "stream",
     "text": [
      "charge_mse: 2.83e-04, charge_mae: 4.19e-03, loss: 4.19e-03, lr: 9.38e-05, epoch: 1.16e+02, step: 1.04e+03\n",
      "charge_mse: 4.55e-04, charge_mae: 7.13e-03, loss: 7.13e-03, lr: 9.38e-05, epoch: 1.16e+02, step: 1.05e+03\n",
      "charge_mse: 4.74e-04, charge_mae: 6.91e-03, loss: 6.91e-03, lr: 9.38e-05, epoch: 1.16e+02, step: 1.05e+03\n",
      "charge_mse: 6.67e-04, charge_mae: 6.04e-03, loss: 6.04e-03, lr: 9.38e-05, epoch: 1.16e+02, step: 1.05e+03\n",
      "charge_mse: 3.46e-04, charge_mae: 9.89e-03, loss: 9.89e-03, lr: 9.38e-05, epoch: 1.17e+02, step: 1.05e+03\n",
      "charge_mse: 2.52e-04, charge_mae: 7.48e-03, loss: 7.48e-03, lr: 9.38e-05, epoch: 1.17e+02, step: 1.05e+03\n",
      "charge_mse: 2.25e-04, charge_mae: 9.44e-03, loss: 9.44e-03, lr: 9.38e-05, epoch: 1.17e+02, step: 1.05e+03\n",
      "charge_mse: 1.08e-03, charge_mae: 1.09e-02, loss: 1.09e-02, lr: 9.38e-05, epoch: 1.17e+02, step: 1.05e+03\n",
      "charge_mse: 3.59e-04, charge_mae: 8.69e-03, loss: 8.69e-03, lr: 9.38e-05, epoch: 1.17e+02, step: 1.05e+03\n",
      "2022-07-06 18:13:41 (INFO): Evaluating on val.\n"
     ]
    },
    {
     "name": "stderr",
     "output_type": "stream",
     "text": [
      "device 0: 100%|██████████| 1/1 [00:11<00:00, 11.57s/it]"
     ]
    },
    {
     "name": "stdout",
     "output_type": "stream",
     "text": [
      "2022-07-06 18:13:52 (INFO): charge_mse: 0.0225, charge_mae: 0.0182, loss: 0.0182, epoch: 117.0000\n"
     ]
    },
    {
     "name": "stderr",
     "output_type": "stream",
     "text": [
      "\n"
     ]
    },
    {
     "name": "stdout",
     "output_type": "stream",
     "text": [
      "charge_mse: 3.98e-04, charge_mae: 9.11e-03, loss: 9.11e-03, lr: 9.38e-05, epoch: 1.17e+02, step: 1.05e+03\n",
      "charge_mse: 2.45e-04, charge_mae: 7.20e-03, loss: 7.20e-03, lr: 9.38e-05, epoch: 1.17e+02, step: 1.06e+03\n",
      "charge_mse: 5.59e-04, charge_mae: 7.05e-03, loss: 7.05e-03, lr: 9.38e-05, epoch: 1.17e+02, step: 1.06e+03\n",
      "charge_mse: 7.39e-04, charge_mae: 8.76e-03, loss: 8.76e-03, lr: 9.38e-05, epoch: 1.17e+02, step: 1.06e+03\n",
      "charge_mse: 4.86e-04, charge_mae: 7.02e-03, loss: 7.02e-03, lr: 9.38e-05, epoch: 1.18e+02, step: 1.06e+03\n",
      "charge_mse: 5.00e-04, charge_mae: 1.04e-02, loss: 1.04e-02, lr: 9.38e-05, epoch: 1.18e+02, step: 1.06e+03\n",
      "charge_mse: 1.00e-03, charge_mae: 1.00e-02, loss: 1.00e-02, lr: 9.38e-05, epoch: 1.18e+02, step: 1.06e+03\n",
      "charge_mse: 4.13e-03, charge_mae: 9.47e-03, loss: 9.47e-03, lr: 9.38e-05, epoch: 1.18e+02, step: 1.06e+03\n",
      "charge_mse: 5.20e-04, charge_mae: 9.68e-03, loss: 9.68e-03, lr: 9.38e-05, epoch: 1.18e+02, step: 1.06e+03\n",
      "2022-07-06 18:15:26 (INFO): Evaluating on val.\n"
     ]
    },
    {
     "name": "stderr",
     "output_type": "stream",
     "text": [
      "device 0: 100%|██████████| 1/1 [00:11<00:00, 11.71s/it]"
     ]
    },
    {
     "name": "stdout",
     "output_type": "stream",
     "text": [
      "2022-07-06 18:15:38 (INFO): charge_mse: 0.0102, charge_mae: 0.0125, loss: 0.0125, epoch: 118.0000\n"
     ]
    },
    {
     "name": "stderr",
     "output_type": "stream",
     "text": [
      "\n"
     ]
    },
    {
     "name": "stdout",
     "output_type": "stream",
     "text": [
      "charge_mse: 3.05e-04, charge_mae: 7.08e-03, loss: 7.08e-03, lr: 9.00e-05, epoch: 1.18e+02, step: 1.06e+03\n",
      "charge_mse: 8.05e-04, charge_mae: 8.32e-03, loss: 8.32e-03, lr: 9.00e-05, epoch: 1.18e+02, step: 1.06e+03\n",
      "charge_mse: 9.99e-04, charge_mae: 8.73e-03, loss: 8.73e-03, lr: 9.00e-05, epoch: 1.18e+02, step: 1.06e+03\n",
      "charge_mse: 3.27e-03, charge_mae: 6.94e-03, loss: 6.94e-03, lr: 9.00e-05, epoch: 1.18e+02, step: 1.07e+03\n",
      "charge_mse: 1.27e-02, charge_mae: 1.25e-02, loss: 1.25e-02, lr: 9.00e-05, epoch: 1.19e+02, step: 1.07e+03\n",
      "charge_mse: 3.76e-04, charge_mae: 1.09e-02, loss: 1.09e-02, lr: 9.00e-05, epoch: 1.19e+02, step: 1.07e+03\n",
      "charge_mse: 4.09e-04, charge_mae: 6.58e-03, loss: 6.58e-03, lr: 9.00e-05, epoch: 1.19e+02, step: 1.07e+03\n",
      "charge_mse: 2.07e-04, charge_mae: 6.62e-03, loss: 6.62e-03, lr: 9.00e-05, epoch: 1.19e+02, step: 1.07e+03\n",
      "charge_mse: 3.28e-04, charge_mae: 8.13e-03, loss: 8.13e-03, lr: 9.00e-05, epoch: 1.19e+02, step: 1.07e+03\n",
      "2022-07-06 18:16:59 (INFO): Evaluating on val.\n"
     ]
    },
    {
     "name": "stderr",
     "output_type": "stream",
     "text": [
      "device 0: 100%|██████████| 1/1 [00:12<00:00, 12.77s/it]"
     ]
    },
    {
     "name": "stdout",
     "output_type": "stream",
     "text": [
      "2022-07-06 18:17:12 (INFO): charge_mse: 0.0098, charge_mae: 0.0130, loss: 0.0130, epoch: 119.0000\n"
     ]
    },
    {
     "name": "stderr",
     "output_type": "stream",
     "text": [
      "\n"
     ]
    },
    {
     "name": "stdout",
     "output_type": "stream",
     "text": [
      "charge_mse: 8.46e-04, charge_mae: 7.77e-03, loss: 7.77e-03, lr: 9.00e-05, epoch: 1.19e+02, step: 1.07e+03\n",
      "charge_mse: 5.26e-03, charge_mae: 1.09e-02, loss: 1.09e-02, lr: 9.00e-05, epoch: 1.19e+02, step: 1.07e+03\n",
      "charge_mse: 4.00e-04, charge_mae: 8.95e-03, loss: 8.95e-03, lr: 9.00e-05, epoch: 1.19e+02, step: 1.07e+03\n",
      "charge_mse: 2.61e-04, charge_mae: 7.33e-03, loss: 7.33e-03, lr: 9.00e-05, epoch: 1.19e+02, step: 1.08e+03\n",
      "charge_mse: 3.42e-04, charge_mae: 7.30e-03, loss: 7.30e-03, lr: 9.00e-05, epoch: 1.20e+02, step: 1.08e+03\n",
      "charge_mse: 1.06e-03, charge_mae: 8.49e-03, loss: 8.49e-03, lr: 9.00e-05, epoch: 1.20e+02, step: 1.08e+03\n",
      "charge_mse: 2.72e-04, charge_mae: 7.15e-03, loss: 7.15e-03, lr: 9.00e-05, epoch: 1.20e+02, step: 1.08e+03\n",
      "charge_mse: 4.24e-04, charge_mae: 9.73e-03, loss: 9.73e-03, lr: 9.00e-05, epoch: 1.20e+02, step: 1.08e+03\n",
      "charge_mse: 4.12e-04, charge_mae: 7.20e-03, loss: 7.20e-03, lr: 9.00e-05, epoch: 1.20e+02, step: 1.08e+03\n",
      "2022-07-06 18:18:33 (INFO): Evaluating on val.\n"
     ]
    },
    {
     "name": "stderr",
     "output_type": "stream",
     "text": [
      "device 0: 100%|██████████| 1/1 [00:11<00:00, 11.97s/it]"
     ]
    },
    {
     "name": "stdout",
     "output_type": "stream",
     "text": [
      "2022-07-06 18:18:45 (INFO): charge_mse: 0.0242, charge_mae: 0.0172, loss: 0.0172, epoch: 120.0000\n"
     ]
    },
    {
     "name": "stderr",
     "output_type": "stream",
     "text": [
      "\n"
     ]
    },
    {
     "name": "stdout",
     "output_type": "stream",
     "text": [
      "charge_mse: 1.13e-03, charge_mae: 9.36e-03, loss: 9.36e-03, lr: 8.64e-05, epoch: 1.20e+02, step: 1.08e+03\n",
      "charge_mse: 1.43e-03, charge_mae: 9.81e-03, loss: 9.81e-03, lr: 8.64e-05, epoch: 1.20e+02, step: 1.08e+03\n",
      "charge_mse: 2.44e-04, charge_mae: 6.18e-03, loss: 6.18e-03, lr: 8.64e-05, epoch: 1.20e+02, step: 1.08e+03\n",
      "charge_mse: 4.61e-04, charge_mae: 7.78e-03, loss: 7.78e-03, lr: 8.64e-05, epoch: 1.20e+02, step: 1.08e+03\n",
      "charge_mse: 1.99e-04, charge_mae: 7.88e-03, loss: 7.88e-03, lr: 8.64e-05, epoch: 1.21e+02, step: 1.08e+03\n",
      "charge_mse: 4.67e-04, charge_mae: 8.96e-03, loss: 8.96e-03, lr: 8.64e-05, epoch: 1.21e+02, step: 1.09e+03\n",
      "charge_mse: 3.31e-04, charge_mae: 7.95e-03, loss: 7.95e-03, lr: 8.64e-05, epoch: 1.21e+02, step: 1.09e+03\n",
      "charge_mse: 1.83e-04, charge_mae: 7.41e-03, loss: 7.41e-03, lr: 8.64e-05, epoch: 1.21e+02, step: 1.09e+03\n",
      "charge_mse: 9.15e-04, charge_mae: 7.21e-03, loss: 7.21e-03, lr: 8.64e-05, epoch: 1.21e+02, step: 1.09e+03\n",
      "2022-07-06 18:20:06 (INFO): Evaluating on val.\n"
     ]
    },
    {
     "name": "stderr",
     "output_type": "stream",
     "text": [
      "device 0: 100%|██████████| 1/1 [00:11<00:00, 11.81s/it]"
     ]
    },
    {
     "name": "stdout",
     "output_type": "stream",
     "text": [
      "2022-07-06 18:20:18 (INFO): charge_mse: 0.0089, charge_mae: 0.0124, loss: 0.0124, epoch: 121.0000\n"
     ]
    },
    {
     "name": "stderr",
     "output_type": "stream",
     "text": [
      "\n"
     ]
    },
    {
     "name": "stdout",
     "output_type": "stream",
     "text": [
      "charge_mse: 3.00e-04, charge_mae: 7.16e-03, loss: 7.16e-03, lr: 8.64e-05, epoch: 1.21e+02, step: 1.09e+03\n",
      "charge_mse: 1.33e-03, charge_mae: 8.92e-03, loss: 8.92e-03, lr: 8.64e-05, epoch: 1.21e+02, step: 1.09e+03\n",
      "charge_mse: 3.95e-04, charge_mae: 7.53e-03, loss: 7.53e-03, lr: 8.64e-05, epoch: 1.21e+02, step: 1.09e+03\n",
      "charge_mse: 2.48e-04, charge_mae: 7.75e-03, loss: 7.75e-03, lr: 8.64e-05, epoch: 1.21e+02, step: 1.09e+03\n",
      "charge_mse: 9.85e-04, charge_mae: 8.37e-03, loss: 8.37e-03, lr: 8.64e-05, epoch: 1.22e+02, step: 1.09e+03\n",
      "charge_mse: 1.91e-03, charge_mae: 9.35e-03, loss: 9.35e-03, lr: 8.64e-05, epoch: 1.22e+02, step: 1.10e+03\n",
      "charge_mse: 3.31e-04, charge_mae: 9.31e-03, loss: 9.31e-03, lr: 8.64e-05, epoch: 1.22e+02, step: 1.10e+03\n",
      "charge_mse: 6.62e-04, charge_mae: 6.14e-03, loss: 6.14e-03, lr: 8.64e-05, epoch: 1.22e+02, step: 1.10e+03\n",
      "charge_mse: 8.60e-04, charge_mae: 5.57e-03, loss: 5.57e-03, lr: 8.64e-05, epoch: 1.22e+02, step: 1.10e+03\n",
      "2022-07-06 18:21:41 (INFO): Evaluating on val.\n"
     ]
    },
    {
     "name": "stderr",
     "output_type": "stream",
     "text": [
      "device 0: 100%|██████████| 1/1 [00:11<00:00, 11.85s/it]"
     ]
    },
    {
     "name": "stdout",
     "output_type": "stream",
     "text": [
      "2022-07-06 18:21:53 (INFO): charge_mse: 0.0087, charge_mae: 0.0149, loss: 0.0149, epoch: 122.0000\n"
     ]
    },
    {
     "name": "stderr",
     "output_type": "stream",
     "text": [
      "\n"
     ]
    },
    {
     "name": "stdout",
     "output_type": "stream",
     "text": [
      "charge_mse: 3.13e-04, charge_mae: 1.04e-02, loss: 1.04e-02, lr: 8.30e-05, epoch: 1.22e+02, step: 1.10e+03\n",
      "charge_mse: 4.11e-04, charge_mae: 8.46e-03, loss: 8.46e-03, lr: 8.30e-05, epoch: 1.22e+02, step: 1.10e+03\n",
      "charge_mse: 7.65e-04, charge_mae: 8.25e-03, loss: 8.25e-03, lr: 8.30e-05, epoch: 1.22e+02, step: 1.10e+03\n",
      "charge_mse: 1.97e-04, charge_mae: 8.17e-03, loss: 8.17e-03, lr: 8.30e-05, epoch: 1.22e+02, step: 1.10e+03\n",
      "charge_mse: 4.02e-04, charge_mae: 6.42e-03, loss: 6.42e-03, lr: 8.30e-05, epoch: 1.23e+02, step: 1.10e+03\n",
      "charge_mse: 2.08e-04, charge_mae: 6.42e-03, loss: 6.42e-03, lr: 8.30e-05, epoch: 1.23e+02, step: 1.10e+03\n",
      "charge_mse: 1.80e-03, charge_mae: 9.79e-03, loss: 9.79e-03, lr: 8.30e-05, epoch: 1.23e+02, step: 1.10e+03\n",
      "charge_mse: 3.05e-04, charge_mae: 7.87e-03, loss: 7.87e-03, lr: 8.30e-05, epoch: 1.23e+02, step: 1.11e+03\n",
      "charge_mse: 6.94e-04, charge_mae: 6.90e-03, loss: 6.90e-03, lr: 8.30e-05, epoch: 1.23e+02, step: 1.11e+03\n",
      "2022-07-06 18:23:14 (INFO): Evaluating on val.\n"
     ]
    },
    {
     "name": "stderr",
     "output_type": "stream",
     "text": [
      "device 0: 100%|██████████| 1/1 [00:11<00:00, 11.71s/it]"
     ]
    },
    {
     "name": "stdout",
     "output_type": "stream",
     "text": [
      "2022-07-06 18:23:26 (INFO): charge_mse: 0.0152, charge_mae: 0.0135, loss: 0.0135, epoch: 123.0000\n"
     ]
    },
    {
     "name": "stderr",
     "output_type": "stream",
     "text": [
      "\n"
     ]
    },
    {
     "name": "stdout",
     "output_type": "stream",
     "text": [
      "charge_mse: 6.07e-03, charge_mae: 8.74e-03, loss: 8.74e-03, lr: 8.30e-05, epoch: 1.23e+02, step: 1.11e+03\n",
      "charge_mse: 2.37e-04, charge_mae: 7.53e-03, loss: 7.53e-03, lr: 8.30e-05, epoch: 1.23e+02, step: 1.11e+03\n",
      "charge_mse: 2.29e-04, charge_mae: 7.12e-03, loss: 7.12e-03, lr: 8.30e-05, epoch: 1.23e+02, step: 1.11e+03\n",
      "charge_mse: 4.48e-04, charge_mae: 7.68e-03, loss: 7.68e-03, lr: 8.30e-05, epoch: 1.23e+02, step: 1.11e+03\n",
      "charge_mse: 2.36e-04, charge_mae: 7.04e-03, loss: 7.04e-03, lr: 8.30e-05, epoch: 1.24e+02, step: 1.11e+03\n",
      "charge_mse: 6.87e-04, charge_mae: 9.41e-03, loss: 9.41e-03, lr: 8.30e-05, epoch: 1.24e+02, step: 1.11e+03\n",
      "charge_mse: 4.13e-04, charge_mae: 7.63e-03, loss: 7.63e-03, lr: 8.30e-05, epoch: 1.24e+02, step: 1.11e+03\n",
      "charge_mse: 2.56e-04, charge_mae: 6.14e-03, loss: 6.14e-03, lr: 8.30e-05, epoch: 1.24e+02, step: 1.12e+03\n",
      "charge_mse: 5.16e-04, charge_mae: 7.53e-03, loss: 7.53e-03, lr: 8.30e-05, epoch: 1.24e+02, step: 1.12e+03\n",
      "2022-07-06 18:24:55 (INFO): Evaluating on val.\n"
     ]
    },
    {
     "name": "stderr",
     "output_type": "stream",
     "text": [
      "device 0: 100%|██████████| 1/1 [00:11<00:00, 11.62s/it]"
     ]
    },
    {
     "name": "stdout",
     "output_type": "stream",
     "text": [
      "2022-07-06 18:25:07 (INFO): charge_mse: 0.0119, charge_mae: 0.0145, loss: 0.0145, epoch: 124.0000\n"
     ]
    },
    {
     "name": "stderr",
     "output_type": "stream",
     "text": [
      "\n"
     ]
    },
    {
     "name": "stdout",
     "output_type": "stream",
     "text": [
      "charge_mse: 2.87e-03, charge_mae: 9.05e-03, loss: 9.05e-03, lr: 7.96e-05, epoch: 1.24e+02, step: 1.12e+03\n",
      "charge_mse: 2.57e-04, charge_mae: 7.98e-03, loss: 7.98e-03, lr: 7.96e-05, epoch: 1.24e+02, step: 1.12e+03\n",
      "charge_mse: 3.25e-04, charge_mae: 8.26e-03, loss: 8.26e-03, lr: 7.96e-05, epoch: 1.24e+02, step: 1.12e+03\n",
      "charge_mse: 1.00e-03, charge_mae: 9.89e-03, loss: 9.89e-03, lr: 7.96e-05, epoch: 1.24e+02, step: 1.12e+03\n",
      "charge_mse: 1.86e-04, charge_mae: 5.46e-03, loss: 5.46e-03, lr: 7.96e-05, epoch: 1.25e+02, step: 1.12e+03\n",
      "charge_mse: 4.13e-04, charge_mae: 6.32e-03, loss: 6.32e-03, lr: 7.96e-05, epoch: 1.25e+02, step: 1.12e+03\n",
      "charge_mse: 9.54e-04, charge_mae: 9.00e-03, loss: 9.00e-03, lr: 7.96e-05, epoch: 1.25e+02, step: 1.12e+03\n",
      "charge_mse: 2.50e-04, charge_mae: 7.44e-03, loss: 7.44e-03, lr: 7.96e-05, epoch: 1.25e+02, step: 1.12e+03\n",
      "charge_mse: 7.68e-04, charge_mae: 7.88e-03, loss: 7.88e-03, lr: 7.96e-05, epoch: 1.25e+02, step: 1.12e+03\n",
      "2022-07-06 18:26:36 (INFO): Evaluating on val.\n"
     ]
    },
    {
     "name": "stderr",
     "output_type": "stream",
     "text": [
      "device 0: 100%|██████████| 1/1 [00:11<00:00, 11.74s/it]"
     ]
    },
    {
     "name": "stdout",
     "output_type": "stream",
     "text": [
      "2022-07-06 18:26:48 (INFO): charge_mse: 0.0081, charge_mae: 0.0129, loss: 0.0129, epoch: 125.0000\n"
     ]
    },
    {
     "name": "stderr",
     "output_type": "stream",
     "text": [
      "\n"
     ]
    },
    {
     "name": "stdout",
     "output_type": "stream",
     "text": [
      "charge_mse: 3.70e-04, charge_mae: 7.61e-03, loss: 7.61e-03, lr: 7.96e-05, epoch: 1.25e+02, step: 1.13e+03\n",
      "charge_mse: 1.05e-03, charge_mae: 8.91e-03, loss: 8.91e-03, lr: 7.96e-05, epoch: 1.25e+02, step: 1.13e+03\n",
      "charge_mse: 9.72e-04, charge_mae: 9.55e-03, loss: 9.55e-03, lr: 7.96e-05, epoch: 1.25e+02, step: 1.13e+03\n",
      "charge_mse: 4.26e-04, charge_mae: 5.03e-03, loss: 5.03e-03, lr: 7.96e-05, epoch: 1.25e+02, step: 1.13e+03\n",
      "charge_mse: 9.26e-04, charge_mae: 4.66e-03, loss: 4.66e-03, lr: 7.96e-05, epoch: 1.26e+02, step: 1.13e+03\n",
      "charge_mse: 4.30e-04, charge_mae: 9.28e-03, loss: 9.28e-03, lr: 7.96e-05, epoch: 1.26e+02, step: 1.13e+03\n",
      "charge_mse: 1.23e-04, charge_mae: 6.58e-03, loss: 6.58e-03, lr: 7.96e-05, epoch: 1.26e+02, step: 1.13e+03\n",
      "charge_mse: 5.06e-04, charge_mae: 9.20e-03, loss: 9.20e-03, lr: 7.96e-05, epoch: 1.26e+02, step: 1.13e+03\n",
      "charge_mse: 3.85e-04, charge_mae: 9.46e-03, loss: 9.46e-03, lr: 7.96e-05, epoch: 1.26e+02, step: 1.13e+03\n",
      "2022-07-06 18:28:09 (INFO): Evaluating on val.\n"
     ]
    },
    {
     "name": "stderr",
     "output_type": "stream",
     "text": [
      "device 0: 100%|██████████| 1/1 [00:11<00:00, 11.69s/it]"
     ]
    },
    {
     "name": "stdout",
     "output_type": "stream",
     "text": [
      "2022-07-06 18:28:21 (INFO): charge_mse: 0.0151, charge_mae: 0.0128, loss: 0.0128, epoch: 126.0000\n"
     ]
    },
    {
     "name": "stderr",
     "output_type": "stream",
     "text": [
      "\n"
     ]
    },
    {
     "name": "stdout",
     "output_type": "stream",
     "text": [
      "charge_mse: 1.07e-03, charge_mae: 7.33e-03, loss: 7.33e-03, lr: 7.65e-05, epoch: 1.26e+02, step: 1.14e+03\n",
      "charge_mse: 2.02e-04, charge_mae: 6.62e-03, loss: 6.62e-03, lr: 7.65e-05, epoch: 1.26e+02, step: 1.14e+03\n",
      "charge_mse: 6.75e-03, charge_mae: 7.90e-03, loss: 7.90e-03, lr: 7.65e-05, epoch: 1.26e+02, step: 1.14e+03\n",
      "charge_mse: 2.07e-04, charge_mae: 6.20e-03, loss: 6.20e-03, lr: 7.65e-05, epoch: 1.26e+02, step: 1.14e+03\n",
      "charge_mse: 5.37e-04, charge_mae: 8.43e-03, loss: 8.43e-03, lr: 7.65e-05, epoch: 1.27e+02, step: 1.14e+03\n",
      "charge_mse: 7.30e-04, charge_mae: 8.79e-03, loss: 8.79e-03, lr: 7.65e-05, epoch: 1.27e+02, step: 1.14e+03\n",
      "charge_mse: 3.25e-04, charge_mae: 8.01e-03, loss: 8.01e-03, lr: 7.65e-05, epoch: 1.27e+02, step: 1.14e+03\n",
      "charge_mse: 1.21e-03, charge_mae: 8.54e-03, loss: 8.54e-03, lr: 7.65e-05, epoch: 1.27e+02, step: 1.14e+03\n",
      "charge_mse: 2.21e-04, charge_mae: 6.12e-03, loss: 6.12e-03, lr: 7.65e-05, epoch: 1.27e+02, step: 1.14e+03\n",
      "2022-07-06 18:29:52 (INFO): Evaluating on val.\n"
     ]
    },
    {
     "name": "stderr",
     "output_type": "stream",
     "text": [
      "device 0: 100%|██████████| 1/1 [00:11<00:00, 11.31s/it]"
     ]
    },
    {
     "name": "stdout",
     "output_type": "stream",
     "text": [
      "2022-07-06 18:30:03 (INFO): charge_mse: 0.0147, charge_mae: 0.0141, loss: 0.0141, epoch: 127.0000\n"
     ]
    },
    {
     "name": "stderr",
     "output_type": "stream",
     "text": [
      "\n"
     ]
    },
    {
     "name": "stdout",
     "output_type": "stream",
     "text": [
      "charge_mse: 3.60e-04, charge_mae: 6.82e-03, loss: 6.82e-03, lr: 7.65e-05, epoch: 1.27e+02, step: 1.14e+03\n",
      "charge_mse: 3.11e-04, charge_mae: 6.64e-03, loss: 6.64e-03, lr: 7.65e-05, epoch: 1.27e+02, step: 1.14e+03\n",
      "charge_mse: 6.45e-04, charge_mae: 6.73e-03, loss: 6.73e-03, lr: 7.65e-05, epoch: 1.27e+02, step: 1.15e+03\n",
      "charge_mse: 5.16e-04, charge_mae: 1.09e-02, loss: 1.09e-02, lr: 7.65e-05, epoch: 1.27e+02, step: 1.15e+03\n",
      "charge_mse: 3.45e-04, charge_mae: 9.53e-03, loss: 9.53e-03, lr: 7.65e-05, epoch: 1.28e+02, step: 1.15e+03\n",
      "charge_mse: 4.53e-04, charge_mae: 7.33e-03, loss: 7.33e-03, lr: 7.65e-05, epoch: 1.28e+02, step: 1.15e+03\n",
      "charge_mse: 4.65e-04, charge_mae: 6.44e-03, loss: 6.44e-03, lr: 7.65e-05, epoch: 1.28e+02, step: 1.15e+03\n",
      "charge_mse: 1.59e-04, charge_mae: 6.05e-03, loss: 6.05e-03, lr: 7.65e-05, epoch: 1.28e+02, step: 1.15e+03\n",
      "charge_mse: 2.05e-04, charge_mae: 5.68e-03, loss: 5.68e-03, lr: 7.65e-05, epoch: 1.28e+02, step: 1.15e+03\n",
      "2022-07-06 18:31:34 (INFO): Evaluating on val.\n"
     ]
    },
    {
     "name": "stderr",
     "output_type": "stream",
     "text": [
      "device 0: 100%|██████████| 1/1 [00:11<00:00, 11.87s/it]"
     ]
    },
    {
     "name": "stdout",
     "output_type": "stream",
     "text": [
      "2022-07-06 18:31:46 (INFO): charge_mse: 0.0122, charge_mae: 0.0141, loss: 0.0141, epoch: 128.0000\n"
     ]
    },
    {
     "name": "stderr",
     "output_type": "stream",
     "text": [
      "\n"
     ]
    },
    {
     "name": "stdout",
     "output_type": "stream",
     "text": [
      "charge_mse: 5.70e-04, charge_mae: 8.57e-03, loss: 8.57e-03, lr: 7.34e-05, epoch: 1.28e+02, step: 1.15e+03\n",
      "charge_mse: 1.75e-04, charge_mae: 6.09e-03, loss: 6.09e-03, lr: 7.34e-05, epoch: 1.28e+02, step: 1.15e+03\n",
      "charge_mse: 2.84e-04, charge_mae: 9.13e-03, loss: 9.13e-03, lr: 7.34e-05, epoch: 1.28e+02, step: 1.16e+03\n",
      "charge_mse: 9.37e-04, charge_mae: 1.10e-02, loss: 1.10e-02, lr: 7.34e-05, epoch: 1.28e+02, step: 1.16e+03\n",
      "charge_mse: 1.73e-04, charge_mae: 4.44e-03, loss: 4.44e-03, lr: 7.34e-05, epoch: 1.29e+02, step: 1.16e+03\n",
      "charge_mse: 2.94e-04, charge_mae: 1.18e-02, loss: 1.18e-02, lr: 7.34e-05, epoch: 1.29e+02, step: 1.16e+03\n",
      "charge_mse: 9.56e-04, charge_mae: 1.38e-02, loss: 1.38e-02, lr: 7.34e-05, epoch: 1.29e+02, step: 1.16e+03\n",
      "charge_mse: 2.81e-04, charge_mae: 6.61e-03, loss: 6.61e-03, lr: 7.34e-05, epoch: 1.29e+02, step: 1.16e+03\n",
      "charge_mse: 5.33e-04, charge_mae: 1.40e-02, loss: 1.40e-02, lr: 7.34e-05, epoch: 1.29e+02, step: 1.16e+03\n",
      "2022-07-06 18:33:16 (INFO): Evaluating on val.\n"
     ]
    },
    {
     "name": "stderr",
     "output_type": "stream",
     "text": [
      "device 0: 100%|██████████| 1/1 [00:11<00:00, 11.41s/it]"
     ]
    },
    {
     "name": "stdout",
     "output_type": "stream",
     "text": [
      "2022-07-06 18:33:27 (INFO): charge_mse: 0.0138, charge_mae: 0.0214, loss: 0.0214, epoch: 129.0000\n"
     ]
    },
    {
     "name": "stderr",
     "output_type": "stream",
     "text": [
      "\n"
     ]
    },
    {
     "name": "stdout",
     "output_type": "stream",
     "text": [
      "charge_mse: 4.31e-04, charge_mae: 1.63e-02, loss: 1.63e-02, lr: 7.34e-05, epoch: 1.29e+02, step: 1.16e+03\n",
      "charge_mse: 6.44e-04, charge_mae: 1.12e-02, loss: 1.12e-02, lr: 7.34e-05, epoch: 1.29e+02, step: 1.16e+03\n",
      "charge_mse: 5.28e-04, charge_mae: 8.84e-03, loss: 8.84e-03, lr: 7.34e-05, epoch: 1.29e+02, step: 1.16e+03\n",
      "charge_mse: 5.19e-04, charge_mae: 1.27e-02, loss: 1.27e-02, lr: 7.34e-05, epoch: 1.29e+02, step: 1.16e+03\n",
      "charge_mse: 3.83e-04, charge_mae: 8.56e-03, loss: 8.56e-03, lr: 7.34e-05, epoch: 1.30e+02, step: 1.17e+03\n",
      "charge_mse: 6.45e-04, charge_mae: 9.92e-03, loss: 9.92e-03, lr: 7.34e-05, epoch: 1.30e+02, step: 1.17e+03\n",
      "charge_mse: 3.25e-04, charge_mae: 1.24e-02, loss: 1.24e-02, lr: 7.34e-05, epoch: 1.30e+02, step: 1.17e+03\n",
      "charge_mse: 1.38e-04, charge_mae: 6.46e-03, loss: 6.46e-03, lr: 7.34e-05, epoch: 1.30e+02, step: 1.17e+03\n",
      "charge_mse: 1.40e-03, charge_mae: 1.15e-02, loss: 1.15e-02, lr: 7.34e-05, epoch: 1.30e+02, step: 1.17e+03\n",
      "2022-07-06 18:34:47 (INFO): Evaluating on val.\n"
     ]
    },
    {
     "name": "stderr",
     "output_type": "stream",
     "text": [
      "device 0: 100%|██████████| 1/1 [00:11<00:00, 11.89s/it]"
     ]
    },
    {
     "name": "stdout",
     "output_type": "stream",
     "text": [
      "2022-07-06 18:34:59 (INFO): charge_mse: 0.0132, charge_mae: 0.0195, loss: 0.0195, epoch: 130.0000\n"
     ]
    },
    {
     "name": "stderr",
     "output_type": "stream",
     "text": [
      "\n"
     ]
    },
    {
     "name": "stdout",
     "output_type": "stream",
     "text": [
      "charge_mse: 3.39e-04, charge_mae: 1.38e-02, loss: 1.38e-02, lr: 7.05e-05, epoch: 1.30e+02, step: 1.17e+03\n",
      "charge_mse: 5.14e-04, charge_mae: 8.40e-03, loss: 8.40e-03, lr: 7.05e-05, epoch: 1.30e+02, step: 1.17e+03\n",
      "charge_mse: 5.58e-04, charge_mae: 1.10e-02, loss: 1.10e-02, lr: 7.05e-05, epoch: 1.30e+02, step: 1.17e+03\n",
      "charge_mse: 1.68e-03, charge_mae: 1.46e-02, loss: 1.46e-02, lr: 7.05e-05, epoch: 1.30e+02, step: 1.17e+03\n",
      "charge_mse: 7.83e-04, charge_mae: 1.00e-02, loss: 1.00e-02, lr: 7.05e-05, epoch: 1.31e+02, step: 1.18e+03\n",
      "charge_mse: 9.81e-04, charge_mae: 9.58e-03, loss: 9.58e-03, lr: 7.05e-05, epoch: 1.31e+02, step: 1.18e+03\n",
      "charge_mse: 3.34e-04, charge_mae: 1.17e-02, loss: 1.17e-02, lr: 7.05e-05, epoch: 1.31e+02, step: 1.18e+03\n",
      "charge_mse: 3.40e-04, charge_mae: 8.00e-03, loss: 8.00e-03, lr: 7.05e-05, epoch: 1.31e+02, step: 1.18e+03\n",
      "charge_mse: 3.16e-04, charge_mae: 8.37e-03, loss: 8.37e-03, lr: 7.05e-05, epoch: 1.31e+02, step: 1.18e+03\n",
      "2022-07-06 18:36:26 (INFO): Evaluating on val.\n"
     ]
    },
    {
     "name": "stderr",
     "output_type": "stream",
     "text": [
      "device 0: 100%|██████████| 1/1 [00:12<00:00, 12.82s/it]"
     ]
    },
    {
     "name": "stdout",
     "output_type": "stream",
     "text": [
      "2022-07-06 18:36:39 (INFO): charge_mse: 0.0073, charge_mae: 0.0169, loss: 0.0169, epoch: 131.0000\n"
     ]
    },
    {
     "name": "stderr",
     "output_type": "stream",
     "text": [
      "\n"
     ]
    },
    {
     "name": "stdout",
     "output_type": "stream",
     "text": [
      "charge_mse: 4.09e-04, charge_mae: 1.24e-02, loss: 1.24e-02, lr: 7.05e-05, epoch: 1.31e+02, step: 1.18e+03\n",
      "charge_mse: 1.72e-04, charge_mae: 6.04e-03, loss: 6.04e-03, lr: 7.05e-05, epoch: 1.31e+02, step: 1.18e+03\n",
      "charge_mse: 2.30e-03, charge_mae: 1.10e-02, loss: 1.10e-02, lr: 7.05e-05, epoch: 1.31e+02, step: 1.18e+03\n",
      "charge_mse: 2.86e-04, charge_mae: 1.33e-02, loss: 1.33e-02, lr: 7.05e-05, epoch: 1.31e+02, step: 1.18e+03\n",
      "charge_mse: 7.41e-04, charge_mae: 9.18e-03, loss: 9.18e-03, lr: 7.05e-05, epoch: 1.32e+02, step: 1.18e+03\n",
      "charge_mse: 2.18e-04, charge_mae: 8.90e-03, loss: 8.90e-03, lr: 7.05e-05, epoch: 1.32e+02, step: 1.18e+03\n",
      "charge_mse: 5.77e-04, charge_mae: 1.28e-02, loss: 1.28e-02, lr: 7.05e-05, epoch: 1.32e+02, step: 1.19e+03\n",
      "charge_mse: 3.44e-04, charge_mae: 8.55e-03, loss: 8.55e-03, lr: 7.05e-05, epoch: 1.32e+02, step: 1.19e+03\n",
      "charge_mse: 9.11e-04, charge_mae: 1.16e-02, loss: 1.16e-02, lr: 7.05e-05, epoch: 1.32e+02, step: 1.19e+03\n",
      "2022-07-06 18:38:00 (INFO): Evaluating on val.\n"
     ]
    },
    {
     "name": "stderr",
     "output_type": "stream",
     "text": [
      "device 0: 100%|██████████| 1/1 [00:11<00:00, 11.90s/it]"
     ]
    },
    {
     "name": "stdout",
     "output_type": "stream",
     "text": [
      "2022-07-06 18:38:12 (INFO): charge_mse: 0.0154, charge_mae: 0.0196, loss: 0.0196, epoch: 132.0000\n"
     ]
    },
    {
     "name": "stderr",
     "output_type": "stream",
     "text": [
      "\n"
     ]
    },
    {
     "name": "stdout",
     "output_type": "stream",
     "text": [
      "charge_mse: 4.69e-04, charge_mae: 1.25e-02, loss: 1.25e-02, lr: 6.76e-05, epoch: 1.32e+02, step: 1.19e+03\n",
      "charge_mse: 6.58e-04, charge_mae: 8.69e-03, loss: 8.69e-03, lr: 6.76e-05, epoch: 1.32e+02, step: 1.19e+03\n",
      "charge_mse: 1.95e-04, charge_mae: 9.47e-03, loss: 9.47e-03, lr: 6.76e-05, epoch: 1.32e+02, step: 1.19e+03\n",
      "charge_mse: 7.53e-04, charge_mae: 1.29e-02, loss: 1.29e-02, lr: 6.76e-05, epoch: 1.32e+02, step: 1.19e+03\n",
      "charge_mse: 3.25e-04, charge_mae: 7.91e-03, loss: 7.91e-03, lr: 6.76e-05, epoch: 1.33e+02, step: 1.19e+03\n",
      "charge_mse: 5.18e-04, charge_mae: 9.14e-03, loss: 9.14e-03, lr: 6.76e-05, epoch: 1.33e+02, step: 1.19e+03\n",
      "charge_mse: 3.99e-04, charge_mae: 1.23e-02, loss: 1.23e-02, lr: 6.76e-05, epoch: 1.33e+02, step: 1.20e+03\n",
      "charge_mse: 1.94e-04, charge_mae: 6.39e-03, loss: 6.39e-03, lr: 6.76e-05, epoch: 1.33e+02, step: 1.20e+03\n",
      "charge_mse: 8.96e-04, charge_mae: 1.11e-02, loss: 1.11e-02, lr: 6.76e-05, epoch: 1.33e+02, step: 1.20e+03\n",
      "2022-07-06 18:39:37 (INFO): Evaluating on val.\n"
     ]
    },
    {
     "name": "stderr",
     "output_type": "stream",
     "text": [
      "device 0: 100%|██████████| 1/1 [00:11<00:00, 11.52s/it]"
     ]
    },
    {
     "name": "stdout",
     "output_type": "stream",
     "text": [
      "2022-07-06 18:39:48 (INFO): charge_mse: 0.0064, charge_mae: 0.0182, loss: 0.0182, epoch: 133.0000\n"
     ]
    },
    {
     "name": "stderr",
     "output_type": "stream",
     "text": [
      "\n"
     ]
    },
    {
     "name": "stdout",
     "output_type": "stream",
     "text": [
      "charge_mse: 6.59e-04, charge_mae: 1.41e-02, loss: 1.41e-02, lr: 6.76e-05, epoch: 1.33e+02, step: 1.20e+03\n",
      "charge_mse: 3.51e-04, charge_mae: 8.65e-03, loss: 8.65e-03, lr: 6.76e-05, epoch: 1.33e+02, step: 1.20e+03\n",
      "charge_mse: 4.24e-04, charge_mae: 7.90e-03, loss: 7.90e-03, lr: 6.76e-05, epoch: 1.33e+02, step: 1.20e+03\n",
      "charge_mse: 2.58e-04, charge_mae: 1.07e-02, loss: 1.07e-02, lr: 6.76e-05, epoch: 1.33e+02, step: 1.20e+03\n",
      "charge_mse: 2.12e-04, charge_mae: 7.16e-03, loss: 7.16e-03, lr: 6.76e-05, epoch: 1.34e+02, step: 1.20e+03\n",
      "charge_mse: 3.63e-04, charge_mae: 1.02e-02, loss: 1.02e-02, lr: 6.76e-05, epoch: 1.34e+02, step: 1.20e+03\n",
      "charge_mse: 3.14e-04, charge_mae: 1.31e-02, loss: 1.31e-02, lr: 6.76e-05, epoch: 1.34e+02, step: 1.20e+03\n",
      "charge_mse: 1.90e-04, charge_mae: 8.32e-03, loss: 8.32e-03, lr: 6.76e-05, epoch: 1.34e+02, step: 1.20e+03\n",
      "charge_mse: 2.53e-04, charge_mae: 8.80e-03, loss: 8.80e-03, lr: 6.76e-05, epoch: 1.34e+02, step: 1.21e+03\n",
      "2022-07-06 18:41:15 (INFO): Evaluating on val.\n"
     ]
    },
    {
     "name": "stderr",
     "output_type": "stream",
     "text": [
      "device 0: 100%|██████████| 1/1 [00:11<00:00, 11.74s/it]"
     ]
    },
    {
     "name": "stdout",
     "output_type": "stream",
     "text": [
      "2022-07-06 18:41:27 (INFO): charge_mse: 0.0106, charge_mae: 0.0170, loss: 0.0170, epoch: 134.0000\n"
     ]
    },
    {
     "name": "stderr",
     "output_type": "stream",
     "text": [
      "\n"
     ]
    },
    {
     "name": "stdout",
     "output_type": "stream",
     "text": [
      "charge_mse: 7.04e-04, charge_mae: 1.10e-02, loss: 1.10e-02, lr: 6.49e-05, epoch: 1.34e+02, step: 1.21e+03\n",
      "charge_mse: 1.36e-04, charge_mae: 6.18e-03, loss: 6.18e-03, lr: 6.49e-05, epoch: 1.34e+02, step: 1.21e+03\n",
      "charge_mse: 2.23e-04, charge_mae: 9.90e-03, loss: 9.90e-03, lr: 6.49e-05, epoch: 1.34e+02, step: 1.21e+03\n",
      "charge_mse: 5.91e-04, charge_mae: 1.41e-02, loss: 1.41e-02, lr: 6.49e-05, epoch: 1.34e+02, step: 1.21e+03\n",
      "charge_mse: 2.01e-04, charge_mae: 9.16e-03, loss: 9.16e-03, lr: 6.49e-05, epoch: 1.35e+02, step: 1.21e+03\n",
      "charge_mse: 2.57e-04, charge_mae: 7.20e-03, loss: 7.20e-03, lr: 6.49e-05, epoch: 1.35e+02, step: 1.21e+03\n",
      "charge_mse: 1.70e-03, charge_mae: 1.11e-02, loss: 1.11e-02, lr: 6.49e-05, epoch: 1.35e+02, step: 1.21e+03\n",
      "charge_mse: 1.70e-03, charge_mae: 7.16e-03, loss: 7.16e-03, lr: 6.49e-05, epoch: 1.35e+02, step: 1.21e+03\n",
      "charge_mse: 5.15e-04, charge_mae: 9.47e-03, loss: 9.47e-03, lr: 6.49e-05, epoch: 1.35e+02, step: 1.22e+03\n",
      "2022-07-06 18:42:47 (INFO): Evaluating on val.\n"
     ]
    },
    {
     "name": "stderr",
     "output_type": "stream",
     "text": [
      "device 0: 100%|██████████| 1/1 [00:11<00:00, 11.72s/it]"
     ]
    },
    {
     "name": "stdout",
     "output_type": "stream",
     "text": [
      "2022-07-06 18:42:59 (INFO): charge_mse: 0.0095, charge_mae: 0.0161, loss: 0.0161, epoch: 135.0000\n"
     ]
    },
    {
     "name": "stderr",
     "output_type": "stream",
     "text": [
      "\n"
     ]
    },
    {
     "name": "stdout",
     "output_type": "stream",
     "text": [
      "charge_mse: 7.40e-04, charge_mae: 1.16e-02, loss: 1.16e-02, lr: 6.49e-05, epoch: 1.35e+02, step: 1.22e+03\n",
      "charge_mse: 3.35e-04, charge_mae: 6.76e-03, loss: 6.76e-03, lr: 6.49e-05, epoch: 1.35e+02, step: 1.22e+03\n",
      "charge_mse: 1.03e-03, charge_mae: 1.06e-02, loss: 1.06e-02, lr: 6.49e-05, epoch: 1.35e+02, step: 1.22e+03\n",
      "charge_mse: 8.21e-04, charge_mae: 1.21e-02, loss: 1.21e-02, lr: 6.49e-05, epoch: 1.35e+02, step: 1.22e+03\n",
      "charge_mse: 2.85e-04, charge_mae: 6.95e-03, loss: 6.95e-03, lr: 6.49e-05, epoch: 1.36e+02, step: 1.22e+03\n",
      "charge_mse: 3.67e-03, charge_mae: 1.07e-02, loss: 1.07e-02, lr: 6.49e-05, epoch: 1.36e+02, step: 1.22e+03\n",
      "charge_mse: 4.21e-04, charge_mae: 1.47e-02, loss: 1.47e-02, lr: 6.49e-05, epoch: 1.36e+02, step: 1.22e+03\n",
      "charge_mse: 2.00e-04, charge_mae: 8.93e-03, loss: 8.93e-03, lr: 6.49e-05, epoch: 1.36e+02, step: 1.22e+03\n",
      "charge_mse: 3.25e-04, charge_mae: 8.10e-03, loss: 8.10e-03, lr: 6.49e-05, epoch: 1.36e+02, step: 1.22e+03\n",
      "2022-07-06 18:44:25 (INFO): Evaluating on val.\n"
     ]
    },
    {
     "name": "stderr",
     "output_type": "stream",
     "text": [
      "device 0: 100%|██████████| 1/1 [00:11<00:00, 11.41s/it]"
     ]
    },
    {
     "name": "stdout",
     "output_type": "stream",
     "text": [
      "2022-07-06 18:44:37 (INFO): charge_mse: 0.0117, charge_mae: 0.0169, loss: 0.0169, epoch: 136.0000\n"
     ]
    },
    {
     "name": "stderr",
     "output_type": "stream",
     "text": [
      "\n"
     ]
    },
    {
     "name": "stdout",
     "output_type": "stream",
     "text": [
      "charge_mse: 5.88e-04, charge_mae: 1.09e-02, loss: 1.09e-02, lr: 6.23e-05, epoch: 1.36e+02, step: 1.22e+03\n",
      "charge_mse: 1.77e-04, charge_mae: 7.42e-03, loss: 7.42e-03, lr: 6.23e-05, epoch: 1.36e+02, step: 1.23e+03\n",
      "charge_mse: 3.08e-04, charge_mae: 8.64e-03, loss: 8.64e-03, lr: 6.23e-05, epoch: 1.36e+02, step: 1.23e+03\n",
      "charge_mse: 4.82e-04, charge_mae: 1.12e-02, loss: 1.12e-02, lr: 6.23e-05, epoch: 1.36e+02, step: 1.23e+03\n",
      "charge_mse: 2.77e-04, charge_mae: 7.57e-03, loss: 7.57e-03, lr: 6.23e-05, epoch: 1.37e+02, step: 1.23e+03\n",
      "charge_mse: 5.92e-04, charge_mae: 8.93e-03, loss: 8.93e-03, lr: 6.23e-05, epoch: 1.37e+02, step: 1.23e+03\n",
      "charge_mse: 2.27e-04, charge_mae: 1.03e-02, loss: 1.03e-02, lr: 6.23e-05, epoch: 1.37e+02, step: 1.23e+03\n",
      "charge_mse: 1.70e-04, charge_mae: 5.87e-03, loss: 5.87e-03, lr: 6.23e-05, epoch: 1.37e+02, step: 1.23e+03\n",
      "charge_mse: 1.15e-03, charge_mae: 1.18e-02, loss: 1.18e-02, lr: 6.23e-05, epoch: 1.37e+02, step: 1.23e+03\n",
      "2022-07-06 18:45:58 (INFO): Evaluating on val.\n"
     ]
    },
    {
     "name": "stderr",
     "output_type": "stream",
     "text": [
      "device 0: 100%|██████████| 1/1 [00:11<00:00, 11.83s/it]"
     ]
    },
    {
     "name": "stdout",
     "output_type": "stream",
     "text": [
      "2022-07-06 18:46:10 (INFO): charge_mse: 0.0130, charge_mae: 0.0190, loss: 0.0190, epoch: 137.0000\n"
     ]
    },
    {
     "name": "stderr",
     "output_type": "stream",
     "text": [
      "\n"
     ]
    },
    {
     "name": "stdout",
     "output_type": "stream",
     "text": [
      "charge_mse: 1.15e-03, charge_mae: 1.36e-02, loss: 1.36e-02, lr: 6.23e-05, epoch: 1.37e+02, step: 1.23e+03\n",
      "charge_mse: 1.73e-04, charge_mae: 7.03e-03, loss: 7.03e-03, lr: 6.23e-05, epoch: 1.37e+02, step: 1.24e+03\n",
      "charge_mse: 3.78e-04, charge_mae: 1.01e-02, loss: 1.01e-02, lr: 6.23e-05, epoch: 1.37e+02, step: 1.24e+03\n",
      "charge_mse: 6.27e-04, charge_mae: 1.30e-02, loss: 1.30e-02, lr: 6.23e-05, epoch: 1.37e+02, step: 1.24e+03\n",
      "charge_mse: 2.01e-04, charge_mae: 7.97e-03, loss: 7.97e-03, lr: 6.23e-05, epoch: 1.38e+02, step: 1.24e+03\n",
      "charge_mse: 3.34e-04, charge_mae: 8.09e-03, loss: 8.09e-03, lr: 6.23e-05, epoch: 1.38e+02, step: 1.24e+03\n",
      "charge_mse: 3.46e-04, charge_mae: 1.06e-02, loss: 1.06e-02, lr: 6.23e-05, epoch: 1.38e+02, step: 1.24e+03\n",
      "charge_mse: 1.52e-03, charge_mae: 8.51e-03, loss: 8.51e-03, lr: 6.23e-05, epoch: 1.38e+02, step: 1.24e+03\n",
      "charge_mse: 2.97e-04, charge_mae: 8.01e-03, loss: 8.01e-03, lr: 6.23e-05, epoch: 1.38e+02, step: 1.24e+03\n",
      "2022-07-06 18:47:30 (INFO): Evaluating on val.\n"
     ]
    },
    {
     "name": "stderr",
     "output_type": "stream",
     "text": [
      "device 0: 100%|██████████| 1/1 [00:11<00:00, 11.62s/it]"
     ]
    },
    {
     "name": "stdout",
     "output_type": "stream",
     "text": [
      "2022-07-06 18:47:42 (INFO): charge_mse: 0.0103, charge_mae: 0.0146, loss: 0.0146, epoch: 138.0000\n"
     ]
    },
    {
     "name": "stderr",
     "output_type": "stream",
     "text": [
      "\n"
     ]
    },
    {
     "name": "stdout",
     "output_type": "stream",
     "text": [
      "charge_mse: 3.17e-04, charge_mae: 1.07e-02, loss: 1.07e-02, lr: 5.99e-05, epoch: 1.38e+02, step: 1.24e+03\n",
      "charge_mse: 1.69e-04, charge_mae: 4.60e-03, loss: 4.60e-03, lr: 5.99e-05, epoch: 1.38e+02, step: 1.24e+03\n",
      "charge_mse: 6.98e-04, charge_mae: 1.15e-02, loss: 1.15e-02, lr: 5.99e-05, epoch: 1.38e+02, step: 1.24e+03\n",
      "charge_mse: 6.95e-04, charge_mae: 1.37e-02, loss: 1.37e-02, lr: 5.99e-05, epoch: 1.38e+02, step: 1.25e+03\n",
      "charge_mse: 2.04e-04, charge_mae: 8.26e-03, loss: 8.26e-03, lr: 5.99e-05, epoch: 1.39e+02, step: 1.25e+03\n",
      "charge_mse: 4.15e-03, charge_mae: 9.97e-03, loss: 9.97e-03, lr: 5.99e-05, epoch: 1.39e+02, step: 1.25e+03\n",
      "charge_mse: 3.77e-04, charge_mae: 1.08e-02, loss: 1.08e-02, lr: 5.99e-05, epoch: 1.39e+02, step: 1.25e+03\n",
      "charge_mse: 2.64e-04, charge_mae: 6.87e-03, loss: 6.87e-03, lr: 5.99e-05, epoch: 1.39e+02, step: 1.25e+03\n",
      "charge_mse: 1.93e-04, charge_mae: 7.51e-03, loss: 7.51e-03, lr: 5.99e-05, epoch: 1.39e+02, step: 1.25e+03\n",
      "2022-07-06 18:49:04 (INFO): Evaluating on val.\n"
     ]
    },
    {
     "name": "stderr",
     "output_type": "stream",
     "text": [
      "device 0: 100%|██████████| 1/1 [00:11<00:00, 11.79s/it]"
     ]
    },
    {
     "name": "stdout",
     "output_type": "stream",
     "text": [
      "2022-07-06 18:49:16 (INFO): charge_mse: 0.0099, charge_mae: 0.0159, loss: 0.0159, epoch: 139.0000\n"
     ]
    },
    {
     "name": "stderr",
     "output_type": "stream",
     "text": [
      "\n"
     ]
    },
    {
     "name": "stdout",
     "output_type": "stream",
     "text": [
      "charge_mse: 3.22e-04, charge_mae: 1.01e-02, loss: 1.01e-02, lr: 5.99e-05, epoch: 1.39e+02, step: 1.25e+03\n",
      "charge_mse: 2.47e-04, charge_mae: 6.79e-03, loss: 6.79e-03, lr: 5.99e-05, epoch: 1.39e+02, step: 1.25e+03\n",
      "charge_mse: 2.61e-04, charge_mae: 8.63e-03, loss: 8.63e-03, lr: 5.99e-05, epoch: 1.39e+02, step: 1.25e+03\n",
      "charge_mse: 5.59e-04, charge_mae: 1.06e-02, loss: 1.06e-02, lr: 5.99e-05, epoch: 1.39e+02, step: 1.26e+03\n",
      "charge_mse: 1.72e-03, charge_mae: 7.50e-03, loss: 7.50e-03, lr: 5.99e-05, epoch: 1.40e+02, step: 1.26e+03\n",
      "charge_mse: 1.57e-03, charge_mae: 1.06e-02, loss: 1.06e-02, lr: 5.99e-05, epoch: 1.40e+02, step: 1.26e+03\n",
      "charge_mse: 9.11e-04, charge_mae: 1.28e-02, loss: 1.28e-02, lr: 5.99e-05, epoch: 1.40e+02, step: 1.26e+03\n",
      "charge_mse: 7.51e-04, charge_mae: 7.43e-03, loss: 7.43e-03, lr: 5.99e-05, epoch: 1.40e+02, step: 1.26e+03\n",
      "charge_mse: 6.13e-04, charge_mae: 9.00e-03, loss: 9.00e-03, lr: 5.99e-05, epoch: 1.40e+02, step: 1.26e+03\n",
      "2022-07-06 18:50:41 (INFO): Evaluating on val.\n"
     ]
    },
    {
     "name": "stderr",
     "output_type": "stream",
     "text": [
      "device 0: 100%|██████████| 1/1 [00:11<00:00, 11.74s/it]"
     ]
    },
    {
     "name": "stdout",
     "output_type": "stream",
     "text": [
      "2022-07-06 18:50:53 (INFO): charge_mse: 0.0165, charge_mae: 0.0180, loss: 0.0180, epoch: 140.0000\n"
     ]
    },
    {
     "name": "stderr",
     "output_type": "stream",
     "text": [
      "\n"
     ]
    },
    {
     "name": "stdout",
     "output_type": "stream",
     "text": [
      "charge_mse: 2.72e-04, charge_mae: 1.14e-02, loss: 1.14e-02, lr: 5.75e-05, epoch: 1.40e+02, step: 1.26e+03\n",
      "charge_mse: 2.08e-03, charge_mae: 9.54e-03, loss: 9.54e-03, lr: 5.75e-05, epoch: 1.40e+02, step: 1.26e+03\n",
      "charge_mse: 2.02e-04, charge_mae: 7.56e-03, loss: 7.56e-03, lr: 5.75e-05, epoch: 1.40e+02, step: 1.26e+03\n",
      "charge_mse: 1.34e-03, charge_mae: 1.10e-02, loss: 1.10e-02, lr: 5.75e-05, epoch: 1.40e+02, step: 1.26e+03\n",
      "charge_mse: 3.42e-04, charge_mae: 5.57e-03, loss: 5.57e-03, lr: 5.75e-05, epoch: 1.41e+02, step: 1.26e+03\n",
      "charge_mse: 4.63e-04, charge_mae: 9.69e-03, loss: 9.69e-03, lr: 5.75e-05, epoch: 1.41e+02, step: 1.27e+03\n",
      "charge_mse: 9.28e-04, charge_mae: 1.19e-02, loss: 1.19e-02, lr: 5.75e-05, epoch: 1.41e+02, step: 1.27e+03\n",
      "charge_mse: 6.47e-04, charge_mae: 8.54e-03, loss: 8.54e-03, lr: 5.75e-05, epoch: 1.41e+02, step: 1.27e+03\n",
      "charge_mse: 2.76e-04, charge_mae: 7.45e-03, loss: 7.45e-03, lr: 5.75e-05, epoch: 1.41e+02, step: 1.27e+03\n",
      "2022-07-06 18:52:15 (INFO): Evaluating on val.\n"
     ]
    },
    {
     "name": "stderr",
     "output_type": "stream",
     "text": [
      "device 0: 100%|██████████| 1/1 [00:11<00:00, 11.30s/it]"
     ]
    },
    {
     "name": "stdout",
     "output_type": "stream",
     "text": [
      "2022-07-06 18:52:27 (INFO): charge_mse: 0.0107, charge_mae: 0.0145, loss: 0.0145, epoch: 141.0000\n"
     ]
    },
    {
     "name": "stderr",
     "output_type": "stream",
     "text": [
      "\n"
     ]
    },
    {
     "name": "stdout",
     "output_type": "stream",
     "text": [
      "charge_mse: 2.62e-04, charge_mae: 9.62e-03, loss: 9.62e-03, lr: 5.75e-05, epoch: 1.41e+02, step: 1.27e+03\n",
      "charge_mse: 3.61e-04, charge_mae: 4.82e-03, loss: 4.82e-03, lr: 5.75e-05, epoch: 1.41e+02, step: 1.27e+03\n",
      "charge_mse: 2.06e-04, charge_mae: 9.51e-03, loss: 9.51e-03, lr: 5.75e-05, epoch: 1.41e+02, step: 1.27e+03\n",
      "charge_mse: 2.87e-04, charge_mae: 1.17e-02, loss: 1.17e-02, lr: 5.75e-05, epoch: 1.41e+02, step: 1.27e+03\n",
      "charge_mse: 5.28e-04, charge_mae: 8.63e-03, loss: 8.63e-03, lr: 5.75e-05, epoch: 1.42e+02, step: 1.27e+03\n",
      "charge_mse: 5.00e-04, charge_mae: 8.97e-03, loss: 8.97e-03, lr: 5.75e-05, epoch: 1.42e+02, step: 1.28e+03\n",
      "charge_mse: 5.54e-04, charge_mae: 1.12e-02, loss: 1.12e-02, lr: 5.75e-05, epoch: 1.42e+02, step: 1.28e+03\n",
      "charge_mse: 4.40e-04, charge_mae: 9.21e-03, loss: 9.21e-03, lr: 5.75e-05, epoch: 1.42e+02, step: 1.28e+03\n",
      "charge_mse: 2.14e-04, charge_mae: 7.35e-03, loss: 7.35e-03, lr: 5.75e-05, epoch: 1.42e+02, step: 1.28e+03\n",
      "2022-07-06 18:53:48 (INFO): Evaluating on val.\n"
     ]
    },
    {
     "name": "stderr",
     "output_type": "stream",
     "text": [
      "device 0: 100%|██████████| 1/1 [00:11<00:00, 11.57s/it]"
     ]
    },
    {
     "name": "stdout",
     "output_type": "stream",
     "text": [
      "2022-07-06 18:54:00 (INFO): charge_mse: 0.0194, charge_mae: 0.0176, loss: 0.0176, epoch: 142.0000\n"
     ]
    },
    {
     "name": "stderr",
     "output_type": "stream",
     "text": [
      "\n"
     ]
    },
    {
     "name": "stdout",
     "output_type": "stream",
     "text": [
      "charge_mse: 5.84e-04, charge_mae: 1.03e-02, loss: 1.03e-02, lr: 5.52e-05, epoch: 1.42e+02, step: 1.28e+03\n",
      "charge_mse: 3.75e-04, charge_mae: 6.68e-03, loss: 6.68e-03, lr: 5.52e-05, epoch: 1.42e+02, step: 1.28e+03\n",
      "charge_mse: 8.58e-04, charge_mae: 9.87e-03, loss: 9.87e-03, lr: 5.52e-05, epoch: 1.42e+02, step: 1.28e+03\n",
      "charge_mse: 2.63e-04, charge_mae: 1.15e-02, loss: 1.15e-02, lr: 5.52e-05, epoch: 1.42e+02, step: 1.28e+03\n",
      "charge_mse: 2.45e-04, charge_mae: 8.59e-03, loss: 8.59e-03, lr: 5.52e-05, epoch: 1.43e+02, step: 1.28e+03\n",
      "charge_mse: 4.42e-04, charge_mae: 5.20e-03, loss: 5.20e-03, lr: 5.52e-05, epoch: 1.43e+02, step: 1.28e+03\n",
      "charge_mse: 7.28e-04, charge_mae: 7.83e-03, loss: 7.83e-03, lr: 5.52e-05, epoch: 1.43e+02, step: 1.28e+03\n",
      "charge_mse: 7.42e-04, charge_mae: 6.43e-03, loss: 6.43e-03, lr: 5.52e-05, epoch: 1.43e+02, step: 1.29e+03\n",
      "charge_mse: 3.03e-04, charge_mae: 6.09e-03, loss: 6.09e-03, lr: 5.52e-05, epoch: 1.43e+02, step: 1.29e+03\n",
      "2022-07-06 18:55:24 (INFO): Evaluating on val.\n"
     ]
    },
    {
     "name": "stderr",
     "output_type": "stream",
     "text": [
      "device 0: 100%|██████████| 1/1 [00:11<00:00, 11.71s/it]"
     ]
    },
    {
     "name": "stdout",
     "output_type": "stream",
     "text": [
      "2022-07-06 18:55:36 (INFO): charge_mse: 0.0084, charge_mae: 0.0104, loss: 0.0104, epoch: 143.0000\n"
     ]
    },
    {
     "name": "stderr",
     "output_type": "stream",
     "text": [
      "\n"
     ]
    },
    {
     "name": "stdout",
     "output_type": "stream",
     "text": [
      "charge_mse: 6.86e-04, charge_mae: 5.58e-03, loss: 5.58e-03, lr: 5.52e-05, epoch: 1.43e+02, step: 1.29e+03\n",
      "charge_mse: 1.16e-04, charge_mae: 4.43e-03, loss: 4.43e-03, lr: 5.52e-05, epoch: 1.43e+02, step: 1.29e+03\n",
      "charge_mse: 2.04e-04, charge_mae: 4.76e-03, loss: 4.76e-03, lr: 5.52e-05, epoch: 1.43e+02, step: 1.29e+03\n",
      "charge_mse: 6.50e-04, charge_mae: 7.77e-03, loss: 7.77e-03, lr: 5.52e-05, epoch: 1.43e+02, step: 1.29e+03\n",
      "charge_mse: 1.21e-03, charge_mae: 6.15e-03, loss: 6.15e-03, lr: 5.52e-05, epoch: 1.44e+02, step: 1.29e+03\n",
      "charge_mse: 5.30e-04, charge_mae: 7.40e-03, loss: 7.40e-03, lr: 5.52e-05, epoch: 1.44e+02, step: 1.29e+03\n",
      "charge_mse: 1.85e-04, charge_mae: 6.17e-03, loss: 6.17e-03, lr: 5.52e-05, epoch: 1.44e+02, step: 1.29e+03\n",
      "charge_mse: 6.93e-04, charge_mae: 6.61e-03, loss: 6.61e-03, lr: 5.52e-05, epoch: 1.44e+02, step: 1.30e+03\n",
      "charge_mse: 2.08e-04, charge_mae: 6.16e-03, loss: 6.16e-03, lr: 5.52e-05, epoch: 1.44e+02, step: 1.30e+03\n",
      "2022-07-06 18:57:00 (INFO): Evaluating on val.\n"
     ]
    },
    {
     "name": "stderr",
     "output_type": "stream",
     "text": [
      "device 0: 100%|██████████| 1/1 [00:11<00:00, 11.56s/it]"
     ]
    },
    {
     "name": "stdout",
     "output_type": "stream",
     "text": [
      "2022-07-06 18:57:11 (INFO): charge_mse: 0.0092, charge_mae: 0.0117, loss: 0.0117, epoch: 144.0000\n"
     ]
    },
    {
     "name": "stderr",
     "output_type": "stream",
     "text": [
      "\n"
     ]
    },
    {
     "name": "stdout",
     "output_type": "stream",
     "text": [
      "charge_mse: 4.54e-04, charge_mae: 6.44e-03, loss: 6.44e-03, lr: 5.52e-05, epoch: 1.44e+02, step: 1.30e+03\n",
      "charge_mse: 2.24e-04, charge_mae: 6.82e-03, loss: 6.82e-03, lr: 5.52e-05, epoch: 1.44e+02, step: 1.30e+03\n",
      "charge_mse: 2.34e-04, charge_mae: 5.86e-03, loss: 5.86e-03, lr: 5.52e-05, epoch: 1.44e+02, step: 1.30e+03\n",
      "charge_mse: 8.75e-04, charge_mae: 5.72e-03, loss: 5.72e-03, lr: 5.52e-05, epoch: 1.44e+02, step: 1.30e+03\n",
      "charge_mse: 2.50e-04, charge_mae: 7.44e-03, loss: 7.44e-03, lr: 5.52e-05, epoch: 1.45e+02, step: 1.30e+03\n",
      "charge_mse: 1.94e-03, charge_mae: 6.98e-03, loss: 6.98e-03, lr: 5.52e-05, epoch: 1.45e+02, step: 1.30e+03\n",
      "charge_mse: 8.27e-04, charge_mae: 6.49e-03, loss: 6.49e-03, lr: 5.52e-05, epoch: 1.45e+02, step: 1.30e+03\n",
      "charge_mse: 3.36e-04, charge_mae: 6.72e-03, loss: 6.72e-03, lr: 5.52e-05, epoch: 1.45e+02, step: 1.30e+03\n",
      "charge_mse: 7.42e-04, charge_mae: 6.53e-03, loss: 6.53e-03, lr: 5.52e-05, epoch: 1.45e+02, step: 1.30e+03\n",
      "2022-07-06 18:58:31 (INFO): Evaluating on val.\n"
     ]
    },
    {
     "name": "stderr",
     "output_type": "stream",
     "text": [
      "device 0: 100%|██████████| 1/1 [00:11<00:00, 11.99s/it]"
     ]
    },
    {
     "name": "stdout",
     "output_type": "stream",
     "text": [
      "2022-07-06 18:58:43 (INFO): charge_mse: 0.0068, charge_mae: 0.0100, loss: 0.0100, epoch: 145.0000\n"
     ]
    },
    {
     "name": "stderr",
     "output_type": "stream",
     "text": [
      "\n"
     ]
    },
    {
     "name": "stdout",
     "output_type": "stream",
     "text": [
      "charge_mse: 1.83e-04, charge_mae: 4.98e-03, loss: 4.98e-03, lr: 5.52e-05, epoch: 1.45e+02, step: 1.31e+03\n",
      "charge_mse: 6.23e-04, charge_mae: 7.64e-03, loss: 7.64e-03, lr: 5.52e-05, epoch: 1.45e+02, step: 1.31e+03\n",
      "charge_mse: 1.89e-04, charge_mae: 6.39e-03, loss: 6.39e-03, lr: 5.52e-05, epoch: 1.45e+02, step: 1.31e+03\n",
      "charge_mse: 3.29e-04, charge_mae: 5.71e-03, loss: 5.71e-03, lr: 5.52e-05, epoch: 1.45e+02, step: 1.31e+03\n",
      "charge_mse: 1.61e-04, charge_mae: 5.19e-03, loss: 5.19e-03, lr: 5.52e-05, epoch: 1.46e+02, step: 1.31e+03\n",
      "charge_mse: 3.41e-04, charge_mae: 6.88e-03, loss: 6.88e-03, lr: 5.52e-05, epoch: 1.46e+02, step: 1.31e+03\n",
      "charge_mse: 9.84e-04, charge_mae: 7.94e-03, loss: 7.94e-03, lr: 5.52e-05, epoch: 1.46e+02, step: 1.31e+03\n",
      "charge_mse: 3.15e-04, charge_mae: 6.40e-03, loss: 6.40e-03, lr: 5.52e-05, epoch: 1.46e+02, step: 1.31e+03\n",
      "charge_mse: 6.63e-04, charge_mae: 5.12e-03, loss: 5.12e-03, lr: 5.52e-05, epoch: 1.46e+02, step: 1.31e+03\n",
      "2022-07-06 19:00:13 (INFO): Evaluating on val.\n"
     ]
    },
    {
     "name": "stderr",
     "output_type": "stream",
     "text": [
      "device 0: 100%|██████████| 1/1 [00:11<00:00, 11.36s/it]"
     ]
    },
    {
     "name": "stdout",
     "output_type": "stream",
     "text": [
      "2022-07-06 19:00:24 (INFO): charge_mse: 0.0125, charge_mae: 0.0142, loss: 0.0142, epoch: 146.0000\n"
     ]
    },
    {
     "name": "stderr",
     "output_type": "stream",
     "text": [
      "\n"
     ]
    },
    {
     "name": "stdout",
     "output_type": "stream",
     "text": [
      "charge_mse: 1.93e-04, charge_mae: 7.67e-03, loss: 7.67e-03, lr: 5.52e-05, epoch: 1.46e+02, step: 1.32e+03\n",
      "charge_mse: 2.90e-04, charge_mae: 6.64e-03, loss: 6.64e-03, lr: 5.52e-05, epoch: 1.46e+02, step: 1.32e+03\n",
      "charge_mse: 2.76e-04, charge_mae: 5.44e-03, loss: 5.44e-03, lr: 5.52e-05, epoch: 1.46e+02, step: 1.32e+03\n",
      "charge_mse: 4.15e-03, charge_mae: 7.78e-03, loss: 7.78e-03, lr: 5.52e-05, epoch: 1.46e+02, step: 1.32e+03\n",
      "charge_mse: 1.88e-04, charge_mae: 5.33e-03, loss: 5.33e-03, lr: 5.52e-05, epoch: 1.47e+02, step: 1.32e+03\n",
      "charge_mse: 6.92e-04, charge_mae: 5.94e-03, loss: 5.94e-03, lr: 5.52e-05, epoch: 1.47e+02, step: 1.32e+03\n",
      "charge_mse: 2.89e-04, charge_mae: 7.15e-03, loss: 7.15e-03, lr: 5.52e-05, epoch: 1.47e+02, step: 1.32e+03\n",
      "charge_mse: 4.31e-04, charge_mae: 6.95e-03, loss: 6.95e-03, lr: 5.52e-05, epoch: 1.47e+02, step: 1.32e+03\n",
      "charge_mse: 2.27e-03, charge_mae: 7.96e-03, loss: 7.96e-03, lr: 5.52e-05, epoch: 1.47e+02, step: 1.32e+03\n",
      "2022-07-06 19:01:47 (INFO): Evaluating on val.\n"
     ]
    },
    {
     "name": "stderr",
     "output_type": "stream",
     "text": [
      "device 0: 100%|██████████| 1/1 [00:11<00:00, 11.60s/it]"
     ]
    },
    {
     "name": "stdout",
     "output_type": "stream",
     "text": [
      "2022-07-06 19:01:59 (INFO): charge_mse: 0.0069, charge_mae: 0.0102, loss: 0.0101, epoch: 147.0000\n"
     ]
    },
    {
     "name": "stderr",
     "output_type": "stream",
     "text": [
      "\n"
     ]
    },
    {
     "name": "stdout",
     "output_type": "stream",
     "text": [
      "charge_mse: 1.55e-03, charge_mae: 7.22e-03, loss: 7.22e-03, lr: 5.30e-05, epoch: 1.47e+02, step: 1.32e+03\n",
      "charge_mse: 2.74e-04, charge_mae: 6.40e-03, loss: 6.40e-03, lr: 5.30e-05, epoch: 1.47e+02, step: 1.32e+03\n",
      "charge_mse: 3.31e-04, charge_mae: 6.34e-03, loss: 6.34e-03, lr: 5.30e-05, epoch: 1.47e+02, step: 1.33e+03\n",
      "charge_mse: 2.58e-04, charge_mae: 6.61e-03, loss: 6.61e-03, lr: 5.30e-05, epoch: 1.47e+02, step: 1.33e+03\n",
      "charge_mse: 3.09e-04, charge_mae: 7.39e-03, loss: 7.39e-03, lr: 5.30e-05, epoch: 1.48e+02, step: 1.33e+03\n",
      "charge_mse: 3.49e-04, charge_mae: 5.51e-03, loss: 5.51e-03, lr: 5.30e-05, epoch: 1.48e+02, step: 1.33e+03\n",
      "charge_mse: 1.73e-04, charge_mae: 3.61e-03, loss: 3.61e-03, lr: 5.30e-05, epoch: 1.48e+02, step: 1.33e+03\n",
      "charge_mse: 3.70e-04, charge_mae: 7.00e-03, loss: 7.00e-03, lr: 5.30e-05, epoch: 1.48e+02, step: 1.33e+03\n",
      "charge_mse: 2.15e-04, charge_mae: 6.43e-03, loss: 6.43e-03, lr: 5.30e-05, epoch: 1.48e+02, step: 1.33e+03\n",
      "2022-07-06 19:03:20 (INFO): Evaluating on val.\n"
     ]
    },
    {
     "name": "stderr",
     "output_type": "stream",
     "text": [
      "device 0: 100%|██████████| 1/1 [00:11<00:00, 11.63s/it]"
     ]
    },
    {
     "name": "stdout",
     "output_type": "stream",
     "text": [
      "2022-07-06 19:03:31 (INFO): charge_mse: 0.0218, charge_mae: 0.0141, loss: 0.0141, epoch: 148.0000\n"
     ]
    },
    {
     "name": "stderr",
     "output_type": "stream",
     "text": [
      "\n"
     ]
    },
    {
     "name": "stdout",
     "output_type": "stream",
     "text": [
      "charge_mse: 1.37e-04, charge_mae: 5.37e-03, loss: 5.37e-03, lr: 5.30e-05, epoch: 1.48e+02, step: 1.33e+03\n",
      "charge_mse: 4.79e-04, charge_mae: 7.13e-03, loss: 7.13e-03, lr: 5.30e-05, epoch: 1.48e+02, step: 1.33e+03\n",
      "charge_mse: 5.93e-04, charge_mae: 6.89e-03, loss: 6.89e-03, lr: 5.30e-05, epoch: 1.48e+02, step: 1.34e+03\n",
      "charge_mse: 3.75e-04, charge_mae: 7.02e-03, loss: 7.02e-03, lr: 5.30e-05, epoch: 1.48e+02, step: 1.34e+03\n",
      "charge_mse: 2.16e-04, charge_mae: 5.27e-03, loss: 5.27e-03, lr: 5.30e-05, epoch: 1.49e+02, step: 1.34e+03\n",
      "charge_mse: 1.85e-04, charge_mae: 5.05e-03, loss: 5.05e-03, lr: 5.30e-05, epoch: 1.49e+02, step: 1.34e+03\n",
      "charge_mse: 1.91e-04, charge_mae: 6.49e-03, loss: 6.49e-03, lr: 5.30e-05, epoch: 1.49e+02, step: 1.34e+03\n",
      "charge_mse: 1.16e-03, charge_mae: 7.77e-03, loss: 7.77e-03, lr: 5.30e-05, epoch: 1.49e+02, step: 1.34e+03\n",
      "charge_mse: 7.38e-04, charge_mae: 6.21e-03, loss: 6.21e-03, lr: 5.30e-05, epoch: 1.49e+02, step: 1.34e+03\n",
      "2022-07-06 19:04:51 (INFO): Evaluating on val.\n"
     ]
    },
    {
     "name": "stderr",
     "output_type": "stream",
     "text": [
      "device 0: 100%|██████████| 1/1 [00:11<00:00, 11.63s/it]"
     ]
    },
    {
     "name": "stdout",
     "output_type": "stream",
     "text": [
      "2022-07-06 19:05:03 (INFO): charge_mse: 0.0173, charge_mae: 0.0141, loss: 0.0141, epoch: 149.0000\n"
     ]
    },
    {
     "name": "stderr",
     "output_type": "stream",
     "text": [
      "\n"
     ]
    },
    {
     "name": "stdout",
     "output_type": "stream",
     "text": [
      "charge_mse: 2.67e-04, charge_mae: 5.63e-03, loss: 5.63e-03, lr: 5.08e-05, epoch: 1.49e+02, step: 1.34e+03\n",
      "charge_mse: 1.88e-04, charge_mae: 5.76e-03, loss: 5.76e-03, lr: 5.08e-05, epoch: 1.49e+02, step: 1.34e+03\n",
      "charge_mse: 6.57e-04, charge_mae: 7.15e-03, loss: 7.15e-03, lr: 5.08e-05, epoch: 1.49e+02, step: 1.34e+03\n",
      "charge_mse: 3.22e-04, charge_mae: 6.12e-03, loss: 6.12e-03, lr: 5.08e-05, epoch: 1.49e+02, step: 1.34e+03\n",
      "charge_mse: 2.35e-04, charge_mae: 5.31e-03, loss: 5.31e-03, lr: 5.08e-05, epoch: 1.50e+02, step: 1.35e+03\n",
      "charge_mse: 2.24e-04, charge_mae: 6.99e-03, loss: 6.99e-03, lr: 5.08e-05, epoch: 1.50e+02, step: 1.35e+03\n",
      "charge_mse: 1.91e-04, charge_mae: 6.30e-03, loss: 6.30e-03, lr: 5.08e-05, epoch: 1.50e+02, step: 1.35e+03\n",
      "charge_mse: 1.17e-03, charge_mae: 6.64e-03, loss: 6.64e-03, lr: 5.08e-05, epoch: 1.50e+02, step: 1.35e+03\n",
      "charge_mse: 5.58e-04, charge_mae: 6.51e-03, loss: 6.51e-03, lr: 5.08e-05, epoch: 1.50e+02, step: 1.35e+03\n",
      "2022-07-06 19:06:37 (INFO): Evaluating on val.\n"
     ]
    },
    {
     "name": "stderr",
     "output_type": "stream",
     "text": [
      "device 0: 100%|██████████| 1/1 [00:11<00:00, 11.83s/it]"
     ]
    },
    {
     "name": "stdout",
     "output_type": "stream",
     "text": [
      "2022-07-06 19:06:49 (INFO): charge_mse: 0.0257, charge_mae: 0.0162, loss: 0.0162, epoch: 150.0000\n"
     ]
    },
    {
     "name": "stderr",
     "output_type": "stream",
     "text": [
      "\n"
     ]
    },
    {
     "name": "stdout",
     "output_type": "stream",
     "text": [
      "charge_mse: 4.23e-04, charge_mae: 6.03e-03, loss: 6.03e-03, lr: 5.08e-05, epoch: 1.50e+02, step: 1.35e+03\n",
      "charge_mse: 2.85e-03, charge_mae: 7.33e-03, loss: 7.33e-03, lr: 5.08e-05, epoch: 1.50e+02, step: 1.35e+03\n",
      "charge_mse: 1.50e-04, charge_mae: 5.55e-03, loss: 5.55e-03, lr: 5.08e-05, epoch: 1.50e+02, step: 1.35e+03\n",
      "charge_mse: 1.64e-04, charge_mae: 4.32e-03, loss: 4.32e-03, lr: 5.08e-05, epoch: 1.50e+02, step: 1.35e+03\n",
      "charge_mse: 2.59e-04, charge_mae: 7.80e-03, loss: 7.80e-03, lr: 5.08e-05, epoch: 1.51e+02, step: 1.36e+03\n",
      "charge_mse: 1.48e-04, charge_mae: 6.80e-03, loss: 6.80e-03, lr: 5.08e-05, epoch: 1.51e+02, step: 1.36e+03\n",
      "charge_mse: 3.57e-04, charge_mae: 5.07e-03, loss: 5.07e-03, lr: 5.08e-05, epoch: 1.51e+02, step: 1.36e+03\n",
      "charge_mse: 1.06e-03, charge_mae: 6.85e-03, loss: 6.85e-03, lr: 5.08e-05, epoch: 1.51e+02, step: 1.36e+03\n",
      "charge_mse: 1.57e-04, charge_mae: 5.64e-03, loss: 5.64e-03, lr: 5.08e-05, epoch: 1.51e+02, step: 1.36e+03\n",
      "2022-07-06 19:08:09 (INFO): Evaluating on val.\n"
     ]
    },
    {
     "name": "stderr",
     "output_type": "stream",
     "text": [
      "device 0: 100%|██████████| 1/1 [00:11<00:00, 11.46s/it]"
     ]
    },
    {
     "name": "stdout",
     "output_type": "stream",
     "text": [
      "2022-07-06 19:08:21 (INFO): charge_mse: 0.0099, charge_mae: 0.0117, loss: 0.0117, epoch: 151.0000\n"
     ]
    },
    {
     "name": "stderr",
     "output_type": "stream",
     "text": [
      "\n"
     ]
    },
    {
     "name": "stdout",
     "output_type": "stream",
     "text": [
      "charge_mse: 4.26e-04, charge_mae: 6.14e-03, loss: 6.14e-03, lr: 4.88e-05, epoch: 1.51e+02, step: 1.36e+03\n",
      "charge_mse: 4.26e-04, charge_mae: 5.84e-03, loss: 5.84e-03, lr: 4.88e-05, epoch: 1.51e+02, step: 1.36e+03\n",
      "charge_mse: 1.93e-04, charge_mae: 5.64e-03, loss: 5.64e-03, lr: 4.88e-05, epoch: 1.51e+02, step: 1.36e+03\n",
      "charge_mse: 1.73e-04, charge_mae: 5.87e-03, loss: 5.87e-03, lr: 4.88e-05, epoch: 1.51e+02, step: 1.36e+03\n",
      "charge_mse: 1.74e-04, charge_mae: 6.24e-03, loss: 6.24e-03, lr: 4.88e-05, epoch: 1.52e+02, step: 1.36e+03\n",
      "charge_mse: 3.63e-04, charge_mae: 5.84e-03, loss: 5.84e-03, lr: 4.88e-05, epoch: 1.52e+02, step: 1.36e+03\n",
      "charge_mse: 1.11e-04, charge_mae: 4.52e-03, loss: 4.52e-03, lr: 4.88e-05, epoch: 1.52e+02, step: 1.37e+03\n",
      "charge_mse: 6.48e-04, charge_mae: 7.04e-03, loss: 7.04e-03, lr: 4.88e-05, epoch: 1.52e+02, step: 1.37e+03\n",
      "charge_mse: 1.29e-03, charge_mae: 7.76e-03, loss: 7.76e-03, lr: 4.88e-05, epoch: 1.52e+02, step: 1.37e+03\n",
      "2022-07-06 19:09:43 (INFO): Evaluating on val.\n"
     ]
    },
    {
     "name": "stderr",
     "output_type": "stream",
     "text": [
      "device 0: 100%|██████████| 1/1 [00:11<00:00, 11.73s/it]"
     ]
    },
    {
     "name": "stdout",
     "output_type": "stream",
     "text": [
      "2022-07-06 19:09:55 (INFO): charge_mse: 0.0064, charge_mae: 0.0106, loss: 0.0106, epoch: 152.0000\n"
     ]
    },
    {
     "name": "stderr",
     "output_type": "stream",
     "text": [
      "\n"
     ]
    },
    {
     "name": "stdout",
     "output_type": "stream",
     "text": [
      "charge_mse: 4.59e-04, charge_mae: 7.10e-03, loss: 7.10e-03, lr: 4.88e-05, epoch: 1.52e+02, step: 1.37e+03\n",
      "charge_mse: 7.55e-04, charge_mae: 5.76e-03, loss: 5.76e-03, lr: 4.88e-05, epoch: 1.52e+02, step: 1.37e+03\n",
      "charge_mse: 1.77e-04, charge_mae: 6.11e-03, loss: 6.11e-03, lr: 4.88e-05, epoch: 1.52e+02, step: 1.37e+03\n",
      "charge_mse: 1.55e-04, charge_mae: 6.00e-03, loss: 6.00e-03, lr: 4.88e-05, epoch: 1.52e+02, step: 1.37e+03\n",
      "charge_mse: 1.33e-04, charge_mae: 4.37e-03, loss: 4.37e-03, lr: 4.88e-05, epoch: 1.53e+02, step: 1.37e+03\n",
      "charge_mse: 5.71e-04, charge_mae: 6.29e-03, loss: 6.29e-03, lr: 4.88e-05, epoch: 1.53e+02, step: 1.37e+03\n",
      "charge_mse: 2.82e-04, charge_mae: 6.78e-03, loss: 6.78e-03, lr: 4.88e-05, epoch: 1.53e+02, step: 1.38e+03\n"
     ]
    },
    {
     "ename": "KeyboardInterrupt",
     "evalue": "",
     "output_type": "error",
     "traceback": [
      "\u001b[0;31m---------------------------------------------------------------------------\u001b[0m",
      "\u001b[0;31mKeyboardInterrupt\u001b[0m                         Traceback (most recent call last)",
      "Input \u001b[0;32mIn [9]\u001b[0m, in \u001b[0;36m<cell line: 1>\u001b[0;34m()\u001b[0m\n\u001b[0;32m----> 1\u001b[0m \u001b[43mtrainer\u001b[49m\u001b[38;5;241;43m.\u001b[39;49m\u001b[43mtrain\u001b[49m\u001b[43m(\u001b[49m\u001b[43m)\u001b[49m\n",
      "File \u001b[0;32m~/charge-density-models/charge_trainer.py:238\u001b[0m, in \u001b[0;36mChargeTrainer.train\u001b[0;34m(self, disable_eval_tqdm)\u001b[0m\n\u001b[1;32m    235\u001b[0m \u001b[38;5;28mself\u001b[39m\u001b[38;5;241m.\u001b[39mmodel\u001b[38;5;241m.\u001b[39mtrain()\n\u001b[1;32m    237\u001b[0m \u001b[38;5;66;03m# Get a batch.\u001b[39;00m\n\u001b[0;32m--> 238\u001b[0m batch \u001b[38;5;241m=\u001b[39m \u001b[38;5;28;43mnext\u001b[39;49m\u001b[43m(\u001b[49m\u001b[43mtrain_loader_iter\u001b[49m\u001b[43m)\u001b[49m\n\u001b[1;32m    240\u001b[0m \u001b[38;5;28;01mfor\u001b[39;00m subbatch \u001b[38;5;129;01min\u001b[39;00m batch:\n\u001b[1;32m    241\u001b[0m     subbatch\u001b[38;5;241m.\u001b[39mprobe_data \u001b[38;5;241m=\u001b[39m Batch\u001b[38;5;241m.\u001b[39mfrom_data_list(subbatch\u001b[38;5;241m.\u001b[39mprobe_data)\n",
      "File \u001b[0;32m/opt/conda/lib/python3.9/site-packages/torch/utils/data/dataloader.py:521\u001b[0m, in \u001b[0;36m_BaseDataLoaderIter.__next__\u001b[0;34m(self)\u001b[0m\n\u001b[1;32m    519\u001b[0m \u001b[38;5;28;01mif\u001b[39;00m \u001b[38;5;28mself\u001b[39m\u001b[38;5;241m.\u001b[39m_sampler_iter \u001b[38;5;129;01mis\u001b[39;00m \u001b[38;5;28;01mNone\u001b[39;00m:\n\u001b[1;32m    520\u001b[0m     \u001b[38;5;28mself\u001b[39m\u001b[38;5;241m.\u001b[39m_reset()\n\u001b[0;32m--> 521\u001b[0m data \u001b[38;5;241m=\u001b[39m \u001b[38;5;28;43mself\u001b[39;49m\u001b[38;5;241;43m.\u001b[39;49m\u001b[43m_next_data\u001b[49m\u001b[43m(\u001b[49m\u001b[43m)\u001b[49m\n\u001b[1;32m    522\u001b[0m \u001b[38;5;28mself\u001b[39m\u001b[38;5;241m.\u001b[39m_num_yielded \u001b[38;5;241m+\u001b[39m\u001b[38;5;241m=\u001b[39m \u001b[38;5;241m1\u001b[39m\n\u001b[1;32m    523\u001b[0m \u001b[38;5;28;01mif\u001b[39;00m \u001b[38;5;28mself\u001b[39m\u001b[38;5;241m.\u001b[39m_dataset_kind \u001b[38;5;241m==\u001b[39m _DatasetKind\u001b[38;5;241m.\u001b[39mIterable \u001b[38;5;129;01mand\u001b[39;00m \\\n\u001b[1;32m    524\u001b[0m         \u001b[38;5;28mself\u001b[39m\u001b[38;5;241m.\u001b[39m_IterableDataset_len_called \u001b[38;5;129;01mis\u001b[39;00m \u001b[38;5;129;01mnot\u001b[39;00m \u001b[38;5;28;01mNone\u001b[39;00m \u001b[38;5;129;01mand\u001b[39;00m \\\n\u001b[1;32m    525\u001b[0m         \u001b[38;5;28mself\u001b[39m\u001b[38;5;241m.\u001b[39m_num_yielded \u001b[38;5;241m>\u001b[39m \u001b[38;5;28mself\u001b[39m\u001b[38;5;241m.\u001b[39m_IterableDataset_len_called:\n",
      "File \u001b[0;32m/opt/conda/lib/python3.9/site-packages/torch/utils/data/dataloader.py:1186\u001b[0m, in \u001b[0;36m_MultiProcessingDataLoaderIter._next_data\u001b[0;34m(self)\u001b[0m\n\u001b[1;32m   1183\u001b[0m     \u001b[38;5;28;01mreturn\u001b[39;00m \u001b[38;5;28mself\u001b[39m\u001b[38;5;241m.\u001b[39m_process_data(data)\n\u001b[1;32m   1185\u001b[0m \u001b[38;5;28;01massert\u001b[39;00m \u001b[38;5;129;01mnot\u001b[39;00m \u001b[38;5;28mself\u001b[39m\u001b[38;5;241m.\u001b[39m_shutdown \u001b[38;5;129;01mand\u001b[39;00m \u001b[38;5;28mself\u001b[39m\u001b[38;5;241m.\u001b[39m_tasks_outstanding \u001b[38;5;241m>\u001b[39m \u001b[38;5;241m0\u001b[39m\n\u001b[0;32m-> 1186\u001b[0m idx, data \u001b[38;5;241m=\u001b[39m \u001b[38;5;28;43mself\u001b[39;49m\u001b[38;5;241;43m.\u001b[39;49m\u001b[43m_get_data\u001b[49m\u001b[43m(\u001b[49m\u001b[43m)\u001b[49m\n\u001b[1;32m   1187\u001b[0m \u001b[38;5;28mself\u001b[39m\u001b[38;5;241m.\u001b[39m_tasks_outstanding \u001b[38;5;241m-\u001b[39m\u001b[38;5;241m=\u001b[39m \u001b[38;5;241m1\u001b[39m\n\u001b[1;32m   1188\u001b[0m \u001b[38;5;28;01mif\u001b[39;00m \u001b[38;5;28mself\u001b[39m\u001b[38;5;241m.\u001b[39m_dataset_kind \u001b[38;5;241m==\u001b[39m _DatasetKind\u001b[38;5;241m.\u001b[39mIterable:\n\u001b[1;32m   1189\u001b[0m     \u001b[38;5;66;03m# Check for _IterableDatasetStopIteration\u001b[39;00m\n",
      "File \u001b[0;32m/opt/conda/lib/python3.9/site-packages/torch/utils/data/dataloader.py:1142\u001b[0m, in \u001b[0;36m_MultiProcessingDataLoaderIter._get_data\u001b[0;34m(self)\u001b[0m\n\u001b[1;32m   1140\u001b[0m \u001b[38;5;28;01melif\u001b[39;00m \u001b[38;5;28mself\u001b[39m\u001b[38;5;241m.\u001b[39m_pin_memory:\n\u001b[1;32m   1141\u001b[0m     \u001b[38;5;28;01mwhile\u001b[39;00m \u001b[38;5;28mself\u001b[39m\u001b[38;5;241m.\u001b[39m_pin_memory_thread\u001b[38;5;241m.\u001b[39mis_alive():\n\u001b[0;32m-> 1142\u001b[0m         success, data \u001b[38;5;241m=\u001b[39m \u001b[38;5;28;43mself\u001b[39;49m\u001b[38;5;241;43m.\u001b[39;49m\u001b[43m_try_get_data\u001b[49m\u001b[43m(\u001b[49m\u001b[43m)\u001b[49m\n\u001b[1;32m   1143\u001b[0m         \u001b[38;5;28;01mif\u001b[39;00m success:\n\u001b[1;32m   1144\u001b[0m             \u001b[38;5;28;01mreturn\u001b[39;00m data\n",
      "File \u001b[0;32m/opt/conda/lib/python3.9/site-packages/torch/utils/data/dataloader.py:990\u001b[0m, in \u001b[0;36m_MultiProcessingDataLoaderIter._try_get_data\u001b[0;34m(self, timeout)\u001b[0m\n\u001b[1;32m    977\u001b[0m \u001b[38;5;28;01mdef\u001b[39;00m \u001b[38;5;21m_try_get_data\u001b[39m(\u001b[38;5;28mself\u001b[39m, timeout\u001b[38;5;241m=\u001b[39m_utils\u001b[38;5;241m.\u001b[39mMP_STATUS_CHECK_INTERVAL):\n\u001b[1;32m    978\u001b[0m     \u001b[38;5;66;03m# Tries to fetch data from `self._data_queue` once for a given timeout.\u001b[39;00m\n\u001b[1;32m    979\u001b[0m     \u001b[38;5;66;03m# This can also be used as inner loop of fetching without timeout, with\u001b[39;00m\n\u001b[0;32m   (...)\u001b[0m\n\u001b[1;32m    987\u001b[0m     \u001b[38;5;66;03m# Returns a 2-tuple:\u001b[39;00m\n\u001b[1;32m    988\u001b[0m     \u001b[38;5;66;03m#   (bool: whether successfully get data, any: data if successful else None)\u001b[39;00m\n\u001b[1;32m    989\u001b[0m     \u001b[38;5;28;01mtry\u001b[39;00m:\n\u001b[0;32m--> 990\u001b[0m         data \u001b[38;5;241m=\u001b[39m \u001b[38;5;28;43mself\u001b[39;49m\u001b[38;5;241;43m.\u001b[39;49m\u001b[43m_data_queue\u001b[49m\u001b[38;5;241;43m.\u001b[39;49m\u001b[43mget\u001b[49m\u001b[43m(\u001b[49m\u001b[43mtimeout\u001b[49m\u001b[38;5;241;43m=\u001b[39;49m\u001b[43mtimeout\u001b[49m\u001b[43m)\u001b[49m\n\u001b[1;32m    991\u001b[0m         \u001b[38;5;28;01mreturn\u001b[39;00m (\u001b[38;5;28;01mTrue\u001b[39;00m, data)\n\u001b[1;32m    992\u001b[0m     \u001b[38;5;28;01mexcept\u001b[39;00m \u001b[38;5;167;01mException\u001b[39;00m \u001b[38;5;28;01mas\u001b[39;00m e:\n\u001b[1;32m    993\u001b[0m         \u001b[38;5;66;03m# At timeout and error, we manually check whether any worker has\u001b[39;00m\n\u001b[1;32m    994\u001b[0m         \u001b[38;5;66;03m# failed. Note that this is the only mechanism for Windows to detect\u001b[39;00m\n\u001b[1;32m    995\u001b[0m         \u001b[38;5;66;03m# worker failures.\u001b[39;00m\n",
      "File \u001b[0;32m/opt/conda/lib/python3.9/queue.py:180\u001b[0m, in \u001b[0;36mQueue.get\u001b[0;34m(self, block, timeout)\u001b[0m\n\u001b[1;32m    178\u001b[0m         \u001b[38;5;28;01mif\u001b[39;00m remaining \u001b[38;5;241m<\u001b[39m\u001b[38;5;241m=\u001b[39m \u001b[38;5;241m0.0\u001b[39m:\n\u001b[1;32m    179\u001b[0m             \u001b[38;5;28;01mraise\u001b[39;00m Empty\n\u001b[0;32m--> 180\u001b[0m         \u001b[38;5;28;43mself\u001b[39;49m\u001b[38;5;241;43m.\u001b[39;49m\u001b[43mnot_empty\u001b[49m\u001b[38;5;241;43m.\u001b[39;49m\u001b[43mwait\u001b[49m\u001b[43m(\u001b[49m\u001b[43mremaining\u001b[49m\u001b[43m)\u001b[49m\n\u001b[1;32m    181\u001b[0m item \u001b[38;5;241m=\u001b[39m \u001b[38;5;28mself\u001b[39m\u001b[38;5;241m.\u001b[39m_get()\n\u001b[1;32m    182\u001b[0m \u001b[38;5;28mself\u001b[39m\u001b[38;5;241m.\u001b[39mnot_full\u001b[38;5;241m.\u001b[39mnotify()\n",
      "File \u001b[0;32m/opt/conda/lib/python3.9/threading.py:316\u001b[0m, in \u001b[0;36mCondition.wait\u001b[0;34m(self, timeout)\u001b[0m\n\u001b[1;32m    314\u001b[0m \u001b[38;5;28;01melse\u001b[39;00m:\n\u001b[1;32m    315\u001b[0m     \u001b[38;5;28;01mif\u001b[39;00m timeout \u001b[38;5;241m>\u001b[39m \u001b[38;5;241m0\u001b[39m:\n\u001b[0;32m--> 316\u001b[0m         gotit \u001b[38;5;241m=\u001b[39m \u001b[43mwaiter\u001b[49m\u001b[38;5;241;43m.\u001b[39;49m\u001b[43macquire\u001b[49m\u001b[43m(\u001b[49m\u001b[38;5;28;43;01mTrue\u001b[39;49;00m\u001b[43m,\u001b[49m\u001b[43m \u001b[49m\u001b[43mtimeout\u001b[49m\u001b[43m)\u001b[49m\n\u001b[1;32m    317\u001b[0m     \u001b[38;5;28;01melse\u001b[39;00m:\n\u001b[1;32m    318\u001b[0m         gotit \u001b[38;5;241m=\u001b[39m waiter\u001b[38;5;241m.\u001b[39macquire(\u001b[38;5;28;01mFalse\u001b[39;00m)\n",
      "\u001b[0;31mKeyboardInterrupt\u001b[0m: "
     ]
    }
   ],
   "source": [
    "trainer.train()"
   ]
  },
  {
   "cell_type": "code",
   "execution_count": null,
   "id": "35dbedea",
   "metadata": {},
   "outputs": [],
   "source": [
    "model = trainer.model.module\n",
    "loader = iter(trainer.train_loader)"
   ]
  },
  {
   "cell_type": "code",
   "execution_count": null,
   "id": "b69e0df1",
   "metadata": {},
   "outputs": [],
   "source": [
    "#torch.cuda.empty_cache()\n",
    "batch = next(loader)\n",
    "for subbatch in batch:\n",
    "    subbatch.probe_data = Batch.from_data_list(subbatch.probe_data)"
   ]
  },
  {
   "cell_type": "code",
   "execution_count": null,
   "id": "1298f28c",
   "metadata": {},
   "outputs": [],
   "source": [
    "pred = model(batch[0].to('cuda'))\n",
    "true = batch[0].probe_data.target"
   ]
  },
  {
   "cell_type": "code",
   "execution_count": null,
   "id": "4170986d",
   "metadata": {},
   "outputs": [],
   "source": [
    "true = true.detach().cpu()#.reshape(10000)\n",
    "pred = pred.detach().cpu()#.reshape(10000)\n",
    "\n",
    "plt.scatter(true, pred, \n",
    "            color='red', \n",
    "            s=1,\n",
    "            label='Predictions')\n",
    "\n",
    "lb = torch.min(true)\n",
    "ub = torch.max(true)\n",
    "plt.plot([lb, ub], [lb,ub], label='Parity line')\n",
    "plt.gca().set_xscale('log')\n",
    "plt.gca().set_yscale('log')\n",
    "plt.xlabel('True label')\n",
    "plt.ylabel('Predicted label')\n",
    "plt.legend()\n",
    "plt.gcf().set_dpi(200)\n",
    "plt.show()"
   ]
  },
  {
   "cell_type": "code",
   "execution_count": null,
   "id": "51791d91",
   "metadata": {},
   "outputs": [],
   "source": [
    "err = torch.mean(torch.abs(pred - true))\n",
    "print(err.item())"
   ]
  },
  {
   "cell_type": "code",
   "execution_count": null,
   "id": "216b0e01",
   "metadata": {
    "scrolled": true
   },
   "outputs": [],
   "source": [
    "print(torch.min(pred).item())\n",
    "print(torch.max(pred).item())\n",
    "print(torch.mean(pred).item())\n",
    "print(torch.std(pred).item())"
   ]
  },
  {
   "cell_type": "code",
   "execution_count": null,
   "id": "c3dba663",
   "metadata": {},
   "outputs": [],
   "source": [
    "print(torch.min(true).item())\n",
    "print(torch.max(true).item())\n",
    "print(torch.mean(true).item())\n",
    "print(torch.std(true).item())"
   ]
  }
 ],
 "metadata": {
  "kernelspec": {
   "display_name": "Python 3 (ipykernel)",
   "language": "python",
   "name": "python3"
  },
  "language_info": {
   "codemirror_mode": {
    "name": "ipython",
    "version": 3
   },
   "file_extension": ".py",
   "mimetype": "text/x-python",
   "name": "python",
   "nbconvert_exporter": "python",
   "pygments_lexer": "ipython3",
   "version": "3.9.13"
  }
 },
 "nbformat": 4,
 "nbformat_minor": 5
}
