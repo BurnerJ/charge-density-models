{
 "cells": [
  {
   "cell_type": "code",
   "execution_count": null,
   "id": "a1288166",
   "metadata": {},
   "outputs": [],
   "source": [
    "import torch\n",
    "import os\n",
    "#from ocpmodels.charge import models\n",
    "import models\n",
    "from charge_trainer_copy import ChargeTrainer\n",
    "from ocpmodels.common import logger\n",
    "from ocpmodels.common.utils import setup_logging\n",
    "from DeepDFT import probe\n",
    "from chg_utils import batch_to_deepDFT_dict\n",
    "setup_logging()\n",
    "\n",
    "import matplotlib.pyplot as plt"
   ]
  },
  {
   "cell_type": "code",
   "execution_count": null,
   "id": "fd53f104",
   "metadata": {},
   "outputs": [],
   "source": [
    "# a simple sanity check that a GPU is available\n",
    "if torch.cuda.is_available():\n",
    "    print(\"True\")\n",
    "else:\n",
    "    print(\"False\")\n",
    "    torch.set_num_threads(8)"
   ]
  },
  {
   "cell_type": "code",
   "execution_count": null,
   "id": "8c265e64",
   "metadata": {},
   "outputs": [],
   "source": [
    "task = {\n",
    "    'dataset': 'lmdb',\n",
    "    'description': 'Initial test of training on charges',\n",
    "    'type': 'regression',\n",
    "    'metric': ['charge_mse', 'charge_mae'],\n",
    "    'primary_metric': 'charge_mse',\n",
    "    'labels': ['charge_vals'],\n",
    "}"
   ]
  },
  {
   "cell_type": "code",
   "execution_count": null,
   "id": "f5092d4d",
   "metadata": {},
   "outputs": [],
   "source": [
    "model = {\n",
    "    'name': 'charge_model',\n",
    "    'atom_model_config': {\n",
    "        'name': 'schnet_charge',\n",
    "        'hidden_channels': 32,\n",
    "        'num_interactions':3,\n",
    "        'num_filters':32,\n",
    "        'num_gaussians':32,\n",
    "    },\n",
    "    'probe_model_config': {\n",
    "        'name': 'deepdft_probe',\n",
    "        'hidden_state_size': 32,\n",
    "        'num_interactions':3,\n",
    "        'cutoff':3,\n",
    "        'gaussian_expansion_step':0.2,\n",
    "    },\n",
    "    'probe_state_size': 32,\n",
    "    #'atom_representation_reduction': [32, 64]\n",
    "}"
   ]
  },
  {
   "cell_type": "code",
   "execution_count": null,
   "id": "9178840e",
   "metadata": {},
   "outputs": [],
   "source": [
    "optimizer = {\n",
    "    'optimizer': 'Adam',\n",
    "    #'optimizer_params': {'amsgrad':True},\n",
    "    'batch_size': 1,\n",
    "    'eval_batch_size': 1,\n",
    "    'num_workers': 8,\n",
    "    'lr_initial': 0.1,\n",
    "    'scheduler': \"ReduceLROnPlateau\",\n",
    "    'mode': \"min\",\n",
    "    'factor': 0.96,\n",
    "    'patience': 1,\n",
    "    'max_epochs': 1000,\n",
    "}"
   ]
  },
  {
   "cell_type": "code",
   "execution_count": null,
   "id": "a7338f5e",
   "metadata": {},
   "outputs": [],
   "source": [
    "dataset = [\n",
    "{'src': '../chg/100/train', 'normalize_labels': False}, # train set \n",
    "{'src': '../chg/100/val'}, # val set (optional)\n",
    "# {'src': train_src} # test set (optional - writes predictions to disk)\n",
    "]"
   ]
  },
  {
   "cell_type": "code",
   "execution_count": null,
   "id": "c01239c3",
   "metadata": {
    "scrolled": true
   },
   "outputs": [],
   "source": [
    "trainer = ChargeTrainer(\n",
    "    task=task,\n",
    "    model=model,\n",
    "    dataset=dataset,\n",
    "    optimizer=optimizer,\n",
    "    identifier=\"example\",\n",
    "    run_dir=\"./\", # directory to save results if is_debug=False. Prediction files are saved here so be careful not to override!\n",
    "    is_debug = True, #if True, do not save checkpoint, logs, or results\n",
    "    print_every=1,\n",
    "    seed=2, # random seed to use\n",
    "    logger='wandb', # logger of choice (tensorboard and wandb supported)\n",
    "    local_rank=0,\n",
    "    cutoff = 4,\n",
    "    num_probes = 1000,\n",
    "    amp=True, # use PyTorch Automatic Mixed Precision (faster training and less memory usage)\n",
    ")"
   ]
  },
  {
   "cell_type": "code",
   "execution_count": null,
   "id": "35d3ec0f",
   "metadata": {
    "scrolled": false
   },
   "outputs": [],
   "source": [
    "trainer.train()"
   ]
  },
  {
   "cell_type": "code",
   "execution_count": null,
   "id": "35dbedea",
   "metadata": {},
   "outputs": [],
   "source": [
    "from chg_utils import BatchToChargeGraphs, get_probe_graph\n",
    "model = trainer.model.module\n",
    "loader = iter(trainer.train_loader)"
   ]
  },
  {
   "cell_type": "code",
   "execution_count": null,
   "id": "b69e0df1",
   "metadata": {},
   "outputs": [],
   "source": [
    "torch.cuda.empty_cache()\n",
    "batch = next(loader)\n",
    "for subbatch in batch:\n",
    "    subbatch.input_dict = batch_to_deepDFT_dict(subbatch, cutoff=4, num_probes=1000)"
   ]
  },
  {
   "cell_type": "code",
   "execution_count": null,
   "id": "1298f28c",
   "metadata": {},
   "outputs": [],
   "source": [
    "pred = model(batch[0].to('cuda'))\n",
    "true = batch[0].input_dict['probe_target']"
   ]
  },
  {
   "cell_type": "code",
   "execution_count": null,
   "id": "51791d91",
   "metadata": {},
   "outputs": [],
   "source": [
    "torch.mean(torch.abs(true - pred))"
   ]
  },
  {
   "cell_type": "code",
   "execution_count": null,
   "id": "216b0e01",
   "metadata": {
    "scrolled": true
   },
   "outputs": [],
   "source": [
    "print(torch.min(pred).item())\n",
    "print(torch.max(pred).item())\n",
    "print(torch.mean(pred).item())\n",
    "print(torch.std(pred).item())"
   ]
  },
  {
   "cell_type": "code",
   "execution_count": null,
   "id": "c3dba663",
   "metadata": {},
   "outputs": [],
   "source": [
    "print(torch.min(true).item())\n",
    "print(torch.max(true).item())\n",
    "print(torch.mean(true).item())\n",
    "print(torch.std(true).item())"
   ]
  },
  {
   "cell_type": "code",
   "execution_count": null,
   "id": "4170986d",
   "metadata": {},
   "outputs": [],
   "source": [
    "plt.scatter(true.detach().cpu(), pred.detach().cpu(), color='red', label='Predictions')\n",
    "lb = torch.min(true.detach().cpu())\n",
    "ub = torch.max(true.detach().cpu())\n",
    "plt.plot([lb, ub], [lb,ub], label='Parity line')\n",
    "plt.gca().set_xscale('log')\n",
    "plt.gca().set_yscale('log')\n",
    "plt.xlabel('True label')\n",
    "plt.ylabel('Predicted label')\n",
    "plt.legend()\n",
    "plt.gcf().set_dpi(200)\n",
    "plt.show()"
   ]
  }
 ],
 "metadata": {
  "kernelspec": {
   "display_name": "Python 3 (ipykernel)",
   "language": "python",
   "name": "python3"
  },
  "language_info": {
   "codemirror_mode": {
    "name": "ipython",
    "version": 3
   },
   "file_extension": ".py",
   "mimetype": "text/x-python",
   "name": "python",
   "nbconvert_exporter": "python",
   "pygments_lexer": "ipython3",
   "version": "3.9.13"
  }
 },
 "nbformat": 4,
 "nbformat_minor": 5
}
