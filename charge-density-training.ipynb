{
 "cells": [
  {
   "cell_type": "code",
   "execution_count": null,
   "id": "a1288166",
   "metadata": {},
   "outputs": [],
   "source": [
    "import torch\n",
    "import os\n",
    "import models\n",
    "from charge_trainer import ChargeTrainer\n",
    "from ocpmodels.common import logger\n",
    "from ocpmodels.common.registry import registry\n",
    "from ocpmodels.common.utils import setup_logging\n",
    "from DeepDFT import densitymodel\n",
    "from chg_utils import ProbeGraphAdder\n",
    "setup_logging()\n",
    "\n",
    "import matplotlib.pyplot as plt\n",
    "from torch_geometric.data import Batch"
   ]
  },
  {
   "cell_type": "code",
   "execution_count": null,
   "id": "fd53f104",
   "metadata": {},
   "outputs": [],
   "source": [
    "if torch.cuda.is_available():\n",
    "    print(\"True\")\n",
    "else:\n",
    "    print(\"False\")\n",
    "    torch.set_num_threads(8)"
   ]
  },
  {
   "cell_type": "code",
   "execution_count": null,
   "id": "8c265e64",
   "metadata": {},
   "outputs": [],
   "source": [
    "task = {\n",
    "    'dataset': 'lmdb',\n",
    "    'description': 'Initial test of training on charges',\n",
    "    'type': 'regression',\n",
    "    'metric': ['charge_mse', 'charge_mae'],\n",
    "    'primary_metric': 'charge_mae',\n",
    "    'labels': ['charge_vals'],\n",
    "}"
   ]
  },
  {
   "cell_type": "code",
   "execution_count": null,
   "id": "59eaa8d7",
   "metadata": {},
   "outputs": [],
   "source": [
    "'''\n",
    "The atom_model_config and probe_model_config should inherit most keywords\n",
    "from OCP models. The exception is specifications for the number of\n",
    "interactions and the number of channels. These hyperparameters are needed\n",
    "in the wrapper model as well, so they are specified outside of the\n",
    "individual configurations.\n",
    "'''\n",
    "\n",
    "model = {\n",
    "    'name': 'charge_model',\n",
    "    'num_interactions': 5,\n",
    "    'atom_channels': 256,\n",
    "    'probe_channels': 256,\n",
    "    \n",
    "    'atom_model_config': {\n",
    "        'name': 'schnet_charge',\n",
    "        'num_filters':64,\n",
    "        'num_gaussians':32,\n",
    "        'cutoff':5,\n",
    "    },\n",
    "    \n",
    "    'probe_model_config': {\n",
    "        'name': 'schnet_charge',\n",
    "        'num_filters':64,\n",
    "        'num_gaussians':32,\n",
    "        'cutoff':5,\n",
    "    },\n",
    "}"
   ]
  },
  {
   "cell_type": "code",
   "execution_count": null,
   "id": "9178840e",
   "metadata": {},
   "outputs": [],
   "source": [
    "optimizer = {\n",
    "    'optimizer': 'Adam',\n",
    "    'batch_size': 10,\n",
    "    'eval_batch_size': 10,\n",
    "    'num_workers': 1,\n",
    "    'lr_initial': 5e-4,\n",
    "    'scheduler': \"ReduceLROnPlateau\",\n",
    "    'mode': \"min\",\n",
    "    'factor': 0.96,\n",
    "    'patience': 1,\n",
    "    'max_epochs': 1000,\n",
    "}"
   ]
  },
  {
   "cell_type": "code",
   "execution_count": null,
   "id": "a7338f5e",
   "metadata": {},
   "outputs": [],
   "source": [
    "dataset = [\n",
    "{'src': '../chg/100/train', 'normalize_labels': False}, # train set \n",
    "{'src': '../chg/100/val'}, # val set (optional)\n",
    "# {'src': train_src} # test set (optional - writes predictions to disk)\n",
    "]"
   ]
  },
  {
   "cell_type": "code",
   "execution_count": null,
   "id": "a359715c",
   "metadata": {},
   "outputs": [],
   "source": [
    "trainer_config = {\n",
    "    'trainer': 'charge',\n",
    "    'identifier': 'A Good Run',\n",
    "    'is_debug': False,\n",
    "    'run_dir': './runs/',\n",
    "    'print_every': 1,\n",
    "    'seed': 2,\n",
    "    'logger': 'wandb',\n",
    "    'local_rank': 0,\n",
    "    'amp': True,\n",
    "    \n",
    "    'cutoff': 5,\n",
    "    'train_probes': 500,\n",
    "    'val_probes': 1000,\n",
    "    'test_probes': 1000,\n",
    "}"
   ]
  },
  {
   "cell_type": "code",
   "execution_count": null,
   "id": "57da75c9",
   "metadata": {},
   "outputs": [],
   "source": [
    "trainer = registry.get_trainer_class(\n",
    "    trainer_config['trainer'])(task = task,\n",
    "                               model = model,\n",
    "                               dataset = dataset,\n",
    "                               optimizer = optimizer,\n",
    "                               **trainer_config)"
   ]
  },
  {
   "cell_type": "code",
   "execution_count": null,
   "id": "35d3ec0f",
   "metadata": {
    "scrolled": true
   },
   "outputs": [],
   "source": [
    "trainer.train()"
   ]
  },
  {
   "cell_type": "code",
   "execution_count": null,
   "id": "35dbedea",
   "metadata": {},
   "outputs": [],
   "source": [
    "model = trainer.model.module\n",
    "loader = iter(trainer.train_loader)"
   ]
  },
  {
   "cell_type": "code",
   "execution_count": null,
   "id": "b69e0df1",
   "metadata": {},
   "outputs": [],
   "source": [
    "#torch.cuda.empty_cache()\n",
    "batch = next(loader)\n",
    "for subbatch in batch:\n",
    "    subbatch.probe_data = Batch.from_data_list(subbatch.probe_data)"
   ]
  },
  {
   "cell_type": "code",
   "execution_count": null,
   "id": "1298f28c",
   "metadata": {},
   "outputs": [],
   "source": [
    "pred = model(batch[0].to('cuda'))\n",
    "true = batch[0].probe_data.target"
   ]
  },
  {
   "cell_type": "code",
   "execution_count": null,
   "id": "4170986d",
   "metadata": {},
   "outputs": [],
   "source": [
    "true = true.detach().cpu()#.reshape(10000)\n",
    "pred = pred.detach().cpu()#.reshape(10000)\n",
    "\n",
    "plt.scatter(true, pred, \n",
    "            color='red', \n",
    "            s=1,\n",
    "            label='Predictions')\n",
    "\n",
    "lb = torch.min(true)\n",
    "ub = torch.max(true)\n",
    "plt.plot([lb, ub], [lb,ub], label='Parity line')\n",
    "plt.gca().set_xscale('log')\n",
    "plt.gca().set_yscale('log')\n",
    "plt.xlabel('True label')\n",
    "plt.ylabel('Predicted label')\n",
    "plt.legend()\n",
    "plt.gcf().set_dpi(200)\n",
    "plt.show()"
   ]
  },
  {
   "cell_type": "code",
   "execution_count": null,
   "id": "51791d91",
   "metadata": {},
   "outputs": [],
   "source": [
    "err = torch.mean(torch.abs(pred - true))\n",
    "print(err.item())"
   ]
  },
  {
   "cell_type": "code",
   "execution_count": null,
   "id": "216b0e01",
   "metadata": {
    "scrolled": true
   },
   "outputs": [],
   "source": [
    "print(torch.min(pred).item())\n",
    "print(torch.max(pred).item())\n",
    "print(torch.mean(pred).item())\n",
    "print(torch.std(pred).item())"
   ]
  },
  {
   "cell_type": "code",
   "execution_count": null,
   "id": "c3dba663",
   "metadata": {},
   "outputs": [],
   "source": [
    "print(torch.min(true).item())\n",
    "print(torch.max(true).item())\n",
    "print(torch.mean(true).item())\n",
    "print(torch.std(true).item())"
   ]
  }
 ],
 "metadata": {
  "kernelspec": {
   "display_name": "Python 3 (ipykernel)",
   "language": "python",
   "name": "python3"
  },
  "language_info": {
   "codemirror_mode": {
    "name": "ipython",
    "version": 3
   },
   "file_extension": ".py",
   "mimetype": "text/x-python",
   "name": "python",
   "nbconvert_exporter": "python",
   "pygments_lexer": "ipython3",
   "version": "3.9.13"
  }
 },
 "nbformat": 4,
 "nbformat_minor": 5
}
